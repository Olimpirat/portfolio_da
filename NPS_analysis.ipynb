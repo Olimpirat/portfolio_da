{
 "cells": [
  {
   "cell_type": "markdown",
   "id": "434c6e99",
   "metadata": {},
   "source": [
    "## Исследование уровня потребительской лояльности (NPS)"
   ]
  },
  {
   "cell_type": "markdown",
   "id": "dc5e467f",
   "metadata": {},
   "source": [
    "**Задача:** составить дашборды по цели анализа для менеджеров Заказчика."
   ]
  },
  {
   "cell_type": "markdown",
   "id": "7266386c",
   "metadata": {},
   "source": [
    "**Цель анализа:** Определить текущий уровень потребительской лояльности, или NPS (от англ. Net Promoter Score), среди клиентов из России."
   ]
  },
  {
   "cell_type": "markdown",
   "id": "475f39c0",
   "metadata": {},
   "source": [
    "**Ключевые вопросы:** \n",
    "* Распределение участников опроса по возрасту, полу и городу ?\n",
    "* Каких пользователей больше: новых или старых?\n",
    "* Какие группы пользователей наиболее лояльны к сервису, а какие менее?\n",
    "* Какой общий NPS среди всех опрошенных?\n",
    "* Как можно описать клиентов, которые относятся к группе cторонников (англ. promoters)?"
   ]
  },
  {
   "cell_type": "markdown",
   "id": "218de438",
   "metadata": {},
   "source": [
    "**Описание задачи:**\n",
    "Было произведен опрос для определения уровня лояльности. Клиентам задавали классический вопрос: «Оцените по шкале от 1 до 10 вероятность того, что вы порекомендуете компанию друзьям и знакомым». <br><br>\n",
    "Для оценки результата опроса оценки разделены на три группы:\n",
    "- 9-10 баллов — «cторонники» (англ. promoters)\n",
    "- 7-8 баллов — «нейтралы» (англ. passives)\n",
    "- 0-6 баллов — «критики» (англ. detractors)\n",
    "\n",
    "<br>Итоговое значение NPS рассчитывается по формуле: % «сторонников» - % «критиков». <br><br>\n",
    "Необходимо подготовить дашборд с итогами анализа.\n"
   ]
  },
  {
   "cell_type": "markdown",
   "id": "c9cc6dc2",
   "metadata": {},
   "source": [
    "Данные для анализа предоставлены в файле БД SQLite \"telecomm_csi.db\"."
   ]
  },
  {
   "cell_type": "markdown",
   "id": "c53614f9",
   "metadata": {},
   "source": [
    "<a name='Описание-данных'>**Описание данных** <br> </a>\n",
    "В базе данных (БД) содержатся результаты опроса и другие необходимые данные. <br>\n",
    "БД разделена на таблицы: <br>\n",
    "\n"
   ]
  },
  {
   "cell_type": "markdown",
   "id": "ef0e6e4f",
   "metadata": {},
   "source": [
    "**1. user**"
   ]
  },
  {
   "cell_type": "markdown",
   "id": "52a7ee6d",
   "metadata": {},
   "source": [
    "| поле           | описание                                                                                                                     |\n",
    "| -------------- | ---------------------------------------------------------------------------------------------------------------------------- |\n",
    "| user_id        | Идентификатор клиента, первичный ключ таблицы                                                                                |\n",
    "| lt_day         | Количество дней «жизни» клиента                                                                                              |\n",
    "| age            | Возраст клиента в годах                                                                                                      |\n",
    "| gender_segment | Пол клиента (`1` – женщина, `0` – мужчина)                                                                                   |\n",
    "| os_name        | Тип операционной системы                                                                                                     |\n",
    "| cpe_type_name  | Тип устройства                                                                                                               |\n",
    "| location_id    | Идентификатор домашнего региона клиента, внешний ключ, отсылающий к таблице `location`                                       |\n",
    "| age_gr_id      | Идентификатор возрастного сегмента клиента, внешний ключ, отсылающий к таблице `age_segment`                                 |\n",
    "| tr_gr_id       | Идентификатор сегмента клиента по объёму потребляемого трафика в месяц, внешний ключ, отсылающий к таблице `traffic_segment` |\n",
    "| lt_gr_id       | Идентификатор сегмента клиента по количеству месяцев «жизни», внешний ключ, отсылающий к таблице `lifetime_segment`          |\n",
    "| nps_score      | Оценка клиента в NPS-опросе (от 1 до 10)                                                                                     |"
   ]
  },
  {
   "cell_type": "markdown",
   "id": "7ae268c9",
   "metadata": {},
   "source": [
    "**2. location**"
   ]
  },
  {
   "cell_type": "markdown",
   "id": "61ea61c9",
   "metadata": {},
   "source": [
    "\n",
    "|поле|описание|\n",
    "|---|---|\n",
    "|location_id|Идентификатор записи, первичный ключ|\n",
    "|country|Страна|\n",
    "|city|Город|"
   ]
  },
  {
   "cell_type": "markdown",
   "id": "8e61fd59",
   "metadata": {},
   "source": [
    "**3. age_segment**"
   ]
  },
  {
   "cell_type": "markdown",
   "id": "70f85951",
   "metadata": {},
   "source": [
    "|поле|описание|\n",
    "|---|---|\n",
    "|age_gr_id|Идентификатор сегмента, первичный ключ|\n",
    "|bucket_min|Минимальная граница сегмента|\n",
    "|bucket_max|Максимальная граница сегмента|\n",
    "|title|Название сегмента|"
   ]
  },
  {
   "cell_type": "markdown",
   "id": "ba051263",
   "metadata": {},
   "source": [
    "**4. traffic_segment** "
   ]
  },
  {
   "cell_type": "markdown",
   "id": "1275b0c3",
   "metadata": {},
   "source": [
    "|поле|описание|\n",
    "|---|---|\n",
    "|tr_gr_id|Идентификатор сегмента, первичный ключ|\n",
    "|bucket_min|Минимальная граница сегмента|\n",
    "|bucket_max|Максимальная граница сегмента|\n",
    "|title|Название сегмента|"
   ]
  },
  {
   "cell_type": "markdown",
   "id": "0c4e6ea0",
   "metadata": {},
   "source": [
    "**5. lifetime_segment**\n"
   ]
  },
  {
   "cell_type": "markdown",
   "id": "da2348c3",
   "metadata": {},
   "source": [
    "|поле|описание|\n",
    "|---|---|\n",
    "|lt_gr_id|Идентификатор сегмента, первичный ключ|\n",
    "|bucket_min|Минимальная граница сегмента|\n",
    "|bucket_max|Максимальная граница сегмента|\n",
    "|title|Название сегмента|"
   ]
  },
  {
   "attachments": {
    "erd_telecomm_2.png": {
     "image/png": "[encoded data removed]"
    }
   },
   "cell_type": "markdown",
   "id": "1c666f38",
   "metadata": {},
   "source": [
    "**ERD БД:**\n",
    "![erd_telecomm_2.png](attachment:erd_telecomm_2.png)  "
   ]
  },
  {
   "cell_type": "code",
   "execution_count": 1,
   "id": "652fc4e5",
   "metadata": {},
   "outputs": [],
   "source": [
    "import os\n",
    "import pandas as pd\n",
    "from sqlalchemy import create_engine"
   ]
  },
  {
   "cell_type": "markdown",
   "id": "067ab9b8",
   "metadata": {},
   "source": [
    "### Откроем БД"
   ]
  },
  {
   "cell_type": "code",
   "execution_count": 2,
   "id": "5328f04d",
   "metadata": {},
   "outputs": [],
   "source": [
    "# путь к БД на вашем компьютере (например, в той же папке, что и тетрадь)\n",
    "path_to_db_local = r'local.db'\n",
    "# путь к БД на платформе\n",
    "path_to_db_platform = '***.db'\n",
    "# итоговый путь к БД\n",
    "path_to_db = None\n",
    "\n",
    "# если путь на вашем компьютере ведёт к БД, то он становится итоговым\n",
    "# display(os.getcwd()) #проверка текущей директории\n",
    "if os.path.exists(path_to_db_local):\n",
    "    path_to_db = path_to_db_local\n",
    "# иначе: если путь на платформе ведёт к БД, то он становится итоговым\n",
    "elif os.path.exists(path_to_db_platform):\n",
    "    path_to_db = path_to_db_platform\n",
    "# иначе выводится сообщение о том, что файл не найден\n",
    "else:\n",
    "    raise Exception('Файл с базой данных SQLite не найден!')\n",
    "\n",
    "# если итоговый путь не пустой\n",
    "if path_to_db:\n",
    "    # то создаём подключение к базе\n",
    "    engine = create_engine(f'sqlite:///{path_to_db}', echo=False)\n",
    "    \n",
    "    # пример запроса\n",
    "    query = \"\"\"\n",
    "    SELECT *\n",
    "    FROM user;\n",
    "    \"\"\"\n",
    "    \n",
    "    # создаём датафрейм по данным запроса\n",
    "    df = pd.read_sql(query, engine)"
   ]
  },
  {
   "cell_type": "code",
   "execution_count": 3,
   "id": "fb5ddf50",
   "metadata": {},
   "outputs": [
    {
     "data": {
      "text/html": [
       "<div>\n",
       "<style scoped>\n",
       "    .dataframe tbody tr th:only-of-type {\n",
       "        vertical-align: middle;\n",
       "    }\n",
       "\n",
       "    .dataframe tbody tr th {\n",
       "        vertical-align: top;\n",
       "    }\n",
       "\n",
       "    .dataframe thead th {\n",
       "        text-align: right;\n",
       "    }\n",
       "</style>\n",
       "<table border=\"1\" class=\"dataframe\">\n",
       "  <thead>\n",
       "    <tr style=\"text-align: right;\">\n",
       "      <th></th>\n",
       "      <th>user_id</th>\n",
       "      <th>lt_day</th>\n",
       "      <th>age</th>\n",
       "      <th>gender_segment</th>\n",
       "      <th>os_name</th>\n",
       "      <th>cpe_type_name</th>\n",
       "      <th>location_id</th>\n",
       "      <th>age_gr_id</th>\n",
       "      <th>tr_gr_id</th>\n",
       "      <th>lt_gr_id</th>\n",
       "      <th>nps_score</th>\n",
       "    </tr>\n",
       "  </thead>\n",
       "  <tbody>\n",
       "    <tr>\n",
       "      <th>0</th>\n",
       "      <td>A001A2</td>\n",
       "      <td>2320</td>\n",
       "      <td>45.0</td>\n",
       "      <td>1.0</td>\n",
       "      <td>ANDROID</td>\n",
       "      <td>SMARTPHONE</td>\n",
       "      <td>55</td>\n",
       "      <td>5</td>\n",
       "      <td>5</td>\n",
       "      <td>8</td>\n",
       "      <td>10</td>\n",
       "    </tr>\n",
       "    <tr>\n",
       "      <th>1</th>\n",
       "      <td>A001WF</td>\n",
       "      <td>2344</td>\n",
       "      <td>53.0</td>\n",
       "      <td>0.0</td>\n",
       "      <td>ANDROID</td>\n",
       "      <td>SMARTPHONE</td>\n",
       "      <td>21</td>\n",
       "      <td>5</td>\n",
       "      <td>5</td>\n",
       "      <td>8</td>\n",
       "      <td>10</td>\n",
       "    </tr>\n",
       "    <tr>\n",
       "      <th>2</th>\n",
       "      <td>A003Q7</td>\n",
       "      <td>467</td>\n",
       "      <td>57.0</td>\n",
       "      <td>0.0</td>\n",
       "      <td>ANDROID</td>\n",
       "      <td>SMARTPHONE</td>\n",
       "      <td>28</td>\n",
       "      <td>6</td>\n",
       "      <td>9</td>\n",
       "      <td>6</td>\n",
       "      <td>10</td>\n",
       "    </tr>\n",
       "    <tr>\n",
       "      <th>3</th>\n",
       "      <td>A004TB</td>\n",
       "      <td>4190</td>\n",
       "      <td>44.0</td>\n",
       "      <td>1.0</td>\n",
       "      <td>IOS</td>\n",
       "      <td>SMARTPHONE</td>\n",
       "      <td>38</td>\n",
       "      <td>4</td>\n",
       "      <td>4</td>\n",
       "      <td>8</td>\n",
       "      <td>10</td>\n",
       "    </tr>\n",
       "    <tr>\n",
       "      <th>4</th>\n",
       "      <td>A004XT</td>\n",
       "      <td>1163</td>\n",
       "      <td>24.0</td>\n",
       "      <td>0.0</td>\n",
       "      <td>ANDROID</td>\n",
       "      <td>SMARTPHONE</td>\n",
       "      <td>39</td>\n",
       "      <td>2</td>\n",
       "      <td>6</td>\n",
       "      <td>8</td>\n",
       "      <td>10</td>\n",
       "    </tr>\n",
       "  </tbody>\n",
       "</table>\n",
       "</div>"
      ],
      "text/plain": [
       "  user_id  lt_day   age  gender_segment  os_name cpe_type_name  location_id  \\\n",
       "0  A001A2    2320  45.0             1.0  ANDROID    SMARTPHONE           55   \n",
       "1  A001WF    2344  53.0             0.0  ANDROID    SMARTPHONE           21   \n",
       "2  A003Q7     467  57.0             0.0  ANDROID    SMARTPHONE           28   \n",
       "3  A004TB    4190  44.0             1.0      IOS    SMARTPHONE           38   \n",
       "4  A004XT    1163  24.0             0.0  ANDROID    SMARTPHONE           39   \n",
       "\n",
       "   age_gr_id  tr_gr_id  lt_gr_id  nps_score  \n",
       "0          5         5         8         10  \n",
       "1          5         5         8         10  \n",
       "2          6         9         6         10  \n",
       "3          4         4         8         10  \n",
       "4          2         6         8         10  "
      ]
     },
     "execution_count": 3,
     "metadata": {},
     "output_type": "execute_result"
    }
   ],
   "source": [
    "df.head() #выводим 5 строк"
   ]
  },
  {
   "cell_type": "code",
   "execution_count": 4,
   "id": "7574b6fa",
   "metadata": {},
   "outputs": [
    {
     "name": "stdout",
     "output_type": "stream",
     "text": [
      "<class 'pandas.core.frame.DataFrame'>\n",
      "RangeIndex: 502493 entries, 0 to 502492\n",
      "Data columns (total 11 columns):\n",
      " #   Column          Non-Null Count   Dtype  \n",
      "---  ------          --------------   -----  \n",
      " 0   user_id         502493 non-null  object \n",
      " 1   lt_day          502493 non-null  int64  \n",
      " 2   age             501939 non-null  float64\n",
      " 3   gender_segment  501192 non-null  float64\n",
      " 4   os_name         502493 non-null  object \n",
      " 5   cpe_type_name   502493 non-null  object \n",
      " 6   location_id     502493 non-null  int64  \n",
      " 7   age_gr_id       502493 non-null  int64  \n",
      " 8   tr_gr_id        502493 non-null  int64  \n",
      " 9   lt_gr_id        502493 non-null  int64  \n",
      " 10  nps_score       502493 non-null  int64  \n",
      "dtypes: float64(2), int64(6), object(3)\n",
      "memory usage: 42.2+ MB\n"
     ]
    }
   ],
   "source": [
    "df.info()"
   ]
  },
  {
   "cell_type": "markdown",
   "id": "686ba04a",
   "metadata": {},
   "source": [
    "Есть пропуски в age и gender_segment. Это необходимо учитывать при формирование итоговых данных. <br>\n",
    "Откроем оставшиеся таблицы из БД"
   ]
  },
  {
   "cell_type": "code",
   "execution_count": 5,
   "id": "67b1de8f",
   "metadata": {},
   "outputs": [
    {
     "data": {
      "text/plain": [
       "'table name: age_segment'"
      ]
     },
     "metadata": {},
     "output_type": "display_data"
    },
    {
     "data": {
      "text/html": [
       "<div>\n",
       "<style scoped>\n",
       "    .dataframe tbody tr th:only-of-type {\n",
       "        vertical-align: middle;\n",
       "    }\n",
       "\n",
       "    .dataframe tbody tr th {\n",
       "        vertical-align: top;\n",
       "    }\n",
       "\n",
       "    .dataframe thead th {\n",
       "        text-align: right;\n",
       "    }\n",
       "</style>\n",
       "<table border=\"1\" class=\"dataframe\">\n",
       "  <thead>\n",
       "    <tr style=\"text-align: right;\">\n",
       "      <th></th>\n",
       "      <th>age_gr_id</th>\n",
       "      <th>bucket_min</th>\n",
       "      <th>bucket_max</th>\n",
       "      <th>title</th>\n",
       "    </tr>\n",
       "  </thead>\n",
       "  <tbody>\n",
       "    <tr>\n",
       "      <th>0</th>\n",
       "      <td>1</td>\n",
       "      <td>NaN</td>\n",
       "      <td>15.0</td>\n",
       "      <td>01 до 16</td>\n",
       "    </tr>\n",
       "    <tr>\n",
       "      <th>1</th>\n",
       "      <td>2</td>\n",
       "      <td>16.0</td>\n",
       "      <td>24.0</td>\n",
       "      <td>02 16-24</td>\n",
       "    </tr>\n",
       "    <tr>\n",
       "      <th>2</th>\n",
       "      <td>3</td>\n",
       "      <td>25.0</td>\n",
       "      <td>34.0</td>\n",
       "      <td>03 25-34</td>\n",
       "    </tr>\n",
       "    <tr>\n",
       "      <th>3</th>\n",
       "      <td>4</td>\n",
       "      <td>35.0</td>\n",
       "      <td>44.0</td>\n",
       "      <td>04 35-44</td>\n",
       "    </tr>\n",
       "    <tr>\n",
       "      <th>4</th>\n",
       "      <td>5</td>\n",
       "      <td>45.0</td>\n",
       "      <td>54.0</td>\n",
       "      <td>05 45-54</td>\n",
       "    </tr>\n",
       "    <tr>\n",
       "      <th>5</th>\n",
       "      <td>6</td>\n",
       "      <td>55.0</td>\n",
       "      <td>64.0</td>\n",
       "      <td>06 55-64</td>\n",
       "    </tr>\n",
       "    <tr>\n",
       "      <th>6</th>\n",
       "      <td>7</td>\n",
       "      <td>66.0</td>\n",
       "      <td>NaN</td>\n",
       "      <td>07 66 +</td>\n",
       "    </tr>\n",
       "    <tr>\n",
       "      <th>7</th>\n",
       "      <td>8</td>\n",
       "      <td>NaN</td>\n",
       "      <td>NaN</td>\n",
       "      <td>08 n/a</td>\n",
       "    </tr>\n",
       "  </tbody>\n",
       "</table>\n",
       "</div>"
      ],
      "text/plain": [
       "   age_gr_id  bucket_min  bucket_max     title\n",
       "0          1         NaN        15.0  01 до 16\n",
       "1          2        16.0        24.0  02 16-24\n",
       "2          3        25.0        34.0  03 25-34\n",
       "3          4        35.0        44.0  04 35-44\n",
       "4          5        45.0        54.0  05 45-54\n",
       "5          6        55.0        64.0  06 55-64\n",
       "6          7        66.0         NaN   07 66 +\n",
       "7          8         NaN         NaN    08 n/a"
      ]
     },
     "metadata": {},
     "output_type": "display_data"
    },
    {
     "data": {
      "text/plain": [
       "'table name: traffic_segment'"
      ]
     },
     "metadata": {},
     "output_type": "display_data"
    },
    {
     "data": {
      "text/html": [
       "<div>\n",
       "<style scoped>\n",
       "    .dataframe tbody tr th:only-of-type {\n",
       "        vertical-align: middle;\n",
       "    }\n",
       "\n",
       "    .dataframe tbody tr th {\n",
       "        vertical-align: top;\n",
       "    }\n",
       "\n",
       "    .dataframe thead th {\n",
       "        text-align: right;\n",
       "    }\n",
       "</style>\n",
       "<table border=\"1\" class=\"dataframe\">\n",
       "  <thead>\n",
       "    <tr style=\"text-align: right;\">\n",
       "      <th></th>\n",
       "      <th>tr_gr_id</th>\n",
       "      <th>bucket_min</th>\n",
       "      <th>bucket_max</th>\n",
       "      <th>title</th>\n",
       "    </tr>\n",
       "  </thead>\n",
       "  <tbody>\n",
       "    <tr>\n",
       "      <th>0</th>\n",
       "      <td>1</td>\n",
       "      <td>0.00</td>\n",
       "      <td>0.00</td>\n",
       "      <td>01 0</td>\n",
       "    </tr>\n",
       "    <tr>\n",
       "      <th>1</th>\n",
       "      <td>2</td>\n",
       "      <td>0.00</td>\n",
       "      <td>0.01</td>\n",
       "      <td>01 0-0.01</td>\n",
       "    </tr>\n",
       "    <tr>\n",
       "      <th>2</th>\n",
       "      <td>3</td>\n",
       "      <td>0.01</td>\n",
       "      <td>0.10</td>\n",
       "      <td>02 0.01-0.1</td>\n",
       "    </tr>\n",
       "    <tr>\n",
       "      <th>3</th>\n",
       "      <td>4</td>\n",
       "      <td>0.10</td>\n",
       "      <td>1.00</td>\n",
       "      <td>03 0.1-1</td>\n",
       "    </tr>\n",
       "    <tr>\n",
       "      <th>4</th>\n",
       "      <td>5</td>\n",
       "      <td>1.00</td>\n",
       "      <td>5.00</td>\n",
       "      <td>04 1-5</td>\n",
       "    </tr>\n",
       "    <tr>\n",
       "      <th>5</th>\n",
       "      <td>6</td>\n",
       "      <td>5.00</td>\n",
       "      <td>10.00</td>\n",
       "      <td>05 5-10</td>\n",
       "    </tr>\n",
       "    <tr>\n",
       "      <th>6</th>\n",
       "      <td>7</td>\n",
       "      <td>10.00</td>\n",
       "      <td>15.00</td>\n",
       "      <td>06 10-15</td>\n",
       "    </tr>\n",
       "    <tr>\n",
       "      <th>7</th>\n",
       "      <td>8</td>\n",
       "      <td>15.00</td>\n",
       "      <td>20.00</td>\n",
       "      <td>07 15-20</td>\n",
       "    </tr>\n",
       "    <tr>\n",
       "      <th>8</th>\n",
       "      <td>9</td>\n",
       "      <td>20.00</td>\n",
       "      <td>25.00</td>\n",
       "      <td>08 20-25</td>\n",
       "    </tr>\n",
       "    <tr>\n",
       "      <th>9</th>\n",
       "      <td>10</td>\n",
       "      <td>25.00</td>\n",
       "      <td>30.00</td>\n",
       "      <td>09 25-30</td>\n",
       "    </tr>\n",
       "    <tr>\n",
       "      <th>10</th>\n",
       "      <td>11</td>\n",
       "      <td>30.00</td>\n",
       "      <td>35.00</td>\n",
       "      <td>10 30-35</td>\n",
       "    </tr>\n",
       "    <tr>\n",
       "      <th>11</th>\n",
       "      <td>12</td>\n",
       "      <td>35.00</td>\n",
       "      <td>40.00</td>\n",
       "      <td>11 35-40</td>\n",
       "    </tr>\n",
       "    <tr>\n",
       "      <th>12</th>\n",
       "      <td>13</td>\n",
       "      <td>40.00</td>\n",
       "      <td>45.00</td>\n",
       "      <td>12 40-45</td>\n",
       "    </tr>\n",
       "    <tr>\n",
       "      <th>13</th>\n",
       "      <td>14</td>\n",
       "      <td>45.00</td>\n",
       "      <td>50.00</td>\n",
       "      <td>13 45-50</td>\n",
       "    </tr>\n",
       "    <tr>\n",
       "      <th>14</th>\n",
       "      <td>15</td>\n",
       "      <td>50.00</td>\n",
       "      <td>55.00</td>\n",
       "      <td>14 50-55</td>\n",
       "    </tr>\n",
       "    <tr>\n",
       "      <th>15</th>\n",
       "      <td>16</td>\n",
       "      <td>55.00</td>\n",
       "      <td>60.00</td>\n",
       "      <td>15 55-60</td>\n",
       "    </tr>\n",
       "    <tr>\n",
       "      <th>16</th>\n",
       "      <td>17</td>\n",
       "      <td>60.00</td>\n",
       "      <td>65.00</td>\n",
       "      <td>16 60-65</td>\n",
       "    </tr>\n",
       "    <tr>\n",
       "      <th>17</th>\n",
       "      <td>18</td>\n",
       "      <td>65.00</td>\n",
       "      <td>70.00</td>\n",
       "      <td>17 65-70</td>\n",
       "    </tr>\n",
       "    <tr>\n",
       "      <th>18</th>\n",
       "      <td>19</td>\n",
       "      <td>70.00</td>\n",
       "      <td>75.00</td>\n",
       "      <td>18 70-75</td>\n",
       "    </tr>\n",
       "    <tr>\n",
       "      <th>19</th>\n",
       "      <td>20</td>\n",
       "      <td>75.00</td>\n",
       "      <td>80.00</td>\n",
       "      <td>19 75-80</td>\n",
       "    </tr>\n",
       "    <tr>\n",
       "      <th>20</th>\n",
       "      <td>21</td>\n",
       "      <td>80.00</td>\n",
       "      <td>85.00</td>\n",
       "      <td>20 80-85</td>\n",
       "    </tr>\n",
       "    <tr>\n",
       "      <th>21</th>\n",
       "      <td>22</td>\n",
       "      <td>85.00</td>\n",
       "      <td>90.00</td>\n",
       "      <td>21 85-90</td>\n",
       "    </tr>\n",
       "    <tr>\n",
       "      <th>22</th>\n",
       "      <td>23</td>\n",
       "      <td>90.00</td>\n",
       "      <td>95.00</td>\n",
       "      <td>22 90-95</td>\n",
       "    </tr>\n",
       "    <tr>\n",
       "      <th>23</th>\n",
       "      <td>24</td>\n",
       "      <td>95.00</td>\n",
       "      <td>100.00</td>\n",
       "      <td>23 95-100</td>\n",
       "    </tr>\n",
       "    <tr>\n",
       "      <th>24</th>\n",
       "      <td>25</td>\n",
       "      <td>100.00</td>\n",
       "      <td>NaN</td>\n",
       "      <td>24 100+</td>\n",
       "    </tr>\n",
       "  </tbody>\n",
       "</table>\n",
       "</div>"
      ],
      "text/plain": [
       "    tr_gr_id  bucket_min  bucket_max        title\n",
       "0          1        0.00        0.00         01 0\n",
       "1          2        0.00        0.01    01 0-0.01\n",
       "2          3        0.01        0.10  02 0.01-0.1\n",
       "3          4        0.10        1.00     03 0.1-1\n",
       "4          5        1.00        5.00       04 1-5\n",
       "5          6        5.00       10.00      05 5-10\n",
       "6          7       10.00       15.00     06 10-15\n",
       "7          8       15.00       20.00     07 15-20\n",
       "8          9       20.00       25.00     08 20-25\n",
       "9         10       25.00       30.00     09 25-30\n",
       "10        11       30.00       35.00     10 30-35\n",
       "11        12       35.00       40.00     11 35-40\n",
       "12        13       40.00       45.00     12 40-45\n",
       "13        14       45.00       50.00     13 45-50\n",
       "14        15       50.00       55.00     14 50-55\n",
       "15        16       55.00       60.00     15 55-60\n",
       "16        17       60.00       65.00     16 60-65\n",
       "17        18       65.00       70.00     17 65-70\n",
       "18        19       70.00       75.00     18 70-75\n",
       "19        20       75.00       80.00     19 75-80\n",
       "20        21       80.00       85.00     20 80-85\n",
       "21        22       85.00       90.00     21 85-90\n",
       "22        23       90.00       95.00     22 90-95\n",
       "23        24       95.00      100.00    23 95-100\n",
       "24        25      100.00         NaN      24 100+"
      ]
     },
     "metadata": {},
     "output_type": "display_data"
    },
    {
     "data": {
      "text/plain": [
       "'table name: lifetime_segment'"
      ]
     },
     "metadata": {},
     "output_type": "display_data"
    },
    {
     "data": {
      "text/html": [
       "<div>\n",
       "<style scoped>\n",
       "    .dataframe tbody tr th:only-of-type {\n",
       "        vertical-align: middle;\n",
       "    }\n",
       "\n",
       "    .dataframe tbody tr th {\n",
       "        vertical-align: top;\n",
       "    }\n",
       "\n",
       "    .dataframe thead th {\n",
       "        text-align: right;\n",
       "    }\n",
       "</style>\n",
       "<table border=\"1\" class=\"dataframe\">\n",
       "  <thead>\n",
       "    <tr style=\"text-align: right;\">\n",
       "      <th></th>\n",
       "      <th>lt_gr_id</th>\n",
       "      <th>bucket_min</th>\n",
       "      <th>bucket_max</th>\n",
       "      <th>title</th>\n",
       "    </tr>\n",
       "  </thead>\n",
       "  <tbody>\n",
       "    <tr>\n",
       "      <th>0</th>\n",
       "      <td>1</td>\n",
       "      <td>1.0</td>\n",
       "      <td>1.0</td>\n",
       "      <td>01 1</td>\n",
       "    </tr>\n",
       "    <tr>\n",
       "      <th>1</th>\n",
       "      <td>2</td>\n",
       "      <td>2.0</td>\n",
       "      <td>2.0</td>\n",
       "      <td>02 2</td>\n",
       "    </tr>\n",
       "    <tr>\n",
       "      <th>2</th>\n",
       "      <td>3</td>\n",
       "      <td>3.0</td>\n",
       "      <td>3.0</td>\n",
       "      <td>03 3</td>\n",
       "    </tr>\n",
       "    <tr>\n",
       "      <th>3</th>\n",
       "      <td>4</td>\n",
       "      <td>4.0</td>\n",
       "      <td>6.0</td>\n",
       "      <td>04 4-6</td>\n",
       "    </tr>\n",
       "    <tr>\n",
       "      <th>4</th>\n",
       "      <td>5</td>\n",
       "      <td>7.0</td>\n",
       "      <td>12.0</td>\n",
       "      <td>05 7-12</td>\n",
       "    </tr>\n",
       "    <tr>\n",
       "      <th>5</th>\n",
       "      <td>6</td>\n",
       "      <td>13.0</td>\n",
       "      <td>24.0</td>\n",
       "      <td>06 13-24</td>\n",
       "    </tr>\n",
       "    <tr>\n",
       "      <th>6</th>\n",
       "      <td>7</td>\n",
       "      <td>25.0</td>\n",
       "      <td>36.0</td>\n",
       "      <td>07 25-36</td>\n",
       "    </tr>\n",
       "    <tr>\n",
       "      <th>7</th>\n",
       "      <td>8</td>\n",
       "      <td>36.0</td>\n",
       "      <td>NaN</td>\n",
       "      <td>08 36+</td>\n",
       "    </tr>\n",
       "  </tbody>\n",
       "</table>\n",
       "</div>"
      ],
      "text/plain": [
       "   lt_gr_id  bucket_min  bucket_max     title\n",
       "0         1         1.0         1.0      01 1\n",
       "1         2         2.0         2.0      02 2\n",
       "2         3         3.0         3.0      03 3\n",
       "3         4         4.0         6.0    04 4-6\n",
       "4         5         7.0        12.0   05 7-12\n",
       "5         6        13.0        24.0  06 13-24\n",
       "6         7        25.0        36.0  07 25-36\n",
       "7         8        36.0         NaN    08 36+"
      ]
     },
     "metadata": {},
     "output_type": "display_data"
    }
   ],
   "source": [
    "#выведем категориальные таблицы\n",
    "table_list = ['age_segment', 'traffic_segment', 'lifetime_segment']\n",
    "\n",
    "for table in table_list:\n",
    "    query_seagment = f'SELECT * FROM {table}'\n",
    "    df_table = pd.read_sql(query_seagment, engine)\n",
    "    display(f'table name: {table}', df_table)"
   ]
  },
  {
   "cell_type": "markdown",
   "id": "f55d2130",
   "metadata": {},
   "source": [
    "### Анализ данных по таблице user"
   ]
  },
  {
   "cell_type": "markdown",
   "id": "faa66351",
   "metadata": {},
   "source": [
    "Согласно ТЗ преобразованием данных посредством python/pandas запрещено. <br>\n",
    "Будем преобразовывать данные на этапе SQL запроса. <br> \n",
    "Еще есть возможность выполнить необходимые преобразования в tableau, но для уменьшения данных в tableau (доступно только публичное размещение данных tableau) передадим в tableau максимально 'чистые' данные <br>"
   ]
  },
  {
   "cell_type": "code",
   "execution_count": 6,
   "id": "70454998",
   "metadata": {},
   "outputs": [
    {
     "data": {
      "text/html": [
       "<div>\n",
       "<style scoped>\n",
       "    .dataframe tbody tr th:only-of-type {\n",
       "        vertical-align: middle;\n",
       "    }\n",
       "\n",
       "    .dataframe tbody tr th {\n",
       "        vertical-align: top;\n",
       "    }\n",
       "\n",
       "    .dataframe thead th {\n",
       "        text-align: right;\n",
       "    }\n",
       "</style>\n",
       "<table border=\"1\" class=\"dataframe\">\n",
       "  <thead>\n",
       "    <tr style=\"text-align: right;\">\n",
       "      <th></th>\n",
       "      <th>lt_day</th>\n",
       "      <th>age</th>\n",
       "      <th>gender_segment</th>\n",
       "      <th>location_id</th>\n",
       "      <th>age_gr_id</th>\n",
       "      <th>tr_gr_id</th>\n",
       "      <th>lt_gr_id</th>\n",
       "      <th>nps_score</th>\n",
       "    </tr>\n",
       "  </thead>\n",
       "  <tbody>\n",
       "    <tr>\n",
       "      <th>count</th>\n",
       "      <td>502493.000000</td>\n",
       "      <td>501939.000000</td>\n",
       "      <td>501192.000000</td>\n",
       "      <td>502493.000000</td>\n",
       "      <td>502493.000000</td>\n",
       "      <td>502493.00000</td>\n",
       "      <td>502493.000000</td>\n",
       "      <td>502493.000000</td>\n",
       "    </tr>\n",
       "    <tr>\n",
       "      <th>mean</th>\n",
       "      <td>1868.841439</td>\n",
       "      <td>39.621946</td>\n",
       "      <td>0.543588</td>\n",
       "      <td>31.237321</td>\n",
       "      <td>4.011045</td>\n",
       "      <td>8.51829</td>\n",
       "      <td>6.890339</td>\n",
       "      <td>7.508562</td>\n",
       "    </tr>\n",
       "    <tr>\n",
       "      <th>std</th>\n",
       "      <td>1683.701762</td>\n",
       "      <td>11.188249</td>\n",
       "      <td>0.498097</td>\n",
       "      <td>15.175477</td>\n",
       "      <td>1.159203</td>\n",
       "      <td>4.64590</td>\n",
       "      <td>1.525189</td>\n",
       "      <td>3.020378</td>\n",
       "    </tr>\n",
       "    <tr>\n",
       "      <th>min</th>\n",
       "      <td>-21.000000</td>\n",
       "      <td>10.000000</td>\n",
       "      <td>0.000000</td>\n",
       "      <td>1.000000</td>\n",
       "      <td>1.000000</td>\n",
       "      <td>1.00000</td>\n",
       "      <td>1.000000</td>\n",
       "      <td>1.000000</td>\n",
       "    </tr>\n",
       "    <tr>\n",
       "      <th>25%</th>\n",
       "      <td>533.000000</td>\n",
       "      <td>31.000000</td>\n",
       "      <td>0.000000</td>\n",
       "      <td>20.000000</td>\n",
       "      <td>3.000000</td>\n",
       "      <td>5.00000</td>\n",
       "      <td>6.000000</td>\n",
       "      <td>5.000000</td>\n",
       "    </tr>\n",
       "    <tr>\n",
       "      <th>50%</th>\n",
       "      <td>1239.000000</td>\n",
       "      <td>38.000000</td>\n",
       "      <td>1.000000</td>\n",
       "      <td>30.000000</td>\n",
       "      <td>4.000000</td>\n",
       "      <td>7.00000</td>\n",
       "      <td>8.000000</td>\n",
       "      <td>9.000000</td>\n",
       "    </tr>\n",
       "    <tr>\n",
       "      <th>75%</th>\n",
       "      <td>3064.000000</td>\n",
       "      <td>47.000000</td>\n",
       "      <td>1.000000</td>\n",
       "      <td>41.000000</td>\n",
       "      <td>5.000000</td>\n",
       "      <td>10.00000</td>\n",
       "      <td>8.000000</td>\n",
       "      <td>10.000000</td>\n",
       "    </tr>\n",
       "    <tr>\n",
       "      <th>max</th>\n",
       "      <td>9162.000000</td>\n",
       "      <td>89.000000</td>\n",
       "      <td>1.000000</td>\n",
       "      <td>62.000000</td>\n",
       "      <td>8.000000</td>\n",
       "      <td>25.00000</td>\n",
       "      <td>8.000000</td>\n",
       "      <td>10.000000</td>\n",
       "    </tr>\n",
       "  </tbody>\n",
       "</table>\n",
       "</div>"
      ],
      "text/plain": [
       "              lt_day            age  gender_segment    location_id  \\\n",
       "count  502493.000000  501939.000000   501192.000000  502493.000000   \n",
       "mean     1868.841439      39.621946        0.543588      31.237321   \n",
       "std      1683.701762      11.188249        0.498097      15.175477   \n",
       "min       -21.000000      10.000000        0.000000       1.000000   \n",
       "25%       533.000000      31.000000        0.000000      20.000000   \n",
       "50%      1239.000000      38.000000        1.000000      30.000000   \n",
       "75%      3064.000000      47.000000        1.000000      41.000000   \n",
       "max      9162.000000      89.000000        1.000000      62.000000   \n",
       "\n",
       "           age_gr_id      tr_gr_id       lt_gr_id      nps_score  \n",
       "count  502493.000000  502493.00000  502493.000000  502493.000000  \n",
       "mean        4.011045       8.51829       6.890339       7.508562  \n",
       "std         1.159203       4.64590       1.525189       3.020378  \n",
       "min         1.000000       1.00000       1.000000       1.000000  \n",
       "25%         3.000000       5.00000       6.000000       5.000000  \n",
       "50%         4.000000       7.00000       8.000000       9.000000  \n",
       "75%         5.000000      10.00000       8.000000      10.000000  \n",
       "max         8.000000      25.00000       8.000000      10.000000  "
      ]
     },
     "execution_count": 6,
     "metadata": {},
     "output_type": "execute_result"
    }
   ],
   "source": [
    "df.describe()"
   ]
  },
  {
   "cell_type": "markdown",
   "id": "a831913c",
   "metadata": {},
   "source": [
    "Время жизни не может быть меньше 0 дней. Проверим все значения где время жизни меньше 0"
   ]
  },
  {
   "cell_type": "code",
   "execution_count": 7,
   "id": "d9035a16",
   "metadata": {},
   "outputs": [
    {
     "data": {
      "text/html": [
       "<div>\n",
       "<style scoped>\n",
       "    .dataframe tbody tr th:only-of-type {\n",
       "        vertical-align: middle;\n",
       "    }\n",
       "\n",
       "    .dataframe tbody tr th {\n",
       "        vertical-align: top;\n",
       "    }\n",
       "\n",
       "    .dataframe thead th {\n",
       "        text-align: right;\n",
       "    }\n",
       "</style>\n",
       "<table border=\"1\" class=\"dataframe\">\n",
       "  <thead>\n",
       "    <tr style=\"text-align: right;\">\n",
       "      <th></th>\n",
       "      <th>user_id</th>\n",
       "      <th>lt_day</th>\n",
       "      <th>age</th>\n",
       "      <th>gender_segment</th>\n",
       "      <th>os_name</th>\n",
       "      <th>cpe_type_name</th>\n",
       "      <th>location_id</th>\n",
       "      <th>age_gr_id</th>\n",
       "      <th>tr_gr_id</th>\n",
       "      <th>lt_gr_id</th>\n",
       "      <th>nps_score</th>\n",
       "    </tr>\n",
       "  </thead>\n",
       "  <tbody>\n",
       "    <tr>\n",
       "      <th>7666</th>\n",
       "      <td>AEAC2R</td>\n",
       "      <td>-8</td>\n",
       "      <td>NaN</td>\n",
       "      <td>NaN</td>\n",
       "      <td>ANDROID</td>\n",
       "      <td>SMARTPHONE</td>\n",
       "      <td>50</td>\n",
       "      <td>8</td>\n",
       "      <td>8</td>\n",
       "      <td>8</td>\n",
       "      <td>1</td>\n",
       "    </tr>\n",
       "    <tr>\n",
       "      <th>53997</th>\n",
       "      <td>CS0HF8</td>\n",
       "      <td>-2</td>\n",
       "      <td>NaN</td>\n",
       "      <td>NaN</td>\n",
       "      <td>ANDROID</td>\n",
       "      <td>SMARTPHONE</td>\n",
       "      <td>15</td>\n",
       "      <td>8</td>\n",
       "      <td>9</td>\n",
       "      <td>8</td>\n",
       "      <td>10</td>\n",
       "    </tr>\n",
       "    <tr>\n",
       "      <th>71577</th>\n",
       "      <td>DORPT2</td>\n",
       "      <td>-4</td>\n",
       "      <td>NaN</td>\n",
       "      <td>NaN</td>\n",
       "      <td>ANDROID</td>\n",
       "      <td>SMARTPHONE</td>\n",
       "      <td>28</td>\n",
       "      <td>8</td>\n",
       "      <td>9</td>\n",
       "      <td>8</td>\n",
       "      <td>4</td>\n",
       "    </tr>\n",
       "    <tr>\n",
       "      <th>100152</th>\n",
       "      <td>F5O3CG</td>\n",
       "      <td>-21</td>\n",
       "      <td>NaN</td>\n",
       "      <td>NaN</td>\n",
       "      <td>ANDROID</td>\n",
       "      <td>SMARTPHONE</td>\n",
       "      <td>60</td>\n",
       "      <td>8</td>\n",
       "      <td>12</td>\n",
       "      <td>8</td>\n",
       "      <td>7</td>\n",
       "    </tr>\n",
       "    <tr>\n",
       "      <th>228087</th>\n",
       "      <td>LSE939</td>\n",
       "      <td>-13</td>\n",
       "      <td>NaN</td>\n",
       "      <td>NaN</td>\n",
       "      <td>ANDROID</td>\n",
       "      <td>SMARTPHONE</td>\n",
       "      <td>22</td>\n",
       "      <td>8</td>\n",
       "      <td>8</td>\n",
       "      <td>8</td>\n",
       "      <td>1</td>\n",
       "    </tr>\n",
       "  </tbody>\n",
       "</table>\n",
       "</div>"
      ],
      "text/plain": [
       "       user_id  lt_day  age  gender_segment  os_name cpe_type_name  \\\n",
       "7666    AEAC2R      -8  NaN             NaN  ANDROID    SMARTPHONE   \n",
       "53997   CS0HF8      -2  NaN             NaN  ANDROID    SMARTPHONE   \n",
       "71577   DORPT2      -4  NaN             NaN  ANDROID    SMARTPHONE   \n",
       "100152  F5O3CG     -21  NaN             NaN  ANDROID    SMARTPHONE   \n",
       "228087  LSE939     -13  NaN             NaN  ANDROID    SMARTPHONE   \n",
       "\n",
       "        location_id  age_gr_id  tr_gr_id  lt_gr_id  nps_score  \n",
       "7666             50          8         8         8          1  \n",
       "53997            15          8         9         8         10  \n",
       "71577            28          8         9         8          4  \n",
       "100152           60          8        12         8          7  \n",
       "228087           22          8         8         8          1  "
      ]
     },
     "execution_count": 7,
     "metadata": {},
     "output_type": "execute_result"
    }
   ],
   "source": [
    "df[df.lt_day<0].head() # первые 5, где время жизни меньше 0 дней"
   ]
  },
  {
   "cell_type": "code",
   "execution_count": 8,
   "id": "d094f194",
   "metadata": {},
   "outputs": [
    {
     "data": {
      "text/plain": [
       "13"
      ]
     },
     "execution_count": 8,
     "metadata": {},
     "output_type": "execute_result"
    }
   ],
   "source": [
    "#Выведем кол-во где время жизни меньше 0 дней\n",
    "df[df.lt_day<0].shape[0]"
   ]
  },
  {
   "cell_type": "markdown",
   "id": "15dfae26",
   "metadata": {},
   "source": [
    " <a id='exception_1'> </a>\n",
    "Таких записей всего 13 штук. <br>\n",
    "Восстановить корректное значение нет возможности. <br>\n",
    "Возрастной сегмент присвоен 8 (36+ месяцев). Это объясняется тем, что сегмент 8 (36+ месяцев) исчисляется, если кол-во дней жизни не подходит под другие сегменты (от 36 месяцев до NULL). <br>\n",
    "Исключим значения из выборки на этапе чистового SQL запроса. <br>\n"
   ]
  },
  {
   "cell_type": "markdown",
   "id": "62a5b133",
   "metadata": {},
   "source": [
    "Проверим, есть ли пользователи, которые стали Клиентами в возрасте менее чем в 5 лет."
   ]
  },
  {
   "cell_type": "code",
   "execution_count": 9,
   "id": "665b0787",
   "metadata": {},
   "outputs": [
    {
     "data": {
      "text/html": [
       "<div>\n",
       "<style scoped>\n",
       "    .dataframe tbody tr th:only-of-type {\n",
       "        vertical-align: middle;\n",
       "    }\n",
       "\n",
       "    .dataframe tbody tr th {\n",
       "        vertical-align: top;\n",
       "    }\n",
       "\n",
       "    .dataframe thead th {\n",
       "        text-align: right;\n",
       "    }\n",
       "</style>\n",
       "<table border=\"1\" class=\"dataframe\">\n",
       "  <thead>\n",
       "    <tr style=\"text-align: right;\">\n",
       "      <th></th>\n",
       "      <th>user_id</th>\n",
       "      <th>lt_day</th>\n",
       "      <th>age</th>\n",
       "      <th>gender_segment</th>\n",
       "      <th>os_name</th>\n",
       "      <th>cpe_type_name</th>\n",
       "      <th>location_id</th>\n",
       "      <th>age_gr_id</th>\n",
       "      <th>tr_gr_id</th>\n",
       "      <th>lt_gr_id</th>\n",
       "      <th>nps_score</th>\n",
       "    </tr>\n",
       "  </thead>\n",
       "  <tbody>\n",
       "    <tr>\n",
       "      <th>222006</th>\n",
       "      <td>LGZESX</td>\n",
       "      <td>4909</td>\n",
       "      <td>16.0</td>\n",
       "      <td>1.0</td>\n",
       "      <td>IOS</td>\n",
       "      <td>SMARTPHONE</td>\n",
       "      <td>30</td>\n",
       "      <td>2</td>\n",
       "      <td>16</td>\n",
       "      <td>8</td>\n",
       "      <td>7</td>\n",
       "    </tr>\n",
       "    <tr>\n",
       "      <th>194502</th>\n",
       "      <td>K1SK22</td>\n",
       "      <td>4021</td>\n",
       "      <td>13.0</td>\n",
       "      <td>1.0</td>\n",
       "      <td>IOS</td>\n",
       "      <td>SMARTPHONE</td>\n",
       "      <td>52</td>\n",
       "      <td>1</td>\n",
       "      <td>10</td>\n",
       "      <td>8</td>\n",
       "      <td>1</td>\n",
       "    </tr>\n",
       "    <tr>\n",
       "      <th>36464</th>\n",
       "      <td>BVV9V0</td>\n",
       "      <td>3254</td>\n",
       "      <td>11.0</td>\n",
       "      <td>1.0</td>\n",
       "      <td>IOS</td>\n",
       "      <td>SMARTPHONE</td>\n",
       "      <td>50</td>\n",
       "      <td>1</td>\n",
       "      <td>8</td>\n",
       "      <td>8</td>\n",
       "      <td>9</td>\n",
       "    </tr>\n",
       "    <tr>\n",
       "      <th>118387</th>\n",
       "      <td>G3O59K</td>\n",
       "      <td>4376</td>\n",
       "      <td>13.0</td>\n",
       "      <td>1.0</td>\n",
       "      <td>ANDROID</td>\n",
       "      <td>SMARTPHONE</td>\n",
       "      <td>60</td>\n",
       "      <td>1</td>\n",
       "      <td>10</td>\n",
       "      <td>8</td>\n",
       "      <td>10</td>\n",
       "    </tr>\n",
       "    <tr>\n",
       "      <th>401095</th>\n",
       "      <td>URBQST</td>\n",
       "      <td>3518</td>\n",
       "      <td>13.0</td>\n",
       "      <td>1.0</td>\n",
       "      <td>IOS</td>\n",
       "      <td>SMARTPHONE</td>\n",
       "      <td>52</td>\n",
       "      <td>1</td>\n",
       "      <td>19</td>\n",
       "      <td>8</td>\n",
       "      <td>4</td>\n",
       "    </tr>\n",
       "  </tbody>\n",
       "</table>\n",
       "</div>"
      ],
      "text/plain": [
       "       user_id  lt_day   age  gender_segment  os_name cpe_type_name  \\\n",
       "222006  LGZESX    4909  16.0             1.0      IOS    SMARTPHONE   \n",
       "194502  K1SK22    4021  13.0             1.0      IOS    SMARTPHONE   \n",
       "36464   BVV9V0    3254  11.0             1.0      IOS    SMARTPHONE   \n",
       "118387  G3O59K    4376  13.0             1.0  ANDROID    SMARTPHONE   \n",
       "401095  URBQST    3518  13.0             1.0      IOS    SMARTPHONE   \n",
       "\n",
       "        location_id  age_gr_id  tr_gr_id  lt_gr_id  nps_score  \n",
       "222006           30          2        16         8          7  \n",
       "194502           52          1        10         8          1  \n",
       "36464            50          1         8         8          9  \n",
       "118387           60          1        10         8         10  \n",
       "401095           52          1        19         8          4  "
      ]
     },
     "execution_count": 9,
     "metadata": {},
     "output_type": "execute_result"
    }
   ],
   "source": [
    "# случайные 5 пользователей,которые стали Клиентами в возрасте менее 5 лет\n",
    "df[(df.lt_day/365)>(df.age-5)].sample(5)"
   ]
  },
  {
   "cell_type": "code",
   "execution_count": 10,
   "id": "d49ec29f",
   "metadata": {},
   "outputs": [
    {
     "data": {
      "text/plain": [
       "109"
      ]
     },
     "execution_count": 10,
     "metadata": {},
     "output_type": "execute_result"
    }
   ],
   "source": [
    "# выведем их кол-во\n",
    "df[(df.lt_day/365)>(df.age-5)].shape[0]"
   ]
  },
  {
   "cell_type": "markdown",
   "id": "f29798fd",
   "metadata": {},
   "source": [
    "<a id='exception_2'> </a>\n",
    "Таких записей 109 шт. <br>\n",
    "Необходимо уточнить у Заказчика какие услуги он оказывает и с какого возраста можно стать их клиентом. <br>\n",
    "Предполагаем, что родители не будут регистрировать своих детей младше 5 лет в сервисе Заказчика. Исключим значения из выборки на этапе чистового SQL запроса. <br>"
   ]
  },
  {
   "cell_type": "markdown",
   "id": "ab38a1f1",
   "metadata": {},
   "source": [
    "Максимальная запись по дням жизни составляет 9162 дней (более 25 лет). Нужно уточнить у Заказчика с какого года существует компания и не превышает ли время жизни клиента, время существования компании."
   ]
  },
  {
   "cell_type": "markdown",
   "id": "5e2f150e",
   "metadata": {},
   "source": [
    "Далее проверим наличие новых пользователей (до 365 дней жизни), которые входят в сегменты от 13 месяцев. Нас интересуют сегменты №6 (13-24), №7 (25-36), №8 (36+)."
   ]
  },
  {
   "cell_type": "code",
   "execution_count": 11,
   "id": "17f2b3b5",
   "metadata": {},
   "outputs": [
    {
     "data": {
      "text/html": [
       "<div>\n",
       "<style scoped>\n",
       "    .dataframe tbody tr th:only-of-type {\n",
       "        vertical-align: middle;\n",
       "    }\n",
       "\n",
       "    .dataframe tbody tr th {\n",
       "        vertical-align: top;\n",
       "    }\n",
       "\n",
       "    .dataframe thead th {\n",
       "        text-align: right;\n",
       "    }\n",
       "</style>\n",
       "<table border=\"1\" class=\"dataframe\">\n",
       "  <thead>\n",
       "    <tr style=\"text-align: right;\">\n",
       "      <th></th>\n",
       "      <th>user_id</th>\n",
       "      <th>lt_day</th>\n",
       "      <th>age</th>\n",
       "      <th>gender_segment</th>\n",
       "      <th>os_name</th>\n",
       "      <th>cpe_type_name</th>\n",
       "      <th>location_id</th>\n",
       "      <th>age_gr_id</th>\n",
       "      <th>tr_gr_id</th>\n",
       "      <th>lt_gr_id</th>\n",
       "      <th>nps_score</th>\n",
       "    </tr>\n",
       "  </thead>\n",
       "  <tbody>\n",
       "    <tr>\n",
       "      <th>312440</th>\n",
       "      <td>Q60S0E</td>\n",
       "      <td>365</td>\n",
       "      <td>33.0</td>\n",
       "      <td>1.0</td>\n",
       "      <td>ANDROID</td>\n",
       "      <td>SMARTPHONE</td>\n",
       "      <td>23</td>\n",
       "      <td>3</td>\n",
       "      <td>11</td>\n",
       "      <td>6</td>\n",
       "      <td>1</td>\n",
       "    </tr>\n",
       "    <tr>\n",
       "      <th>347747</th>\n",
       "      <td>RZS5IF</td>\n",
       "      <td>364</td>\n",
       "      <td>27.0</td>\n",
       "      <td>0.0</td>\n",
       "      <td>ANDROID</td>\n",
       "      <td>SMARTPHONE</td>\n",
       "      <td>49</td>\n",
       "      <td>3</td>\n",
       "      <td>20</td>\n",
       "      <td>6</td>\n",
       "      <td>5</td>\n",
       "    </tr>\n",
       "    <tr>\n",
       "      <th>74676</th>\n",
       "      <td>DUI51Z</td>\n",
       "      <td>363</td>\n",
       "      <td>47.0</td>\n",
       "      <td>0.0</td>\n",
       "      <td>ANDROID</td>\n",
       "      <td>SMARTPHONE</td>\n",
       "      <td>28</td>\n",
       "      <td>5</td>\n",
       "      <td>5</td>\n",
       "      <td>6</td>\n",
       "      <td>10</td>\n",
       "    </tr>\n",
       "    <tr>\n",
       "      <th>272386</th>\n",
       "      <td>O3CWSM</td>\n",
       "      <td>362</td>\n",
       "      <td>34.0</td>\n",
       "      <td>1.0</td>\n",
       "      <td>ANDROID</td>\n",
       "      <td>SMARTPHONE</td>\n",
       "      <td>9</td>\n",
       "      <td>3</td>\n",
       "      <td>8</td>\n",
       "      <td>6</td>\n",
       "      <td>7</td>\n",
       "    </tr>\n",
       "    <tr>\n",
       "      <th>275154</th>\n",
       "      <td>O8HMJ6</td>\n",
       "      <td>363</td>\n",
       "      <td>22.0</td>\n",
       "      <td>0.0</td>\n",
       "      <td>IOS</td>\n",
       "      <td>SMARTPHONE</td>\n",
       "      <td>28</td>\n",
       "      <td>2</td>\n",
       "      <td>8</td>\n",
       "      <td>6</td>\n",
       "      <td>3</td>\n",
       "    </tr>\n",
       "  </tbody>\n",
       "</table>\n",
       "</div>"
      ],
      "text/plain": [
       "       user_id  lt_day   age  gender_segment  os_name cpe_type_name  \\\n",
       "312440  Q60S0E     365  33.0             1.0  ANDROID    SMARTPHONE   \n",
       "347747  RZS5IF     364  27.0             0.0  ANDROID    SMARTPHONE   \n",
       "74676   DUI51Z     363  47.0             0.0  ANDROID    SMARTPHONE   \n",
       "272386  O3CWSM     362  34.0             1.0  ANDROID    SMARTPHONE   \n",
       "275154  O8HMJ6     363  22.0             0.0      IOS    SMARTPHONE   \n",
       "\n",
       "        location_id  age_gr_id  tr_gr_id  lt_gr_id  nps_score  \n",
       "312440           23          3        11         6          1  \n",
       "347747           49          3        20         6          5  \n",
       "74676            28          5         5         6         10  \n",
       "272386            9          3         8         6          7  \n",
       "275154           28          2         8         6          3  "
      ]
     },
     "execution_count": 11,
     "metadata": {},
     "output_type": "execute_result"
    }
   ],
   "source": [
    "# случайные 5 пользователей, время жизни которых менее 366 дней, но \n",
    "# относятся к сегментам 13+ месяцев (исключая отрицательные значения дней)\n",
    "er_lt_seagment = df[(df.lt_day<366) & (\n",
    "    df.lt_gr_id.isin([6,7,8])) & (\n",
    "    df.lt_day>=0)]\n",
    "er_lt_seagment.sample(5)"
   ]
  },
  {
   "cell_type": "code",
   "execution_count": 12,
   "id": "414c91a3",
   "metadata": {},
   "outputs": [
    {
     "data": {
      "text/plain": [
       "1155"
      ]
     },
     "execution_count": 12,
     "metadata": {},
     "output_type": "execute_result"
    }
   ],
   "source": [
    "# выводим их количество\n",
    "er_lt_seagment.shape[0]"
   ]
  },
  {
   "cell_type": "code",
   "execution_count": 13,
   "id": "3c0ae656",
   "metadata": {},
   "outputs": [
    {
     "data": {
      "text/plain": [
       "[361, 362, 363, 364, 365]"
      ]
     },
     "execution_count": 13,
     "metadata": {},
     "output_type": "execute_result"
    }
   ],
   "source": [
    "# проверим уникальные значения lt_day\n",
    "sorted(er_lt_seagment.lt_day.unique().tolist())"
   ]
  },
  {
   "cell_type": "code",
   "execution_count": 14,
   "id": "16aa2383",
   "metadata": {},
   "outputs": [
    {
     "data": {
      "text/plain": [
       "[6]"
      ]
     },
     "execution_count": 14,
     "metadata": {},
     "output_type": "execute_result"
    }
   ],
   "source": [
    "# проверим уникальные значения lt_gr_id\n",
    "er_lt_seagment.lt_gr_id.unique().tolist()"
   ]
  },
  {
   "cell_type": "markdown",
   "id": "4d450370",
   "metadata": {},
   "source": [
    "<a id='notice_1'> </a>\n",
    "Таких записей 1155 шт. Все относятся к 6 сегменту (от 13 до 24 месяцев) и количество дней жизни в диапазоне от 361 до 365 дней включительно, что находится на границе сегмента 12-13 месяцев. Возможно это связано со смещением високосный/невисокосный год и разным кол-вом дней в месяце (для точного анализа нужна методика получения данных). <br>\n",
    "Изменения в сегменты вносить не будем, т.к., возможно, они корректные. При обработке результатов анализа надо указать что часть 'новых' клиентов может быть в сегменте от 13 до 24 месяцев. <br>\n",
    "<br>\n",
    "*Дополнительные наблюдения:\n",
    "в таблице lifetime_segment сегмент №1 указан от 1 до 1 месяца. По факту сегмент от 0 месяцев (от 0 дня) до 1 месяца. Возможно, это указано в методике (включительно/невключительно).*"
   ]
  },
  {
   "cell_type": "markdown",
   "id": "6d70522f",
   "metadata": {},
   "source": [
    "### Выгрузка необходимых данных в единую таблицу"
   ]
  },
  {
   "cell_type": "markdown",
   "id": "a5f8dbf7",
   "metadata": {},
   "source": [
    "Для удобства выведем таблицу с необходимыми полями и способом получения значения в них."
   ]
  },
  {
   "cell_type": "markdown",
   "id": "b0aa0d21",
   "metadata": {},
   "source": [
    "| поле             | описание                                                                       | Способ/источник получения                                            |\n",
    "| ---------------- | ------------------------------------------------------------------------------ | -------------------------------------------------------------------- |\n",
    "| user_id          | Идентификатор клиента                                                          | user                                                                 |\n",
    "| lt_day           | Количество дней «жизни» клиента                                                | user с исключением меньше 0                                          |\n",
    "| is_new           | Поле хранит информацию о том, является ли клиент новым                         | вычисляемое из lt_da<365 (IF)                                        |\n",
    "| age              | Возраст                                                                        | user (есть пропуски - заменяем на 0)                                 |\n",
    "| gender_segment   | Пол (для удобства работы с полем преобразуйте значения в текстовый вид)        | user + преобразование через CASE (есть пропуски, заменяем на n/a)    |\n",
    "| os_name          | Тип операционной системы                                                       | user                                                                 |\n",
    "| cpe_type_name    | Тип устройства                                                                 | user                                                                 |\n",
    "| country          | Страна проживания                                                              | location                                                             |\n",
    "| city             | Город проживания                                                               | location (часть городов с неправильным написанием)                   |\n",
    "| age_segment      | Возрастной сегмент                                                             | age_segment.title (+ удаление первых 3х символов) (есть сегмент n/a) |\n",
    "| traffic_segment  | Сегмент по объёму потребляемого трафика                                        | traffic_segment.title (+ удаление первых 3х символов)                |\n",
    "| lifetime_segment | Сегмент по количеству дней «жизни»                                             | lifetime_segment.title (+ удаление первых 3х символов)               |\n",
    "| nps_score        | Оценка клиента в NPS-опросе                                                    | user                                                                 |\n",
    "| nps_group        | Поле хранит информацию о том, к какой группе относится оценка клиента в опросе | группировка CASE                                                     |\n"
   ]
  },
  {
   "cell_type": "markdown",
   "id": "6d40332f",
   "metadata": {},
   "source": [
    "Ссылки на ячейки где описывали доп. преобразование: <br>\n",
    "* [Исключение 1](#exception_1). Время жизни меньше 0 дней.\n",
    "* [Исключение 2](#exception_2). Регистрация клиента менее чем в 5 летнем возрасте.\n",
    "<br><br>\n",
    "Ссылки на ячейки где описывали примечание к данным: <br>\n",
    "* [Примечание 1](#notice_1). Проблема сегментации по времени жизни."
   ]
  },
  {
   "cell_type": "markdown",
   "id": "cd3287a6",
   "metadata": {},
   "source": [
    "#### Выгрузка данных из БД"
   ]
  },
  {
   "cell_type": "markdown",
   "id": "0053d148",
   "metadata": {},
   "source": [
    "Поскольку нам требуется применять фильтры только к основной таблице user и мы используем простое агрегирование, данные могут быть получены с помощью одного запроса (большой, но очень простой). Так как все таблицы, кроме таблицы user, имеют небольшой объем, их можно присоединять целиком без оптимизации."
   ]
  },
  {
   "cell_type": "markdown",
   "id": "5296abb9",
   "metadata": {},
   "source": [
    "Выгрузим предварительные данные из БД для анализа"
   ]
  },
  {
   "cell_type": "code",
   "execution_count": 15,
   "id": "8cdefc3e",
   "metadata": {},
   "outputs": [],
   "source": [
    "# Запрос на получение всех необходимых данных\n",
    "query_data = \"\"\"\n",
    "SELECT user_id,\n",
    "        lt_day,\n",
    "        IIF (lt_day<=365, True, False) AS is_new,\n",
    "        CAST(IIF (age IS NOT NULL, age, 0) AS INTEGER) AS age, -- явно преобразуем значение в целое число\n",
    "        CASE\n",
    "            WHEN gender_segment=0 THEN \"муж\"\n",
    "            WHEN gender_segment=1 THEN \"жен\"\n",
    "            ELSE \"n/a\"\n",
    "        END as gender_segment,        \n",
    "        os_name,\n",
    "        cpe_type_name,\n",
    "        loc.country,\n",
    "        CASE\n",
    "            WHEN (loc.city=\"НабережныеЧелны\") THEN \"Набережные Челны\"\n",
    "            WHEN (loc.city=\"НижнийНовгород\") THEN \"Нижний Новгород\"\n",
    "            WHEN (loc.city=\"НижнийТагил\") THEN \"Нижний Тагил\"\n",
    "            WHEN (loc.city=\"РостовнаДону\") THEN \"Ростов-на-Дону\"\n",
    "            WHEN (loc.city=\"СанктПетербург\") THEN \"Санкт-Петербург\"\n",
    "            WHEN (loc.city=\"УланУдэ\") THEN \"Улан-Удэ\"\n",
    "            ELSE loc.city \n",
    "        END as city,\n",
    "        SUBSTRING(a_s.title,4) as age_segment, --обрезаем первые 3 символа\n",
    "        SUBSTRING(t_s.title,4) as traffic_segment, --обрезаем первые 3 символа\n",
    "        SUBSTRING(lt_s.title,4) as lifetime_segment, --обрезаем первые 3 символа\n",
    "        nps_score,\n",
    "        CASE\n",
    "            WHEN (nps_score BETWEEN 9 AND 10) THEN \"сторонник\"\n",
    "            WHEN (nps_score BETWEEN 7 AND 8) THEN \"нейтрал\"\n",
    "            ELSE \"критик\"\n",
    "        END as nps_group \n",
    "FROM user\n",
    "LEFT JOIN location as loc ON user.location_id = loc.location_id\n",
    "LEFT JOIN age_segment as a_s ON user.age_gr_id = a_s.age_gr_id\n",
    "LEFT JOIN traffic_segment as t_s ON user.tr_gr_id = t_s.tr_gr_id \n",
    "LEFT JOIN lifetime_segment as lt_s ON user.lt_gr_id = lt_s.lt_gr_id\n",
    "WHERE lt_day>=0 --выбираем только от 0 дней и более\n",
    "    AND NOT (age IS NOT NULL --исключаем нулевые значения\n",
    "        --переводим int в float(real) для корректного деление \n",
    "        --(SQL не меняет тип данных при делении)\n",
    "        AND (CAST(lt_day AS REAL)/365)>(age-5)); --возраст при регистрации более 5 лет\n",
    "    \"\"\"\n",
    "    \n",
    "# создаём датафрейм по данным запроса\n",
    "data = pd.read_sql(query_data, engine)"
   ]
  },
  {
   "cell_type": "code",
   "execution_count": 16,
   "id": "33444c21",
   "metadata": {},
   "outputs": [
    {
     "name": "stdout",
     "output_type": "stream",
     "text": [
      "<class 'pandas.core.frame.DataFrame'>\n",
      "RangeIndex: 502371 entries, 0 to 502370\n",
      "Data columns (total 14 columns):\n",
      " #   Column            Non-Null Count   Dtype \n",
      "---  ------            --------------   ----- \n",
      " 0   user_id           502371 non-null  object\n",
      " 1   lt_day            502371 non-null  int64 \n",
      " 2   is_new            502371 non-null  int64 \n",
      " 3   age               502371 non-null  int64 \n",
      " 4   gender_segment    502371 non-null  object\n",
      " 5   os_name           502371 non-null  object\n",
      " 6   cpe_type_name     502371 non-null  object\n",
      " 7   country           502371 non-null  object\n",
      " 8   city              502371 non-null  object\n",
      " 9   age_segment       502371 non-null  object\n",
      " 10  traffic_segment   502371 non-null  object\n",
      " 11  lifetime_segment  502371 non-null  object\n",
      " 12  nps_score         502371 non-null  int64 \n",
      " 13  nps_group         502371 non-null  object\n",
      "dtypes: int64(4), object(10)\n",
      "memory usage: 53.7+ MB\n"
     ]
    }
   ],
   "source": [
    "data.info()"
   ]
  },
  {
   "cell_type": "markdown",
   "id": "6859a0b2",
   "metadata": {},
   "source": [
    "SQLlite не поддерживает булевый тип данных, поэтому используем int64 в значениях 0 (False) и 1 (True) для обозначения новых пользователей. <br>\n",
    "Age преобразовали в целое число (int), пропуски заменили значением 0.<br>\n",
    "Исправили названия городов <br>"
   ]
  },
  {
   "cell_type": "markdown",
   "id": "fa26ae09",
   "metadata": {},
   "source": [
    "Было удаленно 122 строки."
   ]
  },
  {
   "cell_type": "code",
   "execution_count": 17,
   "id": "d9047cc0",
   "metadata": {},
   "outputs": [
    {
     "data": {
      "text/plain": [
       "['Россия']"
      ]
     },
     "execution_count": 17,
     "metadata": {},
     "output_type": "execute_result"
    }
   ],
   "source": [
    "# Проверяем что данные только из России\n",
    "data.country.unique().tolist()"
   ]
  },
  {
   "cell_type": "markdown",
   "id": "dcc26f49",
   "metadata": {},
   "source": [
    "#### Выгрузка данных в файл csv"
   ]
  },
  {
   "cell_type": "code",
   "execution_count": 18,
   "id": "afd175ef",
   "metadata": {},
   "outputs": [
    {
     "name": "stdout",
     "output_type": "stream",
     "text": [
      "Выполнить сохранение в файл? (yes/no): yes\n"
     ]
    },
    {
     "data": {
      "text/plain": [
       "'Файл сохранен в текущую директорию'"
      ]
     },
     "metadata": {},
     "output_type": "display_data"
    }
   ],
   "source": [
    "# запрос на сохранение\n",
    "request = input(\"Выполнить сохранение в файл? (yes/no): \")\n",
    "\n",
    "# сохранение по запросу\n",
    "if request.strip().lower() in ['yes', 'y', 'да', 'д']:\n",
    "    # записываем данные data в файл csv в текущую директорию\n",
    "    data.to_csv('telecomm_csi.csv', index=False)  \n",
    "    display(\"Файл сохранен в текущую директорию\")\n",
    "else:\n",
    "    display(\"Сохранение пропущено\")"
   ]
  },
  {
   "cell_type": "markdown",
   "id": "53695b3c",
   "metadata": {},
   "source": [
    "### Дашборды"
   ]
  },
  {
   "cell_type": "markdown",
   "id": "4167c5df",
   "metadata": {},
   "source": [
    "[Ссылка на публикацию дашбордов](\n",
    "https://public.tableau.com/views/telecomm_2_17323160942130/Story1?:language=en-US&publish=yes&:sid=&:display_count=n&:origin=viz_share_link)"
   ]
  },
  {
   "cell_type": "markdown",
   "id": "69e19be4",
   "metadata": {},
   "source": [
    "### Общий вывод"
   ]
  },
  {
   "cell_type": "markdown",
   "id": "11c44fcf",
   "metadata": {},
   "source": [
    "**Выводы:**\n",
    "* Индекс лояльности клиентов (NPS) значительно отличается в зависимости от географического положения, что может указывать на территориальные проблемы с качеством предоставляемых услуг.\n",
    "* Распределение по полу равномерно, по возрасту преобладают пользователи 25-44 года. \n",
    "* Старых пользователей больше, чем новых. \n",
    "* Новые пользователи имеют более позитивное отношение к сервису (NPS снижается с увеличением времени использования). \n",
    "* Чем выше объём потребляемого трафика, тем ниже показатель NPS. \n",
    "* Женщины оценивают сервис чуть выше, чем мужчины.\n",
    "* Молодые клиенты выражают более критичное мнение. \n",
    "* NPS общий 21,91%, NPS новых клиентов 35,63%, NPS старых клиентов 19,07%"
   ]
  },
  {
   "cell_type": "markdown",
   "id": "d3a4a171",
   "metadata": {},
   "source": [
    "#### Рекомендации"
   ]
  },
  {
   "cell_type": "markdown",
   "id": "ab03d89b",
   "metadata": {},
   "source": [
    "**Для улучшения анализа:**\n",
    "* Предоставить методику проведения опроса\n",
    "* Предоставить методику сбора и хранения данных\n",
    "* Предоставить данные о компании\n",
    "* Предоставить данные по количеству клиентов в опрашиваемых городах и предоставляемых услугах"
   ]
  },
  {
   "cell_type": "markdown",
   "id": "dd980ff0",
   "metadata": {},
   "source": [
    "Примечание: на стыке временных сегментов наблюдается \"размытость\" границ, из-за чего новые пользователи оказываются в сегменте, превышающем 12 месяцев"
   ]
  }
 ],
 "metadata": {
  "ExecuteTimeLog": [
   {
    "duration": 587,
    "start_time": "2024-11-26T18:32:36.528Z"
   },
   {
    "duration": 559,
    "start_time": "2024-11-26T18:32:52.163Z"
   },
   {
    "duration": 4089,
    "start_time": "2024-11-26T18:32:52.724Z"
   },
   {
    "duration": 20,
    "start_time": "2024-11-26T18:32:56.814Z"
   },
   {
    "duration": 157,
    "start_time": "2024-11-26T18:32:56.837Z"
   },
   {
    "duration": 1845,
    "start_time": "2024-11-26T18:32:56.996Z"
   },
   {
    "duration": 174,
    "start_time": "2024-11-26T18:32:58.843Z"
   },
   {
    "duration": 14,
    "start_time": "2024-11-26T18:32:59.019Z"
   },
   {
    "duration": 5,
    "start_time": "2024-11-26T18:32:59.035Z"
   },
   {
    "duration": 21,
    "start_time": "2024-11-26T18:32:59.053Z"
   },
   {
    "duration": 9,
    "start_time": "2024-11-26T18:32:59.077Z"
   },
   {
    "duration": 27,
    "start_time": "2024-11-26T18:32:59.088Z"
   },
   {
    "duration": 36,
    "start_time": "2024-11-26T18:32:59.117Z"
   },
   {
    "duration": 5,
    "start_time": "2024-11-26T18:32:59.155Z"
   },
   {
    "duration": 5,
    "start_time": "2024-11-26T18:32:59.161Z"
   },
   {
    "duration": 6016,
    "start_time": "2024-11-26T18:32:59.167Z"
   },
   {
    "duration": 520,
    "start_time": "2024-11-26T18:33:05.185Z"
   },
   {
    "duration": 99,
    "start_time": "2024-11-26T18:33:05.706Z"
   },
   {
    "duration": 9282,
    "start_time": "2024-11-26T18:33:05.806Z"
   }
  ],
  "kernelspec": {
   "display_name": "Python 3 (ipykernel)",
   "language": "python",
   "name": "python3"
  },
  "language_info": {
   "codemirror_mode": {
    "name": "ipython",
    "version": 3
   },
   "file_extension": ".py",
   "mimetype": "text/x-python",
   "name": "python",
   "nbconvert_exporter": "python",
   "pygments_lexer": "ipython3",
   "version": "3.9.5"
  },
  "toc": {
   "base_numbering": 1,
   "nav_menu": {},
   "number_sections": true,
   "sideBar": true,
   "skip_h1_title": false,
   "title_cell": "Table of Contents",
   "title_sidebar": "Contents",
   "toc_cell": false,
   "toc_position": {
    "height": "calc(100% - 180px)",
    "left": "10px",
    "top": "150px",
    "width": "426.641px"
   },
   "toc_section_display": true,
   "toc_window_display": true
  }
 },
 "nbformat": 4,
 "nbformat_minor": 5
}
