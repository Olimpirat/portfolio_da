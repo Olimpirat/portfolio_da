{
 "cells": [
  {
   "cell_type": "markdown",
   "metadata": {
    "id": "sIfNaMOxgFyK"
   },
   "source": [
    "## Исследование данных о российском кинопрокате\n",
    "\n"
   ]
  },
  {
   "cell_type": "markdown",
   "metadata": {},
   "source": [
    "**Цель анализа:**  выявление трендов в российском кинопрокате."
   ]
  },
  {
   "cell_type": "markdown",
   "metadata": {},
   "source": [
    "**Ключевые вопросы:** \n",
    "* Динамика развития рынка кинопроката в России;\n",
    "* Влияние возрастного рейтинга и жанра на популярность в России;\n",
    "* Эффективность господдержки в кинопрокате;"
   ]
  },
  {
   "cell_type": "markdown",
   "metadata": {},
   "source": [
    "Данные для анализа предоставлены в файлах \"mkrf_movies\" и \"mkrf_shows.csv\". <br>"
   ]
  },
  {
   "cell_type": "markdown",
   "metadata": {},
   "source": [
    "**Описание данных** <br>\n",
    "Таблица *mkrf_movies* содержит информацию из реестра прокатных удостоверений. У одного фильма может быть несколько прокатных удостоверений. \n",
    "\n",
    "    title — название фильма;\n",
    "    puNumber — номер прокатного удостоверения;\n",
    "    show_start_date — дата премьеры фильма;\n",
    "    type — тип фильма;\n",
    "    film_studio — студия-производитель;\n",
    "    production_country — страна-производитель;\n",
    "    director — режиссёр;\n",
    "    producer — продюсер;\n",
    "    age_restriction — возрастная категория;\n",
    "    refundable_support — объём возвратных средств государственной поддержки;\n",
    "    nonrefundable_support — объём невозвратных средств государственной поддержки;\n",
    "    financing_source — источник государственного финансирования;\n",
    "    budget — общий бюджет фильма;\n",
    "    ratings — рейтинг фильма на КиноПоиске;\n",
    "    genres — жанр фильма.\n",
    "\n",
    "Таблица *mkrf_shows* содержит сведения о показах фильмов в российских кинотеатрах.\n",
    "\n",
    "    puNumber — номер прокатного удостоверения;\n",
    "    box_office — сборы в рублях."
   ]
  },
  {
   "cell_type": "code",
   "execution_count": 1,
   "metadata": {},
   "outputs": [],
   "source": [
    "import pandas as pd\n",
    "import matplotlib.pyplot as plt\n",
    "import re\n",
    "\n",
    "# Устанавливаем полное отображение всех столбцов\n",
    "pd.set_option('display.max_columns', None)"
   ]
  },
  {
   "cell_type": "markdown",
   "metadata": {
    "id": "3bSlkCsbgFyL"
   },
   "source": [
    "### Шаг 1. Откроем файлы с данными и объедините их в один датафрейм"
   ]
  },
  {
   "cell_type": "code",
   "execution_count": 2,
   "metadata": {
    "id": "dw87FlzMgFyM"
   },
   "outputs": [],
   "source": [
    "# Открываем необходимые файлы\n",
    "try:\n",
    "    data = pd.read_csv('local.csv')\n",
    "except:\n",
    "    data = pd.read_csv(\n",
    "         r'https://code.s3.yandex.net/***.csv')\n",
    "    \n",
    "try:\n",
    "    data_shows = pd.read_csv('local2.csv')\n",
    "except:\n",
    "    data_shows = pd.read_csv(\n",
    "         r'https://code.s3.yandex.net/***.csv')"
   ]
  },
  {
   "cell_type": "code",
   "execution_count": 3,
   "metadata": {},
   "outputs": [
    {
     "name": "stdout",
     "output_type": "stream",
     "text": [
      "<class 'pandas.core.frame.DataFrame'>\n",
      "RangeIndex: 7486 entries, 0 to 7485\n",
      "Data columns (total 15 columns):\n",
      " #   Column                 Non-Null Count  Dtype  \n",
      "---  ------                 --------------  -----  \n",
      " 0   title                  7486 non-null   object \n",
      " 1   puNumber               7486 non-null   object \n",
      " 2   show_start_date        7486 non-null   object \n",
      " 3   type                   7486 non-null   object \n",
      " 4   film_studio            7468 non-null   object \n",
      " 5   production_country     7484 non-null   object \n",
      " 6   director               7477 non-null   object \n",
      " 7   producer               6918 non-null   object \n",
      " 8   age_restriction        7486 non-null   object \n",
      " 9   refundable_support     332 non-null    float64\n",
      " 10  nonrefundable_support  332 non-null    float64\n",
      " 11  budget                 332 non-null    float64\n",
      " 12  financing_source       332 non-null    object \n",
      " 13  ratings                6519 non-null   object \n",
      " 14  genres                 6510 non-null   object \n",
      "dtypes: float64(3), object(12)\n",
      "memory usage: 877.4+ KB\n"
     ]
    }
   ],
   "source": [
    "data.info()"
   ]
  },
  {
   "cell_type": "code",
   "execution_count": 4,
   "metadata": {},
   "outputs": [
    {
     "name": "stdout",
     "output_type": "stream",
     "text": [
      "<class 'pandas.core.frame.DataFrame'>\n",
      "RangeIndex: 3158 entries, 0 to 3157\n",
      "Data columns (total 2 columns):\n",
      " #   Column      Non-Null Count  Dtype  \n",
      "---  ------      --------------  -----  \n",
      " 0   puNumber    3158 non-null   int64  \n",
      " 1   box_office  3158 non-null   float64\n",
      "dtypes: float64(1), int64(1)\n",
      "memory usage: 49.5 KB\n"
     ]
    }
   ],
   "source": [
    "data_shows.info()"
   ]
  },
  {
   "cell_type": "markdown",
   "metadata": {},
   "source": [
    "Для анализа данных необходимо объединить две таблицы, чтобы в единой таблице были данные по фильму и объем сборов (если известно). <br> \n",
    "Ключем для объединения станет столбец 'puNumber'. Нужно привести к единому типу, предпочтительней int64."
   ]
  },
  {
   "cell_type": "code",
   "execution_count": 5,
   "metadata": {},
   "outputs": [
    {
     "data": {
      "text/html": [
       "<div>\n",
       "<style scoped>\n",
       "    .dataframe tbody tr th:only-of-type {\n",
       "        vertical-align: middle;\n",
       "    }\n",
       "\n",
       "    .dataframe tbody tr th {\n",
       "        vertical-align: top;\n",
       "    }\n",
       "\n",
       "    .dataframe thead th {\n",
       "        text-align: right;\n",
       "    }\n",
       "</style>\n",
       "<table border=\"1\" class=\"dataframe\">\n",
       "  <thead>\n",
       "    <tr style=\"text-align: right;\">\n",
       "      <th></th>\n",
       "      <th>title</th>\n",
       "      <th>puNumber</th>\n",
       "      <th>show_start_date</th>\n",
       "      <th>type</th>\n",
       "      <th>film_studio</th>\n",
       "      <th>production_country</th>\n",
       "      <th>director</th>\n",
       "      <th>producer</th>\n",
       "      <th>age_restriction</th>\n",
       "      <th>refundable_support</th>\n",
       "      <th>nonrefundable_support</th>\n",
       "      <th>budget</th>\n",
       "      <th>financing_source</th>\n",
       "      <th>ratings</th>\n",
       "      <th>genres</th>\n",
       "    </tr>\n",
       "  </thead>\n",
       "  <tbody>\n",
       "    <tr>\n",
       "      <th>0</th>\n",
       "      <td>Открытый простор</td>\n",
       "      <td>221048915</td>\n",
       "      <td>2015-11-27T12:00:00.000Z</td>\n",
       "      <td>Художественный</td>\n",
       "      <td>Тачстоун Пикчерз, Кобальт Пикчерз, Бикон Пикче...</td>\n",
       "      <td>США</td>\n",
       "      <td>Кевин Костнер</td>\n",
       "      <td>Дэвид Валдес, Кевин Костнер, Джейк Эбертс</td>\n",
       "      <td>«18+» - запрещено для детей</td>\n",
       "      <td>NaN</td>\n",
       "      <td>NaN</td>\n",
       "      <td>NaN</td>\n",
       "      <td>NaN</td>\n",
       "      <td>7.2</td>\n",
       "      <td>боевик,драма,мелодрама</td>\n",
       "    </tr>\n",
       "    <tr>\n",
       "      <th>1</th>\n",
       "      <td>Особо важное задание</td>\n",
       "      <td>111013716</td>\n",
       "      <td>2016-09-13T12:00:00.000Z</td>\n",
       "      <td>Художественный</td>\n",
       "      <td>Киностудия \"Мосфильм\"</td>\n",
       "      <td>СССР</td>\n",
       "      <td>Е.Матвеев</td>\n",
       "      <td>NaN</td>\n",
       "      <td>«6+» - для детей старше 6 лет</td>\n",
       "      <td>NaN</td>\n",
       "      <td>NaN</td>\n",
       "      <td>NaN</td>\n",
       "      <td>NaN</td>\n",
       "      <td>6.6</td>\n",
       "      <td>драма,военный</td>\n",
       "    </tr>\n",
       "    <tr>\n",
       "      <th>2</th>\n",
       "      <td>Особо опасен</td>\n",
       "      <td>221038416</td>\n",
       "      <td>2016-10-10T12:00:00.000Z</td>\n",
       "      <td>Художественный</td>\n",
       "      <td>Юниверсал Пикчерз, Кикстарт Продакшнз, Марк Пл...</td>\n",
       "      <td>США</td>\n",
       "      <td>Тимур Бекмамбетов</td>\n",
       "      <td>Джим Лемли, Джейсон Нетер, Марк Е.Платт, Яйн Смит</td>\n",
       "      <td>«18+» - запрещено для детей</td>\n",
       "      <td>NaN</td>\n",
       "      <td>NaN</td>\n",
       "      <td>NaN</td>\n",
       "      <td>NaN</td>\n",
       "      <td>6.8</td>\n",
       "      <td>фантастика,боевик,триллер</td>\n",
       "    </tr>\n",
       "    <tr>\n",
       "      <th>3</th>\n",
       "      <td>Особо опасен</td>\n",
       "      <td>221026916</td>\n",
       "      <td>2016-06-10T12:00:00.000Z</td>\n",
       "      <td>Художественный</td>\n",
       "      <td>Юниверсал Пикчерз, Кикстарт Продакшнз, Марк Пл...</td>\n",
       "      <td>США</td>\n",
       "      <td>Тимур Бекмамбетов</td>\n",
       "      <td>Джим Лемли, Джейсон Нетер, Марк Е.Платт, Яйн Смит</td>\n",
       "      <td>«18+» - запрещено для детей</td>\n",
       "      <td>NaN</td>\n",
       "      <td>NaN</td>\n",
       "      <td>NaN</td>\n",
       "      <td>NaN</td>\n",
       "      <td>6.8</td>\n",
       "      <td>фантастика,боевик,триллер</td>\n",
       "    </tr>\n",
       "    <tr>\n",
       "      <th>4</th>\n",
       "      <td>Особо опасен</td>\n",
       "      <td>221030815</td>\n",
       "      <td>2015-07-29T12:00:00.000Z</td>\n",
       "      <td>Художественный</td>\n",
       "      <td>Юниверсал Пикчерз, Кикстарт Продакшнз, Марк Пл...</td>\n",
       "      <td>США</td>\n",
       "      <td>Тимур Бекмамбетов</td>\n",
       "      <td>Джим Лемли, Джейсон Нетер, Марк Е.Платт, Яйн Смит</td>\n",
       "      <td>«18+» - запрещено для детей</td>\n",
       "      <td>NaN</td>\n",
       "      <td>NaN</td>\n",
       "      <td>NaN</td>\n",
       "      <td>NaN</td>\n",
       "      <td>6.8</td>\n",
       "      <td>фантастика,боевик,триллер</td>\n",
       "    </tr>\n",
       "  </tbody>\n",
       "</table>\n",
       "</div>"
      ],
      "text/plain": [
       "                  title   puNumber           show_start_date            type  \\\n",
       "0      Открытый простор  221048915  2015-11-27T12:00:00.000Z  Художественный   \n",
       "1  Особо важное задание  111013716  2016-09-13T12:00:00.000Z  Художественный   \n",
       "2          Особо опасен  221038416  2016-10-10T12:00:00.000Z  Художественный   \n",
       "3          Особо опасен  221026916  2016-06-10T12:00:00.000Z  Художественный   \n",
       "4          Особо опасен  221030815  2015-07-29T12:00:00.000Z  Художественный   \n",
       "\n",
       "                                         film_studio production_country  \\\n",
       "0  Тачстоун Пикчерз, Кобальт Пикчерз, Бикон Пикче...                США   \n",
       "1                              Киностудия \"Мосфильм\"               СССР   \n",
       "2  Юниверсал Пикчерз, Кикстарт Продакшнз, Марк Пл...                США   \n",
       "3  Юниверсал Пикчерз, Кикстарт Продакшнз, Марк Пл...                США   \n",
       "4  Юниверсал Пикчерз, Кикстарт Продакшнз, Марк Пл...                США   \n",
       "\n",
       "            director                                           producer  \\\n",
       "0      Кевин Костнер          Дэвид Валдес, Кевин Костнер, Джейк Эбертс   \n",
       "1          Е.Матвеев                                                NaN   \n",
       "2  Тимур Бекмамбетов  Джим Лемли, Джейсон Нетер, Марк Е.Платт, Яйн Смит   \n",
       "3  Тимур Бекмамбетов  Джим Лемли, Джейсон Нетер, Марк Е.Платт, Яйн Смит   \n",
       "4  Тимур Бекмамбетов  Джим Лемли, Джейсон Нетер, Марк Е.Платт, Яйн Смит   \n",
       "\n",
       "                 age_restriction  refundable_support  nonrefundable_support  \\\n",
       "0    «18+» - запрещено для детей                 NaN                    NaN   \n",
       "1  «6+» - для детей старше 6 лет                 NaN                    NaN   \n",
       "2    «18+» - запрещено для детей                 NaN                    NaN   \n",
       "3    «18+» - запрещено для детей                 NaN                    NaN   \n",
       "4    «18+» - запрещено для детей                 NaN                    NaN   \n",
       "\n",
       "   budget financing_source ratings                     genres  \n",
       "0     NaN              NaN     7.2     боевик,драма,мелодрама  \n",
       "1     NaN              NaN     6.6              драма,военный  \n",
       "2     NaN              NaN     6.8  фантастика,боевик,триллер  \n",
       "3     NaN              NaN     6.8  фантастика,боевик,триллер  \n",
       "4     NaN              NaN     6.8  фантастика,боевик,триллер  "
      ]
     },
     "execution_count": 5,
     "metadata": {},
     "output_type": "execute_result"
    }
   ],
   "source": [
    "data.head()"
   ]
  },
  {
   "cell_type": "code",
   "execution_count": 6,
   "metadata": {},
   "outputs": [
    {
     "data": {
      "text/html": [
       "<div>\n",
       "<style scoped>\n",
       "    .dataframe tbody tr th:only-of-type {\n",
       "        vertical-align: middle;\n",
       "    }\n",
       "\n",
       "    .dataframe tbody tr th {\n",
       "        vertical-align: top;\n",
       "    }\n",
       "\n",
       "    .dataframe thead th {\n",
       "        text-align: right;\n",
       "    }\n",
       "</style>\n",
       "<table border=\"1\" class=\"dataframe\">\n",
       "  <thead>\n",
       "    <tr style=\"text-align: right;\">\n",
       "      <th></th>\n",
       "      <th>title</th>\n",
       "      <th>puNumber</th>\n",
       "      <th>show_start_date</th>\n",
       "      <th>type</th>\n",
       "      <th>film_studio</th>\n",
       "      <th>production_country</th>\n",
       "      <th>director</th>\n",
       "      <th>producer</th>\n",
       "      <th>age_restriction</th>\n",
       "      <th>refundable_support</th>\n",
       "      <th>nonrefundable_support</th>\n",
       "      <th>budget</th>\n",
       "      <th>financing_source</th>\n",
       "      <th>ratings</th>\n",
       "      <th>genres</th>\n",
       "    </tr>\n",
       "  </thead>\n",
       "  <tbody>\n",
       "    <tr>\n",
       "      <th>804</th>\n",
       "      <td>Паранормальный Якутск</td>\n",
       "      <td>111004112</td>\n",
       "      <td>2012-08-24T12:00:00.000Z</td>\n",
       "      <td>Художественный</td>\n",
       "      <td>ИП Тимофеев К.П.</td>\n",
       "      <td>Россия</td>\n",
       "      <td>К.Тимофеев</td>\n",
       "      <td>NaN</td>\n",
       "      <td>«16+» - для детей старше 16 лет</td>\n",
       "      <td>NaN</td>\n",
       "      <td>NaN</td>\n",
       "      <td>NaN</td>\n",
       "      <td>NaN</td>\n",
       "      <td>NaN</td>\n",
       "      <td>NaN</td>\n",
       "    </tr>\n",
       "    <tr>\n",
       "      <th>1797</th>\n",
       "      <td>Курбан-роман. (История с жертвой)</td>\n",
       "      <td>нет</td>\n",
       "      <td>2014-05-15T12:00:00.000Z</td>\n",
       "      <td>Художественный</td>\n",
       "      <td>ФОНД \"ИННОВАЦИЯ\"</td>\n",
       "      <td>Россия</td>\n",
       "      <td>С.Юзеев</td>\n",
       "      <td>М.Галицкая</td>\n",
       "      <td>«12+» - для детей старше 12 лет</td>\n",
       "      <td>NaN</td>\n",
       "      <td>NaN</td>\n",
       "      <td>NaN</td>\n",
       "      <td>NaN</td>\n",
       "      <td>NaN</td>\n",
       "      <td>NaN</td>\n",
       "    </tr>\n",
       "  </tbody>\n",
       "</table>\n",
       "</div>"
      ],
      "text/plain": [
       "                                  title    puNumber           show_start_date  \\\n",
       "804               Паранормальный Якутск   111004112  2012-08-24T12:00:00.000Z   \n",
       "1797  Курбан-роман. (История с жертвой)         нет  2014-05-15T12:00:00.000Z   \n",
       "\n",
       "                type       film_studio production_country    director  \\\n",
       "804   Художественный  ИП Тимофеев К.П.             Россия  К.Тимофеев   \n",
       "1797  Художественный  ФОНД \"ИННОВАЦИЯ\"             Россия     С.Юзеев   \n",
       "\n",
       "        producer                  age_restriction  refundable_support  \\\n",
       "804          NaN  «16+» - для детей старше 16 лет                 NaN   \n",
       "1797  М.Галицкая  «12+» - для детей старше 12 лет                 NaN   \n",
       "\n",
       "      nonrefundable_support  budget financing_source ratings genres  \n",
       "804                     NaN     NaN              NaN     NaN    NaN  \n",
       "1797                    NaN     NaN              NaN     NaN    NaN  "
      ]
     },
     "execution_count": 6,
     "metadata": {},
     "output_type": "execute_result"
    }
   ],
   "source": [
    "# Проверяем столбец на не цифровые данные (пропусков нет согласно info)\n",
    "data[~data.puNumber.str.isdigit()]"
   ]
  },
  {
   "cell_type": "code",
   "execution_count": 7,
   "metadata": {
    "scrolled": true
   },
   "outputs": [
    {
     "data": {
      "text/plain": [
       "' 111004112'"
      ]
     },
     "execution_count": 7,
     "metadata": {},
     "output_type": "execute_result"
    }
   ],
   "source": [
    "# Со значением 'нет' все понятно, а вот со строкой 804 надо разобраться\n",
    "data.loc[804]['puNumber']"
   ]
  },
  {
   "cell_type": "code",
   "execution_count": 8,
   "metadata": {},
   "outputs": [],
   "source": [
    "# Удаляем все лишние пробелы в начале и конце строки столбца, а значение 'нет' заменяем на '0'\n",
    "data['puNumber'] = data['puNumber'].str.strip().replace('нет', '0')"
   ]
  },
  {
   "cell_type": "code",
   "execution_count": 9,
   "metadata": {},
   "outputs": [],
   "source": [
    "# Преобразуем данные 'puNumber' в int64\n",
    "data['puNumber'] = data['puNumber'].astype('int64') \n",
    "\n",
    "# Объеденяем данные из двух файлов по ключу 'puNumber'\n",
    "data = data.join(data_shows.set_index('puNumber'), on='puNumber', how='left')"
   ]
  },
  {
   "cell_type": "code",
   "execution_count": 10,
   "metadata": {},
   "outputs": [
    {
     "data": {
      "text/html": [
       "<div>\n",
       "<style scoped>\n",
       "    .dataframe tbody tr th:only-of-type {\n",
       "        vertical-align: middle;\n",
       "    }\n",
       "\n",
       "    .dataframe tbody tr th {\n",
       "        vertical-align: top;\n",
       "    }\n",
       "\n",
       "    .dataframe thead th {\n",
       "        text-align: right;\n",
       "    }\n",
       "</style>\n",
       "<table border=\"1\" class=\"dataframe\">\n",
       "  <thead>\n",
       "    <tr style=\"text-align: right;\">\n",
       "      <th></th>\n",
       "      <th>title</th>\n",
       "      <th>puNumber</th>\n",
       "      <th>show_start_date</th>\n",
       "      <th>type</th>\n",
       "      <th>film_studio</th>\n",
       "      <th>production_country</th>\n",
       "      <th>director</th>\n",
       "      <th>producer</th>\n",
       "      <th>age_restriction</th>\n",
       "      <th>refundable_support</th>\n",
       "      <th>nonrefundable_support</th>\n",
       "      <th>budget</th>\n",
       "      <th>financing_source</th>\n",
       "      <th>ratings</th>\n",
       "      <th>genres</th>\n",
       "      <th>box_office</th>\n",
       "    </tr>\n",
       "  </thead>\n",
       "  <tbody>\n",
       "    <tr>\n",
       "      <th>0</th>\n",
       "      <td>Открытый простор</td>\n",
       "      <td>221048915</td>\n",
       "      <td>2015-11-27T12:00:00.000Z</td>\n",
       "      <td>Художественный</td>\n",
       "      <td>Тачстоун Пикчерз, Кобальт Пикчерз, Бикон Пикче...</td>\n",
       "      <td>США</td>\n",
       "      <td>Кевин Костнер</td>\n",
       "      <td>Дэвид Валдес, Кевин Костнер, Джейк Эбертс</td>\n",
       "      <td>«18+» - запрещено для детей</td>\n",
       "      <td>NaN</td>\n",
       "      <td>NaN</td>\n",
       "      <td>NaN</td>\n",
       "      <td>NaN</td>\n",
       "      <td>7.2</td>\n",
       "      <td>боевик,драма,мелодрама</td>\n",
       "      <td>NaN</td>\n",
       "    </tr>\n",
       "    <tr>\n",
       "      <th>1</th>\n",
       "      <td>Особо важное задание</td>\n",
       "      <td>111013716</td>\n",
       "      <td>2016-09-13T12:00:00.000Z</td>\n",
       "      <td>Художественный</td>\n",
       "      <td>Киностудия \"Мосфильм\"</td>\n",
       "      <td>СССР</td>\n",
       "      <td>Е.Матвеев</td>\n",
       "      <td>NaN</td>\n",
       "      <td>«6+» - для детей старше 6 лет</td>\n",
       "      <td>NaN</td>\n",
       "      <td>NaN</td>\n",
       "      <td>NaN</td>\n",
       "      <td>NaN</td>\n",
       "      <td>6.6</td>\n",
       "      <td>драма,военный</td>\n",
       "      <td>NaN</td>\n",
       "    </tr>\n",
       "    <tr>\n",
       "      <th>2</th>\n",
       "      <td>Особо опасен</td>\n",
       "      <td>221038416</td>\n",
       "      <td>2016-10-10T12:00:00.000Z</td>\n",
       "      <td>Художественный</td>\n",
       "      <td>Юниверсал Пикчерз, Кикстарт Продакшнз, Марк Пл...</td>\n",
       "      <td>США</td>\n",
       "      <td>Тимур Бекмамбетов</td>\n",
       "      <td>Джим Лемли, Джейсон Нетер, Марк Е.Платт, Яйн Смит</td>\n",
       "      <td>«18+» - запрещено для детей</td>\n",
       "      <td>NaN</td>\n",
       "      <td>NaN</td>\n",
       "      <td>NaN</td>\n",
       "      <td>NaN</td>\n",
       "      <td>6.8</td>\n",
       "      <td>фантастика,боевик,триллер</td>\n",
       "      <td>NaN</td>\n",
       "    </tr>\n",
       "    <tr>\n",
       "      <th>3</th>\n",
       "      <td>Особо опасен</td>\n",
       "      <td>221026916</td>\n",
       "      <td>2016-06-10T12:00:00.000Z</td>\n",
       "      <td>Художественный</td>\n",
       "      <td>Юниверсал Пикчерз, Кикстарт Продакшнз, Марк Пл...</td>\n",
       "      <td>США</td>\n",
       "      <td>Тимур Бекмамбетов</td>\n",
       "      <td>Джим Лемли, Джейсон Нетер, Марк Е.Платт, Яйн Смит</td>\n",
       "      <td>«18+» - запрещено для детей</td>\n",
       "      <td>NaN</td>\n",
       "      <td>NaN</td>\n",
       "      <td>NaN</td>\n",
       "      <td>NaN</td>\n",
       "      <td>6.8</td>\n",
       "      <td>фантастика,боевик,триллер</td>\n",
       "      <td>NaN</td>\n",
       "    </tr>\n",
       "    <tr>\n",
       "      <th>4</th>\n",
       "      <td>Особо опасен</td>\n",
       "      <td>221030815</td>\n",
       "      <td>2015-07-29T12:00:00.000Z</td>\n",
       "      <td>Художественный</td>\n",
       "      <td>Юниверсал Пикчерз, Кикстарт Продакшнз, Марк Пл...</td>\n",
       "      <td>США</td>\n",
       "      <td>Тимур Бекмамбетов</td>\n",
       "      <td>Джим Лемли, Джейсон Нетер, Марк Е.Платт, Яйн Смит</td>\n",
       "      <td>«18+» - запрещено для детей</td>\n",
       "      <td>NaN</td>\n",
       "      <td>NaN</td>\n",
       "      <td>NaN</td>\n",
       "      <td>NaN</td>\n",
       "      <td>6.8</td>\n",
       "      <td>фантастика,боевик,триллер</td>\n",
       "      <td>NaN</td>\n",
       "    </tr>\n",
       "  </tbody>\n",
       "</table>\n",
       "</div>"
      ],
      "text/plain": [
       "                  title   puNumber           show_start_date            type  \\\n",
       "0      Открытый простор  221048915  2015-11-27T12:00:00.000Z  Художественный   \n",
       "1  Особо важное задание  111013716  2016-09-13T12:00:00.000Z  Художественный   \n",
       "2          Особо опасен  221038416  2016-10-10T12:00:00.000Z  Художественный   \n",
       "3          Особо опасен  221026916  2016-06-10T12:00:00.000Z  Художественный   \n",
       "4          Особо опасен  221030815  2015-07-29T12:00:00.000Z  Художественный   \n",
       "\n",
       "                                         film_studio production_country  \\\n",
       "0  Тачстоун Пикчерз, Кобальт Пикчерз, Бикон Пикче...                США   \n",
       "1                              Киностудия \"Мосфильм\"               СССР   \n",
       "2  Юниверсал Пикчерз, Кикстарт Продакшнз, Марк Пл...                США   \n",
       "3  Юниверсал Пикчерз, Кикстарт Продакшнз, Марк Пл...                США   \n",
       "4  Юниверсал Пикчерз, Кикстарт Продакшнз, Марк Пл...                США   \n",
       "\n",
       "            director                                           producer  \\\n",
       "0      Кевин Костнер          Дэвид Валдес, Кевин Костнер, Джейк Эбертс   \n",
       "1          Е.Матвеев                                                NaN   \n",
       "2  Тимур Бекмамбетов  Джим Лемли, Джейсон Нетер, Марк Е.Платт, Яйн Смит   \n",
       "3  Тимур Бекмамбетов  Джим Лемли, Джейсон Нетер, Марк Е.Платт, Яйн Смит   \n",
       "4  Тимур Бекмамбетов  Джим Лемли, Джейсон Нетер, Марк Е.Платт, Яйн Смит   \n",
       "\n",
       "                 age_restriction  refundable_support  nonrefundable_support  \\\n",
       "0    «18+» - запрещено для детей                 NaN                    NaN   \n",
       "1  «6+» - для детей старше 6 лет                 NaN                    NaN   \n",
       "2    «18+» - запрещено для детей                 NaN                    NaN   \n",
       "3    «18+» - запрещено для детей                 NaN                    NaN   \n",
       "4    «18+» - запрещено для детей                 NaN                    NaN   \n",
       "\n",
       "   budget financing_source ratings                     genres  box_office  \n",
       "0     NaN              NaN     7.2     боевик,драма,мелодрама         NaN  \n",
       "1     NaN              NaN     6.6              драма,военный         NaN  \n",
       "2     NaN              NaN     6.8  фантастика,боевик,триллер         NaN  \n",
       "3     NaN              NaN     6.8  фантастика,боевик,триллер         NaN  \n",
       "4     NaN              NaN     6.8  фантастика,боевик,триллер         NaN  "
      ]
     },
     "execution_count": 10,
     "metadata": {},
     "output_type": "execute_result"
    }
   ],
   "source": [
    "data.head()"
   ]
  },
  {
   "cell_type": "markdown",
   "metadata": {
    "id": "KLDGpPG0gFyM"
   },
   "source": [
    "### Шаг 2. Предобработка данных"
   ]
  },
  {
   "cell_type": "code",
   "execution_count": 11,
   "metadata": {},
   "outputs": [],
   "source": [
    "# Для удобной работы переименуем столбцы к общепринятому виду\n",
    "data = data.rename(columns={'puNumber': 'pu_number'})"
   ]
  },
  {
   "cell_type": "markdown",
   "metadata": {
    "id": "ssWwKXsxgFyO"
   },
   "source": [
    "#### Шаг 2.1. Проверка типов данных"
   ]
  },
  {
   "cell_type": "markdown",
   "metadata": {},
   "source": [
    "Проверим типы данных и изменим их при необходимости"
   ]
  },
  {
   "cell_type": "code",
   "execution_count": 12,
   "metadata": {},
   "outputs": [
    {
     "name": "stdout",
     "output_type": "stream",
     "text": [
      "<class 'pandas.core.frame.DataFrame'>\n",
      "RangeIndex: 7486 entries, 0 to 7485\n",
      "Data columns (total 16 columns):\n",
      " #   Column                 Non-Null Count  Dtype  \n",
      "---  ------                 --------------  -----  \n",
      " 0   title                  7486 non-null   object \n",
      " 1   pu_number              7486 non-null   int64  \n",
      " 2   show_start_date        7486 non-null   object \n",
      " 3   type                   7486 non-null   object \n",
      " 4   film_studio            7468 non-null   object \n",
      " 5   production_country     7484 non-null   object \n",
      " 6   director               7477 non-null   object \n",
      " 7   producer               6918 non-null   object \n",
      " 8   age_restriction        7486 non-null   object \n",
      " 9   refundable_support     332 non-null    float64\n",
      " 10  nonrefundable_support  332 non-null    float64\n",
      " 11  budget                 332 non-null    float64\n",
      " 12  financing_source       332 non-null    object \n",
      " 13  ratings                6519 non-null   object \n",
      " 14  genres                 6510 non-null   object \n",
      " 15  box_office             3158 non-null   float64\n",
      "dtypes: float64(4), int64(1), object(11)\n",
      "memory usage: 935.9+ KB\n"
     ]
    }
   ],
   "source": [
    "data.info() # Данные по итоговом ДатаФрейме"
   ]
  },
  {
   "cell_type": "markdown",
   "metadata": {},
   "source": [
    "Для проверки данных (строковые значения, где предполагаем числовое), оптимизации и удобства работы с данными произведем замену типа данных в следующих столбцах:\n",
    "1) show_start_date - из 'object' в 'datetime64'  \n",
    "2) refundable_support - из 'object' в 'Int64'   \n",
    "3) nonrefundable_support - из 'object' в 'Int64'   \n",
    "4) budget - из 'object' в 'Int64'   \n",
    "5) ratings - из 'object' в 'float64'   \n",
    "6) box_office - из 'float64' в 'Int64'   \n",
    "<br><br>\n",
    "Для значений в которых десятичная часть не важна - отбросим ее. <br>\n",
    "Т.к. датафрейм небольшой, можно оставить 64 битные значения."
   ]
  },
  {
   "cell_type": "code",
   "execution_count": 13,
   "metadata": {},
   "outputs": [],
   "source": [
    "# Выполним преобразование из 'object' в 'Int64'\n",
    "columns = ('refundable_support', 'nonrefundable_support', 'budget')\n",
    "\n",
    "for col in columns:\n",
    "    data[col] = data[col].astype('Int64')"
   ]
  },
  {
   "cell_type": "code",
   "execution_count": 14,
   "metadata": {},
   "outputs": [],
   "source": [
    "# Выполним преобразование из 'float64' в 'Int64'\n",
    "data['box_office'] = data['box_office'].round().astype('Int64')"
   ]
  },
  {
   "cell_type": "code",
   "execution_count": 15,
   "metadata": {
    "scrolled": true
   },
   "outputs": [
    {
     "data": {
      "text/plain": [
       "259     99%\n",
       "811     28%\n",
       "1053    97%\n",
       "1341    99%\n",
       "1805    99%\n",
       "Name: ratings, dtype: object"
      ]
     },
     "execution_count": 15,
     "metadata": {},
     "output_type": "execute_result"
    }
   ],
   "source": [
    "# Определяем почему 'ratings' это 'object', а не float\n",
    "# Находим все значения (type str) не соответствующие ввиду 'x.x', x - любое кол-во цифр\n",
    "non_decimal = data['ratings'].dropna()[~data['ratings']. \\\n",
    "                    dropna().str.match(r'^\\d+(\\.\\d+)?$')] # исключаем пропуски\n",
    "# где '^\\d+(\\.\\d+)?$' регулярное выражение\n",
    "non_decimal.head()"
   ]
  },
  {
   "cell_type": "markdown",
   "metadata": {},
   "source": [
    "Часть значений записаны в процентах, а не в десятичном значении. Заменим процентные значения на десятичные"
   ]
  },
  {
   "cell_type": "code",
   "execution_count": 16,
   "metadata": {},
   "outputs": [],
   "source": [
    "# Напишим функцию для замены значений которые не соответствуют шаблону и не являются пустыми\n",
    "def replace_non_decimal(value):\n",
    "    if pd.isna(value): # если значение пустое\n",
    "        return value\n",
    "    elif re.match(r'^\\d+(\\.\\d+)?$', value): # если значение соответствует шаблону\n",
    "        return value\n",
    "    else:\n",
    "        return float(value.replace('%', ''))/10 # удаляем символ %, преобразуем в float и делим на 10\n",
    "    \n",
    "data['ratings'] = data['ratings'].transform(replace_non_decimal) # выполняем преобразование значений"
   ]
  },
  {
   "cell_type": "code",
   "execution_count": 17,
   "metadata": {},
   "outputs": [],
   "source": [
    "# Выполним преобразование из 'object' в 'float64'\n",
    "data['ratings'] = data['ratings'].astype('float64')"
   ]
  },
  {
   "cell_type": "code",
   "execution_count": 18,
   "metadata": {},
   "outputs": [],
   "source": [
    "# Выполним преобразование из 'object' в 'datetime64'\n",
    "data['show_start_date'] = pd.to_datetime(data['show_start_date'])"
   ]
  },
  {
   "cell_type": "code",
   "execution_count": 19,
   "metadata": {},
   "outputs": [
    {
     "name": "stdout",
     "output_type": "stream",
     "text": [
      "<class 'pandas.core.frame.DataFrame'>\n",
      "RangeIndex: 7486 entries, 0 to 7485\n",
      "Data columns (total 16 columns):\n",
      " #   Column                 Non-Null Count  Dtype              \n",
      "---  ------                 --------------  -----              \n",
      " 0   title                  7486 non-null   object             \n",
      " 1   pu_number              7486 non-null   int64              \n",
      " 2   show_start_date        7486 non-null   datetime64[ns, UTC]\n",
      " 3   type                   7486 non-null   object             \n",
      " 4   film_studio            7468 non-null   object             \n",
      " 5   production_country     7484 non-null   object             \n",
      " 6   director               7477 non-null   object             \n",
      " 7   producer               6918 non-null   object             \n",
      " 8   age_restriction        7486 non-null   object             \n",
      " 9   refundable_support     332 non-null    Int64              \n",
      " 10  nonrefundable_support  332 non-null    Int64              \n",
      " 11  budget                 332 non-null    Int64              \n",
      " 12  financing_source       332 non-null    object             \n",
      " 13  ratings                6519 non-null   float64            \n",
      " 14  genres                 6510 non-null   object             \n",
      " 15  box_office             3158 non-null   Int64              \n",
      "dtypes: Int64(4), datetime64[ns, UTC](1), float64(1), int64(1), object(9)\n",
      "memory usage: 965.1+ KB\n"
     ]
    }
   ],
   "source": [
    "data.info() # Данные преобразований"
   ]
  },
  {
   "cell_type": "markdown",
   "metadata": {
    "id": "i0MOLbF-gFyP"
   },
   "source": [
    "#### Шаг 2.2. Изучим пропуски в датафрейме"
   ]
  },
  {
   "cell_type": "code",
   "execution_count": 20,
   "metadata": {},
   "outputs": [
    {
     "data": {
      "text/plain": [
       "title                       0\n",
       "pu_number                   0\n",
       "show_start_date             0\n",
       "type                        0\n",
       "film_studio                18\n",
       "production_country          2\n",
       "director                    9\n",
       "producer                  568\n",
       "age_restriction             0\n",
       "refundable_support       7154\n",
       "nonrefundable_support    7154\n",
       "budget                   7154\n",
       "financing_source         7154\n",
       "ratings                   967\n",
       "genres                    976\n",
       "box_office               4328\n",
       "dtype: int64"
      ]
     },
     "execution_count": 20,
     "metadata": {},
     "output_type": "execute_result"
    }
   ],
   "source": [
    "# выведем кол-во пропусков по столбцам\n",
    "data.isna().sum()"
   ]
  },
  {
   "cell_type": "code",
   "execution_count": 21,
   "metadata": {},
   "outputs": [],
   "source": [
    "# Пропуски по столбцам студия-изготовитель, режиссер, продюсер, жанры заполним значением 'no_data' \n",
    "no_data_list = ['film_studio', 'director', 'producer', 'genres']\n",
    "\n",
    "data[no_data_list] = data[no_data_list].fillna('no_data')"
   ]
  },
  {
   "cell_type": "code",
   "execution_count": 22,
   "metadata": {},
   "outputs": [],
   "source": [
    "# Пропуски по столбцу реитинг заполним значением -1 \n",
    "data['ratings'] = data['ratings'].fillna(-1)"
   ]
  },
  {
   "cell_type": "code",
   "execution_count": 23,
   "metadata": {},
   "outputs": [
    {
     "data": {
      "text/html": [
       "<div>\n",
       "<style scoped>\n",
       "    .dataframe tbody tr th:only-of-type {\n",
       "        vertical-align: middle;\n",
       "    }\n",
       "\n",
       "    .dataframe tbody tr th {\n",
       "        vertical-align: top;\n",
       "    }\n",
       "\n",
       "    .dataframe thead th {\n",
       "        text-align: right;\n",
       "    }\n",
       "</style>\n",
       "<table border=\"1\" class=\"dataframe\">\n",
       "  <thead>\n",
       "    <tr style=\"text-align: right;\">\n",
       "      <th></th>\n",
       "      <th>title</th>\n",
       "      <th>pu_number</th>\n",
       "      <th>show_start_date</th>\n",
       "      <th>type</th>\n",
       "      <th>film_studio</th>\n",
       "      <th>production_country</th>\n",
       "      <th>director</th>\n",
       "      <th>producer</th>\n",
       "      <th>age_restriction</th>\n",
       "      <th>refundable_support</th>\n",
       "      <th>nonrefundable_support</th>\n",
       "      <th>budget</th>\n",
       "      <th>financing_source</th>\n",
       "      <th>ratings</th>\n",
       "      <th>genres</th>\n",
       "      <th>box_office</th>\n",
       "    </tr>\n",
       "  </thead>\n",
       "  <tbody>\n",
       "    <tr>\n",
       "      <th>3186</th>\n",
       "      <td>Детский юмористический киножурнал \"Ералаш. Ну ...</td>\n",
       "      <td>111001216</td>\n",
       "      <td>2016-02-09 12:00:00+00:00</td>\n",
       "      <td>Художественный</td>\n",
       "      <td>ООО \"Продюсерский центр ЕРАЛАШ\"</td>\n",
       "      <td>NaN</td>\n",
       "      <td>Р.Светлов, И.Магитон, А.Арутюнян, Л.Мирский, А...</td>\n",
       "      <td>ООО \"Продюсерский центр ЕРАЛАШ\"</td>\n",
       "      <td>«0+» - для любой зрительской аудитории</td>\n",
       "      <td>&lt;NA&gt;</td>\n",
       "      <td>&lt;NA&gt;</td>\n",
       "      <td>&lt;NA&gt;</td>\n",
       "      <td>NaN</td>\n",
       "      <td>7.2</td>\n",
       "      <td>детский,комедия</td>\n",
       "      <td>194527</td>\n",
       "    </tr>\n",
       "    <tr>\n",
       "      <th>4441</th>\n",
       "      <td>Мульт личности. Выпуск 5</td>\n",
       "      <td>214000410</td>\n",
       "      <td>2010-01-25 12:00:00+00:00</td>\n",
       "      <td>Художественный</td>\n",
       "      <td>no_data</td>\n",
       "      <td>NaN</td>\n",
       "      <td>no_data</td>\n",
       "      <td>no_data</td>\n",
       "      <td>«0+» - для любой зрительской аудитории</td>\n",
       "      <td>&lt;NA&gt;</td>\n",
       "      <td>&lt;NA&gt;</td>\n",
       "      <td>&lt;NA&gt;</td>\n",
       "      <td>NaN</td>\n",
       "      <td>4.0</td>\n",
       "      <td>мультфильм,комедия</td>\n",
       "      <td>&lt;NA&gt;</td>\n",
       "    </tr>\n",
       "  </tbody>\n",
       "</table>\n",
       "</div>"
      ],
      "text/plain": [
       "                                                  title  pu_number  \\\n",
       "3186  Детский юмористический киножурнал \"Ералаш. Ну ...  111001216   \n",
       "4441                           Мульт личности. Выпуск 5  214000410   \n",
       "\n",
       "               show_start_date            type  \\\n",
       "3186 2016-02-09 12:00:00+00:00  Художественный   \n",
       "4441 2010-01-25 12:00:00+00:00  Художественный   \n",
       "\n",
       "                          film_studio production_country  \\\n",
       "3186  ООО \"Продюсерский центр ЕРАЛАШ\"                NaN   \n",
       "4441                          no_data                NaN   \n",
       "\n",
       "                                               director  \\\n",
       "3186  Р.Светлов, И.Магитон, А.Арутюнян, Л.Мирский, А...   \n",
       "4441                                            no_data   \n",
       "\n",
       "                             producer                         age_restriction  \\\n",
       "3186  ООО \"Продюсерский центр ЕРАЛАШ\"  «0+» - для любой зрительской аудитории   \n",
       "4441                          no_data  «0+» - для любой зрительской аудитории   \n",
       "\n",
       "      refundable_support  nonrefundable_support  budget financing_source  \\\n",
       "3186                <NA>                   <NA>    <NA>              NaN   \n",
       "4441                <NA>                   <NA>    <NA>              NaN   \n",
       "\n",
       "      ratings              genres  box_office  \n",
       "3186      7.2     детский,комедия      194527  \n",
       "4441      4.0  мультфильм,комедия        <NA>  "
      ]
     },
     "execution_count": 23,
     "metadata": {},
     "output_type": "execute_result"
    }
   ],
   "source": [
    "# Проверим 2 пропуска по страна-производитель\n",
    "data[data['production_country'].isna()]"
   ]
  },
  {
   "cell_type": "code",
   "execution_count": 24,
   "metadata": {},
   "outputs": [],
   "source": [
    "# Т.к. значений всего два и мы знаем страну-производитель, то можем заполнить корректно\n",
    "data['production_country'] = data['production_country'].fillna('Россия')"
   ]
  },
  {
   "cell_type": "code",
   "execution_count": 25,
   "metadata": {},
   "outputs": [
    {
     "data": {
      "text/plain": [
       "0"
      ]
     },
     "execution_count": 25,
     "metadata": {},
     "output_type": "execute_result"
    }
   ],
   "source": [
    "# Т.к. refundable_support, nonrefundable_support, budget и financing_source взаимосвязаны\n",
    "# проверим случае когда 1 значение не пустое\n",
    "\n",
    "(\n",
    "    (data['refundable_support'].notna())\n",
    "        & (\n",
    "        data['nonrefundable_support'].isna() | data['budget'].isna() \n",
    "            | data['financing_source'].isna()\n",
    "         )\n",
    ").sum()"
   ]
  },
  {
   "cell_type": "markdown",
   "metadata": {},
   "source": [
    "Таких значений нет, значит любое пустое значение в этих столбцах автоматически означает пропуски в других"
   ]
  },
  {
   "cell_type": "code",
   "execution_count": 26,
   "metadata": {},
   "outputs": [],
   "source": [
    "# Пропуски refundable_support, nonrefundable_support \n",
    "# - заполняем 0 (государственного российского финансирования не было)\n",
    "data[['refundable_support', 'nonrefundable_support']] = \\\n",
    "        data[['refundable_support', 'nonrefundable_support']].fillna(0)"
   ]
  },
  {
   "cell_type": "code",
   "execution_count": 27,
   "metadata": {},
   "outputs": [],
   "source": [
    "# Пропуски financing_source - заполняем 'ЧИИФ' (Частный или Иностраный Источник Финансирования)\n",
    "data['financing_source'] = data['financing_source'].fillna('ЧИИФ')"
   ]
  },
  {
   "cell_type": "markdown",
   "metadata": {},
   "source": [
    "Пропуски в столбце 'budget' оставим пустые т.к. в рамках анализа установить объем бюджета нет возможности, необходимо сохранить числовое значение и необходимо исключить данные из выборки по объему бюджета. <br>\n",
    "Аналогично с 'box_office' (кассовые сборы). <br>\n",
    "Большинство пропусков можно заполнить данными из внешних источников, например API КиноПоиск. Но это выходит за рамки поставленных задач."
   ]
  },
  {
   "cell_type": "code",
   "execution_count": 28,
   "metadata": {},
   "outputs": [
    {
     "data": {
      "text/plain": [
       "title                       0\n",
       "pu_number                   0\n",
       "show_start_date             0\n",
       "type                        0\n",
       "film_studio                 0\n",
       "production_country          0\n",
       "director                    0\n",
       "producer                    0\n",
       "age_restriction             0\n",
       "refundable_support          0\n",
       "nonrefundable_support       0\n",
       "budget                   7154\n",
       "financing_source            0\n",
       "ratings                     0\n",
       "genres                      0\n",
       "box_office               4328\n",
       "dtype: int64"
      ]
     },
     "execution_count": 28,
     "metadata": {},
     "output_type": "execute_result"
    }
   ],
   "source": [
    "data.isna().sum() # Проверяем итоговые пропуски"
   ]
  },
  {
   "cell_type": "markdown",
   "metadata": {
    "id": "4c6k1t9ygFyQ"
   },
   "source": [
    "#### Шаг 2.3. Изучим дубликаты в датафрейме и удалим их по необходимости"
   ]
  },
  {
   "cell_type": "code",
   "execution_count": 29,
   "metadata": {},
   "outputs": [
    {
     "data": {
      "text/plain": [
       "(714, 717)"
      ]
     },
     "execution_count": 29,
     "metadata": {},
     "output_type": "execute_result"
    }
   ],
   "source": [
    "# Создадим столбец с измененными символами в названиями \n",
    "data['title_replace'] = (\n",
    "    data['title']\n",
    "    .str.replace('ё', 'е')\n",
    "    .str.replace('й', 'и')\n",
    "            ) \n",
    "# Проверим кол-во дубликатов по оригинальным названиям и с изменениями\n",
    "( data[data.duplicated('title')]['title'].count(), \n",
    "            data[data.duplicated('title_replace')]['title_replace'].count() )"
   ]
  },
  {
   "cell_type": "markdown",
   "metadata": {},
   "source": [
    "Кол-во дублей по измененным названием на 3 больше, чем по оригинальным. В дальнейшем для поиска дубликатов будем работать с ним. <br>"
   ]
  },
  {
   "cell_type": "code",
   "execution_count": 30,
   "metadata": {},
   "outputs": [],
   "source": [
    "# Удалим спец символы и доп донные из название (какие смогли обнаружить)\n",
    "# Удаляем все что после \\, год в формате (хххх), в конце точка, пробелы в начале и конце\n",
    "\n",
    "def prepare_title (text):\n",
    "    # Удаляем годы из 4х цифр в скобках\n",
    "    text = re.sub(r'\\(\\d{4}\\)', \"\", text)\n",
    "    # Удаляем символы после точки в конце строки\n",
    "    text = re.sub(r'\\.\\s*$', \"\", text)\n",
    "    # Удаляем оставшиеся отрезки после символов / и перед ними\n",
    "    text = re.sub(r'/.*$', \"\", text)\n",
    "    text = text.strip() # Под конец просто удаляем не нужные пробелы в начале и конце\n",
    "    return text\n",
    "\n",
    "data['title_replace'] = data['title_replace'].transform(prepare_title)"
   ]
  },
  {
   "cell_type": "markdown",
   "metadata": {},
   "source": [
    "##### Присваивание единного возрастного рейтинга"
   ]
  },
  {
   "cell_type": "markdown",
   "metadata": {},
   "source": [
    "Перед обработкой дубликатов еще необходимо нормализировать возрастной рейтинг для всех дубликатов. Для этого всем фильмам присвоим самый поздний возрастной рейтинг"
   ]
  },
  {
   "cell_type": "code",
   "execution_count": 31,
   "metadata": {},
   "outputs": [],
   "source": [
    "# Создаем смежную таблицу с указанием большей даты\n",
    "pivot_age_rest = data.pivot_table(index='title_replace', \n",
    "                                values=('show_start_date'),\n",
    "                                aggfunc={'show_start_date':'max'}).reset_index()\n",
    "\n",
    "#Добавляем возрастные ограничения для этой даты\n",
    "pivot_age_rest['age_restriction'] = pivot_age_rest.merge(data, \n",
    "                                   left_on=('title_replace', 'show_start_date'), \n",
    "                                   right_on=('title_replace', 'show_start_date')\n",
    "                         )['age_restriction']"
   ]
  },
  {
   "cell_type": "code",
   "execution_count": 32,
   "metadata": {},
   "outputs": [],
   "source": [
    "# Создаем Series со значениями последнего возрастного рейтинга\n",
    "ser_temp = data.merge(pivot_age_rest, how='left',\n",
    "                  left_on='title_replace', \n",
    "                  right_on='title_replace'\n",
    "                         )['age_restriction_y']"
   ]
  },
  {
   "cell_type": "code",
   "execution_count": 33,
   "metadata": {},
   "outputs": [],
   "source": [
    "# Выставляем значения возрастного рейтинга одинаковым для всех фильмов (самый поздний)\n",
    "data['age_restriction'] = ser_temp"
   ]
  },
  {
   "cell_type": "markdown",
   "metadata": {},
   "source": [
    "##### Удаление по номеру прок. удостоверения"
   ]
  },
  {
   "cell_type": "code",
   "execution_count": 34,
   "metadata": {
    "scrolled": false
   },
   "outputs": [
    {
     "data": {
      "text/html": [
       "<div>\n",
       "<style scoped>\n",
       "    .dataframe tbody tr th:only-of-type {\n",
       "        vertical-align: middle;\n",
       "    }\n",
       "\n",
       "    .dataframe tbody tr th {\n",
       "        vertical-align: top;\n",
       "    }\n",
       "\n",
       "    .dataframe thead th {\n",
       "        text-align: right;\n",
       "    }\n",
       "</style>\n",
       "<table border=\"1\" class=\"dataframe\">\n",
       "  <thead>\n",
       "    <tr style=\"text-align: right;\">\n",
       "      <th></th>\n",
       "      <th>title</th>\n",
       "      <th>pu_number</th>\n",
       "      <th>show_start_date</th>\n",
       "      <th>type</th>\n",
       "      <th>film_studio</th>\n",
       "      <th>production_country</th>\n",
       "      <th>director</th>\n",
       "      <th>producer</th>\n",
       "      <th>age_restriction</th>\n",
       "      <th>refundable_support</th>\n",
       "      <th>nonrefundable_support</th>\n",
       "      <th>budget</th>\n",
       "      <th>financing_source</th>\n",
       "      <th>ratings</th>\n",
       "      <th>genres</th>\n",
       "      <th>box_office</th>\n",
       "      <th>title_replace</th>\n",
       "    </tr>\n",
       "  </thead>\n",
       "  <tbody>\n",
       "    <tr>\n",
       "      <th>5068</th>\n",
       "      <td>Анализируй то!</td>\n",
       "      <td>221054410</td>\n",
       "      <td>2010-05-25 12:00:00+00:00</td>\n",
       "      <td>Художественный</td>\n",
       "      <td>Уорнер Бразерс, Виллидж Роадшоу Пикчерз, Эн-Пи...</td>\n",
       "      <td>США</td>\n",
       "      <td>Гарольд Реймис</td>\n",
       "      <td>Джейн Розенталь, Паул Уэйнстейн</td>\n",
       "      <td>«18+» - запрещено для детей</td>\n",
       "      <td>0</td>\n",
       "      <td>0</td>\n",
       "      <td>&lt;NA&gt;</td>\n",
       "      <td>ЧИИФ</td>\n",
       "      <td>6.8</td>\n",
       "      <td>комедия,криминал</td>\n",
       "      <td>&lt;NA&gt;</td>\n",
       "      <td>Анализируи то!</td>\n",
       "    </tr>\n",
       "    <tr>\n",
       "      <th>5067</th>\n",
       "      <td>Анализируй это!</td>\n",
       "      <td>221054410</td>\n",
       "      <td>2010-05-25 12:00:00+00:00</td>\n",
       "      <td>Художественный</td>\n",
       "      <td>Уорнер Бразерс, Вилладж Роудшоу Филмз ЛТД</td>\n",
       "      <td>США-Австралия</td>\n",
       "      <td>ХЭрольд Рэмис</td>\n",
       "      <td>Джейн Розенталь, Пола Уейнстейн</td>\n",
       "      <td>«12+» - для детей старше 12 лет</td>\n",
       "      <td>0</td>\n",
       "      <td>0</td>\n",
       "      <td>&lt;NA&gt;</td>\n",
       "      <td>ЧИИФ</td>\n",
       "      <td>7.4</td>\n",
       "      <td>комедия,криминал</td>\n",
       "      <td>&lt;NA&gt;</td>\n",
       "      <td>Анализируи это!</td>\n",
       "    </tr>\n",
       "    <tr>\n",
       "      <th>4639</th>\n",
       "      <td>Иоанна - женщина на папском престоле /По роман...</td>\n",
       "      <td>221154310</td>\n",
       "      <td>2010-12-17 12:00:00+00:00</td>\n",
       "      <td>Художественный</td>\n",
       "      <td>Константин Фильм, А Эр Ди Дегето Фильм, Дюне ...</td>\n",
       "      <td>Германия - Великобритания - Италия - Испания</td>\n",
       "      <td>Зенке Вортманн</td>\n",
       "      <td>Оливер Бербен, Дорис Д.Хайнце, Фарук Элтан</td>\n",
       "      <td>«18+» - запрещено для детей</td>\n",
       "      <td>0</td>\n",
       "      <td>0</td>\n",
       "      <td>&lt;NA&gt;</td>\n",
       "      <td>ЧИИФ</td>\n",
       "      <td>7.6</td>\n",
       "      <td>драма,мелодрама,история</td>\n",
       "      <td>&lt;NA&gt;</td>\n",
       "      <td>Иоанна - женщина на папском престоле</td>\n",
       "    </tr>\n",
       "    <tr>\n",
       "      <th>4638</th>\n",
       "      <td>Как жениться и остаться холостым</td>\n",
       "      <td>221154310</td>\n",
       "      <td>2010-12-17 12:00:00+00:00</td>\n",
       "      <td>Художественный</td>\n",
       "      <td>Ше Вам, Скрипт Ассосье, Тэ Фэ 1 Фильм Продюксь...</td>\n",
       "      <td>Франция</td>\n",
       "      <td>Эрик Лартиго</td>\n",
       "      <td>Амандин Било, Алан Шаба</td>\n",
       "      <td>«18+» - запрещено для детей</td>\n",
       "      <td>0</td>\n",
       "      <td>0</td>\n",
       "      <td>&lt;NA&gt;</td>\n",
       "      <td>ЧИИФ</td>\n",
       "      <td>7.0</td>\n",
       "      <td>мелодрама,комедия</td>\n",
       "      <td>&lt;NA&gt;</td>\n",
       "      <td>Как жениться и остаться холостым</td>\n",
       "    </tr>\n",
       "  </tbody>\n",
       "</table>\n",
       "</div>"
      ],
      "text/plain": [
       "                                                  title  pu_number  \\\n",
       "5068                                     Анализируй то!  221054410   \n",
       "5067                                    Анализируй это!  221054410   \n",
       "4639  Иоанна - женщина на папском престоле /По роман...  221154310   \n",
       "4638                   Как жениться и остаться холостым  221154310   \n",
       "\n",
       "               show_start_date            type  \\\n",
       "5068 2010-05-25 12:00:00+00:00  Художественный   \n",
       "5067 2010-05-25 12:00:00+00:00  Художественный   \n",
       "4639 2010-12-17 12:00:00+00:00  Художественный   \n",
       "4638 2010-12-17 12:00:00+00:00  Художественный   \n",
       "\n",
       "                                            film_studio  \\\n",
       "5068  Уорнер Бразерс, Виллидж Роадшоу Пикчерз, Эн-Пи...   \n",
       "5067          Уорнер Бразерс, Вилладж Роудшоу Филмз ЛТД   \n",
       "4639   Константин Фильм, А Эр Ди Дегето Фильм, Дюне ...   \n",
       "4638  Ше Вам, Скрипт Ассосье, Тэ Фэ 1 Фильм Продюксь...   \n",
       "\n",
       "                                production_country        director  \\\n",
       "5068                                           США  Гарольд Реймис   \n",
       "5067                                 США-Австралия   ХЭрольд Рэмис   \n",
       "4639  Германия - Великобритания - Италия - Испания  Зенке Вортманн   \n",
       "4638                                       Франция    Эрик Лартиго   \n",
       "\n",
       "                                        producer  \\\n",
       "5068             Джейн Розенталь, Паул Уэйнстейн   \n",
       "5067             Джейн Розенталь, Пола Уейнстейн   \n",
       "4639  Оливер Бербен, Дорис Д.Хайнце, Фарук Элтан   \n",
       "4638                     Амандин Било, Алан Шаба   \n",
       "\n",
       "                      age_restriction  refundable_support  \\\n",
       "5068      «18+» - запрещено для детей                   0   \n",
       "5067  «12+» - для детей старше 12 лет                   0   \n",
       "4639      «18+» - запрещено для детей                   0   \n",
       "4638      «18+» - запрещено для детей                   0   \n",
       "\n",
       "      nonrefundable_support  budget financing_source  ratings  \\\n",
       "5068                      0    <NA>             ЧИИФ      6.8   \n",
       "5067                      0    <NA>             ЧИИФ      7.4   \n",
       "4639                      0    <NA>             ЧИИФ      7.6   \n",
       "4638                      0    <NA>             ЧИИФ      7.0   \n",
       "\n",
       "                       genres  box_office  \\\n",
       "5068         комедия,криминал        <NA>   \n",
       "5067         комедия,криминал        <NA>   \n",
       "4639  драма,мелодрама,история        <NA>   \n",
       "4638        мелодрама,комедия        <NA>   \n",
       "\n",
       "                             title_replace  \n",
       "5068                        Анализируи то!  \n",
       "5067                       Анализируи это!  \n",
       "4639  Иоанна - женщина на папском престоле  \n",
       "4638      Как жениться и остаться холостым  "
      ]
     },
     "execution_count": 34,
     "metadata": {},
     "output_type": "execute_result"
    }
   ],
   "source": [
    "# Проверим дубликаты по номеру удостоверения \n",
    "data[data.duplicated(('pu_number'), keep=False) \n",
    "     ].sort_values('title_replace')"
   ]
  },
  {
   "cell_type": "markdown",
   "metadata": {},
   "source": [
    "Это разные фильмы, которым по ошибки присвоен одинаковые номера прокатного удостоверения. Заменим в них номера удостоверения на 0 и дату премьеры на 1900 год"
   ]
  },
  {
   "cell_type": "code",
   "execution_count": 35,
   "metadata": {
    "scrolled": false
   },
   "outputs": [],
   "source": [
    "# В дублирующихся номерах прок. уд. заменим номер прок.уд на 0, а дату премьеры на 1900 год\n",
    "data.loc[data.duplicated(('pu_number'), keep=False), ('pu_number', 'show_start_date')\n",
    "        ] = 0, pd.Timestamp('1900-01-01T12:00:00.000Z', tz='UTC')"
   ]
  },
  {
   "cell_type": "markdown",
   "metadata": {},
   "source": [
    "##### Удаление общих дубликатов"
   ]
  },
  {
   "cell_type": "code",
   "execution_count": 36,
   "metadata": {},
   "outputs": [],
   "source": [
    "# Удалим дубликаты по все столбцам кроме номера прок. уд. и даты премьеры\n",
    "\n",
    "full_dup_list = list(data.columns) # создаем список столбцов\n",
    "for x in ('title', 'pu_number', 'show_start_date'):\n",
    "    full_dup_list.remove(x) # удаляем ненужные столбцы\n",
    "    \n",
    "data = data.drop_duplicates(subset=full_dup_list)"
   ]
  },
  {
   "cell_type": "markdown",
   "metadata": {},
   "source": [
    "##### Удаление дубликатов с пустым бюджетом"
   ]
  },
  {
   "cell_type": "code",
   "execution_count": 37,
   "metadata": {},
   "outputs": [],
   "source": [
    "# Удалим лишние пробелы в данных 'film_studio' и 'producer'\n",
    "data[['film_studio', 'producer']] = data[['film_studio', 'producer']].transform(lambda x: \n",
    "                                              x.str.strip()\n",
    "                                             )"
   ]
  },
  {
   "cell_type": "code",
   "execution_count": 38,
   "metadata": {
    "scrolled": true
   },
   "outputs": [],
   "source": [
    "# удалим дубликаты с пустым бюджетом (оставим только те дубликаты, где кас. сборы указаны)\n",
    "notfull_dup_list = full_dup_list.copy() # создаем копию списка столбцов для поиска дубликатов\n",
    "for col in ('box_office', 'film_studio', 'producer', 'refundable_support',\n",
    "            'nonrefundable_support', 'budget', 'financing_source'):\n",
    "    notfull_dup_list.remove(col) # удаляем столбец для учета дубликатов\n",
    "\n",
    "'''\n",
    "Для получения фильтра на удаления используем инверсию \n",
    "(находим данные которые нужно удалить, потом инвертируем значения \n",
    "и получаем список, который надо оставить).\n",
    "Список (до инверсии) - дубликаты по столбцам (вывод всех значений) И \n",
    "пустые значения в 'box_office' (чтобы оставить те значения, где указаны сборы)\n",
    "'''\n",
    "for val in ('first', 'last'): # проходим в два этапа, чтобы не удалить дубликаты без данных о сборах\n",
    "    data = data[~(\n",
    "        data.duplicated(notfull_dup_list, keep=val) \n",
    "                  & (data['box_office'].isna())\n",
    "                    )]"
   ]
  },
  {
   "cell_type": "markdown",
   "metadata": {},
   "source": [
    "##### Удаление по стране производителю"
   ]
  },
  {
   "cell_type": "markdown",
   "metadata": {},
   "source": [
    "Отдельно удалим фильмы где есть различия по стране и не указан кассовый сбор. Записаны по разному, но фильм один"
   ]
  },
  {
   "cell_type": "code",
   "execution_count": 39,
   "metadata": {},
   "outputs": [],
   "source": [
    "# Удаляем дубликаты по стране-производитель\n",
    "notfull_dup_list.remove('production_country') # удаляем столбец для учета дубликатов \n",
    "\n",
    "data = data[~(\n",
    "        data.duplicated(notfull_dup_list, keep='first') \n",
    "                  & (data['box_office'].isna())\n",
    "             )]"
   ]
  },
  {
   "cell_type": "markdown",
   "metadata": {},
   "source": [
    "Выполним проверку по основным показателям"
   ]
  },
  {
   "cell_type": "code",
   "execution_count": 40,
   "metadata": {
    "scrolled": true
   },
   "outputs": [
    {
     "data": {
      "text/html": [
       "<div>\n",
       "<style scoped>\n",
       "    .dataframe tbody tr th:only-of-type {\n",
       "        vertical-align: middle;\n",
       "    }\n",
       "\n",
       "    .dataframe tbody tr th {\n",
       "        vertical-align: top;\n",
       "    }\n",
       "\n",
       "    .dataframe thead th {\n",
       "        text-align: right;\n",
       "    }\n",
       "</style>\n",
       "<table border=\"1\" class=\"dataframe\">\n",
       "  <thead>\n",
       "    <tr style=\"text-align: right;\">\n",
       "      <th></th>\n",
       "      <th>title</th>\n",
       "      <th>pu_number</th>\n",
       "      <th>show_start_date</th>\n",
       "      <th>type</th>\n",
       "      <th>film_studio</th>\n",
       "      <th>production_country</th>\n",
       "      <th>director</th>\n",
       "      <th>producer</th>\n",
       "      <th>age_restriction</th>\n",
       "      <th>refundable_support</th>\n",
       "      <th>nonrefundable_support</th>\n",
       "      <th>budget</th>\n",
       "      <th>financing_source</th>\n",
       "      <th>ratings</th>\n",
       "      <th>genres</th>\n",
       "      <th>box_office</th>\n",
       "      <th>title_replace</th>\n",
       "    </tr>\n",
       "  </thead>\n",
       "  <tbody>\n",
       "  </tbody>\n",
       "</table>\n",
       "</div>"
      ],
      "text/plain": [
       "Empty DataFrame\n",
       "Columns: [title, pu_number, show_start_date, type, film_studio, production_country, director, producer, age_restriction, refundable_support, nonrefundable_support, budget, financing_source, ratings, genres, box_office, title_replace]\n",
       "Index: []"
      ]
     },
     "execution_count": 40,
     "metadata": {},
     "output_type": "execute_result"
    }
   ],
   "source": [
    "# Проверяем дубликаты по основным показателям\n",
    "data[(\n",
    "    (data.duplicated((('title_replace', 'type', 'director')), keep=False)\n",
    "                   & (data['box_office'].isna()))\n",
    "    )].sort_values('title_replace')"
   ]
  },
  {
   "cell_type": "markdown",
   "metadata": {},
   "source": [
    "Дубликатов нет, осталось только разобратся с дублями где указаны сборы."
   ]
  },
  {
   "cell_type": "markdown",
   "metadata": {},
   "source": [
    "##### Обработка кассовых сборов и удаление дубликатов"
   ]
  },
  {
   "cell_type": "code",
   "execution_count": 41,
   "metadata": {},
   "outputs": [
    {
     "data": {
      "text/html": [
       "<div>\n",
       "<style scoped>\n",
       "    .dataframe tbody tr th:only-of-type {\n",
       "        vertical-align: middle;\n",
       "    }\n",
       "\n",
       "    .dataframe tbody tr th {\n",
       "        vertical-align: top;\n",
       "    }\n",
       "\n",
       "    .dataframe thead th {\n",
       "        text-align: right;\n",
       "    }\n",
       "</style>\n",
       "<table border=\"1\" class=\"dataframe\">\n",
       "  <thead>\n",
       "    <tr style=\"text-align: right;\">\n",
       "      <th></th>\n",
       "      <th>title</th>\n",
       "      <th>pu_number</th>\n",
       "      <th>show_start_date</th>\n",
       "      <th>type</th>\n",
       "      <th>film_studio</th>\n",
       "      <th>production_country</th>\n",
       "      <th>director</th>\n",
       "      <th>producer</th>\n",
       "      <th>age_restriction</th>\n",
       "      <th>refundable_support</th>\n",
       "      <th>nonrefundable_support</th>\n",
       "      <th>budget</th>\n",
       "      <th>financing_source</th>\n",
       "      <th>ratings</th>\n",
       "      <th>genres</th>\n",
       "      <th>box_office</th>\n",
       "      <th>title_replace</th>\n",
       "    </tr>\n",
       "  </thead>\n",
       "  <tbody>\n",
       "    <tr>\n",
       "      <th>1984</th>\n",
       "      <td>Weekend  (Уик-энд).</td>\n",
       "      <td>111008914</td>\n",
       "      <td>2014-08-13 12:00:00+00:00</td>\n",
       "      <td>Художественный</td>\n",
       "      <td>ООО \"Киностудия \"ВЕРТИКАЛЬ\"</td>\n",
       "      <td>Россия</td>\n",
       "      <td>С.Говорухин</td>\n",
       "      <td>С.Говорухин, Е.Маскина</td>\n",
       "      <td>«16+» - для детей старше 16 лет</td>\n",
       "      <td>0</td>\n",
       "      <td>0</td>\n",
       "      <td>&lt;NA&gt;</td>\n",
       "      <td>ЧИИФ</td>\n",
       "      <td>7.4</td>\n",
       "      <td>мелодрама</td>\n",
       "      <td>38044</td>\n",
       "      <td>Weekend  (Уик-энд)</td>\n",
       "    </tr>\n",
       "    <tr>\n",
       "      <th>1481</th>\n",
       "      <td>Weekend  (Уик-энд)</td>\n",
       "      <td>111014713</td>\n",
       "      <td>2013-12-24 12:00:00+00:00</td>\n",
       "      <td>Художественный</td>\n",
       "      <td>ООО \"Киностудия \"ВЕРТИКАЛЬ\"</td>\n",
       "      <td>Россия</td>\n",
       "      <td>С.Говорухин</td>\n",
       "      <td>С.Говорухин, Е.Маскина</td>\n",
       "      <td>«16+» - для детей старше 16 лет</td>\n",
       "      <td>0</td>\n",
       "      <td>0</td>\n",
       "      <td>&lt;NA&gt;</td>\n",
       "      <td>ЧИИФ</td>\n",
       "      <td>7.4</td>\n",
       "      <td>мелодрама</td>\n",
       "      <td>7755</td>\n",
       "      <td>Weekend  (Уик-энд)</td>\n",
       "    </tr>\n",
       "    <tr>\n",
       "      <th>885</th>\n",
       "      <td>Арктика 3D</td>\n",
       "      <td>126003112</td>\n",
       "      <td>2012-10-18 12:00:00+00:00</td>\n",
       "      <td>Прочие</td>\n",
       "      <td>МакГиливрэй, Фримен Филмз, Аймакс</td>\n",
       "      <td>США</td>\n",
       "      <td>Грэг МакГиливрэй</td>\n",
       "      <td>Грег МакГиливрэй, Шон МакГиливрэй</td>\n",
       "      <td>«16+» - для детей старше 16 лет</td>\n",
       "      <td>0</td>\n",
       "      <td>0</td>\n",
       "      <td>&lt;NA&gt;</td>\n",
       "      <td>ЧИИФ</td>\n",
       "      <td>7.7</td>\n",
       "      <td>документальный,короткометражка</td>\n",
       "      <td>103210</td>\n",
       "      <td>Арктика 3D</td>\n",
       "    </tr>\n",
       "    <tr>\n",
       "      <th>887</th>\n",
       "      <td>Арктика 3D</td>\n",
       "      <td>126003016</td>\n",
       "      <td>2016-07-01 12:00:00+00:00</td>\n",
       "      <td>Прочие</td>\n",
       "      <td>МакГиливрэй, Фримен Филмз, Аймакс</td>\n",
       "      <td>США</td>\n",
       "      <td>Грэг МакГиливрэй</td>\n",
       "      <td>Грег МакГиливрэй, Шон МакГиливрэй</td>\n",
       "      <td>«16+» - для детей старше 16 лет</td>\n",
       "      <td>0</td>\n",
       "      <td>0</td>\n",
       "      <td>&lt;NA&gt;</td>\n",
       "      <td>ЧИИФ</td>\n",
       "      <td>7.7</td>\n",
       "      <td>документальный,короткометражка</td>\n",
       "      <td>45300</td>\n",
       "      <td>Арктика 3D</td>\n",
       "    </tr>\n",
       "    <tr>\n",
       "      <th>1208</th>\n",
       "      <td>Аэротачки</td>\n",
       "      <td>124002412</td>\n",
       "      <td>2012-10-05 12:00:00+00:00</td>\n",
       "      <td>Анимационный</td>\n",
       "      <td>Ти Филмз, Ламлайт Анимейшн Студиос</td>\n",
       "      <td>США</td>\n",
       "      <td>Тони Тэнг</td>\n",
       "      <td>Джефф Боулер, Пегги Ли, Чарли Вонг Уинг Фанг</td>\n",
       "      <td>«16+» - для детей старше 16 лет</td>\n",
       "      <td>0</td>\n",
       "      <td>0</td>\n",
       "      <td>&lt;NA&gt;</td>\n",
       "      <td>ЧИИФ</td>\n",
       "      <td>4.1</td>\n",
       "      <td>мультфильм</td>\n",
       "      <td>9530</td>\n",
       "      <td>Аэротачки</td>\n",
       "    </tr>\n",
       "    <tr>\n",
       "      <th>1209</th>\n",
       "      <td>Аэротачки</td>\n",
       "      <td>224013814</td>\n",
       "      <td>2014-10-07 12:00:00+00:00</td>\n",
       "      <td>Анимационный</td>\n",
       "      <td>Ти Филмз, Ламлайт Анимейшн Студиос</td>\n",
       "      <td>США</td>\n",
       "      <td>Тони Тэнг</td>\n",
       "      <td>Джефф Боулер, Пегги Ли, Чарли Вонг Уинг Фанг</td>\n",
       "      <td>«16+» - для детей старше 16 лет</td>\n",
       "      <td>0</td>\n",
       "      <td>0</td>\n",
       "      <td>&lt;NA&gt;</td>\n",
       "      <td>ЧИИФ</td>\n",
       "      <td>4.1</td>\n",
       "      <td>мультфильм</td>\n",
       "      <td>1230</td>\n",
       "      <td>Аэротачки</td>\n",
       "    </tr>\n",
       "    <tr>\n",
       "      <th>2608</th>\n",
       "      <td>Багровый пик</td>\n",
       "      <td>221027316</td>\n",
       "      <td>2016-06-10 12:00:00+00:00</td>\n",
       "      <td>Художественный</td>\n",
       "      <td>Леджендари Пикчерз</td>\n",
       "      <td>США - Канада</td>\n",
       "      <td>Гильермо дель Торо</td>\n",
       "      <td>Каллум Грин, Джон Дж. ДжашниГильельмо дель Торо</td>\n",
       "      <td>«18+» - запрещено для детей</td>\n",
       "      <td>0</td>\n",
       "      <td>0</td>\n",
       "      <td>&lt;NA&gt;</td>\n",
       "      <td>ЧИИФ</td>\n",
       "      <td>6.6</td>\n",
       "      <td>ужасы,фэнтези,триллер</td>\n",
       "      <td>1200</td>\n",
       "      <td>Багровыи пик</td>\n",
       "    </tr>\n",
       "    <tr>\n",
       "      <th>2610</th>\n",
       "      <td>Багровый пик</td>\n",
       "      <td>121015215</td>\n",
       "      <td>2015-07-23 12:00:00+00:00</td>\n",
       "      <td>Художественный</td>\n",
       "      <td>Леджендари Пикчерз</td>\n",
       "      <td>США - Канада</td>\n",
       "      <td>Гильермо дель Торо</td>\n",
       "      <td>Каллум Грин, Джон Дж. ДжашниГильельмо дель Торо</td>\n",
       "      <td>«18+» - запрещено для детей</td>\n",
       "      <td>0</td>\n",
       "      <td>0</td>\n",
       "      <td>&lt;NA&gt;</td>\n",
       "      <td>ЧИИФ</td>\n",
       "      <td>6.6</td>\n",
       "      <td>ужасы,фэнтези,триллер</td>\n",
       "      <td>294842966</td>\n",
       "      <td>Багровыи пик</td>\n",
       "    </tr>\n",
       "    <tr>\n",
       "      <th>2633</th>\n",
       "      <td>Бегущий в лабиринте: Испытание огнем /По произ...</td>\n",
       "      <td>121016215</td>\n",
       "      <td>2015-07-31 12:00:00+00:00</td>\n",
       "      <td>Художественный</td>\n",
       "      <td>ХХ век Фокс, Готэм Групп, Тэ Эс Гэ Интертейнме...</td>\n",
       "      <td>США</td>\n",
       "      <td>Уэс Болл</td>\n",
       "      <td>Мартин Бауэн, Эллен Годсмит-Вейн, Вик Годфри</td>\n",
       "      <td>«18+» - запрещено для детей</td>\n",
       "      <td>0</td>\n",
       "      <td>0</td>\n",
       "      <td>&lt;NA&gt;</td>\n",
       "      <td>ЧИИФ</td>\n",
       "      <td>6.1</td>\n",
       "      <td>фантастика,боевик,триллер</td>\n",
       "      <td>484055453</td>\n",
       "      <td>Бегущии в лабиринте: Испытание огнем</td>\n",
       "    </tr>\n",
       "    <tr>\n",
       "      <th>2632</th>\n",
       "      <td>Бегущий в лабиринте: Испытание огнем /По произ...</td>\n",
       "      <td>221050715</td>\n",
       "      <td>2015-12-17 12:00:00+00:00</td>\n",
       "      <td>Художественный</td>\n",
       "      <td>ХХ век Фокс, Готэм Групп, Тэ Эс Гэ Интертейнме...</td>\n",
       "      <td>США</td>\n",
       "      <td>Уэс Болл</td>\n",
       "      <td>Мартин Бауэн, Эллен Годсмит-Вейн, Вик Годфри</td>\n",
       "      <td>«18+» - запрещено для детей</td>\n",
       "      <td>0</td>\n",
       "      <td>0</td>\n",
       "      <td>&lt;NA&gt;</td>\n",
       "      <td>ЧИИФ</td>\n",
       "      <td>6.1</td>\n",
       "      <td>фантастика,боевик,триллер</td>\n",
       "      <td>1900</td>\n",
       "      <td>Бегущии в лабиринте: Испытание огнем</td>\n",
       "    </tr>\n",
       "  </tbody>\n",
       "</table>\n",
       "</div>"
      ],
      "text/plain": [
       "                                                  title  pu_number  \\\n",
       "1984                                Weekend  (Уик-энд).  111008914   \n",
       "1481                                 Weekend  (Уик-энд)  111014713   \n",
       "885                                          Арктика 3D  126003112   \n",
       "887                                          Арктика 3D  126003016   \n",
       "1208                                          Аэротачки  124002412   \n",
       "1209                                          Аэротачки  224013814   \n",
       "2608                                       Багровый пик  221027316   \n",
       "2610                                       Багровый пик  121015215   \n",
       "2633  Бегущий в лабиринте: Испытание огнем /По произ...  121016215   \n",
       "2632  Бегущий в лабиринте: Испытание огнем /По произ...  221050715   \n",
       "\n",
       "               show_start_date            type  \\\n",
       "1984 2014-08-13 12:00:00+00:00  Художественный   \n",
       "1481 2013-12-24 12:00:00+00:00  Художественный   \n",
       "885  2012-10-18 12:00:00+00:00          Прочие   \n",
       "887  2016-07-01 12:00:00+00:00          Прочие   \n",
       "1208 2012-10-05 12:00:00+00:00    Анимационный   \n",
       "1209 2014-10-07 12:00:00+00:00    Анимационный   \n",
       "2608 2016-06-10 12:00:00+00:00  Художественный   \n",
       "2610 2015-07-23 12:00:00+00:00  Художественный   \n",
       "2633 2015-07-31 12:00:00+00:00  Художественный   \n",
       "2632 2015-12-17 12:00:00+00:00  Художественный   \n",
       "\n",
       "                                            film_studio production_country  \\\n",
       "1984                        ООО \"Киностудия \"ВЕРТИКАЛЬ\"             Россия   \n",
       "1481                        ООО \"Киностудия \"ВЕРТИКАЛЬ\"             Россия   \n",
       "885                   МакГиливрэй, Фримен Филмз, Аймакс                США   \n",
       "887                   МакГиливрэй, Фримен Филмз, Аймакс                США   \n",
       "1208                 Ти Филмз, Ламлайт Анимейшн Студиос                США   \n",
       "1209                 Ти Филмз, Ламлайт Анимейшн Студиос                США   \n",
       "2608                                 Леджендари Пикчерз       США - Канада   \n",
       "2610                                 Леджендари Пикчерз       США - Канада   \n",
       "2633  ХХ век Фокс, Готэм Групп, Тэ Эс Гэ Интертейнме...               США    \n",
       "2632  ХХ век Фокс, Готэм Групп, Тэ Эс Гэ Интертейнме...               США    \n",
       "\n",
       "                director                                         producer  \\\n",
       "1984         С.Говорухин                           С.Говорухин, Е.Маскина   \n",
       "1481         С.Говорухин                           С.Говорухин, Е.Маскина   \n",
       "885     Грэг МакГиливрэй                Грег МакГиливрэй, Шон МакГиливрэй   \n",
       "887     Грэг МакГиливрэй                Грег МакГиливрэй, Шон МакГиливрэй   \n",
       "1208           Тони Тэнг     Джефф Боулер, Пегги Ли, Чарли Вонг Уинг Фанг   \n",
       "1209           Тони Тэнг     Джефф Боулер, Пегги Ли, Чарли Вонг Уинг Фанг   \n",
       "2608  Гильермо дель Торо  Каллум Грин, Джон Дж. ДжашниГильельмо дель Торо   \n",
       "2610  Гильермо дель Торо  Каллум Грин, Джон Дж. ДжашниГильельмо дель Торо   \n",
       "2633            Уэс Болл     Мартин Бауэн, Эллен Годсмит-Вейн, Вик Годфри   \n",
       "2632            Уэс Болл     Мартин Бауэн, Эллен Годсмит-Вейн, Вик Годфри   \n",
       "\n",
       "                      age_restriction  refundable_support  \\\n",
       "1984  «16+» - для детей старше 16 лет                   0   \n",
       "1481  «16+» - для детей старше 16 лет                   0   \n",
       "885   «16+» - для детей старше 16 лет                   0   \n",
       "887   «16+» - для детей старше 16 лет                   0   \n",
       "1208  «16+» - для детей старше 16 лет                   0   \n",
       "1209  «16+» - для детей старше 16 лет                   0   \n",
       "2608      «18+» - запрещено для детей                   0   \n",
       "2610      «18+» - запрещено для детей                   0   \n",
       "2633      «18+» - запрещено для детей                   0   \n",
       "2632      «18+» - запрещено для детей                   0   \n",
       "\n",
       "      nonrefundable_support  budget financing_source  ratings  \\\n",
       "1984                      0    <NA>             ЧИИФ      7.4   \n",
       "1481                      0    <NA>             ЧИИФ      7.4   \n",
       "885                       0    <NA>             ЧИИФ      7.7   \n",
       "887                       0    <NA>             ЧИИФ      7.7   \n",
       "1208                      0    <NA>             ЧИИФ      4.1   \n",
       "1209                      0    <NA>             ЧИИФ      4.1   \n",
       "2608                      0    <NA>             ЧИИФ      6.6   \n",
       "2610                      0    <NA>             ЧИИФ      6.6   \n",
       "2633                      0    <NA>             ЧИИФ      6.1   \n",
       "2632                      0    <NA>             ЧИИФ      6.1   \n",
       "\n",
       "                              genres  box_office  \\\n",
       "1984                       мелодрама       38044   \n",
       "1481                       мелодрама        7755   \n",
       "885   документальный,короткометражка      103210   \n",
       "887   документальный,короткометражка       45300   \n",
       "1208                      мультфильм        9530   \n",
       "1209                      мультфильм        1230   \n",
       "2608           ужасы,фэнтези,триллер        1200   \n",
       "2610           ужасы,фэнтези,триллер   294842966   \n",
       "2633       фантастика,боевик,триллер   484055453   \n",
       "2632       фантастика,боевик,триллер        1900   \n",
       "\n",
       "                             title_replace  \n",
       "1984                    Weekend  (Уик-энд)  \n",
       "1481                    Weekend  (Уик-энд)  \n",
       "885                             Арктика 3D  \n",
       "887                             Арктика 3D  \n",
       "1208                             Аэротачки  \n",
       "1209                             Аэротачки  \n",
       "2608                          Багровыи пик  \n",
       "2610                          Багровыи пик  \n",
       "2633  Бегущии в лабиринте: Испытание огнем  \n",
       "2632  Бегущии в лабиринте: Испытание огнем  "
      ]
     },
     "execution_count": 41,
     "metadata": {},
     "output_type": "execute_result"
    }
   ],
   "source": [
    "# Выводим первые 10 дублей с указанием сборов\n",
    "data[data.duplicated((('title_replace', 'type', 'director')\n",
    "                     ), keep=False)].sort_values('title_replace').head(10)"
   ]
  },
  {
   "cell_type": "markdown",
   "metadata": {},
   "source": [
    "Тут многие фильмы в разных годах поступили в прокат. Предположительно, были осуществлены повторные показы. Есть три основных варианта обработки:\n",
    "1) Если оставить как есть, то получится, что фильмы по жанру пользуются меньше популярностью в более поздние года. Хотя фактически это будет связано с тем, что на повторный показ ходят меньше зрителей. <br>\n",
    "2) Если просуммировать показатели сборов и удалить повторный показ, то будет искажение по годам. <br>\n",
    "3) Если удалить повторные показы без суммирования, то уменьшится общий сбор фильма. <br>\n"
   ]
  },
  {
   "cell_type": "markdown",
   "metadata": {},
   "source": [
    "**Будем использовать первый вариант** т.к. он в общем анализе покажет самые достоверные данные, но только для дубликатов с разницей более 12 месяцев. <br><br>\n",
    "Алгоритм обработки таких значений: если разница между показами меньше 12 месяцев (365 дней), то суммируем значение сборов и удаляем последние значение; если разница равна или больше 12 месяцев, то оставляем без изменений."
   ]
  },
  {
   "cell_type": "code",
   "execution_count": 42,
   "metadata": {},
   "outputs": [],
   "source": [
    "# Для удобства создаем строку-индексацию \n",
    "data_bool_index = data.duplicated(('title_replace', 'type', 'director'), keep=False) \n",
    "\n",
    "# Создаем смежную таблицу с указанием большей и меньшей датой дубликата\n",
    "pivot_box_period = data[data_bool_index].pivot_table(index='title_replace', \n",
    "                                values=('show_start_date', 'box_office'),\n",
    "                                aggfunc={'show_start_date':('max', 'min'), 'box_office':'sum'}\n",
    "                                                    ).droplevel(0, axis=1).reset_index()\n",
    "# .droplevel(0, axis=1) - удаляет 'первый' заголовок\n",
    "\n",
    "# Добавляем разницу в месяцах между датами\n",
    "pivot_box_period['period_year'] = ( \n",
    "(pivot_box_period['max']-pivot_box_period['min']) / pd.Timedelta(1, 'D') / 365)"
   ]
  },
  {
   "cell_type": "code",
   "execution_count": 43,
   "metadata": {},
   "outputs": [],
   "source": [
    "# Создаем Series со значениями суммы для минимальной даты, где меньше года разница\n",
    "ser_temp = data.merge(pivot_box_period[pivot_box_period['period_year']<1], \n",
    "                      how='left',\n",
    "                  left_on=('title_replace','show_start_date'), \n",
    "                  right_on=('title_replace', 'min')\n",
    "                         )['sum']\n",
    "ser_temp.index = data.index  # устанавливаем совпадение индексов\n",
    "\n",
    "# По выборке где указанна сумма для замены в series, выполняем замену сборов на суммарное\n",
    "data.loc[ser_temp.notna(), 'box_office'] = ser_temp[ser_temp.notna()]"
   ]
  },
  {
   "cell_type": "markdown",
   "metadata": {},
   "source": [
    "Мы сделали замену сборов на суммарные сборы, для фильмов дубликатов, где разница между прокатными удостоверениям меньше года. Осталось лишь удалить дубликаты (с большей датой) с разницей меньше года."
   ]
  },
  {
   "cell_type": "code",
   "execution_count": 44,
   "metadata": {},
   "outputs": [],
   "source": [
    "# Создаем Series со значениями даты для максимальной даты, где меньше года разница\n",
    "ser_temp = data.merge(pivot_box_period[pivot_box_period['period_year']<1], \n",
    "                      how='left',\n",
    "                  left_on=('title_replace','show_start_date'), \n",
    "                  right_on=('title_replace', 'max')\n",
    "                         )['max'] # столбец не важен, нам будут нужны только не пустые индексы\n",
    "ser_temp.index = data.index  # устанавливаем совпадение индексов"
   ]
  },
  {
   "cell_type": "code",
   "execution_count": 45,
   "metadata": {},
   "outputs": [],
   "source": [
    "# Производим удаление строк по индексам, где не пустые значения в ser_temp\n",
    "data = data.drop(ser_temp[ser_temp.notna()].index)"
   ]
  },
  {
   "cell_type": "code",
   "execution_count": 46,
   "metadata": {},
   "outputs": [
    {
     "data": {
      "text/plain": [
       "11"
      ]
     },
     "execution_count": 46,
     "metadata": {},
     "output_type": "execute_result"
    }
   ],
   "source": [
    "# Выводим кол-во оставшихся дублей (\n",
    "# где указан бюджет и повторный показ (разница между показами больше года))\n",
    "data[data.duplicated((('title_replace', 'type', 'director')\n",
    "                     ), keep='first')]['title'].count()"
   ]
  },
  {
   "cell_type": "code",
   "execution_count": 47,
   "metadata": {},
   "outputs": [
    {
     "data": {
      "text/plain": [
       "6780"
      ]
     },
     "execution_count": 47,
     "metadata": {},
     "output_type": "execute_result"
    }
   ],
   "source": [
    "data.shape[0] # узнаем кол-во оставшихся строк"
   ]
  },
  {
   "cell_type": "markdown",
   "metadata": {},
   "source": [
    "**Промежуточный итог к шагу 2.3** <br>\n",
    "* Из 7486 строк осталось 6780\n",
    "* Остались дубликаты (11 фильмов, 22 строки), где были повторные показы (разница между показами более года) и есть данные по кассовым сборам\n",
    "* Повторные показы без учета кассовых сборов были удалены (если такие были) т.к. в них мало ценности\n",
    "* В столбце 'show_start_date' указана не дата премьеры (как указано в ТЗ), а дата выдачи прокатного удостоверения [подробное описание ниже](#Дополнительно-по-дате.)."
   ]
  },
  {
   "cell_type": "markdown",
   "metadata": {
    "id": "52fOPrEBgFyQ"
   },
   "source": [
    "#### Шаг 2.4. Изучим категориальные значения"
   ]
  },
  {
   "cell_type": "markdown",
   "metadata": {},
   "source": [
    "Категориальными столбцами являются:\n",
    "* type\n",
    "* production_country\n",
    "* age_restriction\n",
    "* financing_source\n",
    "* genres"
   ]
  },
  {
   "cell_type": "markdown",
   "metadata": {},
   "source": [
    "##### Столбец 'type'"
   ]
  },
  {
   "cell_type": "code",
   "execution_count": 48,
   "metadata": {},
   "outputs": [
    {
     "data": {
      "text/plain": [
       "Художественный                3904\n",
       " Художественный               1380\n",
       "Анимационный                   771\n",
       "Прочие                         393\n",
       "Документальный                 278\n",
       "Научно-популярный               52\n",
       " Анимационный                    1\n",
       "Музыкально-развлекательный       1\n",
       "Name: type, dtype: int64"
      ]
     },
     "execution_count": 48,
     "metadata": {},
     "output_type": "execute_result"
    }
   ],
   "source": [
    "# Проверяем значения столбца 'type'\n",
    "data['type'].value_counts()"
   ]
  },
  {
   "cell_type": "code",
   "execution_count": 49,
   "metadata": {},
   "outputs": [],
   "source": [
    "data['type'] = data['type'].str.strip() # Удаляем лишние пробелы "
   ]
  },
  {
   "cell_type": "code",
   "execution_count": 50,
   "metadata": {},
   "outputs": [],
   "source": [
    "# 'Музыкально-развлекательный' переименуем в 'Прочие'\n",
    "data.loc[data['type']=='Музыкально-развлекательный', 'type'] = 'Прочие'"
   ]
  },
  {
   "cell_type": "markdown",
   "metadata": {},
   "source": [
    "##### Столбец 'production_country'"
   ]
  },
  {
   "cell_type": "code",
   "execution_count": 51,
   "metadata": {},
   "outputs": [
    {
     "data": {
      "text/plain": [
       "Россия                                       1805\n",
       "США                                          1762\n",
       "СССР                                          344\n",
       "Франция                                       277\n",
       "Великобритания                                240\n",
       "                                             ... \n",
       "Сербия - Великобритания - США                   1\n",
       "Франция-Италия-Испания-Венгрия                  1\n",
       "США - Ирландия - Великобритания - Франция       1\n",
       "Бельгия-Нидерланды                              1\n",
       "Австралия, Канада                               1\n",
       "Name: production_country, Length: 947, dtype: int64"
      ]
     },
     "execution_count": 51,
     "metadata": {},
     "output_type": "execute_result"
    }
   ],
   "source": [
    "# Проверяем значения столбца 'production_country'\n",
    "data['production_country'].value_counts()"
   ]
  },
  {
   "cell_type": "markdown",
   "metadata": {},
   "source": [
    "Разных значений очень много (947 шт). Приведем к общему ввиду - \"{country1}, {country2}, .. , {country_n}\" с сортировкой стран в алфавитном порядке. <br>\n",
    "Только для начала создадим столбец с указанием первой страны производителя. Зачастую *первой страной прописывают страну с самым большим вкладом в создании фильма*. Не всегда так, но **будем принимать** для анализа, что это условие соблюдалось."
   ]
  },
  {
   "cell_type": "code",
   "execution_count": 52,
   "metadata": {},
   "outputs": [],
   "source": [
    "# Создаем столбец с первым названием страны-производителя (считаем основной)\n",
    "# Используем регулярные выражение re.split(r'[-,]', x) - разделить строку x по '-' или ','\n",
    "data['production_country_first'] = data['production_country'].transform(lambda x: \n",
    "                                     re.split(r'[-,]', x)[0].strip()\n",
    "                                                  )"
   ]
  },
  {
   "cell_type": "code",
   "execution_count": 53,
   "metadata": {},
   "outputs": [],
   "source": [
    "'''\n",
    "Разделяем строку на список по регулярному выражению (\n",
    "re.split(r'[-,]', x) - разделить строку x по '-' или ',')\n",
    "При помощи генератора перебираем значения в нем и удаляем в каждом значении пробелы в начале и конце\n",
    "Упаковываем в список, сортируем. Далее join из списка собирает строку по разделителю ', '.\n",
    "'''\n",
    "\n",
    "data['production_country'] = data['production_country'].transform(lambda x: \n",
    "                                        ', '.join( \n",
    "                                    sorted( [elem.strip() for elem in re.split(r'[-,]', x)] )  \n",
    "                                                  ))"
   ]
  },
  {
   "cell_type": "code",
   "execution_count": 54,
   "metadata": {},
   "outputs": [
    {
     "data": {
      "text/plain": [
       "Россия                                    1805\n",
       "США                                       1764\n",
       "СССР                                       374\n",
       "Франция                                    278\n",
       "Великобритания                             241\n",
       "                                          ... \n",
       "Пуэрто Рико, США                             1\n",
       "Индия, ОАЭ, США                              1\n",
       "Бельгия, Германия, Люксембург, Франция       1\n",
       "Пакистан                                     1\n",
       "Австрия, Германия, Италия, Франция           1\n",
       "Name: production_country, Length: 673, dtype: int64"
      ]
     },
     "execution_count": 54,
     "metadata": {},
     "output_type": "execute_result"
    }
   ],
   "source": [
    "data['production_country'].value_counts()"
   ]
  },
  {
   "cell_type": "markdown",
   "metadata": {},
   "source": [
    "##### Столбец 'age_restriction'"
   ]
  },
  {
   "cell_type": "code",
   "execution_count": 55,
   "metadata": {},
   "outputs": [
    {
     "data": {
      "text/plain": [
       "«16+» - для детей старше 16 лет           2510\n",
       "«12+» - для детей старше 12 лет           1490\n",
       "«18+» - запрещено для детей               1437\n",
       "«0+» - для любой зрительской аудитории     732\n",
       "«6+» - для детей старше 6 лет              611\n",
       "Name: age_restriction, dtype: int64"
      ]
     },
     "execution_count": 55,
     "metadata": {},
     "output_type": "execute_result"
    }
   ],
   "source": [
    "data['age_restriction'].value_counts()"
   ]
  },
  {
   "cell_type": "markdown",
   "metadata": {},
   "source": [
    "Возрастные категории в порядке, изменения не требуется. Фактическую обработку [произвели](#Присваивание-единного-возрастного-рейтинга) в шаге 2.3."
   ]
  },
  {
   "cell_type": "markdown",
   "metadata": {},
   "source": [
    "##### Столбец 'financing_source'"
   ]
  },
  {
   "cell_type": "code",
   "execution_count": 56,
   "metadata": {},
   "outputs": [
    {
     "data": {
      "text/plain": [
       "ЧИИФ                                6448\n",
       "Министерство культуры                164\n",
       "Фонд кино                            146\n",
       "Министерство культуры, Фонд кино      22\n",
       "Name: financing_source, dtype: int64"
      ]
     },
     "execution_count": 56,
     "metadata": {},
     "output_type": "execute_result"
    }
   ],
   "source": [
    "data['financing_source'].value_counts()"
   ]
  },
  {
   "cell_type": "markdown",
   "metadata": {},
   "source": [
    "Категории источника финансирования в порядке, изменения не требуется"
   ]
  },
  {
   "cell_type": "markdown",
   "metadata": {},
   "source": [
    "##### Столбец 'genres'"
   ]
  },
  {
   "cell_type": "code",
   "execution_count": 57,
   "metadata": {},
   "outputs": [
    {
     "data": {
      "text/plain": [
       "no_data                          966\n",
       "драма                            454\n",
       "комедия                          329\n",
       "мелодрама,комедия                180\n",
       "драма,мелодрама                  170\n",
       "                                ... \n",
       "комедия,история,драма              1\n",
       "комедия,военный,музыка             1\n",
       "приключения,боевик,триллер         1\n",
       "детектив,мелодрама,фэнтези         1\n",
       "приключения,детектив,семейный      1\n",
       "Name: genres, Length: 742, dtype: int64"
      ]
     },
     "execution_count": 57,
     "metadata": {},
     "output_type": "execute_result"
    }
   ],
   "source": [
    "data['genres'].value_counts()"
   ]
  },
  {
   "cell_type": "markdown",
   "metadata": {},
   "source": [
    "Для начала создадим столбец с указанием первого. Зачастую *первым жанром указывают основной жанр*. Не всегда так, но **будем принимать** для анализа, что это условие соблюдалось."
   ]
  },
  {
   "cell_type": "code",
   "execution_count": 58,
   "metadata": {},
   "outputs": [],
   "source": [
    "# Создаем столбец с первым названием жанра (считаем основной)\n",
    "# Используем регулярные выражение re.split(r'[-,]', x) - разделить строку x по '-' или ','\n",
    "data['genres_first'] = data['genres'].transform(lambda x: \n",
    "                                     re.split(r'[-,]', x)[0].strip()\n",
    "                                                  )"
   ]
  },
  {
   "cell_type": "code",
   "execution_count": 59,
   "metadata": {},
   "outputs": [
    {
     "data": {
      "text/plain": [
       "драма              1556\n",
       "no_data             966\n",
       "комедия             648\n",
       "боевик              517\n",
       "ужасы               507\n",
       "мультфильм          474\n",
       "триллер             474\n",
       "фантастика          358\n",
       "мелодрама           330\n",
       "фэнтези             275\n",
       "документальный      200\n",
       "аниме                71\n",
       "мюзикл               56\n",
       "приключения          54\n",
       "детектив             52\n",
       "военный              42\n",
       "криминал             38\n",
       "биография            32\n",
       "семейный             30\n",
       "детский              28\n",
       "история              22\n",
       "короткометражка      13\n",
       "концерт              11\n",
       "спорт                 9\n",
       "музыка                7\n",
       "вестерн               6\n",
       "для взрослых          2\n",
       "фильм                 1\n",
       "реальное ТВ           1\n",
       "Name: genres_first, dtype: int64"
      ]
     },
     "execution_count": 59,
     "metadata": {},
     "output_type": "execute_result"
    }
   ],
   "source": [
    "data['genres_first'].value_counts()"
   ]
  },
  {
   "cell_type": "code",
   "execution_count": 60,
   "metadata": {},
   "outputs": [
    {
     "data": {
      "text/html": [
       "<div>\n",
       "<style scoped>\n",
       "    .dataframe tbody tr th:only-of-type {\n",
       "        vertical-align: middle;\n",
       "    }\n",
       "\n",
       "    .dataframe tbody tr th {\n",
       "        vertical-align: top;\n",
       "    }\n",
       "\n",
       "    .dataframe thead th {\n",
       "        text-align: right;\n",
       "    }\n",
       "</style>\n",
       "<table border=\"1\" class=\"dataframe\">\n",
       "  <thead>\n",
       "    <tr style=\"text-align: right;\">\n",
       "      <th></th>\n",
       "      <th>title</th>\n",
       "      <th>pu_number</th>\n",
       "      <th>show_start_date</th>\n",
       "      <th>type</th>\n",
       "      <th>film_studio</th>\n",
       "      <th>production_country</th>\n",
       "      <th>director</th>\n",
       "      <th>producer</th>\n",
       "      <th>age_restriction</th>\n",
       "      <th>refundable_support</th>\n",
       "      <th>nonrefundable_support</th>\n",
       "      <th>budget</th>\n",
       "      <th>financing_source</th>\n",
       "      <th>ratings</th>\n",
       "      <th>genres</th>\n",
       "      <th>box_office</th>\n",
       "      <th>title_replace</th>\n",
       "      <th>production_country_first</th>\n",
       "      <th>genres_first</th>\n",
       "    </tr>\n",
       "  </thead>\n",
       "  <tbody>\n",
       "    <tr>\n",
       "      <th>2048</th>\n",
       "      <td>Страх сцены.</td>\n",
       "      <td>121019414</td>\n",
       "      <td>2014-09-03 12:00:00+00:00</td>\n",
       "      <td>Художественный</td>\n",
       "      <td>Серендипити Поинт Филмз, Ситизен Джоунз</td>\n",
       "      <td>Канада</td>\n",
       "      <td>Джером Сейбл</td>\n",
       "      <td>Ари Лантос, Джонас Белл Пашт</td>\n",
       "      <td>«0+» - для любой зрительской аудитории</td>\n",
       "      <td>0</td>\n",
       "      <td>0</td>\n",
       "      <td>&lt;NA&gt;</td>\n",
       "      <td>ЧИИФ</td>\n",
       "      <td>7.6</td>\n",
       "      <td>фильм-нуар,триллер,детектив</td>\n",
       "      <td>1700</td>\n",
       "      <td>Страх сцены</td>\n",
       "      <td>Канада</td>\n",
       "      <td>фильм</td>\n",
       "    </tr>\n",
       "    <tr>\n",
       "      <th>7152</th>\n",
       "      <td>Битва</td>\n",
       "      <td>111013619</td>\n",
       "      <td>2019-08-29 12:00:00+00:00</td>\n",
       "      <td>Художественный</td>\n",
       "      <td>ООО \"ТПО \"РОК\"</td>\n",
       "      <td>Россия</td>\n",
       "      <td>А.Аббасов</td>\n",
       "      <td>А.Учитель, К.Саксаганская</td>\n",
       "      <td>«16+» - для детей старше 16 лет</td>\n",
       "      <td>28000000</td>\n",
       "      <td>25000000</td>\n",
       "      <td>80000000</td>\n",
       "      <td>Министерство культуры, Фонд кино</td>\n",
       "      <td>5.6</td>\n",
       "      <td>реальное ТВ</td>\n",
       "      <td>32721103</td>\n",
       "      <td>Битва</td>\n",
       "      <td>Россия</td>\n",
       "      <td>реальное ТВ</td>\n",
       "    </tr>\n",
       "  </tbody>\n",
       "</table>\n",
       "</div>"
      ],
      "text/plain": [
       "             title  pu_number           show_start_date            type  \\\n",
       "2048  Страх сцены.  121019414 2014-09-03 12:00:00+00:00  Художественный   \n",
       "7152         Битва  111013619 2019-08-29 12:00:00+00:00  Художественный   \n",
       "\n",
       "                                  film_studio production_country  \\\n",
       "2048  Серендипити Поинт Филмз, Ситизен Джоунз             Канада   \n",
       "7152                           ООО \"ТПО \"РОК\"             Россия   \n",
       "\n",
       "          director                      producer  \\\n",
       "2048  Джером Сейбл  Ари Лантос, Джонас Белл Пашт   \n",
       "7152     А.Аббасов     А.Учитель, К.Саксаганская   \n",
       "\n",
       "                             age_restriction  refundable_support  \\\n",
       "2048  «0+» - для любой зрительской аудитории                   0   \n",
       "7152         «16+» - для детей старше 16 лет            28000000   \n",
       "\n",
       "      nonrefundable_support    budget                  financing_source  \\\n",
       "2048                      0      <NA>                              ЧИИФ   \n",
       "7152               25000000  80000000  Министерство культуры, Фонд кино   \n",
       "\n",
       "      ratings                       genres  box_office title_replace  \\\n",
       "2048      7.6  фильм-нуар,триллер,детектив        1700   Страх сцены   \n",
       "7152      5.6                  реальное ТВ    32721103         Битва   \n",
       "\n",
       "     production_country_first genres_first  \n",
       "2048                   Канада        фильм  \n",
       "7152                   Россия  реальное ТВ  "
      ]
     },
     "execution_count": 60,
     "metadata": {},
     "output_type": "execute_result"
    }
   ],
   "source": [
    "# Выведем 'сомнительные' жанры \n",
    "nopup_genres_list = ['реальное ТВ', 'фильм']\n",
    "\n",
    "data.query('genres_first in @nopup_genres_list')"
   ]
  },
  {
   "cell_type": "code",
   "execution_count": 61,
   "metadata": {},
   "outputs": [],
   "source": [
    "# Заменим в ручном режиме\n",
    "data.loc[2048, ['genres_first']] = 'триллер'\n",
    "data.loc[7152, ['genres', 'genres_first']] = 'no_data'"
   ]
  },
  {
   "cell_type": "markdown",
   "metadata": {},
   "source": [
    "Приведем к общему ввиду - \"{genre1}, {genre2}, .. , {genre_n}\" с сортировкой жанров в алфавитном порядке."
   ]
  },
  {
   "cell_type": "code",
   "execution_count": 62,
   "metadata": {},
   "outputs": [],
   "source": [
    "'''\n",
    "Разделяем строку на список по регулярному выражению (\n",
    "re.split(r'[-,]', x) - разделить строку x по '-' или ',')\n",
    "При помощи генератора перебираем значения в нем и удаляем в каждом значении пробелы в начале и конце\n",
    "Упаковываем в список, сортируем. Далее join из списка собирает строку по разделителю ', '.\n",
    "'''\n",
    "\n",
    "data['genres'] = data['genres'].transform(lambda x: \n",
    "                                        ', '.join( \n",
    "                                    sorted( [elem.strip() for elem in re.split(r'[-,]', x)] )  \n",
    "                                                  ))"
   ]
  },
  {
   "cell_type": "code",
   "execution_count": 63,
   "metadata": {},
   "outputs": [
    {
     "data": {
      "text/plain": [
       "no_data                               967\n",
       "драма                                 454\n",
       "комедия                               329\n",
       "комедия, мелодрама                    232\n",
       "драма, комедия, мелодрама             191\n",
       "                                     ... \n",
       "боевик, мелодрама                       1\n",
       "детектив, приключения, триллер          1\n",
       "история, комедия, приключения           1\n",
       "аниме, короткометражка, мультфильм      1\n",
       "детектив, нуар, триллер, фильм          1\n",
       "Name: genres, Length: 472, dtype: int64"
      ]
     },
     "execution_count": 63,
     "metadata": {},
     "output_type": "execute_result"
    }
   ],
   "source": [
    "data['genres'].value_counts()"
   ]
  },
  {
   "cell_type": "markdown",
   "metadata": {
    "id": "XFSN5lrEgFyR"
   },
   "source": [
    "#### Шаг 2.5. Проверим количественные значения"
   ]
  },
  {
   "cell_type": "markdown",
   "metadata": {
    "id": "YbzClBxagFyS"
   },
   "source": [
    "Количественными столбцами являются:\n",
    "* refundable_support\n",
    "* nonrefundable_support\n",
    "* budget\n",
    "* ratings\n",
    "* box_office"
   ]
  },
  {
   "cell_type": "markdown",
   "metadata": {},
   "source": [
    "Столбец budget уже включает в себя полный объём государственной поддержки. Данные в этом столбце указаны только для тех фильмов, которые получили государственную поддержку. "
   ]
  },
  {
   "cell_type": "markdown",
   "metadata": {},
   "source": [
    "##### Данные по бюджетным средствам"
   ]
  },
  {
   "cell_type": "code",
   "execution_count": 64,
   "metadata": {},
   "outputs": [
    {
     "data": {
      "text/html": [
       "<div>\n",
       "<style scoped>\n",
       "    .dataframe tbody tr th:only-of-type {\n",
       "        vertical-align: middle;\n",
       "    }\n",
       "\n",
       "    .dataframe tbody tr th {\n",
       "        vertical-align: top;\n",
       "    }\n",
       "\n",
       "    .dataframe thead th {\n",
       "        text-align: right;\n",
       "    }\n",
       "</style>\n",
       "<table border=\"1\" class=\"dataframe\">\n",
       "  <thead>\n",
       "    <tr style=\"text-align: right;\">\n",
       "      <th></th>\n",
       "      <th>refundable_support</th>\n",
       "      <th>nonrefundable_support</th>\n",
       "      <th>budget</th>\n",
       "    </tr>\n",
       "  </thead>\n",
       "  <tbody>\n",
       "    <tr>\n",
       "      <th>count</th>\n",
       "      <td>6.780000e+03</td>\n",
       "      <td>6.780000e+03</td>\n",
       "      <td>3.320000e+02</td>\n",
       "    </tr>\n",
       "    <tr>\n",
       "      <th>mean</th>\n",
       "      <td>5.809735e+05</td>\n",
       "      <td>2.398479e+06</td>\n",
       "      <td>1.272297e+08</td>\n",
       "    </tr>\n",
       "    <tr>\n",
       "      <th>std</th>\n",
       "      <td>6.072070e+06</td>\n",
       "      <td>1.695303e+07</td>\n",
       "      <td>1.885883e+08</td>\n",
       "    </tr>\n",
       "    <tr>\n",
       "      <th>min</th>\n",
       "      <td>0.000000e+00</td>\n",
       "      <td>0.000000e+00</td>\n",
       "      <td>0.000000e+00</td>\n",
       "    </tr>\n",
       "    <tr>\n",
       "      <th>25%</th>\n",
       "      <td>0.000000e+00</td>\n",
       "      <td>0.000000e+00</td>\n",
       "      <td>4.200000e+07</td>\n",
       "    </tr>\n",
       "    <tr>\n",
       "      <th>50%</th>\n",
       "      <td>0.000000e+00</td>\n",
       "      <td>0.000000e+00</td>\n",
       "      <td>6.864992e+07</td>\n",
       "    </tr>\n",
       "    <tr>\n",
       "      <th>75%</th>\n",
       "      <td>0.000000e+00</td>\n",
       "      <td>0.000000e+00</td>\n",
       "      <td>1.419853e+08</td>\n",
       "    </tr>\n",
       "    <tr>\n",
       "      <th>max</th>\n",
       "      <td>1.800000e+08</td>\n",
       "      <td>4.000000e+08</td>\n",
       "      <td>2.305074e+09</td>\n",
       "    </tr>\n",
       "  </tbody>\n",
       "</table>\n",
       "</div>"
      ],
      "text/plain": [
       "       refundable_support  nonrefundable_support        budget\n",
       "count        6.780000e+03           6.780000e+03  3.320000e+02\n",
       "mean         5.809735e+05           2.398479e+06  1.272297e+08\n",
       "std          6.072070e+06           1.695303e+07  1.885883e+08\n",
       "min          0.000000e+00           0.000000e+00  0.000000e+00\n",
       "25%          0.000000e+00           0.000000e+00  4.200000e+07\n",
       "50%          0.000000e+00           0.000000e+00  6.864992e+07\n",
       "75%          0.000000e+00           0.000000e+00  1.419853e+08\n",
       "max          1.800000e+08           4.000000e+08  2.305074e+09"
      ]
     },
     "execution_count": 64,
     "metadata": {},
     "output_type": "execute_result"
    }
   ],
   "source": [
    "data[['refundable_support', 'nonrefundable_support', 'budget']].describe()"
   ]
  },
  {
   "cell_type": "code",
   "execution_count": 65,
   "metadata": {},
   "outputs": [
    {
     "data": {
      "image/png": "[encoded data removed]",
      "text/plain": [
       "<Figure size 432x288 with 1 Axes>"
      ]
     },
     "metadata": {
      "needs_background": "light"
     },
     "output_type": "display_data"
    }
   ],
   "source": [
    "# Построение гистограммы для бюджета\n",
    "fig, ax = plt.subplots()\n",
    "data['budget'].plot(kind='hist', title='Распределение по бюджету', \n",
    "                    grid=True);\n",
    "ax.set_ylabel('Количество');\n",
    "ax.set_xlabel('бюджет');"
   ]
  },
  {
   "cell_type": "code",
   "execution_count": 66,
   "metadata": {
    "scrolled": true
   },
   "outputs": [
    {
     "data": {
      "text/html": [
       "<div>\n",
       "<style scoped>\n",
       "    .dataframe tbody tr th:only-of-type {\n",
       "        vertical-align: middle;\n",
       "    }\n",
       "\n",
       "    .dataframe tbody tr th {\n",
       "        vertical-align: top;\n",
       "    }\n",
       "\n",
       "    .dataframe thead th {\n",
       "        text-align: right;\n",
       "    }\n",
       "</style>\n",
       "<table border=\"1\" class=\"dataframe\">\n",
       "  <thead>\n",
       "    <tr style=\"text-align: right;\">\n",
       "      <th></th>\n",
       "      <th>title</th>\n",
       "      <th>pu_number</th>\n",
       "      <th>show_start_date</th>\n",
       "      <th>type</th>\n",
       "      <th>film_studio</th>\n",
       "      <th>production_country</th>\n",
       "      <th>director</th>\n",
       "      <th>producer</th>\n",
       "      <th>age_restriction</th>\n",
       "      <th>refundable_support</th>\n",
       "      <th>nonrefundable_support</th>\n",
       "      <th>budget</th>\n",
       "      <th>financing_source</th>\n",
       "      <th>ratings</th>\n",
       "      <th>genres</th>\n",
       "      <th>box_office</th>\n",
       "      <th>title_replace</th>\n",
       "      <th>production_country_first</th>\n",
       "      <th>genres_first</th>\n",
       "    </tr>\n",
       "  </thead>\n",
       "  <tbody>\n",
       "    <tr>\n",
       "      <th>5437</th>\n",
       "      <td>Матильда</td>\n",
       "      <td>111005717</td>\n",
       "      <td>2017-08-17 12:00:00+00:00</td>\n",
       "      <td>Художественный</td>\n",
       "      <td>ООО \"ТПО \"РОК\", ООО \"Матильда\"</td>\n",
       "      <td>Россия</td>\n",
       "      <td>А.Учитель</td>\n",
       "      <td>А.Учитель, А.Достман, В.Винокур</td>\n",
       "      <td>«16+» - для детей старше 16 лет</td>\n",
       "      <td>110000000</td>\n",
       "      <td>190000000</td>\n",
       "      <td>1032905957</td>\n",
       "      <td>Фонд кино</td>\n",
       "      <td>7.7</td>\n",
       "      <td>комедия, семейный, фэнтези</td>\n",
       "      <td>511775548</td>\n",
       "      <td>Матильда</td>\n",
       "      <td>Россия</td>\n",
       "      <td>фэнтези</td>\n",
       "    </tr>\n",
       "    <tr>\n",
       "      <th>7114</th>\n",
       "      <td>Тайна Печати Дракона</td>\n",
       "      <td>111012819</td>\n",
       "      <td>2019-09-12 12:00:00+00:00</td>\n",
       "      <td>Художественный</td>\n",
       "      <td>ООО \"Кинокомпания \"СТВ\"; ООО \"РФГ Корп\"; ООО \"...</td>\n",
       "      <td>Китай, Россия</td>\n",
       "      <td>О.Степченко</td>\n",
       "      <td>С.Сельянов, А.Петрухин</td>\n",
       "      <td>«12+» - для детей старше 12 лет</td>\n",
       "      <td>180000000</td>\n",
       "      <td>90000000</td>\n",
       "      <td>2305074303</td>\n",
       "      <td>Фонд кино</td>\n",
       "      <td>5.8</td>\n",
       "      <td>приключения, фэнтези</td>\n",
       "      <td>333597060</td>\n",
       "      <td>Таина Печати Дракона</td>\n",
       "      <td>Россия</td>\n",
       "      <td>приключения</td>\n",
       "    </tr>\n",
       "    <tr>\n",
       "      <th>7171</th>\n",
       "      <td>Грех</td>\n",
       "      <td>111014419</td>\n",
       "      <td>2019-08-31 12:00:00+00:00</td>\n",
       "      <td>Художественный</td>\n",
       "      <td>НО Фонд Андрея Кончаловского по поддержке кино...</td>\n",
       "      <td>Италия, Россия</td>\n",
       "      <td>А.Михалков (псевдоним А.Кончаловский)</td>\n",
       "      <td>НО Фонд Андрея Кончаловского по поддержке кино...</td>\n",
       "      <td>«18+» - запрещено для детей</td>\n",
       "      <td>0</td>\n",
       "      <td>60000000</td>\n",
       "      <td>779941965</td>\n",
       "      <td>Министерство культуры</td>\n",
       "      <td>6.9</td>\n",
       "      <td>биография, драма, история</td>\n",
       "      <td>54243203</td>\n",
       "      <td>Грех</td>\n",
       "      <td>Россия</td>\n",
       "      <td>драма</td>\n",
       "    </tr>\n",
       "    <tr>\n",
       "      <th>7464</th>\n",
       "      <td>Союз спасения</td>\n",
       "      <td>111022019</td>\n",
       "      <td>2019-12-26 12:00:00+00:00</td>\n",
       "      <td>Художественный</td>\n",
       "      <td>ЗАО \"Дирекция кино\"</td>\n",
       "      <td>Россия</td>\n",
       "      <td>А.Кравчук</td>\n",
       "      <td>А.Максимов, К.Эрнст</td>\n",
       "      <td>«18+» - запрещено для детей</td>\n",
       "      <td>100000000</td>\n",
       "      <td>400000000</td>\n",
       "      <td>980000000</td>\n",
       "      <td>Фонд кино</td>\n",
       "      <td>6.0</td>\n",
       "      <td>биография, драма, история</td>\n",
       "      <td>717703186</td>\n",
       "      <td>Союз спасения</td>\n",
       "      <td>Россия</td>\n",
       "      <td>история</td>\n",
       "    </tr>\n",
       "    <tr>\n",
       "      <th>7474</th>\n",
       "      <td>Вторжение</td>\n",
       "      <td>111022519</td>\n",
       "      <td>2019-12-23 12:00:00+00:00</td>\n",
       "      <td>Художественный</td>\n",
       "      <td>ООО \"Арт Пикчерс Студия\", ООО \"Водород 2011\"</td>\n",
       "      <td>Россия</td>\n",
       "      <td>Ф.Бондарчук</td>\n",
       "      <td>Ф.Бондарчук, М.Врубель, А.Андрющенко, Д.Рудовский</td>\n",
       "      <td>«16+» - для детей старше 16 лет</td>\n",
       "      <td>100000000</td>\n",
       "      <td>400000000</td>\n",
       "      <td>944000000</td>\n",
       "      <td>Фонд кино</td>\n",
       "      <td>5.7</td>\n",
       "      <td>боевик, фантастика</td>\n",
       "      <td>&lt;NA&gt;</td>\n",
       "      <td>Вторжение</td>\n",
       "      <td>Россия</td>\n",
       "      <td>фантастика</td>\n",
       "    </tr>\n",
       "  </tbody>\n",
       "</table>\n",
       "</div>"
      ],
      "text/plain": [
       "                     title  pu_number           show_start_date  \\\n",
       "5437              Матильда  111005717 2017-08-17 12:00:00+00:00   \n",
       "7114  Тайна Печати Дракона  111012819 2019-09-12 12:00:00+00:00   \n",
       "7171                  Грех  111014419 2019-08-31 12:00:00+00:00   \n",
       "7464         Союз спасения  111022019 2019-12-26 12:00:00+00:00   \n",
       "7474             Вторжение  111022519 2019-12-23 12:00:00+00:00   \n",
       "\n",
       "                type                                        film_studio  \\\n",
       "5437  Художественный                     ООО \"ТПО \"РОК\", ООО \"Матильда\"   \n",
       "7114  Художественный  ООО \"Кинокомпания \"СТВ\"; ООО \"РФГ Корп\"; ООО \"...   \n",
       "7171  Художественный  НО Фонд Андрея Кончаловского по поддержке кино...   \n",
       "7464  Художественный                                ЗАО \"Дирекция кино\"   \n",
       "7474  Художественный       ООО \"Арт Пикчерс Студия\", ООО \"Водород 2011\"   \n",
       "\n",
       "     production_country                               director  \\\n",
       "5437             Россия                              А.Учитель   \n",
       "7114      Китай, Россия                            О.Степченко   \n",
       "7171     Италия, Россия  А.Михалков (псевдоним А.Кончаловский)   \n",
       "7464             Россия                              А.Кравчук   \n",
       "7474             Россия                            Ф.Бондарчук   \n",
       "\n",
       "                                               producer  \\\n",
       "5437                    А.Учитель, А.Достман, В.Винокур   \n",
       "7114                             С.Сельянов, А.Петрухин   \n",
       "7171  НО Фонд Андрея Кончаловского по поддержке кино...   \n",
       "7464                                А.Максимов, К.Эрнст   \n",
       "7474  Ф.Бондарчук, М.Врубель, А.Андрющенко, Д.Рудовский   \n",
       "\n",
       "                      age_restriction  refundable_support  \\\n",
       "5437  «16+» - для детей старше 16 лет           110000000   \n",
       "7114  «12+» - для детей старше 12 лет           180000000   \n",
       "7171      «18+» - запрещено для детей                   0   \n",
       "7464      «18+» - запрещено для детей           100000000   \n",
       "7474  «16+» - для детей старше 16 лет           100000000   \n",
       "\n",
       "      nonrefundable_support      budget       financing_source  ratings  \\\n",
       "5437              190000000  1032905957              Фонд кино      7.7   \n",
       "7114               90000000  2305074303              Фонд кино      5.8   \n",
       "7171               60000000   779941965  Министерство культуры      6.9   \n",
       "7464              400000000   980000000              Фонд кино      6.0   \n",
       "7474              400000000   944000000              Фонд кино      5.7   \n",
       "\n",
       "                          genres  box_office         title_replace  \\\n",
       "5437  комедия, семейный, фэнтези   511775548              Матильда   \n",
       "7114        приключения, фэнтези   333597060  Таина Печати Дракона   \n",
       "7171   биография, драма, история    54243203                  Грех   \n",
       "7464   биография, драма, история   717703186         Союз спасения   \n",
       "7474          боевик, фантастика        <NA>             Вторжение   \n",
       "\n",
       "     production_country_first genres_first  \n",
       "5437                   Россия      фэнтези  \n",
       "7114                   Россия  приключения  \n",
       "7171                   Россия        драма  \n",
       "7464                   Россия      история  \n",
       "7474                   Россия   фантастика  "
      ]
     },
     "execution_count": 66,
     "metadata": {},
     "output_type": "execute_result"
    }
   ],
   "source": [
    "# Проверим самые большие бюджеты\n",
    "data[data['budget']>0.7*10**9]"
   ]
  },
  {
   "cell_type": "markdown",
   "metadata": {},
   "source": [
    "Значения корректны"
   ]
  },
  {
   "cell_type": "code",
   "execution_count": 67,
   "metadata": {},
   "outputs": [
    {
     "data": {
      "text/html": [
       "<div>\n",
       "<style scoped>\n",
       "    .dataframe tbody tr th:only-of-type {\n",
       "        vertical-align: middle;\n",
       "    }\n",
       "\n",
       "    .dataframe tbody tr th {\n",
       "        vertical-align: top;\n",
       "    }\n",
       "\n",
       "    .dataframe thead th {\n",
       "        text-align: right;\n",
       "    }\n",
       "</style>\n",
       "<table border=\"1\" class=\"dataframe\">\n",
       "  <thead>\n",
       "    <tr style=\"text-align: right;\">\n",
       "      <th></th>\n",
       "      <th>title</th>\n",
       "      <th>pu_number</th>\n",
       "      <th>show_start_date</th>\n",
       "      <th>type</th>\n",
       "      <th>film_studio</th>\n",
       "      <th>production_country</th>\n",
       "      <th>director</th>\n",
       "      <th>producer</th>\n",
       "      <th>age_restriction</th>\n",
       "      <th>refundable_support</th>\n",
       "      <th>nonrefundable_support</th>\n",
       "      <th>budget</th>\n",
       "      <th>financing_source</th>\n",
       "      <th>ratings</th>\n",
       "      <th>genres</th>\n",
       "      <th>box_office</th>\n",
       "      <th>title_replace</th>\n",
       "      <th>production_country_first</th>\n",
       "      <th>genres_first</th>\n",
       "    </tr>\n",
       "  </thead>\n",
       "  <tbody>\n",
       "    <tr>\n",
       "      <th>2053</th>\n",
       "      <td>14+</td>\n",
       "      <td>111023614</td>\n",
       "      <td>2014-12-19 12:00:00+00:00</td>\n",
       "      <td>Художественный</td>\n",
       "      <td>ООО Киностудия  \"Сентябрь\"</td>\n",
       "      <td>Россия</td>\n",
       "      <td>А.Зайцев</td>\n",
       "      <td>О.Гранина, А.Зайцев</td>\n",
       "      <td>«16+» - для детей старше 16 лет</td>\n",
       "      <td>0</td>\n",
       "      <td>23000000</td>\n",
       "      <td>0</td>\n",
       "      <td>Министерство культуры, Фонд кино</td>\n",
       "      <td>6.6</td>\n",
       "      <td>мелодрама</td>\n",
       "      <td>10234016</td>\n",
       "      <td>14+</td>\n",
       "      <td>Россия</td>\n",
       "      <td>мелодрама</td>\n",
       "    </tr>\n",
       "    <tr>\n",
       "      <th>2058</th>\n",
       "      <td>Дуxless 2</td>\n",
       "      <td>111000415</td>\n",
       "      <td>2015-01-26 12:00:00+00:00</td>\n",
       "      <td>Художественный</td>\n",
       "      <td>ООО \"Киностудия \"Слово\", ООО \"Арт Пикчерс Студия\"</td>\n",
       "      <td>Россия</td>\n",
       "      <td>Р.Прыгунов</td>\n",
       "      <td>П.Ануров, Ф.Бондарчук, Д.Рудовский</td>\n",
       "      <td>«16+» - для детей старше 16 лет</td>\n",
       "      <td>0</td>\n",
       "      <td>75000000</td>\n",
       "      <td>0</td>\n",
       "      <td>Фонд кино</td>\n",
       "      <td>6.6</td>\n",
       "      <td>драма</td>\n",
       "      <td>446163511</td>\n",
       "      <td>Дуxless 2</td>\n",
       "      <td>Россия</td>\n",
       "      <td>драма</td>\n",
       "    </tr>\n",
       "    <tr>\n",
       "      <th>2472</th>\n",
       "      <td>Воин (2015)</td>\n",
       "      <td>111017315</td>\n",
       "      <td>2015-09-28 12:00:00+00:00</td>\n",
       "      <td>Художественный</td>\n",
       "      <td>ООО \"Форпост Продакшн\", ООО \"Арт Пикчерс Студия\"</td>\n",
       "      <td>Россия</td>\n",
       "      <td>А.Андрианов</td>\n",
       "      <td>ООО \"Арт Пикчерс Студия\"</td>\n",
       "      <td>«16+» - для детей старше 16 лет</td>\n",
       "      <td>10000000</td>\n",
       "      <td>70000000</td>\n",
       "      <td>0</td>\n",
       "      <td>Фонд кино</td>\n",
       "      <td>7.8</td>\n",
       "      <td>боевик, драма, криминал</td>\n",
       "      <td>196572438</td>\n",
       "      <td>Воин</td>\n",
       "      <td>Россия</td>\n",
       "      <td>боевик</td>\n",
       "    </tr>\n",
       "    <tr>\n",
       "      <th>2532</th>\n",
       "      <td>Бармен.</td>\n",
       "      <td>111009615</td>\n",
       "      <td>2015-05-26 12:00:00+00:00</td>\n",
       "      <td>Художественный</td>\n",
       "      <td>АО \"ВайТ Медиа\", ООО \"Арт Пикчерс Студия\"</td>\n",
       "      <td>Россия</td>\n",
       "      <td>Д.Штурманова</td>\n",
       "      <td>Т.Вайнштейн</td>\n",
       "      <td>«6+» - для детей старше 6 лет</td>\n",
       "      <td>20000000</td>\n",
       "      <td>0</td>\n",
       "      <td>0</td>\n",
       "      <td>Фонд кино</td>\n",
       "      <td>6.2</td>\n",
       "      <td>комедия, фэнтези</td>\n",
       "      <td>67418975</td>\n",
       "      <td>Бармен</td>\n",
       "      <td>Россия</td>\n",
       "      <td>комедия</td>\n",
       "    </tr>\n",
       "    <tr>\n",
       "      <th>2615</th>\n",
       "      <td>Савва. Сердце воина</td>\n",
       "      <td>114001715</td>\n",
       "      <td>2015-07-21 12:00:00+00:00</td>\n",
       "      <td>Анимационный</td>\n",
       "      <td>ООО \"Глюкоза Продакшн\", ООО \"Арт Пикчерс Студия\"</td>\n",
       "      <td>Россия</td>\n",
       "      <td>М.Фадеев</td>\n",
       "      <td>А.Чистяков</td>\n",
       "      <td>«16+» - для детей старше 16 лет</td>\n",
       "      <td>60000000</td>\n",
       "      <td>100000000</td>\n",
       "      <td>0</td>\n",
       "      <td>Фонд кино</td>\n",
       "      <td>4.6</td>\n",
       "      <td>мультфильм, приключения, фэнтези</td>\n",
       "      <td>184487551</td>\n",
       "      <td>Савва. Сердце воина</td>\n",
       "      <td>Россия</td>\n",
       "      <td>мультфильм</td>\n",
       "    </tr>\n",
       "    <tr>\n",
       "      <th>2684</th>\n",
       "      <td>Тряпичный союз</td>\n",
       "      <td>111010215</td>\n",
       "      <td>2015-06-08 12:00:00+00:00</td>\n",
       "      <td>Художественный</td>\n",
       "      <td>ООО \"Кинокомпания \"КОКТЕБЕЛЬ\"</td>\n",
       "      <td>Россия</td>\n",
       "      <td>М.Местецкий</td>\n",
       "      <td>Р.Борисевич, А.Кушаев</td>\n",
       "      <td>«12+» - для детей старше 12 лет</td>\n",
       "      <td>0</td>\n",
       "      <td>59000000</td>\n",
       "      <td>0</td>\n",
       "      <td>Фонд кино</td>\n",
       "      <td>6.3</td>\n",
       "      <td>драма, комедия</td>\n",
       "      <td>1957739</td>\n",
       "      <td>Тряпичныи союз</td>\n",
       "      <td>Россия</td>\n",
       "      <td>комедия</td>\n",
       "    </tr>\n",
       "    <tr>\n",
       "      <th>2788</th>\n",
       "      <td>Срочно выйду замуж</td>\n",
       "      <td>111017115</td>\n",
       "      <td>2015-09-30 12:00:00+00:00</td>\n",
       "      <td>Художественный</td>\n",
       "      <td>АО \"ВайТ Медиа\", ООО \"Арт Пикчерс Студия\"</td>\n",
       "      <td>Россия</td>\n",
       "      <td>С Чекалов</td>\n",
       "      <td>Ф.Бондарчук, Т.Вайнштейн, Д.Рудовский</td>\n",
       "      <td>«16+» - для детей старше 16 лет</td>\n",
       "      <td>0</td>\n",
       "      <td>35000000</td>\n",
       "      <td>0</td>\n",
       "      <td>Фонд кино</td>\n",
       "      <td>5.1</td>\n",
       "      <td>комедия, мелодрама</td>\n",
       "      <td>72937783</td>\n",
       "      <td>Срочно выиду замуж</td>\n",
       "      <td>Россия</td>\n",
       "      <td>комедия</td>\n",
       "    </tr>\n",
       "    <tr>\n",
       "      <th>2874</th>\n",
       "      <td>Помню - не помню!</td>\n",
       "      <td>111004916</td>\n",
       "      <td>2016-03-01 12:00:00+00:00</td>\n",
       "      <td>Художественный</td>\n",
       "      <td>ООО \"КиноФирма\"</td>\n",
       "      <td>Россия</td>\n",
       "      <td>В.Ровенский</td>\n",
       "      <td>ООО \"КиноФирма\"</td>\n",
       "      <td>«16+» - для детей старше 16 лет</td>\n",
       "      <td>0</td>\n",
       "      <td>6000000</td>\n",
       "      <td>0</td>\n",
       "      <td>Министерство культуры</td>\n",
       "      <td>4.3</td>\n",
       "      <td>комедия</td>\n",
       "      <td>15362931</td>\n",
       "      <td>Помню - не помню!</td>\n",
       "      <td>Россия</td>\n",
       "      <td>комедия</td>\n",
       "    </tr>\n",
       "    <tr>\n",
       "      <th>3047</th>\n",
       "      <td>Любовь с ограничениями</td>\n",
       "      <td>111008216</td>\n",
       "      <td>2016-04-29 12:00:00+00:00</td>\n",
       "      <td>Художественный</td>\n",
       "      <td>АО \"ВайТ Медиа\", ООО \"Арт Пикчерс Студия\"</td>\n",
       "      <td>Россия</td>\n",
       "      <td>Д.Тюрин</td>\n",
       "      <td>Ф.Бондарчук, Т.Вайнштейн, Д.Рудовский</td>\n",
       "      <td>«16+» - для детей старше 16 лет</td>\n",
       "      <td>19000000</td>\n",
       "      <td>51000000</td>\n",
       "      <td>0</td>\n",
       "      <td>Фонд кино</td>\n",
       "      <td>6.3</td>\n",
       "      <td>комедия, мелодрама</td>\n",
       "      <td>70299052</td>\n",
       "      <td>Любовь с ограничениями</td>\n",
       "      <td>Россия</td>\n",
       "      <td>комедия</td>\n",
       "    </tr>\n",
       "    <tr>\n",
       "      <th>3565</th>\n",
       "      <td>Притяжение (2016)</td>\n",
       "      <td>111018116</td>\n",
       "      <td>2016-12-16 12:00:00+00:00</td>\n",
       "      <td>Художественный</td>\n",
       "      <td>ООО \"Водород 2011\",  ООО \"Арт Пикчерс Студия\"</td>\n",
       "      <td>Россия</td>\n",
       "      <td>Ф.Бондарчук</td>\n",
       "      <td>ООО \"Арт Пикчерс Студия\"</td>\n",
       "      <td>«16+» - для детей старше 16 лет</td>\n",
       "      <td>0</td>\n",
       "      <td>250000000</td>\n",
       "      <td>0</td>\n",
       "      <td>Фонд кино</td>\n",
       "      <td>5.6</td>\n",
       "      <td>фантастика</td>\n",
       "      <td>1038321489</td>\n",
       "      <td>Притяжение</td>\n",
       "      <td>Россия</td>\n",
       "      <td>фантастика</td>\n",
       "    </tr>\n",
       "    <tr>\n",
       "      <th>3675</th>\n",
       "      <td>Чудо-юдо</td>\n",
       "      <td>114001817</td>\n",
       "      <td>2017-06-27 12:00:00+00:00</td>\n",
       "      <td>Анимационный</td>\n",
       "      <td>ООО \"КиноФирма\"</td>\n",
       "      <td>Россия</td>\n",
       "      <td>А.Лукичев</td>\n",
       "      <td>ООО \"КиноФирма\"</td>\n",
       "      <td>«18+» - запрещено для детей</td>\n",
       "      <td>20000000</td>\n",
       "      <td>20000000</td>\n",
       "      <td>0</td>\n",
       "      <td>Фонд кино</td>\n",
       "      <td>5.2</td>\n",
       "      <td>мультфильм, семейный, фэнтези</td>\n",
       "      <td>55108015</td>\n",
       "      <td>Чудо-юдо</td>\n",
       "      <td>Россия</td>\n",
       "      <td>мультфильм</td>\n",
       "    </tr>\n",
       "    <tr>\n",
       "      <th>3739</th>\n",
       "      <td>Мифы</td>\n",
       "      <td>111004317</td>\n",
       "      <td>2017-06-07 12:00:00+00:00</td>\n",
       "      <td>Художественный</td>\n",
       "      <td>ООО \"ХАЙПФИЛМ\", ООО \"Арт Пикчерс Студия\"</td>\n",
       "      <td>Россия</td>\n",
       "      <td>А.Молочников</td>\n",
       "      <td>Ф.Бондарчук, Д.Рудовский, И.Стюарт, М.Османн, ...</td>\n",
       "      <td>«16+» - для детей старше 16 лет</td>\n",
       "      <td>25000000</td>\n",
       "      <td>20000000</td>\n",
       "      <td>0</td>\n",
       "      <td>Фонд кино</td>\n",
       "      <td>4.8</td>\n",
       "      <td>комедия</td>\n",
       "      <td>50451949</td>\n",
       "      <td>Мифы</td>\n",
       "      <td>Россия</td>\n",
       "      <td>комедия</td>\n",
       "    </tr>\n",
       "    <tr>\n",
       "      <th>5673</th>\n",
       "      <td>Селфи</td>\n",
       "      <td>111012117</td>\n",
       "      <td>2018-02-01 12:00:00+00:00</td>\n",
       "      <td>Художественный</td>\n",
       "      <td>ООО \"Киностудия \"Слово\", ООО \"Арт Пикчерс Студия\"</td>\n",
       "      <td>Россия</td>\n",
       "      <td>Н.Хомерики</td>\n",
       "      <td>П.Ануров, Ф.Бондарчук, Д.Рудовский</td>\n",
       "      <td>«16+» - для детей старше 16 лет</td>\n",
       "      <td>20000000</td>\n",
       "      <td>40000000</td>\n",
       "      <td>0</td>\n",
       "      <td>Фонд кино</td>\n",
       "      <td>5.8</td>\n",
       "      <td>драма, триллер</td>\n",
       "      <td>225196400</td>\n",
       "      <td>Селфи</td>\n",
       "      <td>Россия</td>\n",
       "      <td>триллер</td>\n",
       "    </tr>\n",
       "    <tr>\n",
       "      <th>5806</th>\n",
       "      <td>Два хвоста</td>\n",
       "      <td>114001018</td>\n",
       "      <td>2018-05-31 12:00:00+00:00</td>\n",
       "      <td>Анимационный</td>\n",
       "      <td>ООО \"ЛИЦЕНЗИОННЫЕ БРЕНДЫ\"</td>\n",
       "      <td>Россия</td>\n",
       "      <td>В.Ровенский, Н.Лопато, В.Азеев</td>\n",
       "      <td>ООО \"ЛИЦЕНЗИОННЫЕ БРЕНДЫ\"</td>\n",
       "      <td>«16+» - для детей старше 16 лет</td>\n",
       "      <td>10000000</td>\n",
       "      <td>60000000</td>\n",
       "      <td>0</td>\n",
       "      <td>Фонд кино</td>\n",
       "      <td>5.0</td>\n",
       "      <td>детский, мультфильм</td>\n",
       "      <td>106514301</td>\n",
       "      <td>Два хвоста</td>\n",
       "      <td>Россия</td>\n",
       "      <td>мультфильм</td>\n",
       "    </tr>\n",
       "    <tr>\n",
       "      <th>6008</th>\n",
       "      <td>Принцесса и дракон</td>\n",
       "      <td>114003018</td>\n",
       "      <td>2018-08-23 12:00:00+00:00</td>\n",
       "      <td>Анимационный</td>\n",
       "      <td>ООО \"ЛИЦЕНЗИОННЫЕ БРЕНДЫ\"</td>\n",
       "      <td>Россия</td>\n",
       "      <td>М.Нефедова</td>\n",
       "      <td>ООО \"ЛИЦЕНЗИОННЫЕ БРЕНДЫ\"</td>\n",
       "      <td>«16+» - для детей старше 16 лет</td>\n",
       "      <td>40000000</td>\n",
       "      <td>40000000</td>\n",
       "      <td>0</td>\n",
       "      <td>Фонд кино</td>\n",
       "      <td>5.2</td>\n",
       "      <td>детский, мультфильм, фэнтези</td>\n",
       "      <td>83366329</td>\n",
       "      <td>Принцесса и дракон</td>\n",
       "      <td>Россия</td>\n",
       "      <td>мультфильм</td>\n",
       "    </tr>\n",
       "    <tr>\n",
       "      <th>6323</th>\n",
       "      <td>Баба Яга</td>\n",
       "      <td>114006518</td>\n",
       "      <td>2018-11-08 12:00:00+00:00</td>\n",
       "      <td>Анимационный</td>\n",
       "      <td>ООО \"Арт Пикчерс Студия\"</td>\n",
       "      <td>Россия</td>\n",
       "      <td>В.Саков</td>\n",
       "      <td>ООО \"Арт Пикчерс Студия\", ООО \"КРИЭЙТИВ АНИМЭЙ...</td>\n",
       "      <td>«16+» - для детей старше 16 лет</td>\n",
       "      <td>0</td>\n",
       "      <td>138969465</td>\n",
       "      <td>0</td>\n",
       "      <td>Фонд кино</td>\n",
       "      <td>-1.0</td>\n",
       "      <td>no_data</td>\n",
       "      <td>1334699</td>\n",
       "      <td>Баба Яга</td>\n",
       "      <td>Россия</td>\n",
       "      <td>no_data</td>\n",
       "    </tr>\n",
       "    <tr>\n",
       "      <th>6823</th>\n",
       "      <td>Большое путешествие</td>\n",
       "      <td>114002419</td>\n",
       "      <td>2019-04-20 12:00:00+00:00</td>\n",
       "      <td>Анимационный</td>\n",
       "      <td>ООО \"ЛИЦЕНЗИОННЫЕ БРЕНДЫ\"</td>\n",
       "      <td>Россия</td>\n",
       "      <td>Н.Лопато, В.Ровенский</td>\n",
       "      <td>ООО \"ЛИЦЕНЗИОННЫЕ БРЕНДЫ\"</td>\n",
       "      <td>«16+» - для детей старше 16 лет</td>\n",
       "      <td>60000000</td>\n",
       "      <td>120000000</td>\n",
       "      <td>0</td>\n",
       "      <td>Фонд кино</td>\n",
       "      <td>6.2</td>\n",
       "      <td>комедия, мультфильм, приключения</td>\n",
       "      <td>147606827</td>\n",
       "      <td>Большое путешествие</td>\n",
       "      <td>Россия</td>\n",
       "      <td>мультфильм</td>\n",
       "    </tr>\n",
       "  </tbody>\n",
       "</table>\n",
       "</div>"
      ],
      "text/plain": [
       "                       title  pu_number           show_start_date  \\\n",
       "2053                     14+  111023614 2014-12-19 12:00:00+00:00   \n",
       "2058               Дуxless 2  111000415 2015-01-26 12:00:00+00:00   \n",
       "2472             Воин (2015)  111017315 2015-09-28 12:00:00+00:00   \n",
       "2532                 Бармен.  111009615 2015-05-26 12:00:00+00:00   \n",
       "2615     Савва. Сердце воина  114001715 2015-07-21 12:00:00+00:00   \n",
       "2684          Тряпичный союз  111010215 2015-06-08 12:00:00+00:00   \n",
       "2788      Срочно выйду замуж  111017115 2015-09-30 12:00:00+00:00   \n",
       "2874       Помню - не помню!  111004916 2016-03-01 12:00:00+00:00   \n",
       "3047  Любовь с ограничениями  111008216 2016-04-29 12:00:00+00:00   \n",
       "3565       Притяжение (2016)  111018116 2016-12-16 12:00:00+00:00   \n",
       "3675                Чудо-юдо  114001817 2017-06-27 12:00:00+00:00   \n",
       "3739                    Мифы  111004317 2017-06-07 12:00:00+00:00   \n",
       "5673                   Селфи  111012117 2018-02-01 12:00:00+00:00   \n",
       "5806              Два хвоста  114001018 2018-05-31 12:00:00+00:00   \n",
       "6008      Принцесса и дракон  114003018 2018-08-23 12:00:00+00:00   \n",
       "6323                Баба Яга  114006518 2018-11-08 12:00:00+00:00   \n",
       "6823     Большое путешествие  114002419 2019-04-20 12:00:00+00:00   \n",
       "\n",
       "                type                                        film_studio  \\\n",
       "2053  Художественный                         ООО Киностудия  \"Сентябрь\"   \n",
       "2058  Художественный  ООО \"Киностудия \"Слово\", ООО \"Арт Пикчерс Студия\"   \n",
       "2472  Художественный   ООО \"Форпост Продакшн\", ООО \"Арт Пикчерс Студия\"   \n",
       "2532  Художественный          АО \"ВайТ Медиа\", ООО \"Арт Пикчерс Студия\"   \n",
       "2615    Анимационный   ООО \"Глюкоза Продакшн\", ООО \"Арт Пикчерс Студия\"   \n",
       "2684  Художественный                      ООО \"Кинокомпания \"КОКТЕБЕЛЬ\"   \n",
       "2788  Художественный          АО \"ВайТ Медиа\", ООО \"Арт Пикчерс Студия\"   \n",
       "2874  Художественный                                    ООО \"КиноФирма\"   \n",
       "3047  Художественный          АО \"ВайТ Медиа\", ООО \"Арт Пикчерс Студия\"   \n",
       "3565  Художественный      ООО \"Водород 2011\",  ООО \"Арт Пикчерс Студия\"   \n",
       "3675    Анимационный                                    ООО \"КиноФирма\"   \n",
       "3739  Художественный           ООО \"ХАЙПФИЛМ\", ООО \"Арт Пикчерс Студия\"   \n",
       "5673  Художественный  ООО \"Киностудия \"Слово\", ООО \"Арт Пикчерс Студия\"   \n",
       "5806    Анимационный                          ООО \"ЛИЦЕНЗИОННЫЕ БРЕНДЫ\"   \n",
       "6008    Анимационный                          ООО \"ЛИЦЕНЗИОННЫЕ БРЕНДЫ\"   \n",
       "6323    Анимационный                           ООО \"Арт Пикчерс Студия\"   \n",
       "6823    Анимационный                          ООО \"ЛИЦЕНЗИОННЫЕ БРЕНДЫ\"   \n",
       "\n",
       "     production_country                        director  \\\n",
       "2053             Россия                        А.Зайцев   \n",
       "2058             Россия                      Р.Прыгунов   \n",
       "2472             Россия                     А.Андрианов   \n",
       "2532             Россия                    Д.Штурманова   \n",
       "2615             Россия                        М.Фадеев   \n",
       "2684             Россия                     М.Местецкий   \n",
       "2788             Россия                       С Чекалов   \n",
       "2874             Россия                     В.Ровенский   \n",
       "3047             Россия                         Д.Тюрин   \n",
       "3565             Россия                     Ф.Бондарчук   \n",
       "3675             Россия                       А.Лукичев   \n",
       "3739             Россия                    А.Молочников   \n",
       "5673             Россия                      Н.Хомерики   \n",
       "5806             Россия  В.Ровенский, Н.Лопато, В.Азеев   \n",
       "6008             Россия                      М.Нефедова   \n",
       "6323             Россия                         В.Саков   \n",
       "6823             Россия           Н.Лопато, В.Ровенский   \n",
       "\n",
       "                                               producer  \\\n",
       "2053                                О.Гранина, А.Зайцев   \n",
       "2058                 П.Ануров, Ф.Бондарчук, Д.Рудовский   \n",
       "2472                           ООО \"Арт Пикчерс Студия\"   \n",
       "2532                                        Т.Вайнштейн   \n",
       "2615                                         А.Чистяков   \n",
       "2684                              Р.Борисевич, А.Кушаев   \n",
       "2788              Ф.Бондарчук, Т.Вайнштейн, Д.Рудовский   \n",
       "2874                                    ООО \"КиноФирма\"   \n",
       "3047              Ф.Бондарчук, Т.Вайнштейн, Д.Рудовский   \n",
       "3565                           ООО \"Арт Пикчерс Студия\"   \n",
       "3675                                    ООО \"КиноФирма\"   \n",
       "3739  Ф.Бондарчук, Д.Рудовский, И.Стюарт, М.Османн, ...   \n",
       "5673                 П.Ануров, Ф.Бондарчук, Д.Рудовский   \n",
       "5806                          ООО \"ЛИЦЕНЗИОННЫЕ БРЕНДЫ\"   \n",
       "6008                          ООО \"ЛИЦЕНЗИОННЫЕ БРЕНДЫ\"   \n",
       "6323  ООО \"Арт Пикчерс Студия\", ООО \"КРИЭЙТИВ АНИМЭЙ...   \n",
       "6823                          ООО \"ЛИЦЕНЗИОННЫЕ БРЕНДЫ\"   \n",
       "\n",
       "                      age_restriction  refundable_support  \\\n",
       "2053  «16+» - для детей старше 16 лет                   0   \n",
       "2058  «16+» - для детей старше 16 лет                   0   \n",
       "2472  «16+» - для детей старше 16 лет            10000000   \n",
       "2532    «6+» - для детей старше 6 лет            20000000   \n",
       "2615  «16+» - для детей старше 16 лет            60000000   \n",
       "2684  «12+» - для детей старше 12 лет                   0   \n",
       "2788  «16+» - для детей старше 16 лет                   0   \n",
       "2874  «16+» - для детей старше 16 лет                   0   \n",
       "3047  «16+» - для детей старше 16 лет            19000000   \n",
       "3565  «16+» - для детей старше 16 лет                   0   \n",
       "3675      «18+» - запрещено для детей            20000000   \n",
       "3739  «16+» - для детей старше 16 лет            25000000   \n",
       "5673  «16+» - для детей старше 16 лет            20000000   \n",
       "5806  «16+» - для детей старше 16 лет            10000000   \n",
       "6008  «16+» - для детей старше 16 лет            40000000   \n",
       "6323  «16+» - для детей старше 16 лет                   0   \n",
       "6823  «16+» - для детей старше 16 лет            60000000   \n",
       "\n",
       "      nonrefundable_support  budget                  financing_source  \\\n",
       "2053               23000000       0  Министерство культуры, Фонд кино   \n",
       "2058               75000000       0                         Фонд кино   \n",
       "2472               70000000       0                         Фонд кино   \n",
       "2532                      0       0                         Фонд кино   \n",
       "2615              100000000       0                         Фонд кино   \n",
       "2684               59000000       0                         Фонд кино   \n",
       "2788               35000000       0                         Фонд кино   \n",
       "2874                6000000       0             Министерство культуры   \n",
       "3047               51000000       0                         Фонд кино   \n",
       "3565              250000000       0                         Фонд кино   \n",
       "3675               20000000       0                         Фонд кино   \n",
       "3739               20000000       0                         Фонд кино   \n",
       "5673               40000000       0                         Фонд кино   \n",
       "5806               60000000       0                         Фонд кино   \n",
       "6008               40000000       0                         Фонд кино   \n",
       "6323              138969465       0                         Фонд кино   \n",
       "6823              120000000       0                         Фонд кино   \n",
       "\n",
       "      ratings                            genres  box_office  \\\n",
       "2053      6.6                         мелодрама    10234016   \n",
       "2058      6.6                             драма   446163511   \n",
       "2472      7.8           боевик, драма, криминал   196572438   \n",
       "2532      6.2                  комедия, фэнтези    67418975   \n",
       "2615      4.6  мультфильм, приключения, фэнтези   184487551   \n",
       "2684      6.3                    драма, комедия     1957739   \n",
       "2788      5.1                комедия, мелодрама    72937783   \n",
       "2874      4.3                           комедия    15362931   \n",
       "3047      6.3                комедия, мелодрама    70299052   \n",
       "3565      5.6                        фантастика  1038321489   \n",
       "3675      5.2     мультфильм, семейный, фэнтези    55108015   \n",
       "3739      4.8                           комедия    50451949   \n",
       "5673      5.8                    драма, триллер   225196400   \n",
       "5806      5.0               детский, мультфильм   106514301   \n",
       "6008      5.2      детский, мультфильм, фэнтези    83366329   \n",
       "6323     -1.0                           no_data     1334699   \n",
       "6823      6.2  комедия, мультфильм, приключения   147606827   \n",
       "\n",
       "               title_replace production_country_first genres_first  \n",
       "2053                     14+                   Россия    мелодрама  \n",
       "2058               Дуxless 2                   Россия        драма  \n",
       "2472                    Воин                   Россия       боевик  \n",
       "2532                  Бармен                   Россия      комедия  \n",
       "2615     Савва. Сердце воина                   Россия   мультфильм  \n",
       "2684          Тряпичныи союз                   Россия      комедия  \n",
       "2788      Срочно выиду замуж                   Россия      комедия  \n",
       "2874       Помню - не помню!                   Россия      комедия  \n",
       "3047  Любовь с ограничениями                   Россия      комедия  \n",
       "3565              Притяжение                   Россия   фантастика  \n",
       "3675                Чудо-юдо                   Россия   мультфильм  \n",
       "3739                    Мифы                   Россия      комедия  \n",
       "5673                   Селфи                   Россия      триллер  \n",
       "5806              Два хвоста                   Россия   мультфильм  \n",
       "6008      Принцесса и дракон                   Россия   мультфильм  \n",
       "6323                Баба Яга                   Россия      no_data  \n",
       "6823     Большое путешествие                   Россия   мультфильм  "
      ]
     },
     "execution_count": 67,
     "metadata": {},
     "output_type": "execute_result"
    }
   ],
   "source": [
    "# Проверим бюджеты = 0\n",
    "data[data['budget']==0]"
   ]
  },
  {
   "cell_type": "markdown",
   "metadata": {},
   "source": [
    "Фильмов с указанием бюджета 0 руб - 17 штук. При это у них указаны данные по распределению возвратные/невозвратные средства. Произошло ошибка при заполнение базы данных. <br>\n",
    "Проверим сколько значений где бюджет меньше суммы распред. средств."
   ]
  },
  {
   "cell_type": "code",
   "execution_count": 68,
   "metadata": {},
   "outputs": [
    {
     "data": {
      "text/plain": [
       "17"
      ]
     },
     "execution_count": 68,
     "metadata": {},
     "output_type": "execute_result"
    }
   ],
   "source": [
    "# Выведем кол-во где бюджет меньше суммы распред. средств\n",
    "data[data['budget'] < (data['refundable_support']+data['nonrefundable_support'])]['title'].count()"
   ]
  },
  {
   "cell_type": "markdown",
   "metadata": {},
   "source": [
    "Таких значений тоже 17 шт. Значит произошла ошибка при заполнении данных бюджета и были внесены 0. Восстановить корректно данные нет возможности. **Удалим эти значения**, чтобы они не оказывали влияния на выборку среди фильмов с бюджетным финансированием."
   ]
  },
  {
   "cell_type": "code",
   "execution_count": 69,
   "metadata": {},
   "outputs": [],
   "source": [
    "# Удаляем строки где бюджет 0\n",
    "data = data.drop((data[data['budget']==0]).index)"
   ]
  },
  {
   "cell_type": "markdown",
   "metadata": {},
   "source": [
    "##### Столбец 'ratings'"
   ]
  },
  {
   "cell_type": "code",
   "execution_count": 70,
   "metadata": {},
   "outputs": [
    {
     "data": {
      "text/plain": [
       "count    6763.000000\n",
       "mean        5.410173\n",
       "std         2.802974\n",
       "min        -1.000000\n",
       "25%         5.200000\n",
       "50%         6.400000\n",
       "75%         7.100000\n",
       "max         9.900000\n",
       "Name: ratings, dtype: float64"
      ]
     },
     "execution_count": 70,
     "metadata": {},
     "output_type": "execute_result"
    }
   ],
   "source": [
    "data['ratings'].describe()"
   ]
  },
  {
   "cell_type": "markdown",
   "metadata": {},
   "source": [
    "Данные рейтингов релевантные. Значение -1 указано для фильмов, где рейтинг неизвестен."
   ]
  },
  {
   "cell_type": "markdown",
   "metadata": {},
   "source": [
    "##### Столбец 'box_office'"
   ]
  },
  {
   "cell_type": "code",
   "execution_count": 71,
   "metadata": {
    "scrolled": true
   },
   "outputs": [
    {
     "data": {
      "text/plain": [
       "count    3.116000e+03\n",
       "mean     7.661497e+07\n",
       "std      2.411249e+08\n",
       "min      0.000000e+00\n",
       "25%      9.489975e+04\n",
       "50%      2.342972e+06\n",
       "75%      2.376798e+07\n",
       "max      3.073569e+09\n",
       "Name: box_office, dtype: float64"
      ]
     },
     "execution_count": 71,
     "metadata": {},
     "output_type": "execute_result"
    }
   ],
   "source": [
    "data['box_office'].describe()"
   ]
  },
  {
   "cell_type": "code",
   "execution_count": 72,
   "metadata": {},
   "outputs": [
    {
     "data": {
      "image/png": "[encoded data removed]",
      "text/plain": [
       "<Figure size 432x288 with 1 Axes>"
      ]
     },
     "metadata": {
      "needs_background": "light"
     },
     "output_type": "display_data"
    }
   ],
   "source": [
    "# Построение гистограммы для кас сборов\n",
    "fig, ax = plt.subplots()\n",
    "data['box_office'].plot(kind='hist', title='Распределение по сборам', \n",
    "                   bins=100, grid=True);\n",
    "ax.set_ylabel('Количество');\n",
    "ax.set_xlabel('сборы');"
   ]
  },
  {
   "cell_type": "code",
   "execution_count": 73,
   "metadata": {},
   "outputs": [
    {
     "data": {
      "image/png": "[encoded data removed]",
      "text/plain": [
       "<Figure size 432x288 with 1 Axes>"
      ]
     },
     "metadata": {
      "needs_background": "light"
     },
     "output_type": "display_data"
    }
   ],
   "source": [
    "# Построение гистограммы для кас сборам\n",
    "fig, ax = plt.subplots()\n",
    "data['box_office'].plot(kind='hist', title='Распределение по сборам', \n",
    "                   bins=1000, xlim=(0, (0.01*10**9)), grid=True);\n",
    "ax.set_ylabel('Количество');\n",
    "ax.set_xlabel('сборы');"
   ]
  },
  {
   "cell_type": "code",
   "execution_count": 74,
   "metadata": {},
   "outputs": [],
   "source": [
    "# Заменим значения 0 значениями -1 (чтобы сразу определять, что такие данные надо исключать)\n",
    "data[data['box_office']==0]['title'].count()\n",
    "data.loc[data['box_office']==0, 'box_office' ] = -1"
   ]
  },
  {
   "cell_type": "code",
   "execution_count": 75,
   "metadata": {},
   "outputs": [
    {
     "data": {
      "text/html": [
       "<div>\n",
       "<style scoped>\n",
       "    .dataframe tbody tr th:only-of-type {\n",
       "        vertical-align: middle;\n",
       "    }\n",
       "\n",
       "    .dataframe tbody tr th {\n",
       "        vertical-align: top;\n",
       "    }\n",
       "\n",
       "    .dataframe thead th {\n",
       "        text-align: right;\n",
       "    }\n",
       "</style>\n",
       "<table border=\"1\" class=\"dataframe\">\n",
       "  <thead>\n",
       "    <tr style=\"text-align: right;\">\n",
       "      <th></th>\n",
       "      <th>title</th>\n",
       "      <th>pu_number</th>\n",
       "      <th>show_start_date</th>\n",
       "      <th>type</th>\n",
       "      <th>film_studio</th>\n",
       "      <th>production_country</th>\n",
       "      <th>director</th>\n",
       "      <th>producer</th>\n",
       "      <th>age_restriction</th>\n",
       "      <th>refundable_support</th>\n",
       "      <th>nonrefundable_support</th>\n",
       "      <th>budget</th>\n",
       "      <th>financing_source</th>\n",
       "      <th>ratings</th>\n",
       "      <th>genres</th>\n",
       "      <th>box_office</th>\n",
       "      <th>title_replace</th>\n",
       "      <th>production_country_first</th>\n",
       "      <th>genres_first</th>\n",
       "    </tr>\n",
       "  </thead>\n",
       "  <tbody>\n",
       "    <tr>\n",
       "      <th>6</th>\n",
       "      <td>Любовь и голуби</td>\n",
       "      <td>111007013</td>\n",
       "      <td>2013-10-18 12:00:00+00:00</td>\n",
       "      <td>Художественный</td>\n",
       "      <td>Киностудия \"Мосфильм\"</td>\n",
       "      <td>СССР</td>\n",
       "      <td>В.Меньшов</td>\n",
       "      <td>no_data</td>\n",
       "      <td>«12+» - для детей старше 12 лет</td>\n",
       "      <td>0</td>\n",
       "      <td>0</td>\n",
       "      <td>&lt;NA&gt;</td>\n",
       "      <td>ЧИИФ</td>\n",
       "      <td>8.3</td>\n",
       "      <td>комедия, мелодрама</td>\n",
       "      <td>2700</td>\n",
       "      <td>Любовь и голуби</td>\n",
       "      <td>СССР</td>\n",
       "      <td>мелодрама</td>\n",
       "    </tr>\n",
       "    <tr>\n",
       "      <th>18</th>\n",
       "      <td>Неподдающиеся</td>\n",
       "      <td>111003616</td>\n",
       "      <td>2016-02-12 12:00:00+00:00</td>\n",
       "      <td>Художественный</td>\n",
       "      <td>Киностудия \"Мосфильм\"</td>\n",
       "      <td>СССР</td>\n",
       "      <td>Ю.Чулюкин</td>\n",
       "      <td>no_data</td>\n",
       "      <td>«0+» - для любой зрительской аудитории</td>\n",
       "      <td>0</td>\n",
       "      <td>0</td>\n",
       "      <td>&lt;NA&gt;</td>\n",
       "      <td>ЧИИФ</td>\n",
       "      <td>8.0</td>\n",
       "      <td>комедия, мелодрама</td>\n",
       "      <td>360</td>\n",
       "      <td>Неподдающиеся</td>\n",
       "      <td>СССР</td>\n",
       "      <td>мелодрама</td>\n",
       "    </tr>\n",
       "    <tr>\n",
       "      <th>19</th>\n",
       "      <td>Неподсуден</td>\n",
       "      <td>111003716</td>\n",
       "      <td>2016-02-12 12:00:00+00:00</td>\n",
       "      <td>Художественный</td>\n",
       "      <td>Киностудия \"Мосфильм\"</td>\n",
       "      <td>СССР</td>\n",
       "      <td>В.Краснопольский, В.Усков</td>\n",
       "      <td>no_data</td>\n",
       "      <td>«16+» - для детей старше 16 лет</td>\n",
       "      <td>0</td>\n",
       "      <td>0</td>\n",
       "      <td>&lt;NA&gt;</td>\n",
       "      <td>ЧИИФ</td>\n",
       "      <td>7.7</td>\n",
       "      <td>драма</td>\n",
       "      <td>420</td>\n",
       "      <td>Неподсуден</td>\n",
       "      <td>СССР</td>\n",
       "      <td>драма</td>\n",
       "    </tr>\n",
       "    <tr>\n",
       "      <th>22</th>\n",
       "      <td>Операция \"Ы\" и другие приключения Шурика</td>\n",
       "      <td>111007413</td>\n",
       "      <td>2013-10-18 12:00:00+00:00</td>\n",
       "      <td>Художественный</td>\n",
       "      <td>Киностудия \"Мосфильм\"</td>\n",
       "      <td>СССР</td>\n",
       "      <td>Л.Гайдай</td>\n",
       "      <td>no_data</td>\n",
       "      <td>«0+» - для любой зрительской аудитории</td>\n",
       "      <td>0</td>\n",
       "      <td>0</td>\n",
       "      <td>&lt;NA&gt;</td>\n",
       "      <td>ЧИИФ</td>\n",
       "      <td>8.7</td>\n",
       "      <td>комедия, криминал, мелодрама</td>\n",
       "      <td>380</td>\n",
       "      <td>Операция \"Ы\" и другие приключения Шурика</td>\n",
       "      <td>СССР</td>\n",
       "      <td>комедия</td>\n",
       "    </tr>\n",
       "    <tr>\n",
       "      <th>38</th>\n",
       "      <td>Мужики!..</td>\n",
       "      <td>111007213</td>\n",
       "      <td>2013-10-18 12:00:00+00:00</td>\n",
       "      <td>Художественный</td>\n",
       "      <td>Киностудия \"Мосфильм\"</td>\n",
       "      <td>СССР</td>\n",
       "      <td>И.Бабич</td>\n",
       "      <td>no_data</td>\n",
       "      <td>«16+» - для детей старше 16 лет</td>\n",
       "      <td>0</td>\n",
       "      <td>0</td>\n",
       "      <td>&lt;NA&gt;</td>\n",
       "      <td>ЧИИФ</td>\n",
       "      <td>8.1</td>\n",
       "      <td>драма</td>\n",
       "      <td>1165</td>\n",
       "      <td>Мужики!.</td>\n",
       "      <td>СССР</td>\n",
       "      <td>драма</td>\n",
       "    </tr>\n",
       "    <tr>\n",
       "      <th>...</th>\n",
       "      <td>...</td>\n",
       "      <td>...</td>\n",
       "      <td>...</td>\n",
       "      <td>...</td>\n",
       "      <td>...</td>\n",
       "      <td>...</td>\n",
       "      <td>...</td>\n",
       "      <td>...</td>\n",
       "      <td>...</td>\n",
       "      <td>...</td>\n",
       "      <td>...</td>\n",
       "      <td>...</td>\n",
       "      <td>...</td>\n",
       "      <td>...</td>\n",
       "      <td>...</td>\n",
       "      <td>...</td>\n",
       "      <td>...</td>\n",
       "      <td>...</td>\n",
       "      <td>...</td>\n",
       "    </tr>\n",
       "    <tr>\n",
       "      <th>5374</th>\n",
       "      <td>Необычайные приключения мистера Веста в Стране...</td>\n",
       "      <td>211050311</td>\n",
       "      <td>2011-12-29 12:00:00+00:00</td>\n",
       "      <td>Художественный</td>\n",
       "      <td>Госкино</td>\n",
       "      <td>СССР</td>\n",
       "      <td>Л.Кулишов</td>\n",
       "      <td>no_data</td>\n",
       "      <td>«16+» - для детей старше 16 лет</td>\n",
       "      <td>0</td>\n",
       "      <td>0</td>\n",
       "      <td>&lt;NA&gt;</td>\n",
       "      <td>ЧИИФ</td>\n",
       "      <td>6.9</td>\n",
       "      <td>комедия</td>\n",
       "      <td>6340</td>\n",
       "      <td>Необычаиные приключения мистера Веста в Стране...</td>\n",
       "      <td>СССР</td>\n",
       "      <td>комедия</td>\n",
       "    </tr>\n",
       "    <tr>\n",
       "      <th>5380</th>\n",
       "      <td>ШПИОН</td>\n",
       "      <td>111009411</td>\n",
       "      <td>2011-12-09 12:00:00+00:00</td>\n",
       "      <td>Художественный</td>\n",
       "      <td>ООО \"Студия \"ТРИТЭ\" Никиты Михалкова</td>\n",
       "      <td>Россия</td>\n",
       "      <td>А.Андрианов</td>\n",
       "      <td>С.Шумаков, Л.Верещагин</td>\n",
       "      <td>«18+» - запрещено для детей</td>\n",
       "      <td>0</td>\n",
       "      <td>0</td>\n",
       "      <td>&lt;NA&gt;</td>\n",
       "      <td>ЧИИФ</td>\n",
       "      <td>7.1</td>\n",
       "      <td>боевик, комедия, криминал</td>\n",
       "      <td>5405</td>\n",
       "      <td>ШПИОН</td>\n",
       "      <td>Россия</td>\n",
       "      <td>боевик</td>\n",
       "    </tr>\n",
       "    <tr>\n",
       "      <th>5388</th>\n",
       "      <td>ВОИН.com</td>\n",
       "      <td>111004411</td>\n",
       "      <td>2011-07-04 12:00:00+00:00</td>\n",
       "      <td>Художественный</td>\n",
       "      <td>ООО \"Культурные инициативы\"</td>\n",
       "      <td>Россия</td>\n",
       "      <td>Е.Бычкова</td>\n",
       "      <td>В.Малышев, А.Малышев</td>\n",
       "      <td>«12+» - для детей старше 12 лет</td>\n",
       "      <td>0</td>\n",
       "      <td>0</td>\n",
       "      <td>&lt;NA&gt;</td>\n",
       "      <td>ЧИИФ</td>\n",
       "      <td>4.7</td>\n",
       "      <td>комедия</td>\n",
       "      <td>465</td>\n",
       "      <td>ВОИН.com</td>\n",
       "      <td>Россия</td>\n",
       "      <td>комедия</td>\n",
       "    </tr>\n",
       "    <tr>\n",
       "      <th>6581</th>\n",
       "      <td>Время собирать цветы</td>\n",
       "      <td>112025118</td>\n",
       "      <td>2019-01-01 12:00:00+00:00</td>\n",
       "      <td>Документальный</td>\n",
       "      <td>ООО \"Краеведофф\"</td>\n",
       "      <td>Россия</td>\n",
       "      <td>Г.Щерба</td>\n",
       "      <td>О.Ракшин</td>\n",
       "      <td>«6+» - для детей старше 6 лет</td>\n",
       "      <td>0</td>\n",
       "      <td>0</td>\n",
       "      <td>&lt;NA&gt;</td>\n",
       "      <td>ЧИИФ</td>\n",
       "      <td>-1.0</td>\n",
       "      <td>no_data</td>\n",
       "      <td>7175</td>\n",
       "      <td>Время собирать цветы</td>\n",
       "      <td>Россия</td>\n",
       "      <td>no_data</td>\n",
       "    </tr>\n",
       "    <tr>\n",
       "      <th>6804</th>\n",
       "      <td>Счастье - это...Часть 2</td>\n",
       "      <td>111005319</td>\n",
       "      <td>2019-03-20 12:00:00+00:00</td>\n",
       "      <td>Художественный</td>\n",
       "      <td>ООО \"Компания Парк Синема\", ООО \"ФильмФест\"</td>\n",
       "      <td>Россия</td>\n",
       "      <td>А.Боровикова, Е.Войтович, З.Джиджилава, А.Тимо...</td>\n",
       "      <td>ООО \"Уолт Дисней Компани СНГ\"</td>\n",
       "      <td>«12+» - для детей старше 12 лет</td>\n",
       "      <td>0</td>\n",
       "      <td>0</td>\n",
       "      <td>&lt;NA&gt;</td>\n",
       "      <td>ЧИИФ</td>\n",
       "      <td>6.0</td>\n",
       "      <td>мелодрама, семейный</td>\n",
       "      <td>4398</td>\n",
       "      <td>Счастье - это...Часть 2</td>\n",
       "      <td>Россия</td>\n",
       "      <td>семейный</td>\n",
       "    </tr>\n",
       "  </tbody>\n",
       "</table>\n",
       "<p>521 rows × 19 columns</p>\n",
       "</div>"
      ],
      "text/plain": [
       "                                                  title  pu_number  \\\n",
       "6                                       Любовь и голуби  111007013   \n",
       "18                                        Неподдающиеся  111003616   \n",
       "19                                           Неподсуден  111003716   \n",
       "22             Операция \"Ы\" и другие приключения Шурика  111007413   \n",
       "38                                            Мужики!..  111007213   \n",
       "...                                                 ...        ...   \n",
       "5374  Необычайные приключения мистера Веста в Стране...  211050311   \n",
       "5380                                              ШПИОН  111009411   \n",
       "5388                                           ВОИН.com  111004411   \n",
       "6581                               Время собирать цветы  112025118   \n",
       "6804                            Счастье - это...Часть 2  111005319   \n",
       "\n",
       "               show_start_date            type  \\\n",
       "6    2013-10-18 12:00:00+00:00  Художественный   \n",
       "18   2016-02-12 12:00:00+00:00  Художественный   \n",
       "19   2016-02-12 12:00:00+00:00  Художественный   \n",
       "22   2013-10-18 12:00:00+00:00  Художественный   \n",
       "38   2013-10-18 12:00:00+00:00  Художественный   \n",
       "...                        ...             ...   \n",
       "5374 2011-12-29 12:00:00+00:00  Художественный   \n",
       "5380 2011-12-09 12:00:00+00:00  Художественный   \n",
       "5388 2011-07-04 12:00:00+00:00  Художественный   \n",
       "6581 2019-01-01 12:00:00+00:00  Документальный   \n",
       "6804 2019-03-20 12:00:00+00:00  Художественный   \n",
       "\n",
       "                                      film_studio production_country  \\\n",
       "6                           Киностудия \"Мосфильм\"               СССР   \n",
       "18                          Киностудия \"Мосфильм\"               СССР   \n",
       "19                          Киностудия \"Мосфильм\"               СССР   \n",
       "22                          Киностудия \"Мосфильм\"               СССР   \n",
       "38                          Киностудия \"Мосфильм\"               СССР   \n",
       "...                                           ...                ...   \n",
       "5374                                      Госкино               СССР   \n",
       "5380         ООО \"Студия \"ТРИТЭ\" Никиты Михалкова             Россия   \n",
       "5388                  ООО \"Культурные инициативы\"             Россия   \n",
       "6581                             ООО \"Краеведофф\"             Россия   \n",
       "6804  ООО \"Компания Парк Синема\", ООО \"ФильмФест\"             Россия   \n",
       "\n",
       "                                               director  \\\n",
       "6                                             В.Меньшов   \n",
       "18                                            Ю.Чулюкин   \n",
       "19                            В.Краснопольский, В.Усков   \n",
       "22                                             Л.Гайдай   \n",
       "38                                              И.Бабич   \n",
       "...                                                 ...   \n",
       "5374                                          Л.Кулишов   \n",
       "5380                                        А.Андрианов   \n",
       "5388                                          Е.Бычкова   \n",
       "6581                                            Г.Щерба   \n",
       "6804  А.Боровикова, Е.Войтович, З.Джиджилава, А.Тимо...   \n",
       "\n",
       "                           producer                         age_restriction  \\\n",
       "6                           no_data         «12+» - для детей старше 12 лет   \n",
       "18                          no_data  «0+» - для любой зрительской аудитории   \n",
       "19                          no_data         «16+» - для детей старше 16 лет   \n",
       "22                          no_data  «0+» - для любой зрительской аудитории   \n",
       "38                          no_data         «16+» - для детей старше 16 лет   \n",
       "...                             ...                                     ...   \n",
       "5374                        no_data         «16+» - для детей старше 16 лет   \n",
       "5380         С.Шумаков, Л.Верещагин             «18+» - запрещено для детей   \n",
       "5388           В.Малышев, А.Малышев         «12+» - для детей старше 12 лет   \n",
       "6581                       О.Ракшин           «6+» - для детей старше 6 лет   \n",
       "6804  ООО \"Уолт Дисней Компани СНГ\"         «12+» - для детей старше 12 лет   \n",
       "\n",
       "      refundable_support  nonrefundable_support  budget financing_source  \\\n",
       "6                      0                      0    <NA>             ЧИИФ   \n",
       "18                     0                      0    <NA>             ЧИИФ   \n",
       "19                     0                      0    <NA>             ЧИИФ   \n",
       "22                     0                      0    <NA>             ЧИИФ   \n",
       "38                     0                      0    <NA>             ЧИИФ   \n",
       "...                  ...                    ...     ...              ...   \n",
       "5374                   0                      0    <NA>             ЧИИФ   \n",
       "5380                   0                      0    <NA>             ЧИИФ   \n",
       "5388                   0                      0    <NA>             ЧИИФ   \n",
       "6581                   0                      0    <NA>             ЧИИФ   \n",
       "6804                   0                      0    <NA>             ЧИИФ   \n",
       "\n",
       "      ratings                        genres  box_office  \\\n",
       "6         8.3            комедия, мелодрама        2700   \n",
       "18        8.0            комедия, мелодрама         360   \n",
       "19        7.7                         драма         420   \n",
       "22        8.7  комедия, криминал, мелодрама         380   \n",
       "38        8.1                         драма        1165   \n",
       "...       ...                           ...         ...   \n",
       "5374      6.9                       комедия        6340   \n",
       "5380      7.1     боевик, комедия, криминал        5405   \n",
       "5388      4.7                       комедия         465   \n",
       "6581     -1.0                       no_data        7175   \n",
       "6804      6.0           мелодрама, семейный        4398   \n",
       "\n",
       "                                          title_replace  \\\n",
       "6                                       Любовь и голуби   \n",
       "18                                        Неподдающиеся   \n",
       "19                                           Неподсуден   \n",
       "22             Операция \"Ы\" и другие приключения Шурика   \n",
       "38                                             Мужики!.   \n",
       "...                                                 ...   \n",
       "5374  Необычаиные приключения мистера Веста в Стране...   \n",
       "5380                                              ШПИОН   \n",
       "5388                                           ВОИН.com   \n",
       "6581                               Время собирать цветы   \n",
       "6804                            Счастье - это...Часть 2   \n",
       "\n",
       "     production_country_first genres_first  \n",
       "6                        СССР    мелодрама  \n",
       "18                       СССР    мелодрама  \n",
       "19                       СССР        драма  \n",
       "22                       СССР      комедия  \n",
       "38                       СССР        драма  \n",
       "...                       ...          ...  \n",
       "5374                     СССР      комедия  \n",
       "5380                   Россия       боевик  \n",
       "5388                   Россия      комедия  \n",
       "6581                   Россия      no_data  \n",
       "6804                   Россия     семейный  \n",
       "\n",
       "[521 rows x 19 columns]"
      ]
     },
     "execution_count": 75,
     "metadata": {},
     "output_type": "execute_result"
    }
   ],
   "source": [
    "data[data['box_office']<(1*10**4)] # меньше 10 т.руб"
   ]
  },
  {
   "cell_type": "markdown",
   "metadata": {},
   "source": [
    "Фильмов с кассовыми сборами меньше 10 т.руб 521 шт, что нереалистично много. Большинство из этих фильмов вышли в прокат в ранние годы по предоставленному датасету. <br>\n",
    "Часть данных по сборам может объяснятся тем, что это были не коммерческие фильмы и у них нет сборов."
   ]
  },
  {
   "cell_type": "markdown",
   "metadata": {},
   "source": [
    "**Для проверки данных по кассовым сборам необходимо произвести полную валидацию данных.** <br> Данная работа выходит за рамки ТЗ и для ее выполнения требуется дополнительно время и финансирование."
   ]
  },
  {
   "cell_type": "markdown",
   "metadata": {},
   "source": [
    "Для понимания объемов проблемы. Технически проверка осуществлялась на 'сырых' данных, чтобы исключить влияние предобработки, методом .str.startswith() по названию. МК - Министерство Культуры, КП - КиноПоиск (указаны данные для России+СНГ), в (хххх) указан индекс строки.\n",
    "Обнаруженные (ручным способом) 'сомнительные' данные:\n",
    "* Многих фильмов нет. Особенно скажется отсутствие блокбастеров с большими кассовыми сборами.\n",
    "* В 2012 году фильм со сборами свыше 1 млн всего 1 шт (Мстители (664) по минкульту сборы 2,3 млн руб, по КиноПоиску 1 млрд 277 млн руб (это основной фильм по году, несовпадение в 555 раз!)). По КП за 2012 год 5 фильмов со сбором более млн руб в РФ\n",
    "* Кунг-фу Панда 2 (5037) (5225) (5389), 2011 год, суммарные сборы по МК чуть больше 100 т.руб, по КП чуть меньше 900 млн руб (разница примерно в 9000 раз).\n",
    "* Голодные игры (479) 2012 год, сборы по данным МК 760 руб, по КП 13405279 дол.США\n",
    "* Горько! (1552) 2013 год, сборы МК 10 т.руб, по КП 25 млн $ + неправильно указан режиссер\n",
    "* О чем молчат французы (3655) 2016 год, с бюджетным финансированием, очень низкие сборы (меньше 100 т.руб), открытых данных не нашел\n",
    "* Третий лишний (1064 и 1065), 06.07.2012 - сборы 180, 11.12.2012 - нет данных по сборам. По kinometro.ru  551 245 313 (только РФ). Исключить из учета подобные фильмы окажет сильное влияние на итоговые данные.\n",
    "* Аквамен (6501) 2018 год, сборы 1278 млн, по КП меньше 991 млн.\n",
    "\n",
    "По ручной выборке видно, что качество данных для ранних годов датасета намного хуже, чем в поздние года. Но и в поздние года встречаются серьезные рассхождения, которые надо проверять."
   ]
  },
  {
   "cell_type": "markdown",
   "metadata": {},
   "source": [
    "**В данной работе будем полагатся только на предоставленные данные.**"
   ]
  },
  {
   "cell_type": "markdown",
   "metadata": {},
   "source": [
    "##### Дополнительно по дате."
   ]
  },
  {
   "cell_type": "markdown",
   "metadata": {},
   "source": [
    "На примере фильма \"Кунг-фу Панда 2\" (индексы [5037], [5225], [5389], по сырым данным). <br>\n",
    "Сравнение строк показало, что между [5389] и [5037] разница только в номере удостоверения и «дате премьеры», а между [5389] и [5225], кроме № удостоверения и «даты премьеры», еще продюсер. \n",
    "Получается в столбце 'show_start_date' указана не общая дата премьеры, а дата премьеры под этим удостоверением или дата выдачи удостоверения. Самая ранняя дата указана в [5225] 28.04.2011. Даты в других оставшихся отличаются на один день, спишем это на ошибку оформления в ходе которой выдали разные прокатные удостоверения. А между первым и вторым прок. удост., наверное, была исправлена ошибка в указании продюсеров. Новые номера могут выдавятся для исправления ошибок или по ошибке. \n",
    "Из открытых источников узнаем, что этот фильм вышел в премьеру 22.05.2011 в мире и 26.05.2011 в России (данные брались из КиноПоиска и подтверждаются другими источниками). Т.к. дата премьеры в мире позже 'show_start_date', то можно сделать вывод что **указана дата выдачи прокатного удостоверения, а не премьеры как указано в ТЗ.**"
   ]
  },
  {
   "cell_type": "markdown",
   "metadata": {},
   "source": [
    "Для анализа не хватает данных по году выхода фильма, а не даты прокатного удостоверения. По возможности дополнить данные."
   ]
  },
  {
   "cell_type": "markdown",
   "metadata": {},
   "source": [
    "##### Дополнительно проверка на дубликаты"
   ]
  },
  {
   "cell_type": "code",
   "execution_count": 76,
   "metadata": {},
   "outputs": [
    {
     "data": {
      "text/plain": [
       "19"
      ]
     },
     "execution_count": 76,
     "metadata": {},
     "output_type": "execute_result"
    }
   ],
   "source": [
    "# Выводим кол-во дубликатов\n",
    "data[(\n",
    "    (data.duplicated((('title_replace', 'type', 'director')), keep='first')\n",
    "                  ))]['title_replace'].count()"
   ]
  },
  {
   "cell_type": "markdown",
   "metadata": {},
   "source": [
    "19 дубликатов после обработки столбцов. Было 11 шт. Добавилось дополнительно 8 дубликатов. Это не критично, но все равно удалим"
   ]
  },
  {
   "cell_type": "code",
   "execution_count": 77,
   "metadata": {},
   "outputs": [],
   "source": [
    "# Удаляем по индексам где пустые значения сборов\n",
    "data = data.drop(data[(\n",
    "    (data.duplicated((('title_replace', 'type', 'director')), keep='first')\n",
    "                   & (data['box_office'].isna()))\n",
    "    )].index)"
   ]
  },
  {
   "cell_type": "code",
   "execution_count": 78,
   "metadata": {},
   "outputs": [
    {
     "data": {
      "text/plain": [
       "11"
      ]
     },
     "execution_count": 78,
     "metadata": {},
     "output_type": "execute_result"
    }
   ],
   "source": [
    "# Выводим кол-во дубликатов\n",
    "data[(\n",
    "    (data.duplicated((('title_replace', 'type', 'director')), keep='first')\n",
    "                  ))]['title_replace'].count()"
   ]
  },
  {
   "cell_type": "markdown",
   "metadata": {},
   "source": [
    "Осталось 11 дубликатов с указанием кассового сбора на основном показе и повторном. "
   ]
  },
  {
   "cell_type": "markdown",
   "metadata": {
    "id": "Eu6oWp2CgFyS"
   },
   "source": [
    "#### Шаг 2.6. Добавляем необходимые столбцы"
   ]
  },
  {
   "cell_type": "code",
   "execution_count": 79,
   "metadata": {
    "id": "LSbRZKbMgFyU"
   },
   "outputs": [],
   "source": [
    "# Добавляем год проката\n",
    "data['year_show'] = data['show_start_date'].dt.year"
   ]
  },
  {
   "cell_type": "code",
   "execution_count": 80,
   "metadata": {},
   "outputs": [],
   "source": [
    "# Создаем столбец с первым режиссером (считаем основной)\n",
    "# Используем регулярные выражение re.split(r'[-,]', x) - разделить строку x по '-' или ','\n",
    "data['director_first'] = data['director'].transform(lambda x: \n",
    "                                     re.split(r'[-,]', x)[0].strip()\n",
    "                                                  )"
   ]
  },
  {
   "cell_type": "markdown",
   "metadata": {},
   "source": [
    "Столбец [основного жанра](#Столбец-'genres') добавлен ранее, до обработки данных."
   ]
  },
  {
   "cell_type": "code",
   "execution_count": 81,
   "metadata": {},
   "outputs": [],
   "source": [
    "# Добавляем столбец с долей, в %, гос поддержки от общего бюджета\n",
    "data['part_gov_support'] = (\n",
    "    (data['refundable_support']+data['nonrefundable_support']) / data['budget'] *100\n",
    "                        ).transform(lambda x: round(x,2) if pd.notna(x) else x)"
   ]
  },
  {
   "cell_type": "markdown",
   "metadata": {
    "id": "6t4EukPLgFyV"
   },
   "source": [
    "### Шаг 3. Проведем исследовательский анализ данных\n"
   ]
  },
  {
   "cell_type": "markdown",
   "metadata": {},
   "source": [
    "#### Шаг 3.1. Анализ количества фильмов в прокате по годам"
   ]
  },
  {
   "cell_type": "code",
   "execution_count": 82,
   "metadata": {
    "scrolled": true
   },
   "outputs": [
    {
     "data": {
      "text/html": [
       "<div>\n",
       "<style scoped>\n",
       "    .dataframe tbody tr th:only-of-type {\n",
       "        vertical-align: middle;\n",
       "    }\n",
       "\n",
       "    .dataframe tbody tr th {\n",
       "        vertical-align: top;\n",
       "    }\n",
       "\n",
       "    .dataframe thead th {\n",
       "        text-align: right;\n",
       "    }\n",
       "</style>\n",
       "<table border=\"1\" class=\"dataframe\">\n",
       "  <thead>\n",
       "    <tr style=\"text-align: right;\">\n",
       "      <th></th>\n",
       "      <th>year_show</th>\n",
       "      <th>title</th>\n",
       "    </tr>\n",
       "  </thead>\n",
       "  <tbody>\n",
       "    <tr>\n",
       "      <th>0</th>\n",
       "      <td>2010</td>\n",
       "      <td>760</td>\n",
       "    </tr>\n",
       "    <tr>\n",
       "      <th>1</th>\n",
       "      <td>2011</td>\n",
       "      <td>476</td>\n",
       "    </tr>\n",
       "    <tr>\n",
       "      <th>2</th>\n",
       "      <td>2012</td>\n",
       "      <td>523</td>\n",
       "    </tr>\n",
       "    <tr>\n",
       "      <th>3</th>\n",
       "      <td>2013</td>\n",
       "      <td>587</td>\n",
       "    </tr>\n",
       "    <tr>\n",
       "      <th>4</th>\n",
       "      <td>2014</td>\n",
       "      <td>727</td>\n",
       "    </tr>\n",
       "    <tr>\n",
       "      <th>5</th>\n",
       "      <td>2015</td>\n",
       "      <td>665</td>\n",
       "    </tr>\n",
       "    <tr>\n",
       "      <th>6</th>\n",
       "      <td>2016</td>\n",
       "      <td>729</td>\n",
       "    </tr>\n",
       "    <tr>\n",
       "      <th>7</th>\n",
       "      <td>2017</td>\n",
       "      <td>498</td>\n",
       "    </tr>\n",
       "    <tr>\n",
       "      <th>8</th>\n",
       "      <td>2018</td>\n",
       "      <td>877</td>\n",
       "    </tr>\n",
       "    <tr>\n",
       "      <th>9</th>\n",
       "      <td>2019</td>\n",
       "      <td>912</td>\n",
       "    </tr>\n",
       "  </tbody>\n",
       "</table>\n",
       "</div>"
      ],
      "text/plain": [
       "   year_show  title\n",
       "0       2010    760\n",
       "1       2011    476\n",
       "2       2012    523\n",
       "3       2013    587\n",
       "4       2014    727\n",
       "5       2015    665\n",
       "6       2016    729\n",
       "7       2017    498\n",
       "8       2018    877\n",
       "9       2019    912"
      ]
     },
     "execution_count": 82,
     "metadata": {},
     "output_type": "execute_result"
    }
   ],
   "source": [
    "# Количество фильмов в прокате по годам (согласно датасету)\n",
    "\n",
    "# Создадим переменную series с указанием кол-во фильмов по годам\n",
    "films_by_year = data.groupby('year_show')['title'].count()\n",
    "films_by_year = films_by_year.drop(films_by_year.index.min()) # Исключаем минимальное значение индекса\n",
    "films_by_year.reset_index() # reset_index чтобы отобразить как датафрейм"
   ]
  },
  {
   "cell_type": "markdown",
   "metadata": {},
   "source": [
    "1900 год указан где нет данных. Исключаем его из выборки (минимальный индекс) <br>\n",
    "Данные по количеству фильмов в целом завышены. Нет понимания как вносились данные о фильмах. Нужно запросить у Заказчика информацию как собирались данные. Возможно данные по дате выхода фильма смогли бы прояснить ситуацию. <br>\n",
    "Подозрительно много фильмов в прокате в 2010 году. Возможно в 2010 году начали сбор данных и многие фильмы до 2010 года указали год выдачи лицензии 2010. Проверим это."
   ]
  },
  {
   "cell_type": "code",
   "execution_count": 83,
   "metadata": {},
   "outputs": [
    {
     "data": {
      "text/html": [
       "<div>\n",
       "<style scoped>\n",
       "    .dataframe tbody tr th:only-of-type {\n",
       "        vertical-align: middle;\n",
       "    }\n",
       "\n",
       "    .dataframe tbody tr th {\n",
       "        vertical-align: top;\n",
       "    }\n",
       "\n",
       "    .dataframe thead th {\n",
       "        text-align: right;\n",
       "    }\n",
       "</style>\n",
       "<table border=\"1\" class=\"dataframe\">\n",
       "  <thead>\n",
       "    <tr style=\"text-align: right;\">\n",
       "      <th></th>\n",
       "      <th>index</th>\n",
       "      <th>show_start_date</th>\n",
       "    </tr>\n",
       "  </thead>\n",
       "  <tbody>\n",
       "    <tr>\n",
       "      <th>0</th>\n",
       "      <td>2010-12-17 12:00:00+00:00</td>\n",
       "      <td>66</td>\n",
       "    </tr>\n",
       "    <tr>\n",
       "      <th>1</th>\n",
       "      <td>2010-12-15 12:00:00+00:00</td>\n",
       "      <td>21</td>\n",
       "    </tr>\n",
       "    <tr>\n",
       "      <th>2</th>\n",
       "      <td>2010-07-15 12:00:00+00:00</td>\n",
       "      <td>12</td>\n",
       "    </tr>\n",
       "    <tr>\n",
       "      <th>3</th>\n",
       "      <td>2010-12-07 12:00:00+00:00</td>\n",
       "      <td>11</td>\n",
       "    </tr>\n",
       "    <tr>\n",
       "      <th>4</th>\n",
       "      <td>2010-12-03 12:00:00+00:00</td>\n",
       "      <td>10</td>\n",
       "    </tr>\n",
       "  </tbody>\n",
       "</table>\n",
       "</div>"
      ],
      "text/plain": [
       "                      index  show_start_date\n",
       "0 2010-12-17 12:00:00+00:00               66\n",
       "1 2010-12-15 12:00:00+00:00               21\n",
       "2 2010-07-15 12:00:00+00:00               12\n",
       "3 2010-12-07 12:00:00+00:00               11\n",
       "4 2010-12-03 12:00:00+00:00               10"
      ]
     },
     "execution_count": 83,
     "metadata": {},
     "output_type": "execute_result"
    }
   ],
   "source": [
    "# Выведем 5 самых частых дат лицензий в 2010 году\n",
    "data[data['year_show']==2010]['show_start_date'].value_counts().head().reset_index()"
   ]
  },
  {
   "cell_type": "markdown",
   "metadata": {},
   "source": [
    "Выдача прокатных удостоверений не равномерно. 17 декабря 2010 года было выдано сразу 66 шт. <br>\n"
   ]
  },
  {
   "cell_type": "code",
   "execution_count": 84,
   "metadata": {},
   "outputs": [
    {
     "data": {
      "text/html": [
       "<div>\n",
       "<style scoped>\n",
       "    .dataframe tbody tr th:only-of-type {\n",
       "        vertical-align: middle;\n",
       "    }\n",
       "\n",
       "    .dataframe tbody tr th {\n",
       "        vertical-align: top;\n",
       "    }\n",
       "\n",
       "    .dataframe thead th {\n",
       "        text-align: right;\n",
       "    }\n",
       "</style>\n",
       "<table border=\"1\" class=\"dataframe\">\n",
       "  <thead>\n",
       "    <tr style=\"text-align: right;\">\n",
       "      <th></th>\n",
       "      <th>year_show</th>\n",
       "      <th>title</th>\n",
       "    </tr>\n",
       "  </thead>\n",
       "  <tbody>\n",
       "    <tr>\n",
       "      <th>0</th>\n",
       "      <td>2010</td>\n",
       "      <td>13.42</td>\n",
       "    </tr>\n",
       "    <tr>\n",
       "      <th>1</th>\n",
       "      <td>2011</td>\n",
       "      <td>22.27</td>\n",
       "    </tr>\n",
       "    <tr>\n",
       "      <th>2</th>\n",
       "      <td>2012</td>\n",
       "      <td>24.47</td>\n",
       "    </tr>\n",
       "    <tr>\n",
       "      <th>3</th>\n",
       "      <td>2013</td>\n",
       "      <td>31.35</td>\n",
       "    </tr>\n",
       "    <tr>\n",
       "      <th>4</th>\n",
       "      <td>2014</td>\n",
       "      <td>37.55</td>\n",
       "    </tr>\n",
       "    <tr>\n",
       "      <th>5</th>\n",
       "      <td>2015</td>\n",
       "      <td>68.42</td>\n",
       "    </tr>\n",
       "    <tr>\n",
       "      <th>6</th>\n",
       "      <td>2016</td>\n",
       "      <td>70.37</td>\n",
       "    </tr>\n",
       "    <tr>\n",
       "      <th>7</th>\n",
       "      <td>2017</td>\n",
       "      <td>71.29</td>\n",
       "    </tr>\n",
       "    <tr>\n",
       "      <th>8</th>\n",
       "      <td>2018</td>\n",
       "      <td>53.71</td>\n",
       "    </tr>\n",
       "    <tr>\n",
       "      <th>9</th>\n",
       "      <td>2019</td>\n",
       "      <td>58.00</td>\n",
       "    </tr>\n",
       "  </tbody>\n",
       "</table>\n",
       "</div>"
      ],
      "text/plain": [
       "   year_show  title\n",
       "0       2010  13.42\n",
       "1       2011  22.27\n",
       "2       2012  24.47\n",
       "3       2013  31.35\n",
       "4       2014  37.55\n",
       "5       2015  68.42\n",
       "6       2016  70.37\n",
       "7       2017  71.29\n",
       "8       2018  53.71\n",
       "9       2019  58.00"
      ]
     },
     "execution_count": 84,
     "metadata": {},
     "output_type": "execute_result"
    }
   ],
   "source": [
    "# Определим % фильмов для которых указаны сборы по годам\n",
    "# Создадим переменную series с указанием кол-во фильмов по годам в которых есть данные по сборам\n",
    "box_by_year = data[data['box_office'].notna()].groupby('year_show')['title'].count()\n",
    "\n",
    "# Создаем series с % фильмов для которых указаны сборы по годам \n",
    "percent_box_films = (box_by_year / films_by_year * 100).round(2)\n",
    "\n",
    "percent_box_films.reset_index() # Отображение"
   ]
  },
  {
   "cell_type": "code",
   "execution_count": 85,
   "metadata": {},
   "outputs": [
    {
     "data": {
      "image/png": "[encoded data removed]",
      "text/plain": [
       "<Figure size 432x288 with 1 Axes>"
      ]
     },
     "metadata": {
      "needs_background": "light"
     },
     "output_type": "display_data"
    }
   ],
   "source": [
    "# Постоим гистограмму с указанием % фильмов со сборами\n",
    "\n",
    "# Объявляем переменные  fig (данные по аннатоции) и ax (данные по осям/значениям)\n",
    "fig, ax = plt.subplots() \n",
    "\n",
    "# Создаем общий график распределения кол-ва фильмов по годам\n",
    "# general_hist = films_by_year.plot(kind='bar', edgecolor='black') \n",
    "general_hist = ax.bar(films_by_year.index, films_by_year.values, \n",
    "                      edgecolor='black', label='Всего фильмов') \n",
    "# Выбираем столбчатый график т.к. значения подсчитаны и надо только отобразить на осях\n",
    "# edgecolor - окантовка \n",
    "ax.grid(axis='y', linestyle='--', linewidth=0.8) # отображение сетки по оси y\n",
    "# Ограничение отображения оси X только указанными значениями и подписи всех\n",
    "plt.xticks(films_by_year.index) \n",
    "\n",
    "# Выделяем процент данных внутри каждого столбца\n",
    "# Проходим по столбцам и каждому столбцу присваиваем индекс по порядку\n",
    "for i, bar in enumerate(general_hist): \n",
    "    year = films_by_year.index[i] # Записываем год в переменную\n",
    "    period_percent = box_by_year[year] # Записываем кол-во фильмов со сборами\n",
    "    # Выделяем цветом часть столбца, соответствующую проценту данных\n",
    "    bar_year = ax.bar(year, period_percent, color='orange', \n",
    "           edgecolor='black')\n",
    "    # Добавляем текст с процентами на гистограмму\n",
    "    percent = percent_box_films[year]\n",
    "    ax.text(year, period_percent, f\"{percent:.0f}%\", ha='center', va='bottom',\n",
    "            fontsize=12)\n",
    "\n",
    "# Добавление легенды\n",
    "ax.legend(('Всего фильмов', 'Фильмы со сборами'))\n",
    "\n",
    "# Добавляем названия\n",
    "ax.set_xlabel('Год')\n",
    "ax.set_ylabel('Кол-во фильмов')\n",
    "ax.set_title('Кол-во фильмов по годам');\n"
   ]
  },
  {
   "cell_type": "markdown",
   "metadata": {},
   "source": [
    "**Промежуточный вывод:** <br>\n",
    "* Для более точного анализа сборов необходимо учитывать, что данные распределены неравномерно: более полная информация представлена в последние годы. В связи с этим, для анализа мы **будем опираться** на период, где объем данных составляет более 50% — с 2015 по 2019 годы включительно."
   ]
  },
  {
   "cell_type": "markdown",
   "metadata": {},
   "source": [
    "#### Шаг 3.2. Анализ динамики проката по годам"
   ]
  },
  {
   "cell_type": "code",
   "execution_count": 86,
   "metadata": {},
   "outputs": [
    {
     "data": {
      "text/html": [
       "<div>\n",
       "<style scoped>\n",
       "    .dataframe tbody tr th:only-of-type {\n",
       "        vertical-align: middle;\n",
       "    }\n",
       "\n",
       "    .dataframe tbody tr th {\n",
       "        vertical-align: top;\n",
       "    }\n",
       "\n",
       "    .dataframe thead th {\n",
       "        text-align: right;\n",
       "    }\n",
       "</style>\n",
       "<table border=\"1\" class=\"dataframe\">\n",
       "  <thead>\n",
       "    <tr style=\"text-align: right;\">\n",
       "      <th></th>\n",
       "      <th>Год проката</th>\n",
       "      <th>Сборы в млн.руб</th>\n",
       "    </tr>\n",
       "  </thead>\n",
       "  <tbody>\n",
       "    <tr>\n",
       "      <th>0</th>\n",
       "      <td>2010</td>\n",
       "      <td>2.480769</td>\n",
       "    </tr>\n",
       "    <tr>\n",
       "      <th>1</th>\n",
       "      <td>2011</td>\n",
       "      <td>14.05065</td>\n",
       "    </tr>\n",
       "    <tr>\n",
       "      <th>2</th>\n",
       "      <td>2012</td>\n",
       "      <td>6.955423</td>\n",
       "    </tr>\n",
       "    <tr>\n",
       "      <th>3</th>\n",
       "      <td>2013</td>\n",
       "      <td>29.837752</td>\n",
       "    </tr>\n",
       "    <tr>\n",
       "      <th>4</th>\n",
       "      <td>2014</td>\n",
       "      <td>7434.679797</td>\n",
       "    </tr>\n",
       "    <tr>\n",
       "      <th>5</th>\n",
       "      <td>2015</td>\n",
       "      <td>38513.777762</td>\n",
       "    </tr>\n",
       "    <tr>\n",
       "      <th>6</th>\n",
       "      <td>2016</td>\n",
       "      <td>46742.21186</td>\n",
       "    </tr>\n",
       "    <tr>\n",
       "      <th>7</th>\n",
       "      <td>2017</td>\n",
       "      <td>48458.147254</td>\n",
       "    </tr>\n",
       "    <tr>\n",
       "      <th>8</th>\n",
       "      <td>2018</td>\n",
       "      <td>49251.991405</td>\n",
       "    </tr>\n",
       "    <tr>\n",
       "      <th>9</th>\n",
       "      <td>2019</td>\n",
       "      <td>48278.101956</td>\n",
       "    </tr>\n",
       "  </tbody>\n",
       "</table>\n",
       "</div>"
      ],
      "text/plain": [
       "   Год проката  Сборы в млн.руб\n",
       "0         2010         2.480769\n",
       "1         2011         14.05065\n",
       "2         2012         6.955423\n",
       "3         2013        29.837752\n",
       "4         2014      7434.679797\n",
       "5         2015     38513.777762\n",
       "6         2016      46742.21186\n",
       "7         2017     48458.147254\n",
       "8         2018     49251.991405\n",
       "9         2019     48278.101956"
      ]
     },
     "execution_count": 86,
     "metadata": {},
     "output_type": "execute_result"
    }
   ],
   "source": [
    "# Исключаем из выборки значение -1 в столбце 'box_office'\n",
    "pivot_box_year = data[data['box_office']>0].pivot_table(index='year_show', \n",
    "                                            values='box_office', aggfunc='sum').reset_index()\n",
    "\n",
    "pivot_box_year['box_office'] = pivot_box_year['box_office']/(10**6) # переводим в млн руб\n",
    "pivot_box_year.rename(columns={'year_show':'Год проката', 'box_office':'Сборы в млн.руб'})"
   ]
  },
  {
   "cell_type": "code",
   "execution_count": 87,
   "metadata": {},
   "outputs": [
    {
     "data": {
      "image/png": "[encoded data removed]",
      "text/plain": [
       "<Figure size 720x360 with 1 Axes>"
      ]
     },
     "metadata": {
      "needs_background": "light"
     },
     "output_type": "display_data"
    }
   ],
   "source": [
    "# Построим график изменения сборов по годам\n",
    "pivot_box_year.plot(x='year_show', y='box_office', style='-', grid=True, figsize=(10,5),\n",
    "          legend=False, xticks=(pivot_box_year['year_show']), marker='o', \n",
    "         title='Кассовые сборы по годам', xlabel='Год', ylabel='Сумма сборов, млн руб');"
   ]
  },
  {
   "cell_type": "markdown",
   "metadata": {},
   "source": [
    "**Промежуточный вывод:** <br>\n",
    "* Данные до 2015 года выглядят нереалистично. <br>\n",
    "* После 2015 года в целом наблюдается небольшой рост, который может быть связан как с увеличением качества сбора данных, инфляцией (изменением средней цены билета и/или общим улучшением экономической ситуации в регионе), увеличением спроса или выходом в прокат большего числа 'блокбастеров'. Точнее определить причины, без валидации данных по сборам, нет возможности. <br>\n",
    "* Максимальные сборы составили в 2018 году, порядка 49 млрд руб.<br>\n",
    "* Минимальные значения сборов точно определить нет возможности (требуется валидация данных). <br>\n",
    "* Очень не хватает данных по количеству зрителей (годовое). Кол-во зрителей позволить понять увеличился/уменьшился интерес к просмотру фильмов или изменились финансовые показатели, что сказалось на общих сборах."
   ]
  },
  {
   "cell_type": "markdown",
   "metadata": {
    "id": "tfEhofYvgFyX"
   },
   "source": [
    "#### Шаг 3.3. Анализ средних и медианных сборов по годам"
   ]
  },
  {
   "cell_type": "code",
   "execution_count": 88,
   "metadata": {
    "id": "jmp-rgg9gFyY",
    "scrolled": true
   },
   "outputs": [
    {
     "data": {
      "text/html": [
       "<div>\n",
       "<style scoped>\n",
       "    .dataframe tbody tr th:only-of-type {\n",
       "        vertical-align: middle;\n",
       "    }\n",
       "\n",
       "    .dataframe tbody tr th {\n",
       "        vertical-align: top;\n",
       "    }\n",
       "\n",
       "    .dataframe thead th {\n",
       "        text-align: right;\n",
       "    }\n",
       "</style>\n",
       "<table border=\"1\" class=\"dataframe\">\n",
       "  <thead>\n",
       "    <tr style=\"text-align: right;\">\n",
       "      <th></th>\n",
       "      <th>Год проката</th>\n",
       "      <th>Ср. сборы в млн.руб</th>\n",
       "      <th>Мед. сборы в млн.руб</th>\n",
       "    </tr>\n",
       "  </thead>\n",
       "  <tbody>\n",
       "    <tr>\n",
       "      <th>0</th>\n",
       "      <td>2010</td>\n",
       "      <td>0.025314</td>\n",
       "      <td>0.001868</td>\n",
       "    </tr>\n",
       "    <tr>\n",
       "      <th>1</th>\n",
       "      <td>2011</td>\n",
       "      <td>0.132553</td>\n",
       "      <td>0.002952</td>\n",
       "    </tr>\n",
       "    <tr>\n",
       "      <th>2</th>\n",
       "      <td>2012</td>\n",
       "      <td>0.056548</td>\n",
       "      <td>0.00622</td>\n",
       "    </tr>\n",
       "    <tr>\n",
       "      <th>3</th>\n",
       "      <td>2013</td>\n",
       "      <td>0.166691</td>\n",
       "      <td>0.00358</td>\n",
       "    </tr>\n",
       "    <tr>\n",
       "      <th>4</th>\n",
       "      <td>2014</td>\n",
       "      <td>27.845243</td>\n",
       "      <td>0.02249</td>\n",
       "    </tr>\n",
       "    <tr>\n",
       "      <th>5</th>\n",
       "      <td>2015</td>\n",
       "      <td>85.207473</td>\n",
       "      <td>4.864744</td>\n",
       "    </tr>\n",
       "    <tr>\n",
       "      <th>6</th>\n",
       "      <td>2016</td>\n",
       "      <td>91.293383</td>\n",
       "      <td>4.019918</td>\n",
       "    </tr>\n",
       "    <tr>\n",
       "      <th>7</th>\n",
       "      <td>2017</td>\n",
       "      <td>136.501823</td>\n",
       "      <td>9.919415</td>\n",
       "    </tr>\n",
       "    <tr>\n",
       "      <th>8</th>\n",
       "      <td>2018</td>\n",
       "      <td>104.568984</td>\n",
       "      <td>8.751896</td>\n",
       "    </tr>\n",
       "    <tr>\n",
       "      <th>9</th>\n",
       "      <td>2019</td>\n",
       "      <td>91.262953</td>\n",
       "      <td>4.601034</td>\n",
       "    </tr>\n",
       "  </tbody>\n",
       "</table>\n",
       "</div>"
      ],
      "text/plain": [
       "   Год проката Ср. сборы в млн.руб Мед. сборы в млн.руб\n",
       "0         2010            0.025314             0.001868\n",
       "1         2011            0.132553             0.002952\n",
       "2         2012            0.056548              0.00622\n",
       "3         2013            0.166691              0.00358\n",
       "4         2014           27.845243              0.02249\n",
       "5         2015           85.207473             4.864744\n",
       "6         2016           91.293383             4.019918\n",
       "7         2017          136.501823             9.919415\n",
       "8         2018          104.568984             8.751896\n",
       "9         2019           91.262953             4.601034"
      ]
     },
     "execution_count": 88,
     "metadata": {},
     "output_type": "execute_result"
    }
   ],
   "source": [
    "# Исключаем из выборки значение -1 в столбце 'box_office'\n",
    "pivot_box_year_mm = data[data['box_office']>0].pivot_table(index='year_show', \n",
    "                                       values='box_office', aggfunc=('mean','median')\n",
    "                                                          ).round(2).reset_index()\n",
    "pivot_box_year_mm['mean'] = pivot_box_year_mm['mean']/(10**6) # переводим в млн руб\n",
    "pivot_box_year_mm['median'] = pivot_box_year_mm['median']/(10**6) # переводим в млн руб\n",
    "pivot_box_year_mm.rename(columns={'year_show':'Год проката', \n",
    "                                   'mean':'Ср. сборы в млн.руб', \n",
    "                                   'median':'Мед. сборы в млн.руб'})"
   ]
  },
  {
   "cell_type": "markdown",
   "metadata": {},
   "source": [
    "Медианные значения низкие, даже для 2015+ годов. Возможно, это связано распределением сборов в киноиндустрии. Проверим эту гипотезу на 2017 году (как самому заполненном по количеству данных)"
   ]
  },
  {
   "cell_type": "code",
   "execution_count": 89,
   "metadata": {
    "scrolled": true
   },
   "outputs": [
    {
     "data": {
      "text/html": [
       "<div>\n",
       "<style scoped>\n",
       "    .dataframe tbody tr th:only-of-type {\n",
       "        vertical-align: middle;\n",
       "    }\n",
       "\n",
       "    .dataframe tbody tr th {\n",
       "        vertical-align: top;\n",
       "    }\n",
       "\n",
       "    .dataframe thead th {\n",
       "        text-align: right;\n",
       "    }\n",
       "</style>\n",
       "<table border=\"1\" class=\"dataframe\">\n",
       "  <thead>\n",
       "    <tr style=\"text-align: right;\">\n",
       "      <th></th>\n",
       "      <th>index</th>\n",
       "      <th>box_office</th>\n",
       "    </tr>\n",
       "  </thead>\n",
       "  <tbody>\n",
       "    <tr>\n",
       "      <th>8</th>\n",
       "      <td>(1667814846.4, 1945782670.8]</td>\n",
       "      <td>0</td>\n",
       "    </tr>\n",
       "    <tr>\n",
       "      <th>9</th>\n",
       "      <td>(2223750495.2, 2501718319.6]</td>\n",
       "      <td>0</td>\n",
       "    </tr>\n",
       "    <tr>\n",
       "      <th>6</th>\n",
       "      <td>(1945782670.8, 2223750495.2]</td>\n",
       "      <td>1</td>\n",
       "    </tr>\n",
       "    <tr>\n",
       "      <th>7</th>\n",
       "      <td>(2501718319.6, 2779686144.0]</td>\n",
       "      <td>1</td>\n",
       "    </tr>\n",
       "    <tr>\n",
       "      <th>5</th>\n",
       "      <td>(1111879197.6, 1389847022.0]</td>\n",
       "      <td>3</td>\n",
       "    </tr>\n",
       "    <tr>\n",
       "      <th>4</th>\n",
       "      <td>(1389847022.0, 1667814846.4]</td>\n",
       "      <td>4</td>\n",
       "    </tr>\n",
       "    <tr>\n",
       "      <th>3</th>\n",
       "      <td>(833911373.2, 1111879197.6]</td>\n",
       "      <td>9</td>\n",
       "    </tr>\n",
       "    <tr>\n",
       "      <th>2</th>\n",
       "      <td>(555943548.8, 833911373.2]</td>\n",
       "      <td>14</td>\n",
       "    </tr>\n",
       "    <tr>\n",
       "      <th>1</th>\n",
       "      <td>(277975724.4, 555943548.8]</td>\n",
       "      <td>20</td>\n",
       "    </tr>\n",
       "    <tr>\n",
       "      <th>0</th>\n",
       "      <td>(-2771778.244, 277975724.4]</td>\n",
       "      <td>303</td>\n",
       "    </tr>\n",
       "  </tbody>\n",
       "</table>\n",
       "</div>"
      ],
      "text/plain": [
       "                          index  box_office\n",
       "8  (1667814846.4, 1945782670.8]           0\n",
       "9  (2223750495.2, 2501718319.6]           0\n",
       "6  (1945782670.8, 2223750495.2]           1\n",
       "7  (2501718319.6, 2779686144.0]           1\n",
       "5  (1111879197.6, 1389847022.0]           3\n",
       "4  (1389847022.0, 1667814846.4]           4\n",
       "3   (833911373.2, 1111879197.6]           9\n",
       "2    (555943548.8, 833911373.2]          14\n",
       "1    (277975724.4, 555943548.8]          20\n",
       "0   (-2771778.244, 277975724.4]         303"
      ]
     },
     "execution_count": 89,
     "metadata": {},
     "output_type": "execute_result"
    }
   ],
   "source": [
    "# Разобьем данные сборов в 2017 года на 10 равных частей\n",
    "distrib_2017 = pd.cut(data[(data['year_show']==2017) & (data['box_office']>0)]['box_office'], 10)\n",
    "distrib_2017.value_counts().reset_index().sort_values('box_office') #вывод"
   ]
  },
  {
   "cell_type": "markdown",
   "metadata": {},
   "source": [
    "<a name='median_dependence'> </a>\n",
    "Гипотеза потвердилась, абсолютное большинство фильмов имеют 10% сборов. Остальные 90% сборов распределены между немногими фильмами (около 17% фильмов по 2017 году). "
   ]
  },
  {
   "cell_type": "code",
   "execution_count": 90,
   "metadata": {},
   "outputs": [
    {
     "data": {
      "image/png": "[encoded data removed]",
      "text/plain": [
       "<Figure size 720x360 with 1 Axes>"
      ]
     },
     "metadata": {
      "needs_background": "light"
     },
     "output_type": "display_data"
    }
   ],
   "source": [
    "# Построим график изменения средних сборов по годам\n",
    "pivot_box_year_mm.plot(x='year_show', y='mean', style='-', grid=True, figsize=(10,5),\n",
    "          legend=False, xticks=(pivot_box_year['year_show']), marker='o', \n",
    "         title='Ср. кассовые сборы по годам', xlabel='Год', ylabel='Средние сборов, млн руб');"
   ]
  },
  {
   "cell_type": "markdown",
   "metadata": {},
   "source": [
    "Динамика средних значений сборов также подтверждает тезис что до 2015 года качество данных очень низкое и анализ этого периода нет возможности провести по предоставленным данным.<br>\n",
    "Значения после 2015 года во многом похожи на динамику суммарных сборов. Отклонения вызваны неравномерностью сборов между 'блокбастерами' и 'типовыми' фильмами. [Подробнее](#median_dependence) про неравномерность в оценке медианных значений."
   ]
  },
  {
   "cell_type": "markdown",
   "metadata": {},
   "source": [
    "**Промежуточный вывод:** <br>\n",
    "* Данные повторяют динамику общих сборов.\n",
    "* Из-за особенностей рынка кинопроката медианные значения не показательны."
   ]
  },
  {
   "cell_type": "markdown",
   "metadata": {},
   "source": [
    "#### Шаг 3.3. Анализ влияния возрастного рейтинга"
   ]
  },
  {
   "cell_type": "code",
   "execution_count": 91,
   "metadata": {},
   "outputs": [
    {
     "data": {
      "text/html": [
       "<div>\n",
       "<style scoped>\n",
       "    .dataframe tbody tr th:only-of-type {\n",
       "        vertical-align: middle;\n",
       "    }\n",
       "\n",
       "    .dataframe tbody tr th {\n",
       "        vertical-align: top;\n",
       "    }\n",
       "\n",
       "    .dataframe thead th {\n",
       "        text-align: right;\n",
       "    }\n",
       "</style>\n",
       "<table border=\"1\" class=\"dataframe\">\n",
       "  <thead>\n",
       "    <tr style=\"text-align: right;\">\n",
       "      <th></th>\n",
       "      <th>2015</th>\n",
       "      <th>2016</th>\n",
       "      <th>2017</th>\n",
       "      <th>2018</th>\n",
       "      <th>2019</th>\n",
       "      <th>sum</th>\n",
       "    </tr>\n",
       "    <tr>\n",
       "      <th>age_restriction</th>\n",
       "      <th></th>\n",
       "      <th></th>\n",
       "      <th></th>\n",
       "      <th></th>\n",
       "      <th></th>\n",
       "      <th></th>\n",
       "    </tr>\n",
       "  </thead>\n",
       "  <tbody>\n",
       "    <tr>\n",
       "      <th>«0+» - для любой зрительской аудитории</th>\n",
       "      <td>4556.252754</td>\n",
       "      <td>3919.124436</td>\n",
       "      <td>6232.311143</td>\n",
       "      <td>1502.522923</td>\n",
       "      <td>2962.35519</td>\n",
       "      <td>19172.566446</td>\n",
       "    </tr>\n",
       "    <tr>\n",
       "      <th>«12+» - для детей старше 12 лет</th>\n",
       "      <td>10752.71572</td>\n",
       "      <td>13715.344653</td>\n",
       "      <td>4255.45941</td>\n",
       "      <td>11907.900922</td>\n",
       "      <td>15762.486435</td>\n",
       "      <td>56393.90714</td>\n",
       "    </tr>\n",
       "    <tr>\n",
       "      <th>«16+» - для детей старше 16 лет</th>\n",
       "      <td>11602.664078</td>\n",
       "      <td>16815.336897</td>\n",
       "      <td>17984.832847</td>\n",
       "      <td>18028.579109</td>\n",
       "      <td>15875.369054</td>\n",
       "      <td>80306.781985</td>\n",
       "    </tr>\n",
       "    <tr>\n",
       "      <th>«18+» - запрещено для детей</th>\n",
       "      <td>9010.91223</td>\n",
       "      <td>9389.549667</td>\n",
       "      <td>12288.79516</td>\n",
       "      <td>12895.650585</td>\n",
       "      <td>5387.461885</td>\n",
       "      <td>48972.369527</td>\n",
       "    </tr>\n",
       "    <tr>\n",
       "      <th>«6+» - для детей старше 6 лет</th>\n",
       "      <td>2591.23298</td>\n",
       "      <td>2902.856207</td>\n",
       "      <td>7696.748694</td>\n",
       "      <td>4917.337866</td>\n",
       "      <td>8290.429392</td>\n",
       "      <td>26398.605139</td>\n",
       "    </tr>\n",
       "    <tr>\n",
       "      <th>sum</th>\n",
       "      <td>38513.777762</td>\n",
       "      <td>46742.21186</td>\n",
       "      <td>48458.147254</td>\n",
       "      <td>49251.991405</td>\n",
       "      <td>48278.101956</td>\n",
       "      <td>231244.230237</td>\n",
       "    </tr>\n",
       "  </tbody>\n",
       "</table>\n",
       "</div>"
      ],
      "text/plain": [
       "                                                2015          2016  \\\n",
       "age_restriction                                                      \n",
       "«0+» - для любой зрительской аудитории   4556.252754   3919.124436   \n",
       "«12+» - для детей старше 12 лет          10752.71572  13715.344653   \n",
       "«16+» - для детей старше 16 лет         11602.664078  16815.336897   \n",
       "«18+» - запрещено для детей               9010.91223   9389.549667   \n",
       "«6+» - для детей старше 6 лет             2591.23298   2902.856207   \n",
       "sum                                     38513.777762   46742.21186   \n",
       "\n",
       "                                                2017          2018  \\\n",
       "age_restriction                                                      \n",
       "«0+» - для любой зрительской аудитории   6232.311143   1502.522923   \n",
       "«12+» - для детей старше 12 лет           4255.45941  11907.900922   \n",
       "«16+» - для детей старше 16 лет         17984.832847  18028.579109   \n",
       "«18+» - запрещено для детей              12288.79516  12895.650585   \n",
       "«6+» - для детей старше 6 лет            7696.748694   4917.337866   \n",
       "sum                                     48458.147254  49251.991405   \n",
       "\n",
       "                                                2019            sum  \n",
       "age_restriction                                                      \n",
       "«0+» - для любой зрительской аудитории    2962.35519   19172.566446  \n",
       "«12+» - для детей старше 12 лет         15762.486435    56393.90714  \n",
       "«16+» - для детей старше 16 лет         15875.369054   80306.781985  \n",
       "«18+» - запрещено для детей              5387.461885   48972.369527  \n",
       "«6+» - для детей старше 6 лет            8290.429392   26398.605139  \n",
       "sum                                     48278.101956  231244.230237  "
      ]
     },
     "execution_count": 91,
     "metadata": {},
     "output_type": "execute_result"
    }
   ],
   "source": [
    "# Создадим сводную таблицу с суммарными сборами по возрастным категориям для 2015+ годов\n",
    "pivot_age_impact_sum = data[(data['year_show']>2014) & (data['box_office']>0)].pivot_table(\n",
    "    index='age_restriction', columns='year_show',\n",
    "     values='box_office', aggfunc='sum', margins=True, margins_name='sum'\n",
    "                                                          )\n",
    "pivot_age_impact_sum = pivot_age_impact_sum/(10**6) # переводим все значения в млн руб\n",
    "pivot_age_impact = pivot_age_impact_sum.drop('sum', axis=1).drop('sum') # отдельно сделаем без сумм\n",
    "\n",
    "pivot_age_impact_sum"
   ]
  },
  {
   "cell_type": "code",
   "execution_count": 92,
   "metadata": {
    "scrolled": true
   },
   "outputs": [
    {
     "data": {
      "text/html": [
       "<div>\n",
       "<style scoped>\n",
       "    .dataframe tbody tr th:only-of-type {\n",
       "        vertical-align: middle;\n",
       "    }\n",
       "\n",
       "    .dataframe tbody tr th {\n",
       "        vertical-align: top;\n",
       "    }\n",
       "\n",
       "    .dataframe thead th {\n",
       "        text-align: right;\n",
       "    }\n",
       "</style>\n",
       "<table border=\"1\" class=\"dataframe\">\n",
       "  <thead>\n",
       "    <tr style=\"text-align: right;\">\n",
       "      <th></th>\n",
       "      <th>2015</th>\n",
       "      <th>2016</th>\n",
       "      <th>2017</th>\n",
       "      <th>2018</th>\n",
       "      <th>2019</th>\n",
       "      <th>sum</th>\n",
       "    </tr>\n",
       "    <tr>\n",
       "      <th>age_restriction</th>\n",
       "      <th></th>\n",
       "      <th></th>\n",
       "      <th></th>\n",
       "      <th></th>\n",
       "      <th></th>\n",
       "      <th></th>\n",
       "    </tr>\n",
       "  </thead>\n",
       "  <tbody>\n",
       "    <tr>\n",
       "      <th>«16+» - для детей старше 16 лет</th>\n",
       "      <td>11602.664078</td>\n",
       "      <td>16815.336897</td>\n",
       "      <td>17984.832847</td>\n",
       "      <td>18028.579109</td>\n",
       "      <td>15875.369054</td>\n",
       "      <td>80306.781985</td>\n",
       "    </tr>\n",
       "  </tbody>\n",
       "</table>\n",
       "</div>"
      ],
      "text/plain": [
       "                                         2015          2016          2017  \\\n",
       "age_restriction                                                             \n",
       "«16+» - для детей старше 16 лет  11602.664078  16815.336897  17984.832847   \n",
       "\n",
       "                                         2018          2019           sum  \n",
       "age_restriction                                                            \n",
       "«16+» - для детей старше 16 лет  18028.579109  15875.369054  80306.781985  "
      ]
     },
     "execution_count": 92,
     "metadata": {},
     "output_type": "execute_result"
    }
   ],
   "source": [
    "# Выведем рейтинг с максимальным общим сбором за период\n",
    "pivot_age_impact_sum[pivot_age_impact_sum['sum']==pivot_age_impact_sum.drop('sum')['sum'].max()]"
   ]
  },
  {
   "cell_type": "code",
   "execution_count": 93,
   "metadata": {
    "scrolled": false
   },
   "outputs": [
    {
     "data": {
      "image/png": "[encoded data removed]",
      "text/plain": [
       "<Figure size 432x288 with 1 Axes>"
      ]
     },
     "metadata": {
      "needs_background": "light"
     },
     "output_type": "display_data"
    }
   ],
   "source": [
    "# Выведем график по сборам для каждой возрастной категории \n",
    "pivot_age_impact.T.plot(style='-', grid=True, \n",
    "          legend=True, marker='o',\n",
    "         title='Кассовые сборы по годам', xlabel='Год', ylabel='Сумма сборов, млн руб');\n",
    "plt.legend(bbox_to_anchor=(1, 1), loc='upper left', );"
   ]
  },
  {
   "cell_type": "markdown",
   "metadata": {},
   "source": [
    "Фильмы с рейтингом 16+ больше собирают сборов. Возможно это связано с [количеством](#Столбец-'age_restriction') таких фильмов. Проверим эту гипотезу и изучим средние показатели сборов. "
   ]
  },
  {
   "cell_type": "code",
   "execution_count": 94,
   "metadata": {},
   "outputs": [
    {
     "data": {
      "text/html": [
       "<div>\n",
       "<style scoped>\n",
       "    .dataframe tbody tr th:only-of-type {\n",
       "        vertical-align: middle;\n",
       "    }\n",
       "\n",
       "    .dataframe tbody tr th {\n",
       "        vertical-align: top;\n",
       "    }\n",
       "\n",
       "    .dataframe thead th {\n",
       "        text-align: right;\n",
       "    }\n",
       "</style>\n",
       "<table border=\"1\" class=\"dataframe\">\n",
       "  <thead>\n",
       "    <tr style=\"text-align: right;\">\n",
       "      <th>year_show</th>\n",
       "      <th>2015</th>\n",
       "      <th>2016</th>\n",
       "      <th>2017</th>\n",
       "      <th>2018</th>\n",
       "      <th>2019</th>\n",
       "    </tr>\n",
       "    <tr>\n",
       "      <th>age_restriction</th>\n",
       "      <th></th>\n",
       "      <th></th>\n",
       "      <th></th>\n",
       "      <th></th>\n",
       "      <th></th>\n",
       "    </tr>\n",
       "  </thead>\n",
       "  <tbody>\n",
       "    <tr>\n",
       "      <th>«0+» - для любой зрительской аудитории</th>\n",
       "      <td>74.692668</td>\n",
       "      <td>63.211684</td>\n",
       "      <td>259.679631</td>\n",
       "      <td>48.468481</td>\n",
       "      <td>74.05888</td>\n",
       "    </tr>\n",
       "    <tr>\n",
       "      <th>«12+» - для детей старше 12 лет</th>\n",
       "      <td>106.462532</td>\n",
       "      <td>119.263867</td>\n",
       "      <td>59.103603</td>\n",
       "      <td>113.40858</td>\n",
       "      <td>117.630496</td>\n",
       "    </tr>\n",
       "    <tr>\n",
       "      <th>«16+» - для детей старше 16 лет</th>\n",
       "      <td>80.574056</td>\n",
       "      <td>90.893713</td>\n",
       "      <td>127.552006</td>\n",
       "      <td>108.605898</td>\n",
       "      <td>81.412149</td>\n",
       "    </tr>\n",
       "    <tr>\n",
       "      <th>«18+» - запрещено для детей</th>\n",
       "      <td>90.109122</td>\n",
       "      <td>86.142657</td>\n",
       "      <td>159.594742</td>\n",
       "      <td>100.74727</td>\n",
       "      <td>50.825112</td>\n",
       "    </tr>\n",
       "    <tr>\n",
       "      <th>«6+» - для детей старше 6 лет</th>\n",
       "      <td>56.331152</td>\n",
       "      <td>70.801371</td>\n",
       "      <td>187.725578</td>\n",
       "      <td>119.93507</td>\n",
       "      <td>153.52647</td>\n",
       "    </tr>\n",
       "  </tbody>\n",
       "</table>\n",
       "</div>"
      ],
      "text/plain": [
       "year_show                                     2015        2016        2017  \\\n",
       "age_restriction                                                              \n",
       "«0+» - для любой зрительской аудитории   74.692668   63.211684  259.679631   \n",
       "«12+» - для детей старше 12 лет         106.462532  119.263867   59.103603   \n",
       "«16+» - для детей старше 16 лет          80.574056   90.893713  127.552006   \n",
       "«18+» - запрещено для детей              90.109122   86.142657  159.594742   \n",
       "«6+» - для детей старше 6 лет            56.331152   70.801371  187.725578   \n",
       "\n",
       "year_show                                     2018        2019  \n",
       "age_restriction                                                 \n",
       "«0+» - для любой зрительской аудитории   48.468481    74.05888  \n",
       "«12+» - для детей старше 12 лет          113.40858  117.630496  \n",
       "«16+» - для детей старше 16 лет         108.605898   81.412149  \n",
       "«18+» - запрещено для детей              100.74727   50.825112  \n",
       "«6+» - для детей старше 6 лет            119.93507   153.52647  "
      ]
     },
     "execution_count": 94,
     "metadata": {},
     "output_type": "execute_result"
    }
   ],
   "source": [
    "# Создадим сводную таблицу с средними сборами по возрастным категориям для 2015+ годов\n",
    "pivot_age_impact_mean = data[(data['year_show']>2014) & (data['box_office']>0)].pivot_table(\n",
    "    index='age_restriction', columns='year_show',\n",
    "     values='box_office', aggfunc='mean'\n",
    "                                                          )\n",
    "pivot_age_impact_mean = pivot_age_impact_mean/(10**6) # переводим все значения в млн руб\n",
    "\n",
    "pivot_age_impact_mean"
   ]
  },
  {
   "cell_type": "code",
   "execution_count": 95,
   "metadata": {},
   "outputs": [
    {
     "data": {
      "image/png": "[encoded data removed]",
      "text/plain": [
       "<Figure size 432x288 with 1 Axes>"
      ]
     },
     "metadata": {
      "needs_background": "light"
     },
     "output_type": "display_data"
    }
   ],
   "source": [
    "# Выведем график по сборам для каждой возрастной категории \n",
    "pivot_age_impact_mean.T.plot(style='-', grid=True, \n",
    "          legend=True, marker='o',\n",
    "         title='Средние кассовые сборы по годам', xlabel='Год', ylabel='Средние сборов, млн руб');\n",
    "plt.legend(bbox_to_anchor=(1, 1), loc='upper left', );"
   ]
  },
  {
   "cell_type": "code",
   "execution_count": 96,
   "metadata": {},
   "outputs": [
    {
     "data": {
      "text/html": [
       "<div>\n",
       "<style scoped>\n",
       "    .dataframe tbody tr th:only-of-type {\n",
       "        vertical-align: middle;\n",
       "    }\n",
       "\n",
       "    .dataframe tbody tr th {\n",
       "        vertical-align: top;\n",
       "    }\n",
       "\n",
       "    .dataframe thead th {\n",
       "        text-align: right;\n",
       "    }\n",
       "</style>\n",
       "<table border=\"1\" class=\"dataframe\">\n",
       "  <thead>\n",
       "    <tr style=\"text-align: right;\">\n",
       "      <th>year_show</th>\n",
       "      <th>2015</th>\n",
       "      <th>2016</th>\n",
       "      <th>2017</th>\n",
       "      <th>2018</th>\n",
       "      <th>2019</th>\n",
       "      <th>sum</th>\n",
       "    </tr>\n",
       "    <tr>\n",
       "      <th>age_restriction</th>\n",
       "      <th></th>\n",
       "      <th></th>\n",
       "      <th></th>\n",
       "      <th></th>\n",
       "      <th></th>\n",
       "      <th></th>\n",
       "    </tr>\n",
       "  </thead>\n",
       "  <tbody>\n",
       "    <tr>\n",
       "      <th>«0+» - для любой зрительской аудитории</th>\n",
       "      <td>61</td>\n",
       "      <td>62</td>\n",
       "      <td>24</td>\n",
       "      <td>31</td>\n",
       "      <td>40</td>\n",
       "      <td>218</td>\n",
       "    </tr>\n",
       "    <tr>\n",
       "      <th>«12+» - для детей старше 12 лет</th>\n",
       "      <td>101</td>\n",
       "      <td>115</td>\n",
       "      <td>72</td>\n",
       "      <td>105</td>\n",
       "      <td>134</td>\n",
       "      <td>527</td>\n",
       "    </tr>\n",
       "    <tr>\n",
       "      <th>«16+» - для детей старше 16 лет</th>\n",
       "      <td>144</td>\n",
       "      <td>185</td>\n",
       "      <td>141</td>\n",
       "      <td>166</td>\n",
       "      <td>195</td>\n",
       "      <td>831</td>\n",
       "    </tr>\n",
       "    <tr>\n",
       "      <th>«18+» - запрещено для детей</th>\n",
       "      <td>100</td>\n",
       "      <td>109</td>\n",
       "      <td>77</td>\n",
       "      <td>128</td>\n",
       "      <td>106</td>\n",
       "      <td>520</td>\n",
       "    </tr>\n",
       "    <tr>\n",
       "      <th>«6+» - для детей старше 6 лет</th>\n",
       "      <td>46</td>\n",
       "      <td>41</td>\n",
       "      <td>41</td>\n",
       "      <td>41</td>\n",
       "      <td>54</td>\n",
       "      <td>223</td>\n",
       "    </tr>\n",
       "    <tr>\n",
       "      <th>sum</th>\n",
       "      <td>452</td>\n",
       "      <td>512</td>\n",
       "      <td>355</td>\n",
       "      <td>471</td>\n",
       "      <td>529</td>\n",
       "      <td>2319</td>\n",
       "    </tr>\n",
       "  </tbody>\n",
       "</table>\n",
       "</div>"
      ],
      "text/plain": [
       "year_show                               2015  2016  2017  2018  2019   sum\n",
       "age_restriction                                                           \n",
       "«0+» - для любой зрительской аудитории    61    62    24    31    40   218\n",
       "«12+» - для детей старше 12 лет          101   115    72   105   134   527\n",
       "«16+» - для детей старше 16 лет          144   185   141   166   195   831\n",
       "«18+» - запрещено для детей              100   109    77   128   106   520\n",
       "«6+» - для детей старше 6 лет             46    41    41    41    54   223\n",
       "sum                                      452   512   355   471   529  2319"
      ]
     },
     "execution_count": 96,
     "metadata": {},
     "output_type": "execute_result"
    }
   ],
   "source": [
    "# Создадим сводную таблицу с количеством фильмов по возрастным категориям для 2015+ годов\n",
    "pivot_age_impact_count = data[(data['year_show']>2014) & (data['box_office']>0)].pivot_table(\n",
    "    index='age_restriction', columns='year_show',\n",
    "     values='title', aggfunc='count', margins=True, margins_name='sum')\n",
    "\n",
    "pivot_age_impact_count"
   ]
  },
  {
   "cell_type": "markdown",
   "metadata": {},
   "source": [
    "По средним сборам самые успешными являются фильмы с рейтингом 6+ лет. При этом в поздние года сборы увеличились для меньшей возрастной категории. Большая волатильность рейтинга 0+ связана с малой выборкой и увеличением влияния конкретных фильмов. "
   ]
  },
  {
   "cell_type": "markdown",
   "metadata": {},
   "source": [
    "**Промежуточный вывод:** <br>\n",
    "* По общему сбору заметно выше фильмы с рейтингом 16+. Это связано с [количество](#Столбец-'age_restriction') таких фильмов.\n",
    "* По средним сборам начинают преобладать фильмы с рейтингом 6+. Причем прослеживается тенденция к увеличению средних сборов для категорий 6+ и 12+.\n",
    "* В зависимости от года прослеживается большая волатильность данных, обусловленная [влиянием 'блокбастеров'](#median_dependence)."
   ]
  },
  {
   "cell_type": "markdown",
   "metadata": {},
   "source": [
    "#### Шаг 3.4. Анализ влияния основного жанра"
   ]
  },
  {
   "cell_type": "code",
   "execution_count": 97,
   "metadata": {},
   "outputs": [
    {
     "data": {
      "text/html": [
       "<div>\n",
       "<style scoped>\n",
       "    .dataframe tbody tr th:only-of-type {\n",
       "        vertical-align: middle;\n",
       "    }\n",
       "\n",
       "    .dataframe tbody tr th {\n",
       "        vertical-align: top;\n",
       "    }\n",
       "\n",
       "    .dataframe thead th {\n",
       "        text-align: right;\n",
       "    }\n",
       "</style>\n",
       "<table border=\"1\" class=\"dataframe\">\n",
       "  <thead>\n",
       "    <tr style=\"text-align: right;\">\n",
       "      <th></th>\n",
       "      <th>2015</th>\n",
       "      <th>2016</th>\n",
       "      <th>2017</th>\n",
       "      <th>2018</th>\n",
       "      <th>2019</th>\n",
       "      <th>sum</th>\n",
       "    </tr>\n",
       "    <tr>\n",
       "      <th>genres_first</th>\n",
       "      <th></th>\n",
       "      <th></th>\n",
       "      <th></th>\n",
       "      <th></th>\n",
       "      <th></th>\n",
       "      <th></th>\n",
       "    </tr>\n",
       "  </thead>\n",
       "  <tbody>\n",
       "    <tr>\n",
       "      <th>аниме</th>\n",
       "      <td>23.324378</td>\n",
       "      <td>&lt;NA&gt;</td>\n",
       "      <td>34.163829</td>\n",
       "      <td>1260.428874</td>\n",
       "      <td>85.916155</td>\n",
       "      <td>1403.833236</td>\n",
       "    </tr>\n",
       "    <tr>\n",
       "      <th>биография</th>\n",
       "      <td>441.033733</td>\n",
       "      <td>5.17076</td>\n",
       "      <td>&lt;NA&gt;</td>\n",
       "      <td>1210.874831</td>\n",
       "      <td>245.039437</td>\n",
       "      <td>1902.118761</td>\n",
       "    </tr>\n",
       "    <tr>\n",
       "      <th>боевик</th>\n",
       "      <td>7513.012462</td>\n",
       "      <td>4995.436972</td>\n",
       "      <td>4074.392842</td>\n",
       "      <td>6352.825882</td>\n",
       "      <td>3422.790632</td>\n",
       "      <td>26358.45879</td>\n",
       "    </tr>\n",
       "    <tr>\n",
       "      <th>вестерн</th>\n",
       "      <td>399.913055</td>\n",
       "      <td>&lt;NA&gt;</td>\n",
       "      <td>&lt;NA&gt;</td>\n",
       "      <td>&lt;NA&gt;</td>\n",
       "      <td>1.825289</td>\n",
       "      <td>401.738344</td>\n",
       "    </tr>\n",
       "    <tr>\n",
       "      <th>военный</th>\n",
       "      <td>35.305096</td>\n",
       "      <td>415.327791</td>\n",
       "      <td>324.707512</td>\n",
       "      <td>564.508862</td>\n",
       "      <td>320.014115</td>\n",
       "      <td>1659.863376</td>\n",
       "    </tr>\n",
       "    <tr>\n",
       "      <th>детектив</th>\n",
       "      <td>72.618367</td>\n",
       "      <td>&lt;NA&gt;</td>\n",
       "      <td>925.790577</td>\n",
       "      <td>986.306759</td>\n",
       "      <td>469.102868</td>\n",
       "      <td>2453.818571</td>\n",
       "    </tr>\n",
       "    <tr>\n",
       "      <th>детский</th>\n",
       "      <td>1.03852</td>\n",
       "      <td>2.629235</td>\n",
       "      <td>&lt;NA&gt;</td>\n",
       "      <td>&lt;NA&gt;</td>\n",
       "      <td>&lt;NA&gt;</td>\n",
       "      <td>3.667755</td>\n",
       "    </tr>\n",
       "    <tr>\n",
       "      <th>для взрослых</th>\n",
       "      <td>&lt;NA&gt;</td>\n",
       "      <td>0.77421</td>\n",
       "      <td>&lt;NA&gt;</td>\n",
       "      <td>&lt;NA&gt;</td>\n",
       "      <td>&lt;NA&gt;</td>\n",
       "      <td>0.77421</td>\n",
       "    </tr>\n",
       "    <tr>\n",
       "      <th>документальный</th>\n",
       "      <td>26.446019</td>\n",
       "      <td>13.657291</td>\n",
       "      <td>21.928014</td>\n",
       "      <td>45.135545</td>\n",
       "      <td>115.771778</td>\n",
       "      <td>222.938647</td>\n",
       "    </tr>\n",
       "    <tr>\n",
       "      <th>драма</th>\n",
       "      <td>2166.258624</td>\n",
       "      <td>4542.839988</td>\n",
       "      <td>2635.037729</td>\n",
       "      <td>5336.917197</td>\n",
       "      <td>3789.991501</td>\n",
       "      <td>18471.045039</td>\n",
       "    </tr>\n",
       "    <tr>\n",
       "      <th>история</th>\n",
       "      <td>9.095139</td>\n",
       "      <td>111.012595</td>\n",
       "      <td>1819.99334</td>\n",
       "      <td>&lt;NA&gt;</td>\n",
       "      <td>878.809032</td>\n",
       "      <td>2818.910106</td>\n",
       "    </tr>\n",
       "    <tr>\n",
       "      <th>комедия</th>\n",
       "      <td>4008.586197</td>\n",
       "      <td>2682.528068</td>\n",
       "      <td>4290.313628</td>\n",
       "      <td>4745.234559</td>\n",
       "      <td>7367.659546</td>\n",
       "      <td>23094.321998</td>\n",
       "    </tr>\n",
       "    <tr>\n",
       "      <th>короткометражка</th>\n",
       "      <td>0.07361</td>\n",
       "      <td>&lt;NA&gt;</td>\n",
       "      <td>&lt;NA&gt;</td>\n",
       "      <td>&lt;NA&gt;</td>\n",
       "      <td>&lt;NA&gt;</td>\n",
       "      <td>0.07361</td>\n",
       "    </tr>\n",
       "    <tr>\n",
       "      <th>криминал</th>\n",
       "      <td>137.842073</td>\n",
       "      <td>256.340676</td>\n",
       "      <td>11.215659</td>\n",
       "      <td>&lt;NA&gt;</td>\n",
       "      <td>39.930912</td>\n",
       "      <td>445.32932</td>\n",
       "    </tr>\n",
       "    <tr>\n",
       "      <th>мелодрама</th>\n",
       "      <td>184.083909</td>\n",
       "      <td>145.129942</td>\n",
       "      <td>14.53287</td>\n",
       "      <td>420.982753</td>\n",
       "      <td>581.826649</td>\n",
       "      <td>1346.556123</td>\n",
       "    </tr>\n",
       "    <tr>\n",
       "      <th>музыка</th>\n",
       "      <td>3.204629</td>\n",
       "      <td>&lt;NA&gt;</td>\n",
       "      <td>&lt;NA&gt;</td>\n",
       "      <td>&lt;NA&gt;</td>\n",
       "      <td>46.769961</td>\n",
       "      <td>49.97459</td>\n",
       "    </tr>\n",
       "    <tr>\n",
       "      <th>мультфильм</th>\n",
       "      <td>5545.35503</td>\n",
       "      <td>8759.273908</td>\n",
       "      <td>6962.018469</td>\n",
       "      <td>5794.965913</td>\n",
       "      <td>8958.46594</td>\n",
       "      <td>36020.07926</td>\n",
       "    </tr>\n",
       "    <tr>\n",
       "      <th>мюзикл</th>\n",
       "      <td>574.930418</td>\n",
       "      <td>399.902753</td>\n",
       "      <td>732.287208</td>\n",
       "      <td>118.42349</td>\n",
       "      <td>242.001399</td>\n",
       "      <td>2067.545268</td>\n",
       "    </tr>\n",
       "    <tr>\n",
       "      <th>приключения</th>\n",
       "      <td>1007.521004</td>\n",
       "      <td>22.961799</td>\n",
       "      <td>688.273497</td>\n",
       "      <td>131.539089</td>\n",
       "      <td>454.319214</td>\n",
       "      <td>2304.614603</td>\n",
       "    </tr>\n",
       "    <tr>\n",
       "      <th>семейный</th>\n",
       "      <td>216.04242</td>\n",
       "      <td>316.232471</td>\n",
       "      <td>22.128515</td>\n",
       "      <td>7.516909</td>\n",
       "      <td>120.312828</td>\n",
       "      <td>682.233143</td>\n",
       "    </tr>\n",
       "    <tr>\n",
       "      <th>спорт</th>\n",
       "      <td>321.467927</td>\n",
       "      <td>19.393384</td>\n",
       "      <td>2779.686144</td>\n",
       "      <td>&lt;NA&gt;</td>\n",
       "      <td>&lt;NA&gt;</td>\n",
       "      <td>3120.547455</td>\n",
       "    </tr>\n",
       "    <tr>\n",
       "      <th>триллер</th>\n",
       "      <td>1207.365728</td>\n",
       "      <td>869.067656</td>\n",
       "      <td>699.450645</td>\n",
       "      <td>1469.973154</td>\n",
       "      <td>3034.934083</td>\n",
       "      <td>7280.791266</td>\n",
       "    </tr>\n",
       "    <tr>\n",
       "      <th>ужасы</th>\n",
       "      <td>2309.603337</td>\n",
       "      <td>1818.871934</td>\n",
       "      <td>5012.359073</td>\n",
       "      <td>3697.749736</td>\n",
       "      <td>3782.693488</td>\n",
       "      <td>16621.277568</td>\n",
       "    </tr>\n",
       "    <tr>\n",
       "      <th>фантастика</th>\n",
       "      <td>9794.353601</td>\n",
       "      <td>11053.91126</td>\n",
       "      <td>8883.071567</td>\n",
       "      <td>11051.021423</td>\n",
       "      <td>9108.68875</td>\n",
       "      <td>49891.046601</td>\n",
       "    </tr>\n",
       "    <tr>\n",
       "      <th>фэнтези</th>\n",
       "      <td>1160.608592</td>\n",
       "      <td>8249.383108</td>\n",
       "      <td>6081.331053</td>\n",
       "      <td>3212.390534</td>\n",
       "      <td>5049.840208</td>\n",
       "      <td>23753.553495</td>\n",
       "    </tr>\n",
       "    <tr>\n",
       "      <th>sum</th>\n",
       "      <td>37159.083868</td>\n",
       "      <td>44679.845801</td>\n",
       "      <td>46012.682171</td>\n",
       "      <td>46406.79551</td>\n",
       "      <td>48116.703785</td>\n",
       "      <td>222375.111135</td>\n",
       "    </tr>\n",
       "  </tbody>\n",
       "</table>\n",
       "</div>"
      ],
      "text/plain": [
       "                         2015          2016          2017          2018  \\\n",
       "genres_first                                                              \n",
       "аниме               23.324378          <NA>     34.163829   1260.428874   \n",
       "биография          441.033733       5.17076          <NA>   1210.874831   \n",
       "боевик            7513.012462   4995.436972   4074.392842   6352.825882   \n",
       "вестерн            399.913055          <NA>          <NA>          <NA>   \n",
       "военный             35.305096    415.327791    324.707512    564.508862   \n",
       "детектив            72.618367          <NA>    925.790577    986.306759   \n",
       "детский               1.03852      2.629235          <NA>          <NA>   \n",
       "для взрослых             <NA>       0.77421          <NA>          <NA>   \n",
       "документальный      26.446019     13.657291     21.928014     45.135545   \n",
       "драма             2166.258624   4542.839988   2635.037729   5336.917197   \n",
       "история              9.095139    111.012595    1819.99334          <NA>   \n",
       "комедия           4008.586197   2682.528068   4290.313628   4745.234559   \n",
       "короткометражка       0.07361          <NA>          <NA>          <NA>   \n",
       "криминал           137.842073    256.340676     11.215659          <NA>   \n",
       "мелодрама          184.083909    145.129942      14.53287    420.982753   \n",
       "музыка               3.204629          <NA>          <NA>          <NA>   \n",
       "мультфильм         5545.35503   8759.273908   6962.018469   5794.965913   \n",
       "мюзикл             574.930418    399.902753    732.287208     118.42349   \n",
       "приключения       1007.521004     22.961799    688.273497    131.539089   \n",
       "семейный            216.04242    316.232471     22.128515      7.516909   \n",
       "спорт              321.467927     19.393384   2779.686144          <NA>   \n",
       "триллер           1207.365728    869.067656    699.450645   1469.973154   \n",
       "ужасы             2309.603337   1818.871934   5012.359073   3697.749736   \n",
       "фантастика        9794.353601   11053.91126   8883.071567  11051.021423   \n",
       "фэнтези           1160.608592   8249.383108   6081.331053   3212.390534   \n",
       "sum              37159.083868  44679.845801  46012.682171   46406.79551   \n",
       "\n",
       "                         2019            sum  \n",
       "genres_first                                  \n",
       "аниме               85.916155    1403.833236  \n",
       "биография          245.039437    1902.118761  \n",
       "боевик            3422.790632    26358.45879  \n",
       "вестерн              1.825289     401.738344  \n",
       "военный            320.014115    1659.863376  \n",
       "детектив           469.102868    2453.818571  \n",
       "детский                  <NA>       3.667755  \n",
       "для взрослых             <NA>        0.77421  \n",
       "документальный     115.771778     222.938647  \n",
       "драма             3789.991501   18471.045039  \n",
       "история            878.809032    2818.910106  \n",
       "комедия           7367.659546   23094.321998  \n",
       "короткометражка          <NA>        0.07361  \n",
       "криминал            39.930912      445.32932  \n",
       "мелодрама          581.826649    1346.556123  \n",
       "музыка              46.769961       49.97459  \n",
       "мультфильм         8958.46594    36020.07926  \n",
       "мюзикл             242.001399    2067.545268  \n",
       "приключения        454.319214    2304.614603  \n",
       "семейный           120.312828     682.233143  \n",
       "спорт                    <NA>    3120.547455  \n",
       "триллер           3034.934083    7280.791266  \n",
       "ужасы             3782.693488   16621.277568  \n",
       "фантастика         9108.68875   49891.046601  \n",
       "фэнтези           5049.840208   23753.553495  \n",
       "sum              48116.703785  222375.111135  "
      ]
     },
     "execution_count": 97,
     "metadata": {},
     "output_type": "execute_result"
    }
   ],
   "source": [
    "# Создадим сводную таблицу с суммарными сборами по основным жанрам для 2015+ годов\n",
    "pivot_genre_impact_sum = data[(data['year_show']>2014) & (data['box_office']>0\n",
    "                                    ) & (data['genres_first']!='no_data')].pivot_table(\n",
    "    index='genres_first', columns='year_show',\n",
    "     values='box_office', aggfunc='sum', margins=True, margins_name='sum'\n",
    "                                                          )\n",
    "pivot_genre_impact_sum = pivot_genre_impact_sum/(10**6) # переводим все значения в млн руб\n",
    "pivot_genre_impact = pivot_genre_impact_sum.drop('sum', axis=1).drop('sum') # отдельно сделаем без сумм\n",
    "\n",
    "pivot_genre_impact_sum"
   ]
  },
  {
   "cell_type": "code",
   "execution_count": 98,
   "metadata": {},
   "outputs": [
    {
     "data": {
      "text/html": [
       "<div>\n",
       "<style scoped>\n",
       "    .dataframe tbody tr th:only-of-type {\n",
       "        vertical-align: middle;\n",
       "    }\n",
       "\n",
       "    .dataframe tbody tr th {\n",
       "        vertical-align: top;\n",
       "    }\n",
       "\n",
       "    .dataframe thead th {\n",
       "        text-align: right;\n",
       "    }\n",
       "</style>\n",
       "<table border=\"1\" class=\"dataframe\">\n",
       "  <thead>\n",
       "    <tr style=\"text-align: right;\">\n",
       "      <th></th>\n",
       "      <th>2015</th>\n",
       "      <th>2016</th>\n",
       "      <th>2017</th>\n",
       "      <th>2018</th>\n",
       "      <th>2019</th>\n",
       "      <th>sum</th>\n",
       "    </tr>\n",
       "    <tr>\n",
       "      <th>genres_first</th>\n",
       "      <th></th>\n",
       "      <th></th>\n",
       "      <th></th>\n",
       "      <th></th>\n",
       "      <th></th>\n",
       "      <th></th>\n",
       "    </tr>\n",
       "  </thead>\n",
       "  <tbody>\n",
       "    <tr>\n",
       "      <th>фантастика</th>\n",
       "      <td>9794.353601</td>\n",
       "      <td>11053.91126</td>\n",
       "      <td>8883.071567</td>\n",
       "      <td>11051.021423</td>\n",
       "      <td>9108.68875</td>\n",
       "      <td>49891.046601</td>\n",
       "    </tr>\n",
       "    <tr>\n",
       "      <th>мультфильм</th>\n",
       "      <td>5545.35503</td>\n",
       "      <td>8759.273908</td>\n",
       "      <td>6962.018469</td>\n",
       "      <td>5794.965913</td>\n",
       "      <td>8958.46594</td>\n",
       "      <td>36020.07926</td>\n",
       "    </tr>\n",
       "    <tr>\n",
       "      <th>боевик</th>\n",
       "      <td>7513.012462</td>\n",
       "      <td>4995.436972</td>\n",
       "      <td>4074.392842</td>\n",
       "      <td>6352.825882</td>\n",
       "      <td>3422.790632</td>\n",
       "      <td>26358.45879</td>\n",
       "    </tr>\n",
       "    <tr>\n",
       "      <th>фэнтези</th>\n",
       "      <td>1160.608592</td>\n",
       "      <td>8249.383108</td>\n",
       "      <td>6081.331053</td>\n",
       "      <td>3212.390534</td>\n",
       "      <td>5049.840208</td>\n",
       "      <td>23753.553495</td>\n",
       "    </tr>\n",
       "    <tr>\n",
       "      <th>комедия</th>\n",
       "      <td>4008.586197</td>\n",
       "      <td>2682.528068</td>\n",
       "      <td>4290.313628</td>\n",
       "      <td>4745.234559</td>\n",
       "      <td>7367.659546</td>\n",
       "      <td>23094.321998</td>\n",
       "    </tr>\n",
       "  </tbody>\n",
       "</table>\n",
       "</div>"
      ],
      "text/plain": [
       "                     2015         2016         2017          2018  \\\n",
       "genres_first                                                        \n",
       "фантастика    9794.353601  11053.91126  8883.071567  11051.021423   \n",
       "мультфильм     5545.35503  8759.273908  6962.018469   5794.965913   \n",
       "боевик        7513.012462  4995.436972  4074.392842   6352.825882   \n",
       "фэнтези       1160.608592  8249.383108  6081.331053   3212.390534   \n",
       "комедия       4008.586197  2682.528068  4290.313628   4745.234559   \n",
       "\n",
       "                     2019           sum  \n",
       "genres_first                             \n",
       "фантастика     9108.68875  49891.046601  \n",
       "мультфильм     8958.46594   36020.07926  \n",
       "боевик        3422.790632   26358.45879  \n",
       "фэнтези       5049.840208  23753.553495  \n",
       "комедия       7367.659546  23094.321998  "
      ]
     },
     "execution_count": 98,
     "metadata": {},
     "output_type": "execute_result"
    }
   ],
   "source": [
    "# Выведем 5 жанров с максимальным общим сбором за период\n",
    "pivot_genre_impact_sum.drop('sum').sort_values('sum', ascending=False).head()"
   ]
  },
  {
   "cell_type": "markdown",
   "metadata": {},
   "source": [
    "Больше всего сборов обеспечил жанр фантастика. Проверим влияния количества."
   ]
  },
  {
   "cell_type": "code",
   "execution_count": 99,
   "metadata": {},
   "outputs": [
    {
     "data": {
      "text/html": [
       "<div>\n",
       "<style scoped>\n",
       "    .dataframe tbody tr th:only-of-type {\n",
       "        vertical-align: middle;\n",
       "    }\n",
       "\n",
       "    .dataframe tbody tr th {\n",
       "        vertical-align: top;\n",
       "    }\n",
       "\n",
       "    .dataframe thead th {\n",
       "        text-align: right;\n",
       "    }\n",
       "</style>\n",
       "<table border=\"1\" class=\"dataframe\">\n",
       "  <thead>\n",
       "    <tr style=\"text-align: right;\">\n",
       "      <th>year_show</th>\n",
       "      <th>2015</th>\n",
       "      <th>2016</th>\n",
       "      <th>2017</th>\n",
       "      <th>2018</th>\n",
       "      <th>2019</th>\n",
       "    </tr>\n",
       "    <tr>\n",
       "      <th>genres_first</th>\n",
       "      <th></th>\n",
       "      <th></th>\n",
       "      <th></th>\n",
       "      <th></th>\n",
       "      <th></th>\n",
       "    </tr>\n",
       "  </thead>\n",
       "  <tbody>\n",
       "    <tr>\n",
       "      <th>аниме</th>\n",
       "      <td>11.662189</td>\n",
       "      <td>&lt;NA&gt;</td>\n",
       "      <td>34.163829</td>\n",
       "      <td>157.553609</td>\n",
       "      <td>7.15968</td>\n",
       "    </tr>\n",
       "    <tr>\n",
       "      <th>биография</th>\n",
       "      <td>220.516866</td>\n",
       "      <td>2.58538</td>\n",
       "      <td>&lt;NA&gt;</td>\n",
       "      <td>172.982119</td>\n",
       "      <td>27.226604</td>\n",
       "    </tr>\n",
       "    <tr>\n",
       "      <th>боевик</th>\n",
       "      <td>220.970955</td>\n",
       "      <td>128.088127</td>\n",
       "      <td>119.835084</td>\n",
       "      <td>135.166508</td>\n",
       "      <td>122.242523</td>\n",
       "    </tr>\n",
       "    <tr>\n",
       "      <th>вестерн</th>\n",
       "      <td>199.956527</td>\n",
       "      <td>&lt;NA&gt;</td>\n",
       "      <td>&lt;NA&gt;</td>\n",
       "      <td>&lt;NA&gt;</td>\n",
       "      <td>1.825289</td>\n",
       "    </tr>\n",
       "    <tr>\n",
       "      <th>военный</th>\n",
       "      <td>8.826274</td>\n",
       "      <td>207.663895</td>\n",
       "      <td>162.353756</td>\n",
       "      <td>141.127216</td>\n",
       "      <td>80.003529</td>\n",
       "    </tr>\n",
       "    <tr>\n",
       "      <th>детектив</th>\n",
       "      <td>36.309184</td>\n",
       "      <td>&lt;NA&gt;</td>\n",
       "      <td>231.447644</td>\n",
       "      <td>140.900966</td>\n",
       "      <td>93.820574</td>\n",
       "    </tr>\n",
       "    <tr>\n",
       "      <th>детский</th>\n",
       "      <td>0.51926</td>\n",
       "      <td>0.657309</td>\n",
       "      <td>&lt;NA&gt;</td>\n",
       "      <td>&lt;NA&gt;</td>\n",
       "      <td>&lt;NA&gt;</td>\n",
       "    </tr>\n",
       "    <tr>\n",
       "      <th>для взрослых</th>\n",
       "      <td>&lt;NA&gt;</td>\n",
       "      <td>0.77421</td>\n",
       "      <td>&lt;NA&gt;</td>\n",
       "      <td>&lt;NA&gt;</td>\n",
       "      <td>&lt;NA&gt;</td>\n",
       "    </tr>\n",
       "    <tr>\n",
       "      <th>документальный</th>\n",
       "      <td>2.034309</td>\n",
       "      <td>0.620786</td>\n",
       "      <td>3.132573</td>\n",
       "      <td>2.256777</td>\n",
       "      <td>4.823824</td>\n",
       "    </tr>\n",
       "    <tr>\n",
       "      <th>драма</th>\n",
       "      <td>21.23783</td>\n",
       "      <td>44.978614</td>\n",
       "      <td>31.747443</td>\n",
       "      <td>53.908255</td>\n",
       "      <td>31.322244</td>\n",
       "    </tr>\n",
       "    <tr>\n",
       "      <th>история</th>\n",
       "      <td>3.031713</td>\n",
       "      <td>27.753149</td>\n",
       "      <td>909.99667</td>\n",
       "      <td>&lt;NA&gt;</td>\n",
       "      <td>175.761806</td>\n",
       "    </tr>\n",
       "    <tr>\n",
       "      <th>комедия</th>\n",
       "      <td>89.079693</td>\n",
       "      <td>47.902287</td>\n",
       "      <td>85.806273</td>\n",
       "      <td>100.962437</td>\n",
       "      <td>122.794326</td>\n",
       "    </tr>\n",
       "    <tr>\n",
       "      <th>короткометражка</th>\n",
       "      <td>0.07361</td>\n",
       "      <td>&lt;NA&gt;</td>\n",
       "      <td>&lt;NA&gt;</td>\n",
       "      <td>&lt;NA&gt;</td>\n",
       "      <td>&lt;NA&gt;</td>\n",
       "    </tr>\n",
       "    <tr>\n",
       "      <th>криминал</th>\n",
       "      <td>45.947358</td>\n",
       "      <td>85.446892</td>\n",
       "      <td>5.60783</td>\n",
       "      <td>&lt;NA&gt;</td>\n",
       "      <td>13.310304</td>\n",
       "    </tr>\n",
       "    <tr>\n",
       "      <th>мелодрама</th>\n",
       "      <td>9.688627</td>\n",
       "      <td>10.366424</td>\n",
       "      <td>2.422145</td>\n",
       "      <td>30.070197</td>\n",
       "      <td>38.788443</td>\n",
       "    </tr>\n",
       "    <tr>\n",
       "      <th>музыка</th>\n",
       "      <td>1.602315</td>\n",
       "      <td>&lt;NA&gt;</td>\n",
       "      <td>&lt;NA&gt;</td>\n",
       "      <td>&lt;NA&gt;</td>\n",
       "      <td>46.769961</td>\n",
       "    </tr>\n",
       "    <tr>\n",
       "      <th>мультфильм</th>\n",
       "      <td>120.551196</td>\n",
       "      <td>199.074407</td>\n",
       "      <td>240.069602</td>\n",
       "      <td>144.874148</td>\n",
       "      <td>213.296808</td>\n",
       "    </tr>\n",
       "    <tr>\n",
       "      <th>мюзикл</th>\n",
       "      <td>95.821736</td>\n",
       "      <td>199.951377</td>\n",
       "      <td>732.287208</td>\n",
       "      <td>39.474497</td>\n",
       "      <td>80.667133</td>\n",
       "    </tr>\n",
       "    <tr>\n",
       "      <th>приключения</th>\n",
       "      <td>503.760502</td>\n",
       "      <td>7.653933</td>\n",
       "      <td>137.654699</td>\n",
       "      <td>26.307818</td>\n",
       "      <td>90.863843</td>\n",
       "    </tr>\n",
       "    <tr>\n",
       "      <th>семейный</th>\n",
       "      <td>108.02121</td>\n",
       "      <td>52.705412</td>\n",
       "      <td>22.128515</td>\n",
       "      <td>3.758455</td>\n",
       "      <td>60.156414</td>\n",
       "    </tr>\n",
       "    <tr>\n",
       "      <th>спорт</th>\n",
       "      <td>160.733963</td>\n",
       "      <td>19.393384</td>\n",
       "      <td>2779.686144</td>\n",
       "      <td>&lt;NA&gt;</td>\n",
       "      <td>&lt;NA&gt;</td>\n",
       "    </tr>\n",
       "    <tr>\n",
       "      <th>триллер</th>\n",
       "      <td>33.537937</td>\n",
       "      <td>25.560813</td>\n",
       "      <td>23.315022</td>\n",
       "      <td>41.999233</td>\n",
       "      <td>79.866686</td>\n",
       "    </tr>\n",
       "    <tr>\n",
       "      <th>ужасы</th>\n",
       "      <td>56.331789</td>\n",
       "      <td>34.318338</td>\n",
       "      <td>131.904186</td>\n",
       "      <td>77.036453</td>\n",
       "      <td>74.170461</td>\n",
       "    </tr>\n",
       "    <tr>\n",
       "      <th>фантастика</th>\n",
       "      <td>445.197891</td>\n",
       "      <td>394.782545</td>\n",
       "      <td>386.220503</td>\n",
       "      <td>315.743469</td>\n",
       "      <td>350.334183</td>\n",
       "    </tr>\n",
       "    <tr>\n",
       "      <th>фэнтези</th>\n",
       "      <td>82.900614</td>\n",
       "      <td>266.109133</td>\n",
       "      <td>552.848278</td>\n",
       "      <td>160.619527</td>\n",
       "      <td>240.468581</td>\n",
       "    </tr>\n",
       "  </tbody>\n",
       "</table>\n",
       "</div>"
      ],
      "text/plain": [
       "year_show              2015        2016         2017        2018        2019\n",
       "genres_first                                                                \n",
       "аниме             11.662189        <NA>    34.163829  157.553609     7.15968\n",
       "биография        220.516866     2.58538         <NA>  172.982119   27.226604\n",
       "боевик           220.970955  128.088127   119.835084  135.166508  122.242523\n",
       "вестерн          199.956527        <NA>         <NA>        <NA>    1.825289\n",
       "военный            8.826274  207.663895   162.353756  141.127216   80.003529\n",
       "детектив          36.309184        <NA>   231.447644  140.900966   93.820574\n",
       "детский             0.51926    0.657309         <NA>        <NA>        <NA>\n",
       "для взрослых           <NA>     0.77421         <NA>        <NA>        <NA>\n",
       "документальный     2.034309    0.620786     3.132573    2.256777    4.823824\n",
       "драма              21.23783   44.978614    31.747443   53.908255   31.322244\n",
       "история            3.031713   27.753149    909.99667        <NA>  175.761806\n",
       "комедия           89.079693   47.902287    85.806273  100.962437  122.794326\n",
       "короткометражка     0.07361        <NA>         <NA>        <NA>        <NA>\n",
       "криминал          45.947358   85.446892      5.60783        <NA>   13.310304\n",
       "мелодрама          9.688627   10.366424     2.422145   30.070197   38.788443\n",
       "музыка             1.602315        <NA>         <NA>        <NA>   46.769961\n",
       "мультфильм       120.551196  199.074407   240.069602  144.874148  213.296808\n",
       "мюзикл            95.821736  199.951377   732.287208   39.474497   80.667133\n",
       "приключения      503.760502    7.653933   137.654699   26.307818   90.863843\n",
       "семейный          108.02121   52.705412    22.128515    3.758455   60.156414\n",
       "спорт            160.733963   19.393384  2779.686144        <NA>        <NA>\n",
       "триллер           33.537937   25.560813    23.315022   41.999233   79.866686\n",
       "ужасы             56.331789   34.318338   131.904186   77.036453   74.170461\n",
       "фантастика       445.197891  394.782545   386.220503  315.743469  350.334183\n",
       "фэнтези           82.900614  266.109133   552.848278  160.619527  240.468581"
      ]
     },
     "execution_count": 99,
     "metadata": {},
     "output_type": "execute_result"
    }
   ],
   "source": [
    "# Создадим сводную таблицу с средними сборами по основному жанру для 2015+ годов\n",
    "pivot_genre_impact_mean = data[(data['year_show']>2014) & (data['box_office']>0\n",
    "                                    ) & (data['genres_first']!='no_data')].pivot_table(\n",
    "    index='genres_first', columns='year_show', values='box_office', aggfunc='mean')\n",
    "                            \n",
    "pivot_genre_impact_mean = pivot_genre_impact_mean/(10**6) # переводим все значения в млн руб\n",
    "\n",
    "pivot_genre_impact_mean"
   ]
  },
  {
   "cell_type": "code",
   "execution_count": 100,
   "metadata": {},
   "outputs": [
    {
     "data": {
      "text/plain": [
       "спорт         2959.813491\n",
       "фантастика    1892.278591\n",
       "фэнтези       1302.946132\n",
       "мюзикл        1148.201950\n",
       "история       1116.543338\n",
       "dtype: float64"
      ]
     },
     "execution_count": 100,
     "metadata": {},
     "output_type": "execute_result"
    }
   ],
   "source": [
    "# Выведем 5 жанров с максимальным средним сбором за период (посредством индекса)\n",
    "pivot_genre_impact_mean.T.sum().sort_values(ascending=False).head(5)"
   ]
  },
  {
   "cell_type": "markdown",
   "metadata": {},
   "source": [
    "**Промежуточный вывод:** <br>\n",
    "* По общему сбору заметно выше фильмы жанров \"фантастика\" и \"мультфильм\". Это связано с количество таких фильмов.\n",
    "* По средним сборам начинают преобладать фильмы с жанрами \"спорт\", \"фантастика\", \"фэнтези\", \"мюзикл\" и \"история\"."
   ]
  },
  {
   "cell_type": "markdown",
   "metadata": {
    "id": "l_Kg6Ku4gFya"
   },
   "source": [
    "### Шаг 4. Иследуем фильмы, которые получили государственную поддержку"
   ]
  },
  {
   "cell_type": "markdown",
   "metadata": {},
   "source": [
    "#### Шаг 4.1. Общие данные по фильмам с гос поддержкой"
   ]
  },
  {
   "cell_type": "code",
   "execution_count": 101,
   "metadata": {},
   "outputs": [
    {
     "data": {
      "text/html": [
       "<div>\n",
       "<style scoped>\n",
       "    .dataframe tbody tr th:only-of-type {\n",
       "        vertical-align: middle;\n",
       "    }\n",
       "\n",
       "    .dataframe tbody tr th {\n",
       "        vertical-align: top;\n",
       "    }\n",
       "\n",
       "    .dataframe thead th {\n",
       "        text-align: right;\n",
       "    }\n",
       "</style>\n",
       "<table border=\"1\" class=\"dataframe\">\n",
       "  <thead>\n",
       "    <tr style=\"text-align: right;\">\n",
       "      <th></th>\n",
       "      <th>box_office</th>\n",
       "      <th>budget</th>\n",
       "      <th>nonrefundable_support</th>\n",
       "      <th>refundable_support</th>\n",
       "    </tr>\n",
       "    <tr>\n",
       "      <th>year_show</th>\n",
       "      <th></th>\n",
       "      <th></th>\n",
       "      <th></th>\n",
       "      <th></th>\n",
       "    </tr>\n",
       "  </thead>\n",
       "  <tbody>\n",
       "    <tr>\n",
       "      <th>2013</th>\n",
       "      <td>20.322386</td>\n",
       "      <td>255.43539</td>\n",
       "      <td>134.347945</td>\n",
       "      <td>0.0</td>\n",
       "    </tr>\n",
       "    <tr>\n",
       "      <th>2014</th>\n",
       "      <td>1007.18815</td>\n",
       "      <td>1279.484783</td>\n",
       "      <td>478.002299</td>\n",
       "      <td>71.0</td>\n",
       "    </tr>\n",
       "    <tr>\n",
       "      <th>2015</th>\n",
       "      <td>4815.747418</td>\n",
       "      <td>7309.669207</td>\n",
       "      <td>2680.08834</td>\n",
       "      <td>547.153119</td>\n",
       "    </tr>\n",
       "    <tr>\n",
       "      <th>2016</th>\n",
       "      <td>4957.724367</td>\n",
       "      <td>7228.942748</td>\n",
       "      <td>3074.655482</td>\n",
       "      <td>902.5</td>\n",
       "    </tr>\n",
       "    <tr>\n",
       "      <th>2017</th>\n",
       "      <td>10759.515337</td>\n",
       "      <td>6972.172568</td>\n",
       "      <td>2424.624781</td>\n",
       "      <td>674.346881</td>\n",
       "    </tr>\n",
       "    <tr>\n",
       "      <th>2018</th>\n",
       "      <td>9517.657284</td>\n",
       "      <td>6651.694634</td>\n",
       "      <td>2506.0</td>\n",
       "      <td>592.0</td>\n",
       "    </tr>\n",
       "    <tr>\n",
       "      <th>2019</th>\n",
       "      <td>8262.02063</td>\n",
       "      <td>12542.866609</td>\n",
       "      <td>3856.0</td>\n",
       "      <td>868.0</td>\n",
       "    </tr>\n",
       "    <tr>\n",
       "      <th>sum</th>\n",
       "      <td>39340.175572</td>\n",
       "      <td>40586.168158</td>\n",
       "      <td>14404.198847</td>\n",
       "      <td>3515.0</td>\n",
       "    </tr>\n",
       "  </tbody>\n",
       "</table>\n",
       "</div>"
      ],
      "text/plain": [
       "             box_office        budget  nonrefundable_support  \\\n",
       "year_show                                                      \n",
       "2013          20.322386     255.43539             134.347945   \n",
       "2014         1007.18815   1279.484783             478.002299   \n",
       "2015        4815.747418   7309.669207             2680.08834   \n",
       "2016        4957.724367   7228.942748            3074.655482   \n",
       "2017       10759.515337   6972.172568            2424.624781   \n",
       "2018        9517.657284   6651.694634                 2506.0   \n",
       "2019         8262.02063  12542.866609                 3856.0   \n",
       "sum        39340.175572  40586.168158           14404.198847   \n",
       "\n",
       "           refundable_support  \n",
       "year_show                      \n",
       "2013                      0.0  \n",
       "2014                     71.0  \n",
       "2015               547.153119  \n",
       "2016                    902.5  \n",
       "2017               674.346881  \n",
       "2018                    592.0  \n",
       "2019                    868.0  \n",
       "sum                    3515.0  "
      ]
     },
     "execution_count": 101,
     "metadata": {},
     "output_type": "execute_result"
    }
   ],
   "source": [
    "pivot_gov_sup = data[data['budget'].notna()].pivot_table(index='year_show', \n",
    "                values=('refundable_support', 'nonrefundable_support', 'budget', 'box_office'),\n",
    "                aggfunc='sum', margins=True, margins_name='sum'            \n",
    "                                        )\n",
    "\n",
    "pivot_gov_sup = pivot_gov_sup/(10**6) # переводим значения в млн руб\n",
    "pivot_gov_sup "
   ]
  },
  {
   "cell_type": "code",
   "execution_count": 102,
   "metadata": {},
   "outputs": [
    {
     "data": {
      "text/plain": [
       "count     315.0\n",
       "unique    258.0\n",
       "top        70.0\n",
       "freq       14.0\n",
       "Name: part_gov_support, dtype: float64"
      ]
     },
     "execution_count": 102,
     "metadata": {},
     "output_type": "execute_result"
    }
   ],
   "source": [
    "data['part_gov_support'].describe()"
   ]
  },
  {
   "cell_type": "code",
   "execution_count": 103,
   "metadata": {},
   "outputs": [
    {
     "data": {
      "text/plain": [
       "8.253968253968253"
      ]
     },
     "execution_count": 103,
     "metadata": {},
     "output_type": "execute_result"
    }
   ],
   "source": [
    "# Сколько % фильмов не смогли вернуть возвратную  часть финансирования\n",
    "not_return = data[data['budget'].notna()].query('box_office < refundable_support', \n",
    "                                                engine='python')\n",
    "''' Явно указываем движок выполнения Python, чтобы исключить \n",
    "предупреждение о вынужденном переходе на него (numexpr не поддерживает тип Int64).\n",
    "В итоге увеличивается время обработки, но для этой задачи это не критично '''\n",
    "\n",
    "# Выводим % фильмов, которые не смогли вернуть возвратную  часть\n",
    "not_return.shape[0] / data[data['budget'].notna()].shape[0] *100 "
   ]
  },
  {
   "cell_type": "code",
   "execution_count": 104,
   "metadata": {},
   "outputs": [
    {
     "data": {
      "text/plain": [
       "20.952380952380953"
      ]
     },
     "execution_count": 104,
     "metadata": {},
     "output_type": "execute_result"
    }
   ],
   "source": [
    "# Определим фильмы с гос участием, которые полностью окупили свой бюджет\n",
    "full_return = data[data['budget'].notna()].query('box_office > budget', \n",
    "                                                engine='python')\n",
    "full_return.shape[0] / data[data['budget'].notna()].shape[0] *100 "
   ]
  },
  {
   "cell_type": "markdown",
   "metadata": {},
   "source": [
    "**Общие данные по фильмам с государственным финансированием:**\n",
    "- Гос финансирование указано для 315 фильмов <br>\n",
    "- Общий бюджет фильмов, получивших государственную поддержку, составил 42,24 млрд рублей, из которых 15,153 млрд рублей — это невозвратные средства, а 3,655 млрд рублей — возвратные. При оценке финансового успеха следует учитывать, что некоторые фильмы могли иметь некоммерческую направленность (культурную, образовательную и т.д.), и их окупаемость изначально не была запланирована. <br>\n",
    "- 8,25% фильмов (26 шт) не смогли вернуть возвратную часть гос финансирования\n",
    "- 20.95% фильмов (66 шт) с гос финансированием полностью окупили свой бюджет\n",
    "- Общие кассовые сборы составляют 39,34 млрд руб <br>\n",
    "- Средний процент участия государства в бюджете фильма 51%, минимальный 4,4%, максимальный 78,47% <br>\n",
    "- До 2015 года значения также выбиваются\n"
   ]
  },
  {
   "cell_type": "markdown",
   "metadata": {},
   "source": [
    "#### Шаг 4.2. Влияние жанра на окупаемость возратной части"
   ]
  },
  {
   "cell_type": "code",
   "execution_count": 105,
   "metadata": {},
   "outputs": [
    {
     "data": {
      "text/plain": [
       "драма         92\n",
       "комедия       68\n",
       "мультфильм    26\n",
       "no_data       16\n",
       "триллер       14\n",
       "Name: genres_first, dtype: int64"
      ]
     },
     "execution_count": 105,
     "metadata": {},
     "output_type": "execute_result"
    }
   ],
   "source": [
    "# Самые частыe жанры с гос финансированием\n",
    "data[data['budget'].notna()]['genres_first'].value_counts().head()"
   ]
  },
  {
   "cell_type": "code",
   "execution_count": 106,
   "metadata": {},
   "outputs": [
    {
     "data": {
      "text/plain": [
       "драма      6\n",
       "комедия    6\n",
       "мюзикл     3\n",
       "триллер    2\n",
       "no_data    2\n",
       "Name: genres_first, dtype: int64"
      ]
     },
     "execution_count": 106,
     "metadata": {},
     "output_type": "execute_result"
    }
   ],
   "source": [
    "# Не окупают возратную часть\n",
    "not_return['genres_first'].value_counts().head()"
   ]
  },
  {
   "cell_type": "code",
   "execution_count": 107,
   "metadata": {
    "scrolled": true
   },
   "outputs": [
    {
     "data": {
      "text/plain": [
       "драма         86\n",
       "комедия       62\n",
       "мультфильм    25\n",
       "no_data       14\n",
       "мелодрама     13\n",
       "Name: genres_first, dtype: int64"
      ]
     },
     "execution_count": 107,
     "metadata": {},
     "output_type": "execute_result"
    }
   ],
   "source": [
    "# Окупают возратную часть\n",
    "\n",
    "# Получаем список фильмов которые окупили возращаемую часть\n",
    "title_films_nr = not_return['title_replace']\n",
    "refund_return = data[data['budget'].notna()].query('title_replace not in @title_films_nr')\n",
    "\n",
    "refund_return['genres_first'].value_counts().head()"
   ]
  },
  {
   "cell_type": "markdown",
   "metadata": {},
   "source": [
    "**Выборка слишком маленькая, чтобы делать выводы по жанрам** <br>\n",
    "Общее распределение равномерное (с учетом влияния 1 усл.ед. на относительные значения)"
   ]
  },
  {
   "cell_type": "markdown",
   "metadata": {},
   "source": [
    "#### Шаг 4.3. Распределение по фондам финансирования"
   ]
  },
  {
   "cell_type": "code",
   "execution_count": 108,
   "metadata": {
    "scrolled": true
   },
   "outputs": [
    {
     "data": {
      "text/html": [
       "<div>\n",
       "<style scoped>\n",
       "    .dataframe tbody tr th:only-of-type {\n",
       "        vertical-align: middle;\n",
       "    }\n",
       "\n",
       "    .dataframe tbody tr th {\n",
       "        vertical-align: top;\n",
       "    }\n",
       "\n",
       "    .dataframe thead th {\n",
       "        text-align: right;\n",
       "    }\n",
       "</style>\n",
       "<table border=\"1\" class=\"dataframe\">\n",
       "  <thead>\n",
       "    <tr style=\"text-align: right;\">\n",
       "      <th></th>\n",
       "      <th>box_office</th>\n",
       "      <th>budget</th>\n",
       "      <th>nonrefundable_support</th>\n",
       "      <th>refundable_support</th>\n",
       "      <th>payback, %</th>\n",
       "    </tr>\n",
       "    <tr>\n",
       "      <th>financing_source</th>\n",
       "      <th></th>\n",
       "      <th></th>\n",
       "      <th></th>\n",
       "      <th></th>\n",
       "      <th></th>\n",
       "    </tr>\n",
       "  </thead>\n",
       "  <tbody>\n",
       "    <tr>\n",
       "      <th>Министерство культуры</th>\n",
       "      <td>5306.6554</td>\n",
       "      <td>11469.203758</td>\n",
       "      <td>4830.661</td>\n",
       "      <td>0.0</td>\n",
       "      <td>46.268734</td>\n",
       "    </tr>\n",
       "    <tr>\n",
       "      <th>Министерство культуры, Фонд кино</th>\n",
       "      <td>795.104402</td>\n",
       "      <td>2626.309609</td>\n",
       "      <td>836.931354</td>\n",
       "      <td>325.5</td>\n",
       "      <td>30.274588</td>\n",
       "    </tr>\n",
       "    <tr>\n",
       "      <th>Фонд кино</th>\n",
       "      <td>33238.41577</td>\n",
       "      <td>28144.752572</td>\n",
       "      <td>9486.126493</td>\n",
       "      <td>3329.5</td>\n",
       "      <td>118.098092</td>\n",
       "    </tr>\n",
       "  </tbody>\n",
       "</table>\n",
       "</div>"
      ],
      "text/plain": [
       "                                   box_office        budget  \\\n",
       "financing_source                                              \n",
       "Министерство культуры               5306.6554  11469.203758   \n",
       "Министерство культуры, Фонд кино   795.104402   2626.309609   \n",
       "Фонд кино                         33238.41577  28144.752572   \n",
       "\n",
       "                                  nonrefundable_support  refundable_support  \\\n",
       "financing_source                                                              \n",
       "Министерство культуры                          4830.661                 0.0   \n",
       "Министерство культуры, Фонд кино             836.931354               325.5   \n",
       "Фонд кино                                   9486.126493              3329.5   \n",
       "\n",
       "                                  payback, %  \n",
       "financing_source                              \n",
       "Министерство культуры              46.268734  \n",
       "Министерство культуры, Фонд кино   30.274588  \n",
       "Фонд кино                         118.098092  "
      ]
     },
     "execution_count": 108,
     "metadata": {},
     "output_type": "execute_result"
    }
   ],
   "source": [
    "pivot_fund = data[data['budget'].notna()].pivot_table(index='financing_source', \n",
    "                values=('refundable_support', 'nonrefundable_support', 'budget', 'box_office'),\n",
    "                aggfunc='sum')\n",
    "\n",
    "pivot_fund = pivot_fund/(10**6) # переводим значения в млн руб\n",
    "\n",
    "# Добавим окупаемость от общего бюджета по сборам, в %\n",
    "pivot_fund['payback, %'] = pivot_fund['box_office']/pivot_fund['budget']*100\n",
    "\n",
    "pivot_fund "
   ]
  },
  {
   "cell_type": "markdown",
   "metadata": {},
   "source": [
    "* Министерство культуры выделяет только безвозвратную финансовую поддержку. \n",
    "* Общая окупаемость фильмов с поддержкой от Фонда кино 118% \n",
    "* Общая окупаемость фильмов с поддержкой от Министерства культуры всего 46%, но задачи окупить перед не ставилось."
   ]
  },
  {
   "cell_type": "markdown",
   "metadata": {},
   "source": [
    "#### Шаг 4.4. Объем выделяемой гос поддержки по годам"
   ]
  },
  {
   "cell_type": "code",
   "execution_count": 109,
   "metadata": {},
   "outputs": [
    {
     "data": {
      "text/html": [
       "<div>\n",
       "<style scoped>\n",
       "    .dataframe tbody tr th:only-of-type {\n",
       "        vertical-align: middle;\n",
       "    }\n",
       "\n",
       "    .dataframe tbody tr th {\n",
       "        vertical-align: top;\n",
       "    }\n",
       "\n",
       "    .dataframe thead th {\n",
       "        text-align: right;\n",
       "    }\n",
       "</style>\n",
       "<table border=\"1\" class=\"dataframe\">\n",
       "  <thead>\n",
       "    <tr style=\"text-align: right;\">\n",
       "      <th></th>\n",
       "      <th>box_office</th>\n",
       "      <th>budget</th>\n",
       "      <th>nonrefundable_support</th>\n",
       "      <th>refundable_support</th>\n",
       "      <th>full_support</th>\n",
       "    </tr>\n",
       "    <tr>\n",
       "      <th>year_show</th>\n",
       "      <th></th>\n",
       "      <th></th>\n",
       "      <th></th>\n",
       "      <th></th>\n",
       "      <th></th>\n",
       "    </tr>\n",
       "  </thead>\n",
       "  <tbody>\n",
       "    <tr>\n",
       "      <th>2013</th>\n",
       "      <td>20.322386</td>\n",
       "      <td>255.43539</td>\n",
       "      <td>134.347945</td>\n",
       "      <td>0.0</td>\n",
       "      <td>134.347945</td>\n",
       "    </tr>\n",
       "    <tr>\n",
       "      <th>2014</th>\n",
       "      <td>1007.18815</td>\n",
       "      <td>1279.484783</td>\n",
       "      <td>478.002299</td>\n",
       "      <td>71.0</td>\n",
       "      <td>549.002299</td>\n",
       "    </tr>\n",
       "    <tr>\n",
       "      <th>2015</th>\n",
       "      <td>4815.747418</td>\n",
       "      <td>7309.669207</td>\n",
       "      <td>2680.08834</td>\n",
       "      <td>547.153119</td>\n",
       "      <td>3227.241459</td>\n",
       "    </tr>\n",
       "    <tr>\n",
       "      <th>2016</th>\n",
       "      <td>4957.724367</td>\n",
       "      <td>7228.942748</td>\n",
       "      <td>3074.655482</td>\n",
       "      <td>902.5</td>\n",
       "      <td>3977.155482</td>\n",
       "    </tr>\n",
       "    <tr>\n",
       "      <th>2017</th>\n",
       "      <td>10759.515337</td>\n",
       "      <td>6972.172568</td>\n",
       "      <td>2424.624781</td>\n",
       "      <td>674.346881</td>\n",
       "      <td>3098.971662</td>\n",
       "    </tr>\n",
       "    <tr>\n",
       "      <th>2018</th>\n",
       "      <td>9517.657284</td>\n",
       "      <td>6651.694634</td>\n",
       "      <td>2506.0</td>\n",
       "      <td>592.0</td>\n",
       "      <td>3098.0</td>\n",
       "    </tr>\n",
       "    <tr>\n",
       "      <th>2019</th>\n",
       "      <td>8262.02063</td>\n",
       "      <td>12542.866609</td>\n",
       "      <td>3856.0</td>\n",
       "      <td>868.0</td>\n",
       "      <td>4724.0</td>\n",
       "    </tr>\n",
       "    <tr>\n",
       "      <th>sum</th>\n",
       "      <td>39340.175572</td>\n",
       "      <td>40586.168158</td>\n",
       "      <td>14404.198847</td>\n",
       "      <td>3515.0</td>\n",
       "      <td>17919.198847</td>\n",
       "    </tr>\n",
       "  </tbody>\n",
       "</table>\n",
       "</div>"
      ],
      "text/plain": [
       "             box_office        budget  nonrefundable_support  \\\n",
       "year_show                                                      \n",
       "2013          20.322386     255.43539             134.347945   \n",
       "2014         1007.18815   1279.484783             478.002299   \n",
       "2015        4815.747418   7309.669207             2680.08834   \n",
       "2016        4957.724367   7228.942748            3074.655482   \n",
       "2017       10759.515337   6972.172568            2424.624781   \n",
       "2018        9517.657284   6651.694634                 2506.0   \n",
       "2019         8262.02063  12542.866609                 3856.0   \n",
       "sum        39340.175572  40586.168158           14404.198847   \n",
       "\n",
       "           refundable_support  full_support  \n",
       "year_show                                    \n",
       "2013                      0.0    134.347945  \n",
       "2014                     71.0    549.002299  \n",
       "2015               547.153119   3227.241459  \n",
       "2016                    902.5   3977.155482  \n",
       "2017               674.346881   3098.971662  \n",
       "2018                    592.0        3098.0  \n",
       "2019                    868.0        4724.0  \n",
       "sum                    3515.0  17919.198847  "
      ]
     },
     "execution_count": 109,
     "metadata": {},
     "output_type": "execute_result"
    }
   ],
   "source": [
    "# Добавляем данные по общей гос поддержке в pivot_gov_sup \n",
    "pivot_gov_sup['full_support'] = pivot_gov_sup['nonrefundable_support'] + \\\n",
    "            pivot_gov_sup['refundable_support']\n",
    "pivot_gov_sup"
   ]
  },
  {
   "cell_type": "code",
   "execution_count": 110,
   "metadata": {
    "scrolled": false
   },
   "outputs": [
    {
     "data": {
      "image/png": "[encoded data removed]",
      "text/plain": [
       "<Figure size 432x288 with 1 Axes>"
      ]
     },
     "metadata": {
      "needs_background": "light"
     },
     "output_type": "display_data"
    }
   ],
   "source": [
    "# Выведем график по сборам для каждой возрастной категории \n",
    "pivot_gov_sup.drop('sum')['full_support'].plot(\n",
    "        style='-', grid=True, legend=True, marker='o',\n",
    "      title='Объем гос поддержки по годам', xlabel='Год', ylabel='Объем гос поддержки, млн руб');\n",
    "plt.legend(bbox_to_anchor=(1, 1), loc='upper left');"
   ]
  },
  {
   "cell_type": "markdown",
   "metadata": {},
   "source": [
    "Общий объем финансирования имеет незначительную тенденцию к увеличению (данные до 2015 года исключаем из-за их недостоверности). Есть предположение, что объем выделяемых средств обратно пропорционален общим сбором кинопроката."
   ]
  },
  {
   "cell_type": "code",
   "execution_count": 111,
   "metadata": {},
   "outputs": [
    {
     "data": {
      "text/plain": [
       "-0.6"
      ]
     },
     "execution_count": 111,
     "metadata": {},
     "output_type": "execute_result"
    }
   ],
   "source": [
    "# Объеденяем данные из двух таблиц по ключу 'year_show'\n",
    "table_temp = pivot_gov_sup.drop('sum').reset_index().merge(\n",
    "    pivot_box_year,\n",
    "    on='year_show', how='left', suffixes=('', '_2')).query('year_show >= 2015')\n",
    "# Определяем коэф. корреляции между выделением средств гос поддержки и общим сбором средств фильмов\n",
    "# для фильмов с 2015 года. Т.к. есть выбросы, то лучше использовать метод Спирмена\n",
    "table_temp['box_office_2'].corr(table_temp['full_support'], method='spearman') # корреляция Спирмена \t\t\t\t"
   ]
  },
  {
   "cell_type": "code",
   "execution_count": 112,
   "metadata": {},
   "outputs": [
    {
     "data": {
      "text/plain": [
       "-0.49999999999999994"
      ]
     },
     "execution_count": 112,
     "metadata": {},
     "output_type": "execute_result"
    }
   ],
   "source": [
    "# Также проверим корреляцию между объемом гос поддержки и сборами фильмов с поддержкой\n",
    "table_temp['box_office'].corr(table_temp['full_support'], method='spearman')"
   ]
  },
  {
   "cell_type": "markdown",
   "metadata": {},
   "source": [
    "Действительно прослеживается обратная тенденция - чем больше кассовые сборы, тем меньший общий объем гос поддержки. Но надо принимать во внимание малый период выборки (5 лет), что может отображается на коэффициенте. Так что делать выводы по предоставленным данным нельзя. Можно только вывести гипотезу, что чем больше объем кассовых сборов, тем меньше фильмов нуждаются в гос. поддержке."
   ]
  },
  {
   "cell_type": "markdown",
   "metadata": {},
   "source": [
    "#### Шаг 4.5. Анализ средней поддержки на фильм"
   ]
  },
  {
   "cell_type": "code",
   "execution_count": 113,
   "metadata": {},
   "outputs": [
    {
     "data": {
      "text/plain": [
       "year_show\n",
       "2013     2\n",
       "2014    15\n",
       "2015    80\n",
       "2016    58\n",
       "2017    39\n",
       "2018    52\n",
       "2019    69\n",
       "Name: title, dtype: int64"
      ]
     },
     "execution_count": 113,
     "metadata": {},
     "output_type": "execute_result"
    }
   ],
   "source": [
    "# Выведем кол-во фильмов с гос поддержкой по годам\n",
    "data[data['budget'].notna()].groupby('year_show')['title'].count()"
   ]
  },
  {
   "cell_type": "code",
   "execution_count": 114,
   "metadata": {},
   "outputs": [
    {
     "data": {
      "text/plain": [
       "year_show\n",
       "2013    67.173973\n",
       "2014    36.600153\n",
       "2015    40.340518\n",
       "2016    68.571646\n",
       "2017    79.460812\n",
       "2018    59.576923\n",
       "2019    68.463768\n",
       "sum           NaN\n",
       "dtype: Float64"
      ]
     },
     "execution_count": 114,
     "metadata": {},
     "output_type": "execute_result"
    }
   ],
   "source": [
    "# Выведем средний объем поддержки на фильм по годам, в млн.руб\n",
    "pivot_gov_sup['full_support'] / data[data['budget'].notna()].groupby('year_show')['title'].count()"
   ]
  },
  {
   "cell_type": "markdown",
   "metadata": {},
   "source": [
    "От количества фильмов объем выделяемых средств не зависит. Либо выделяется общий объем на год, с корректировкой для \"особых\" фильмов, либо вопрос о количестве выделяемых средств на фильм решается индивидуально. Есть совпадения по общему объему за 2017 и 2018 год и по среднему на фильм за 2016 + 2019 год (второе скорее всего случайность, т.к. многие показатели между годами изменились)"
   ]
  },
  {
   "cell_type": "markdown",
   "metadata": {},
   "source": [
    "#### Шаг 4.6. Анализ рейтинга фильмов с гос поддержкой"
   ]
  },
  {
   "cell_type": "code",
   "execution_count": 115,
   "metadata": {},
   "outputs": [
    {
     "data": {
      "text/plain": [
       "(5.408068097705403, 5.701587301587302)"
      ]
     },
     "execution_count": 115,
     "metadata": {},
     "output_type": "execute_result"
    }
   ],
   "source": [
    "# Рассчитаем средний рейтинг всех фильмов и фильмов с гос поддержкой\n",
    "data['ratings'].mean(), data[data['budget'].notna()]['ratings'].mean()"
   ]
  },
  {
   "cell_type": "markdown",
   "metadata": {},
   "source": [
    "Средний рейтинг для всех фильмов и фильмов с гос поддержкой одинаков, около 5-6."
   ]
  },
  {
   "cell_type": "markdown",
   "metadata": {},
   "source": [
    "**Промежуточный вывод:** <br>\n",
    "* Фильмы с государственной поддержкой в среднем окупаются, если изначально ставится такая задача (предусмотрены возвратные средства).\n",
    "* Оценки зрителей для фильмов с государственной поддержкой, согласно анализу, не изменяются по сравнению с другими фильмами.\n",
    "* Недостаточно данных по бюджетам фильмов без государственной поддержки для полноценного сравнения показателей окупаемости. "
   ]
  },
  {
   "cell_type": "markdown",
   "metadata": {
    "id": "V2gYwMcPgFyd"
   },
   "source": [
    "### Шаг 5. Общий вывод"
   ]
  },
  {
   "cell_type": "markdown",
   "metadata": {
    "id": "AYRg3dzXgFye"
   },
   "source": [
    "**Цель работы:** <br> \n",
    "Определить тенденции кинопроката в России"
   ]
  },
  {
   "cell_type": "markdown",
   "metadata": {},
   "source": [
    "**Анализ вводных данных:** <br><br>\n",
    "Во вводных данных было обнаружено:\n",
    "- [Пропуски в столбцах](#Шаг-2.2.-Изучим-пропуски-в-датафрейме). По возможности пропуски были заполнены, либо оставлены без изменений (столбец 'budget' и 'box_office')\n",
    "- [Дубликаты](#Шаг-2.3.-Изучим-дубликаты-в-датафрейме-и-удалим-их-по-необходимости) (731 шт) были удалены, за исключением разницы в сроках показа более 1 года и наличием указанных сборов.\n",
    "- Аномальные значения были обработаны на этапе изучения [категориальных данных](#Шаг-2.4.-Изучим-категориальные-значения) и [количественных данных](#Шаг-2.5.-Проверим-количественные-значения). Были удалены 17 строк, где указано гос поддержка, но значения бюджет были пусты.\n",
    "- [Данные](#Столбец-'box_office') по кассовым сборам ('box_office') имеют нерелевантные значения. Особенно заметно на годах до 2015. Данные по сборам до 2015 года не подлежат анализу. **Для проверки данных по кассовым сборам необходимо произвести полную валидацию данных.** \n",
    "- Обнаружена ошибка в Техническом Задании. Столбец 'show_start_date' содержит данные по дате выдачи прокатного удостоверения, а не премьеру фильма (как указано в ТЗ). [Подробнее](#Дополнительно-по-дате.).\n",
    "- Обнаружена ошибка - дублирование номера прокатного удостоверения 221054410 и 221154310"
   ]
  },
  {
   "cell_type": "markdown",
   "metadata": {},
   "source": [
    "**Анализ тенденций кинопроката в России:**<br><br>\n",
    "- Общее количество кинофильмов в прокате растет.\n",
    "- Общие кассовые сборы стабилизировались на уровне 48 млрд рублей и показывают признаки стагнации.\n",
    "- Средние показатели сборов на фильм показывают небольшое падение.\n",
    "- Небольшая доля фильмов (15-20%) аккумулирует около 90% всех сборов, в то время как оставшиеся фильмы распределяют между собой лишь 10%. Из-за этого медианные значения не могут адекватно отражать общую картину.\n",
    "- В кинопрокате большая зависимость от конкретных фильмов (характерная черта всех цифровых продуктов). Это связано с большими затратами на разработку и малыми затратами на масштабирование продукта.\n",
    "- Большая часть сборов приходится на фильмы с возрастным рейтингом 16+, что объясняется их доминирующим количеством в прокате.\n",
    "- По средним сборам прослеживается тенденция к увеличению сборов для возрастных категорий 6+ и 12+ лет и преобладают фильмы с рейтингом 6+ лет.\n",
    "- Отмечается значительная волатильность данных, что связано с [влиянием крупных релизов (\"блокбастеров\")](#median_dependence) и неравномерным распределением фильмов по возрастным рейтингам.\n",
    "- По общему сбору лидируют фильмы жанров \"фантастика\" и \"мультфильм\". Это связано с количество таких фильмов.\n",
    "- По средним сборам начинают преобладать фильмы с жанрами \"спорт\", \"фантастика\", \"фэнтези\", \"мюзикл\" и \"история\".\n",
    "- Оценка тенденций на основе только финансовых показателей затруднена из-за значительного влияния внешних экономических факторов."
   ]
  },
  {
   "cell_type": "markdown",
   "metadata": {},
   "source": [
    "**Анализ государственной поддержки кинопроката в России:**<br><br>\n",
    "- 8,25% фильмов (26 шт.) не смогли вернуть возвратную часть финансирования.\n",
    "- 20,95% фильмов (66 шт.), получивших государственное финансирование, полностью окупили свой бюджет.\n",
    "- Общая окупаемость фильмов с поддержкой от Фонда кино составляет 118%.\n",
    "- Общая окупаемость фильмов с поддержкой Министерства культуры всего 46%, однако перед ними не ставилась задача окупаемости.\n",
    "- Средний рейтинг всех фильмов, включая фильмы с государственной поддержкой, остается на уровне 5-6 баллов.\n",
    "- Недостаточно данных по бюджетам фильмов без государственной поддержки для полноценного сравнения показателей окупаемости."
   ]
  },
  {
   "cell_type": "markdown",
   "metadata": {},
   "source": [
    "**Рекомендации:** <br><br>\n",
    "- Провести валидацию данных\n",
    "- Дополнить данными (начать собирать) год выпуска фильма, количество зрителей\n",
    "- Собирать данные по бюджету и другим открытым показателям не только для кино с государственной поддержкой, но и для фильмов с частным финансированием\n",
    "- Разделить фильмы на категории по предполагаемому воздействию на культуру, общественные ценности и социальные аспекты (по необходимости, разработать методологию по классификации)\n",
    "- Решение по выделению поддержки коммерческих фильмов принимать на основе актуальности жанра или темы, которые в данный момент интересны зрителю. "
   ]
  },
  {
   "cell_type": "code",
   "execution_count": null,
   "metadata": {},
   "outputs": [],
   "source": []
  }
 ],
 "metadata": {
  "ExecuteTimeLog": [
   {
    "duration": 537,
    "start_time": "2021-07-07T10:12:08.634Z"
   },
   {
    "duration": 206,
    "start_time": "2021-07-07T10:12:30.191Z"
   },
   {
    "duration": 227,
    "start_time": "2021-07-07T10:12:33.078Z"
   },
   {
    "duration": 153,
    "start_time": "2021-07-07T10:13:42.146Z"
   },
   {
    "duration": 233,
    "start_time": "2021-07-07T10:30:09.252Z"
   },
   {
    "duration": 19,
    "start_time": "2021-07-07T10:30:15.577Z"
   },
   {
    "duration": 18,
    "start_time": "2021-07-07T10:30:57.348Z"
   },
   {
    "duration": 19,
    "start_time": "2021-07-07T10:31:17.452Z"
   },
   {
    "duration": 21,
    "start_time": "2021-07-07T10:31:32.227Z"
   },
   {
    "duration": 27,
    "start_time": "2021-07-07T10:32:06.588Z"
   },
   {
    "duration": 23,
    "start_time": "2021-07-07T10:32:43.645Z"
   },
   {
    "duration": 24,
    "start_time": "2021-07-07T10:33:06.948Z"
   },
   {
    "duration": 7,
    "start_time": "2021-07-07T10:33:28.558Z"
   },
   {
    "duration": 23,
    "start_time": "2021-07-07T10:33:43.761Z"
   },
   {
    "duration": 28,
    "start_time": "2021-07-07T10:34:13.466Z"
   },
   {
    "duration": 23,
    "start_time": "2021-07-07T10:35:56.187Z"
   },
   {
    "duration": 6,
    "start_time": "2021-07-07T10:36:48.182Z"
   },
   {
    "duration": 14,
    "start_time": "2021-07-07T10:37:49.641Z"
   },
   {
    "duration": 6,
    "start_time": "2021-07-07T10:38:06.694Z"
   },
   {
    "duration": 6,
    "start_time": "2021-07-07T10:38:13.493Z"
   },
   {
    "duration": 19,
    "start_time": "2021-07-07T10:38:44.056Z"
   },
   {
    "duration": 186,
    "start_time": "2021-07-07T10:48:35.618Z"
   },
   {
    "duration": 24,
    "start_time": "2021-07-07T10:48:51.498Z"
   },
   {
    "duration": 20,
    "start_time": "2021-07-07T10:48:59.415Z"
   },
   {
    "duration": 20,
    "start_time": "2021-07-07T10:53:02.195Z"
   },
   {
    "duration": 188,
    "start_time": "2021-07-07T10:54:40.486Z"
   },
   {
    "duration": 115,
    "start_time": "2021-07-07T10:54:52.552Z"
   },
   {
    "duration": 214,
    "start_time": "2021-07-07T10:54:56.354Z"
   },
   {
    "duration": 47,
    "start_time": "2021-07-07T10:54:58.282Z"
   },
   {
    "duration": 217,
    "start_time": "2021-07-07T10:59:16.075Z"
   },
   {
    "duration": 51,
    "start_time": "2021-07-07T10:59:16.243Z"
   },
   {
    "duration": 578,
    "start_time": "2021-07-07T10:59:18.774Z"
   },
   {
    "duration": 161,
    "start_time": "2021-07-07T10:59:21.238Z"
   },
   {
    "duration": 59,
    "start_time": "2021-07-07T10:59:21.453Z"
   },
   {
    "duration": 3,
    "start_time": "2021-07-07T11:02:10.786Z"
   },
   {
    "duration": 13,
    "start_time": "2021-07-07T11:07:07.722Z"
   },
   {
    "duration": 26,
    "start_time": "2021-07-07T11:07:17.958Z"
   },
   {
    "duration": 22,
    "start_time": "2021-07-07T11:08:17.939Z"
   },
   {
    "duration": 212,
    "start_time": "2021-07-07T11:08:19.665Z"
   },
   {
    "duration": 21,
    "start_time": "2021-07-07T11:08:29.945Z"
   },
   {
    "duration": 31,
    "start_time": "2021-07-07T11:08:38.899Z"
   },
   {
    "duration": 23,
    "start_time": "2021-07-07T11:08:54.527Z"
   },
   {
    "duration": 8,
    "start_time": "2021-07-07T11:18:55.974Z"
   },
   {
    "duration": 7,
    "start_time": "2021-07-07T11:19:03.639Z"
   },
   {
    "duration": 7,
    "start_time": "2021-07-07T11:19:06.444Z"
   },
   {
    "duration": 578,
    "start_time": "2021-07-07T12:09:59.576Z"
   },
   {
    "duration": 195,
    "start_time": "2021-07-07T12:10:00.156Z"
   },
   {
    "duration": 115,
    "start_time": "2021-07-07T12:10:00.353Z"
   },
   {
    "duration": 3,
    "start_time": "2021-07-07T12:10:00.470Z"
   },
   {
    "duration": 32,
    "start_time": "2021-07-07T12:10:00.474Z"
   },
   {
    "duration": 23,
    "start_time": "2021-07-07T12:10:00.508Z"
   },
   {
    "duration": 19,
    "start_time": "2021-07-07T12:10:00.533Z"
   },
   {
    "duration": 44,
    "start_time": "2021-07-07T12:10:00.553Z"
   },
   {
    "duration": 7,
    "start_time": "2021-07-07T12:10:00.600Z"
   },
   {
    "duration": 7,
    "start_time": "2021-07-07T12:19:45.761Z"
   },
   {
    "duration": 21,
    "start_time": "2021-07-07T12:21:35.482Z"
   },
   {
    "duration": 21,
    "start_time": "2021-07-07T12:29:23.569Z"
   },
   {
    "duration": 525,
    "start_time": "2021-07-07T12:29:44.542Z"
   },
   {
    "duration": 214,
    "start_time": "2021-07-07T12:29:45.069Z"
   },
   {
    "duration": 92,
    "start_time": "2021-07-07T12:29:45.285Z"
   },
   {
    "duration": 3,
    "start_time": "2021-07-07T12:29:45.379Z"
   },
   {
    "duration": 28,
    "start_time": "2021-07-07T12:29:45.384Z"
   },
   {
    "duration": 23,
    "start_time": "2021-07-07T12:29:45.413Z"
   },
   {
    "duration": 21,
    "start_time": "2021-07-07T12:29:45.437Z"
   },
   {
    "duration": 41,
    "start_time": "2021-07-07T12:29:45.460Z"
   },
   {
    "duration": 7,
    "start_time": "2021-07-07T12:29:45.502Z"
   },
   {
    "duration": 20,
    "start_time": "2021-07-07T12:29:45.511Z"
   },
   {
    "duration": 12,
    "start_time": "2021-07-07T12:34:02.800Z"
   },
   {
    "duration": 7,
    "start_time": "2021-07-07T12:35:10.479Z"
   },
   {
    "duration": 8,
    "start_time": "2021-07-07T12:35:22.440Z"
   },
   {
    "duration": 6,
    "start_time": "2021-07-07T12:35:35.649Z"
   },
   {
    "duration": 6,
    "start_time": "2021-07-07T12:35:43.107Z"
   },
   {
    "duration": 22,
    "start_time": "2021-07-07T12:38:03.029Z"
   },
   {
    "duration": 10,
    "start_time": "2021-07-07T12:38:06.592Z"
   },
   {
    "duration": 563,
    "start_time": "2021-07-07T12:38:46.493Z"
   },
   {
    "duration": 265,
    "start_time": "2021-07-07T12:38:47.058Z"
   },
   {
    "duration": 94,
    "start_time": "2021-07-07T12:38:47.325Z"
   },
   {
    "duration": 3,
    "start_time": "2021-07-07T12:38:47.422Z"
   },
   {
    "duration": 30,
    "start_time": "2021-07-07T12:38:47.427Z"
   },
   {
    "duration": 16,
    "start_time": "2021-07-07T12:38:53.305Z"
   },
   {
    "duration": 10,
    "start_time": "2021-07-07T12:38:53.499Z"
   },
   {
    "duration": 8,
    "start_time": "2021-07-07T12:39:48.161Z"
   },
   {
    "duration": 27,
    "start_time": "2021-07-07T12:41:17.629Z"
   },
   {
    "duration": 17,
    "start_time": "2021-07-07T12:41:17.867Z"
   },
   {
    "duration": 21,
    "start_time": "2021-07-07T12:41:19.310Z"
   },
   {
    "duration": 7,
    "start_time": "2021-07-07T12:41:19.544Z"
   },
   {
    "duration": 20,
    "start_time": "2021-07-07T12:41:20.504Z"
   },
   {
    "duration": 554,
    "start_time": "2021-07-07T12:56:23.696Z"
   },
   {
    "duration": 200,
    "start_time": "2021-07-07T12:56:25.234Z"
   },
   {
    "duration": 119,
    "start_time": "2021-07-07T12:56:25.480Z"
   },
   {
    "duration": 4,
    "start_time": "2021-07-07T12:56:25.762Z"
   },
   {
    "duration": 26,
    "start_time": "2021-07-07T12:56:27.172Z"
   },
   {
    "duration": 12,
    "start_time": "2021-07-07T12:56:29.051Z"
   },
   {
    "duration": 10,
    "start_time": "2021-07-07T12:56:29.291Z"
   },
   {
    "duration": 8,
    "start_time": "2021-07-07T12:56:29.623Z"
   },
   {
    "duration": 28,
    "start_time": "2021-07-07T12:56:32.137Z"
   },
   {
    "duration": 19,
    "start_time": "2021-07-07T12:56:39.785Z"
   },
   {
    "duration": 20,
    "start_time": "2021-07-07T12:56:44.297Z"
   },
   {
    "duration": 7,
    "start_time": "2021-07-07T12:56:45.392Z"
   },
   {
    "duration": 23,
    "start_time": "2021-07-07T12:56:46.615Z"
   },
   {
    "duration": 4,
    "start_time": "2021-07-07T12:57:06.625Z"
   },
   {
    "duration": 32,
    "start_time": "2021-07-07T12:57:36.690Z"
   },
   {
    "duration": 18,
    "start_time": "2021-07-07T12:58:00.149Z"
   },
   {
    "duration": 15,
    "start_time": "2021-07-07T12:59:16.793Z"
   },
   {
    "duration": 7,
    "start_time": "2021-07-07T13:19:22.624Z"
   },
   {
    "duration": 6,
    "start_time": "2021-07-07T14:17:33.527Z"
   },
   {
    "duration": 9,
    "start_time": "2021-07-07T14:17:48.409Z"
   },
   {
    "duration": 8,
    "start_time": "2021-07-07T14:20:13.060Z"
   },
   {
    "duration": 8,
    "start_time": "2021-07-07T14:20:37.957Z"
   },
   {
    "duration": 8,
    "start_time": "2021-07-07T14:20:47.470Z"
   },
   {
    "duration": 9,
    "start_time": "2021-07-07T14:20:54.503Z"
   },
   {
    "duration": 10,
    "start_time": "2021-07-07T14:28:57.763Z"
   },
   {
    "duration": 3,
    "start_time": "2021-07-07T14:30:23.377Z"
   },
   {
    "duration": 3,
    "start_time": "2021-07-07T14:30:36.489Z"
   },
   {
    "duration": 103,
    "start_time": "2021-07-07T14:30:52.351Z"
   },
   {
    "duration": 8,
    "start_time": "2021-07-07T14:30:54.763Z"
   },
   {
    "duration": 8,
    "start_time": "2021-07-07T14:31:29.301Z"
   },
   {
    "duration": 13,
    "start_time": "2021-07-07T14:31:44.516Z"
   },
   {
    "duration": 7,
    "start_time": "2021-07-07T14:33:10.972Z"
   },
   {
    "duration": 11,
    "start_time": "2021-07-07T14:33:27.780Z"
   },
   {
    "duration": 8,
    "start_time": "2021-07-07T14:34:44.588Z"
   },
   {
    "duration": 57,
    "start_time": "2021-07-07T14:35:59.042Z"
   },
   {
    "duration": 3,
    "start_time": "2021-07-07T14:36:28.168Z"
   },
   {
    "duration": 5,
    "start_time": "2021-07-07T14:36:46.254Z"
   },
   {
    "duration": 4,
    "start_time": "2021-07-07T14:36:52.714Z"
   },
   {
    "duration": 3,
    "start_time": "2021-07-07T14:36:56.612Z"
   },
   {
    "duration": 4,
    "start_time": "2021-07-07T14:36:57.049Z"
   },
   {
    "duration": 3,
    "start_time": "2021-07-07T14:39:21.214Z"
   },
   {
    "duration": 7,
    "start_time": "2021-07-07T14:39:52.406Z"
   },
   {
    "duration": 11,
    "start_time": "2021-07-07T14:39:58.576Z"
   },
   {
    "duration": 9,
    "start_time": "2021-07-07T14:40:26.301Z"
   },
   {
    "duration": 10,
    "start_time": "2021-07-07T14:40:31.704Z"
   },
   {
    "duration": 11,
    "start_time": "2021-07-07T14:40:36.249Z"
   },
   {
    "duration": 10,
    "start_time": "2021-07-07T14:40:39.783Z"
   },
   {
    "duration": 9,
    "start_time": "2021-07-07T14:40:48.558Z"
   },
   {
    "duration": 10,
    "start_time": "2021-07-07T14:40:57.143Z"
   },
   {
    "duration": 9,
    "start_time": "2021-07-07T14:41:06.074Z"
   },
   {
    "duration": 4324,
    "start_time": "2021-07-07T14:41:22.004Z"
   },
   {
    "duration": 11,
    "start_time": "2021-07-07T14:41:33.392Z"
   },
   {
    "duration": 9,
    "start_time": "2021-07-07T14:41:39.288Z"
   },
   {
    "duration": 569,
    "start_time": "2021-07-07T14:42:14.387Z"
   },
   {
    "duration": 197,
    "start_time": "2021-07-07T14:42:14.959Z"
   },
   {
    "duration": 84,
    "start_time": "2021-07-07T14:42:16.052Z"
   },
   {
    "duration": 4,
    "start_time": "2021-07-07T14:42:16.900Z"
   },
   {
    "duration": 27,
    "start_time": "2021-07-07T14:42:19.898Z"
   },
   {
    "duration": 12,
    "start_time": "2021-07-07T14:42:21.577Z"
   },
   {
    "duration": 9,
    "start_time": "2021-07-07T14:42:21.813Z"
   },
   {
    "duration": 9,
    "start_time": "2021-07-07T14:42:22.569Z"
   },
   {
    "duration": 29,
    "start_time": "2021-07-07T14:42:25.837Z"
   },
   {
    "duration": 20,
    "start_time": "2021-07-07T14:42:27.003Z"
   },
   {
    "duration": 21,
    "start_time": "2021-07-07T14:42:28.767Z"
   },
   {
    "duration": 7,
    "start_time": "2021-07-07T14:42:29.838Z"
   },
   {
    "duration": 4,
    "start_time": "2021-07-07T14:43:25.493Z"
   },
   {
    "duration": 7,
    "start_time": "2021-07-07T14:43:26.573Z"
   },
   {
    "duration": 10,
    "start_time": "2021-07-07T14:43:31.639Z"
   },
   {
    "duration": 9,
    "start_time": "2021-07-07T14:43:32.046Z"
   },
   {
    "duration": 10,
    "start_time": "2021-07-07T14:43:33.301Z"
   },
   {
    "duration": 12,
    "start_time": "2021-07-07T14:43:33.658Z"
   },
   {
    "duration": 8,
    "start_time": "2021-07-07T14:43:34.552Z"
   },
   {
    "duration": 9,
    "start_time": "2021-07-07T14:43:35.058Z"
   },
   {
    "duration": 12,
    "start_time": "2021-07-07T14:43:35.914Z"
   },
   {
    "duration": 17,
    "start_time": "2021-07-07T14:45:34.368Z"
   },
   {
    "duration": 512,
    "start_time": "2021-07-07T14:51:58.236Z"
   },
   {
    "duration": 223,
    "start_time": "2021-07-07T14:51:58.750Z"
   },
   {
    "duration": 93,
    "start_time": "2021-07-07T14:51:58.977Z"
   },
   {
    "duration": 4,
    "start_time": "2021-07-07T14:51:59.071Z"
   },
   {
    "duration": 37,
    "start_time": "2021-07-07T14:51:59.077Z"
   },
   {
    "duration": 18,
    "start_time": "2021-07-07T14:51:59.116Z"
   },
   {
    "duration": 10,
    "start_time": "2021-07-07T14:51:59.137Z"
   },
   {
    "duration": 8,
    "start_time": "2021-07-07T14:51:59.149Z"
   },
   {
    "duration": 54,
    "start_time": "2021-07-07T14:51:59.158Z"
   },
   {
    "duration": 18,
    "start_time": "2021-07-07T14:51:59.213Z"
   },
   {
    "duration": 22,
    "start_time": "2021-07-07T14:51:59.232Z"
   },
   {
    "duration": 36,
    "start_time": "2021-07-07T14:51:59.255Z"
   },
   {
    "duration": 7,
    "start_time": "2021-07-07T14:51:59.293Z"
   },
   {
    "duration": 10,
    "start_time": "2021-07-07T14:51:59.302Z"
   },
   {
    "duration": 9,
    "start_time": "2021-07-07T14:51:59.313Z"
   },
   {
    "duration": 11,
    "start_time": "2021-07-07T14:51:59.324Z"
   },
   {
    "duration": 8,
    "start_time": "2021-07-07T14:51:59.337Z"
   },
   {
    "duration": 46,
    "start_time": "2021-07-07T14:51:59.347Z"
   },
   {
    "duration": 22,
    "start_time": "2021-07-07T14:51:59.395Z"
   },
   {
    "duration": 24,
    "start_time": "2021-07-07T14:57:32.911Z"
   },
   {
    "duration": 7,
    "start_time": "2021-07-07T14:58:22.070Z"
   },
   {
    "duration": 4,
    "start_time": "2021-07-07T14:59:11.239Z"
   },
   {
    "duration": 25,
    "start_time": "2021-07-07T15:07:22.208Z"
   },
   {
    "duration": 16,
    "start_time": "2021-07-07T15:08:25.560Z"
   },
   {
    "duration": 15,
    "start_time": "2021-07-07T15:08:40.647Z"
   },
   {
    "duration": 14,
    "start_time": "2021-07-07T15:08:46.669Z"
   },
   {
    "duration": 533,
    "start_time": "2021-07-07T15:18:07.440Z"
   },
   {
    "duration": 173,
    "start_time": "2021-07-07T15:18:07.974Z"
   },
   {
    "duration": 84,
    "start_time": "2021-07-07T15:18:08.149Z"
   },
   {
    "duration": 3,
    "start_time": "2021-07-07T15:18:08.235Z"
   },
   {
    "duration": 30,
    "start_time": "2021-07-07T15:18:08.240Z"
   },
   {
    "duration": 22,
    "start_time": "2021-07-07T15:18:08.272Z"
   },
   {
    "duration": 11,
    "start_time": "2021-07-07T15:18:08.295Z"
   },
   {
    "duration": 11,
    "start_time": "2021-07-07T15:18:08.309Z"
   },
   {
    "duration": 40,
    "start_time": "2021-07-07T15:18:08.322Z"
   },
   {
    "duration": 42,
    "start_time": "2021-07-07T15:18:08.364Z"
   },
   {
    "duration": 22,
    "start_time": "2021-07-07T15:18:08.408Z"
   },
   {
    "duration": 5,
    "start_time": "2021-07-07T15:18:08.432Z"
   },
   {
    "duration": 13,
    "start_time": "2021-07-07T15:18:08.439Z"
   },
   {
    "duration": 9,
    "start_time": "2021-07-07T15:18:08.454Z"
   },
   {
    "duration": 32,
    "start_time": "2021-07-07T15:18:08.465Z"
   },
   {
    "duration": 10,
    "start_time": "2021-07-07T15:18:08.501Z"
   },
   {
    "duration": 7,
    "start_time": "2021-07-07T15:18:08.513Z"
   },
   {
    "duration": 11,
    "start_time": "2021-07-07T15:18:08.521Z"
   },
   {
    "duration": 17,
    "start_time": "2021-07-07T15:18:08.534Z"
   },
   {
    "duration": 44,
    "start_time": "2021-07-07T15:18:08.553Z"
   },
   {
    "duration": 22,
    "start_time": "2021-07-07T15:18:08.599Z"
   },
   {
    "duration": 61,
    "start_time": "2021-07-07T15:18:08.622Z"
   },
   {
    "duration": 7,
    "start_time": "2021-07-07T15:18:39.457Z"
   },
   {
    "duration": 5,
    "start_time": "2021-07-07T16:05:17.020Z"
   },
   {
    "duration": 5,
    "start_time": "2021-07-07T16:51:28.794Z"
   },
   {
    "duration": 546,
    "start_time": "2021-07-07T16:52:26.306Z"
   },
   {
    "duration": 203,
    "start_time": "2021-07-07T16:52:27.523Z"
   },
   {
    "duration": 85,
    "start_time": "2021-07-07T16:52:27.736Z"
   },
   {
    "duration": 4,
    "start_time": "2021-07-07T16:52:27.899Z"
   },
   {
    "duration": 25,
    "start_time": "2021-07-07T16:52:28.674Z"
   },
   {
    "duration": 8,
    "start_time": "2021-07-07T16:52:32.956Z"
   },
   {
    "duration": 18,
    "start_time": "2021-07-07T16:52:35.616Z"
   },
   {
    "duration": 6,
    "start_time": "2021-07-07T16:52:36.913Z"
   },
   {
    "duration": 11,
    "start_time": "2021-07-07T16:52:40.258Z"
   },
   {
    "duration": 10,
    "start_time": "2021-07-07T16:52:46.251Z"
   },
   {
    "duration": 8,
    "start_time": "2021-07-07T16:52:47.182Z"
   },
   {
    "duration": 27,
    "start_time": "2021-07-07T16:53:20.391Z"
   },
   {
    "duration": 20,
    "start_time": "2021-07-07T16:53:22.022Z"
   },
   {
    "duration": 23,
    "start_time": "2021-07-07T16:53:23.690Z"
   },
   {
    "duration": 8,
    "start_time": "2021-07-07T16:53:24.261Z"
   },
   {
    "duration": 4,
    "start_time": "2021-07-07T16:53:38.733Z"
   },
   {
    "duration": 7,
    "start_time": "2021-07-07T16:53:40.445Z"
   },
   {
    "duration": 11,
    "start_time": "2021-07-07T16:53:41.348Z"
   },
   {
    "duration": 13,
    "start_time": "2021-07-07T16:53:45.250Z"
   },
   {
    "duration": 12,
    "start_time": "2021-07-07T16:53:45.467Z"
   },
   {
    "duration": 4,
    "start_time": "2021-07-07T16:55:32.704Z"
   },
   {
    "duration": 12,
    "start_time": "2021-07-07T16:55:49.012Z"
   },
   {
    "duration": 18,
    "start_time": "2021-07-07T16:55:49.547Z"
   },
   {
    "duration": 611,
    "start_time": "2021-07-07T16:58:35.156Z"
   },
   {
    "duration": 200,
    "start_time": "2021-07-07T16:58:35.770Z"
   },
   {
    "duration": 86,
    "start_time": "2021-07-07T16:58:35.972Z"
   },
   {
    "duration": 3,
    "start_time": "2021-07-07T16:58:36.060Z"
   },
   {
    "duration": 27,
    "start_time": "2021-07-07T16:58:36.065Z"
   },
   {
    "duration": 8,
    "start_time": "2021-07-07T16:58:36.094Z"
   },
   {
    "duration": 17,
    "start_time": "2021-07-07T16:58:36.103Z"
   },
   {
    "duration": 5,
    "start_time": "2021-07-07T16:58:36.123Z"
   },
   {
    "duration": 11,
    "start_time": "2021-07-07T16:58:36.130Z"
   },
   {
    "duration": 7,
    "start_time": "2021-07-07T16:58:36.143Z"
   },
   {
    "duration": 37,
    "start_time": "2021-07-07T16:58:36.152Z"
   },
   {
    "duration": 27,
    "start_time": "2021-07-07T16:58:36.191Z"
   },
   {
    "duration": 19,
    "start_time": "2021-07-07T16:58:36.219Z"
   },
   {
    "duration": 49,
    "start_time": "2021-07-07T16:58:36.240Z"
   },
   {
    "duration": 6,
    "start_time": "2021-07-07T16:58:36.291Z"
   },
   {
    "duration": 3,
    "start_time": "2021-07-07T16:58:36.299Z"
   },
   {
    "duration": 13,
    "start_time": "2021-07-07T16:58:36.304Z"
   },
   {
    "duration": 10,
    "start_time": "2021-07-07T16:58:36.319Z"
   },
   {
    "duration": 10,
    "start_time": "2021-07-07T16:58:36.331Z"
   },
   {
    "duration": 44,
    "start_time": "2021-07-07T16:58:36.343Z"
   },
   {
    "duration": 4,
    "start_time": "2021-07-07T16:58:36.388Z"
   },
   {
    "duration": 13,
    "start_time": "2021-07-07T16:58:36.394Z"
   },
   {
    "duration": 16,
    "start_time": "2021-07-07T16:58:36.410Z"
   },
   {
    "duration": 8,
    "start_time": "2021-07-07T17:02:31.629Z"
   },
   {
    "duration": 8,
    "start_time": "2021-07-07T17:02:34.308Z"
   },
   {
    "duration": 6,
    "start_time": "2021-07-07T17:05:13.483Z"
   },
   {
    "duration": 17,
    "start_time": "2021-07-07T17:05:20.606Z"
   },
   {
    "duration": 7,
    "start_time": "2021-07-07T17:05:34.638Z"
   },
   {
    "duration": 3,
    "start_time": "2021-07-07T17:06:31.883Z"
   },
   {
    "duration": 570,
    "start_time": "2021-07-07T17:06:37.165Z"
   },
   {
    "duration": 174,
    "start_time": "2021-07-07T17:06:37.737Z"
   },
   {
    "duration": 47,
    "start_time": "2021-07-07T17:06:37.913Z"
   },
   {
    "duration": 3,
    "start_time": "2021-07-07T17:06:37.962Z"
   },
   {
    "duration": 27,
    "start_time": "2021-07-07T17:06:37.967Z"
   },
   {
    "duration": 7,
    "start_time": "2021-07-07T17:06:37.996Z"
   },
   {
    "duration": 16,
    "start_time": "2021-07-07T17:06:38.005Z"
   },
   {
    "duration": 6,
    "start_time": "2021-07-07T17:06:38.024Z"
   },
   {
    "duration": 12,
    "start_time": "2021-07-07T17:06:38.031Z"
   },
   {
    "duration": 41,
    "start_time": "2021-07-07T17:06:38.045Z"
   },
   {
    "duration": 8,
    "start_time": "2021-07-07T17:06:38.088Z"
   },
   {
    "duration": 26,
    "start_time": "2021-07-07T17:06:38.098Z"
   },
   {
    "duration": 17,
    "start_time": "2021-07-07T17:06:38.126Z"
   },
   {
    "duration": 43,
    "start_time": "2021-07-07T17:06:38.144Z"
   },
   {
    "duration": 6,
    "start_time": "2021-07-07T17:06:38.188Z"
   },
   {
    "duration": 5,
    "start_time": "2021-07-07T17:06:38.195Z"
   },
   {
    "duration": 9,
    "start_time": "2021-07-07T17:06:38.201Z"
   },
   {
    "duration": 12,
    "start_time": "2021-07-07T17:06:38.212Z"
   },
   {
    "duration": 11,
    "start_time": "2021-07-07T17:06:38.226Z"
   },
   {
    "duration": 47,
    "start_time": "2021-07-07T17:06:38.239Z"
   },
   {
    "duration": 4,
    "start_time": "2021-07-07T17:06:38.288Z"
   },
   {
    "duration": 13,
    "start_time": "2021-07-07T17:06:38.293Z"
   },
   {
    "duration": 5,
    "start_time": "2021-07-07T17:06:38.309Z"
   },
   {
    "duration": 18,
    "start_time": "2021-07-07T17:06:38.325Z"
   },
   {
    "duration": 20,
    "start_time": "2021-07-07T17:07:02.805Z"
   },
   {
    "duration": 19,
    "start_time": "2021-07-07T17:07:08.527Z"
   },
   {
    "duration": 19,
    "start_time": "2021-07-07T17:07:12.758Z"
   },
   {
    "duration": 22,
    "start_time": "2021-07-07T17:07:17.497Z"
   },
   {
    "duration": 19,
    "start_time": "2021-07-07T17:07:19.645Z"
   },
   {
    "duration": 10,
    "start_time": "2021-07-07T17:07:34.239Z"
   },
   {
    "duration": 17,
    "start_time": "2021-07-07T17:07:54.144Z"
   },
   {
    "duration": 14,
    "start_time": "2021-07-07T17:08:14.357Z"
   },
   {
    "duration": 616,
    "start_time": "2021-07-07T17:08:45.254Z"
   },
   {
    "duration": 178,
    "start_time": "2021-07-07T17:08:45.872Z"
   },
   {
    "duration": 60,
    "start_time": "2021-07-07T17:08:46.054Z"
   },
   {
    "duration": 3,
    "start_time": "2021-07-07T17:08:46.116Z"
   },
   {
    "duration": 26,
    "start_time": "2021-07-07T17:08:46.121Z"
   },
   {
    "duration": 7,
    "start_time": "2021-07-07T17:08:46.149Z"
   },
   {
    "duration": 17,
    "start_time": "2021-07-07T17:08:46.158Z"
   },
   {
    "duration": 14,
    "start_time": "2021-07-07T17:08:46.176Z"
   },
   {
    "duration": 17,
    "start_time": "2021-07-07T17:08:46.193Z"
   },
   {
    "duration": 9,
    "start_time": "2021-07-07T17:08:46.211Z"
   },
   {
    "duration": 21,
    "start_time": "2021-07-07T17:08:46.221Z"
   },
   {
    "duration": 49,
    "start_time": "2021-07-07T17:08:46.244Z"
   },
   {
    "duration": 24,
    "start_time": "2021-07-07T17:08:46.295Z"
   },
   {
    "duration": 22,
    "start_time": "2021-07-07T17:08:46.321Z"
   },
   {
    "duration": 6,
    "start_time": "2021-07-07T17:08:46.345Z"
   },
   {
    "duration": 5,
    "start_time": "2021-07-07T17:08:46.353Z"
   },
   {
    "duration": 13,
    "start_time": "2021-07-07T17:08:46.386Z"
   },
   {
    "duration": 12,
    "start_time": "2021-07-07T17:08:46.402Z"
   },
   {
    "duration": 10,
    "start_time": "2021-07-07T17:08:46.415Z"
   },
   {
    "duration": 7,
    "start_time": "2021-07-07T17:08:46.427Z"
   },
   {
    "duration": 8,
    "start_time": "2021-07-07T17:08:46.435Z"
   },
   {
    "duration": 68,
    "start_time": "2021-07-07T17:08:46.446Z"
   },
   {
    "duration": 13,
    "start_time": "2021-07-07T17:08:46.516Z"
   },
   {
    "duration": 78,
    "start_time": "2021-07-07T17:08:46.530Z"
   },
   {
    "duration": 40,
    "start_time": "2021-07-07T17:09:08.185Z"
   },
   {
    "duration": 16,
    "start_time": "2021-07-07T17:09:19.324Z"
   },
   {
    "duration": 21,
    "start_time": "2021-07-07T17:09:23.290Z"
   },
   {
    "duration": 13,
    "start_time": "2021-07-07T17:09:54.812Z"
   },
   {
    "duration": 13,
    "start_time": "2021-07-07T17:10:02.039Z"
   },
   {
    "duration": 10,
    "start_time": "2021-07-07T17:10:29.632Z"
   },
   {
    "duration": 13,
    "start_time": "2021-07-07T17:10:52.372Z"
   },
   {
    "duration": 13,
    "start_time": "2021-07-07T17:11:17.270Z"
   },
   {
    "duration": 13,
    "start_time": "2021-07-07T17:14:59.284Z"
   },
   {
    "duration": 547,
    "start_time": "2021-07-07T17:18:52.403Z"
   },
   {
    "duration": 163,
    "start_time": "2021-07-07T17:18:52.952Z"
   },
   {
    "duration": 44,
    "start_time": "2021-07-07T17:18:53.117Z"
   },
   {
    "duration": 3,
    "start_time": "2021-07-07T17:18:53.162Z"
   },
   {
    "duration": 26,
    "start_time": "2021-07-07T17:18:53.167Z"
   },
   {
    "duration": 6,
    "start_time": "2021-07-07T17:18:53.195Z"
   },
   {
    "duration": 15,
    "start_time": "2021-07-07T17:18:53.203Z"
   },
   {
    "duration": 5,
    "start_time": "2021-07-07T17:18:53.220Z"
   },
   {
    "duration": 11,
    "start_time": "2021-07-07T17:18:53.228Z"
   },
   {
    "duration": 9,
    "start_time": "2021-07-07T17:18:53.241Z"
   },
   {
    "duration": 41,
    "start_time": "2021-07-07T17:18:53.252Z"
   },
   {
    "duration": 33,
    "start_time": "2021-07-07T17:18:53.295Z"
   },
   {
    "duration": 19,
    "start_time": "2021-07-07T17:18:53.330Z"
   },
   {
    "duration": 49,
    "start_time": "2021-07-07T17:18:53.350Z"
   },
   {
    "duration": 5,
    "start_time": "2021-07-07T17:18:53.401Z"
   },
   {
    "duration": 5,
    "start_time": "2021-07-07T17:18:53.408Z"
   },
   {
    "duration": 11,
    "start_time": "2021-07-07T17:18:53.414Z"
   },
   {
    "duration": 9,
    "start_time": "2021-07-07T17:18:53.427Z"
   },
   {
    "duration": 10,
    "start_time": "2021-07-07T17:18:53.437Z"
   },
   {
    "duration": 39,
    "start_time": "2021-07-07T17:18:53.448Z"
   },
   {
    "duration": 26,
    "start_time": "2021-07-07T17:18:55.799Z"
   },
   {
    "duration": 598,
    "start_time": "2021-07-07T17:20:17.862Z"
   },
   {
    "duration": 161,
    "start_time": "2021-07-07T17:20:18.462Z"
   },
   {
    "duration": 45,
    "start_time": "2021-07-07T17:20:18.626Z"
   },
   {
    "duration": 4,
    "start_time": "2021-07-07T17:20:18.673Z"
   },
   {
    "duration": 38,
    "start_time": "2021-07-07T17:20:26.877Z"
   },
   {
    "duration": 7,
    "start_time": "2021-07-07T17:20:37.405Z"
   },
   {
    "duration": 19,
    "start_time": "2021-07-07T17:20:51.534Z"
   },
   {
    "duration": 5,
    "start_time": "2021-07-07T17:20:57.228Z"
   },
   {
    "duration": 7,
    "start_time": "2021-07-07T17:21:08.235Z"
   },
   {
    "duration": 19,
    "start_time": "2021-07-07T17:21:42.158Z"
   },
   {
    "duration": 14,
    "start_time": "2021-07-07T17:21:50.225Z"
   },
   {
    "duration": 22,
    "start_time": "2021-07-07T17:22:54.104Z"
   },
   {
    "duration": 5,
    "start_time": "2021-07-07T17:22:56.371Z"
   },
   {
    "duration": 14,
    "start_time": "2021-07-07T17:22:58.316Z"
   },
   {
    "duration": 5,
    "start_time": "2021-07-07T17:22:58.493Z"
   },
   {
    "duration": 35,
    "start_time": "2021-07-07T17:22:59.666Z"
   },
   {
    "duration": 6,
    "start_time": "2021-07-07T17:23:02.410Z"
   },
   {
    "duration": 611,
    "start_time": "2021-07-07T17:24:59.664Z"
   },
   {
    "duration": 178,
    "start_time": "2021-07-07T17:25:01.945Z"
   },
   {
    "duration": 47,
    "start_time": "2021-07-07T17:25:02.125Z"
   },
   {
    "duration": 2,
    "start_time": "2021-07-07T17:25:07.903Z"
   },
   {
    "duration": 254,
    "start_time": "2021-07-07T17:25:08.232Z"
   },
   {
    "duration": 182,
    "start_time": "2021-07-07T17:25:08.671Z"
   },
   {
    "duration": 6,
    "start_time": "2021-07-07T17:25:13.104Z"
   },
   {
    "duration": 36,
    "start_time": "2021-07-07T17:25:13.662Z"
   },
   {
    "duration": 7,
    "start_time": "2021-07-07T17:25:14.528Z"
   },
   {
    "duration": 24,
    "start_time": "2021-07-07T17:25:27.982Z"
   },
   {
    "duration": 3,
    "start_time": "2021-07-07T17:25:48.982Z"
   },
   {
    "duration": 165,
    "start_time": "2021-07-07T17:25:48.987Z"
   },
   {
    "duration": 50,
    "start_time": "2021-07-07T17:25:49.154Z"
   },
   {
    "duration": 4,
    "start_time": "2021-07-07T17:25:49.206Z"
   },
   {
    "duration": 26,
    "start_time": "2021-07-07T17:25:49.212Z"
   },
   {
    "duration": 7,
    "start_time": "2021-07-07T17:25:49.240Z"
   },
   {
    "duration": 16,
    "start_time": "2021-07-07T17:25:49.249Z"
   },
   {
    "duration": 22,
    "start_time": "2021-07-07T17:25:49.266Z"
   },
   {
    "duration": 16,
    "start_time": "2021-07-07T17:25:49.291Z"
   },
   {
    "duration": 9,
    "start_time": "2021-07-07T17:25:49.309Z"
   },
   {
    "duration": 7,
    "start_time": "2021-07-07T17:25:49.319Z"
   },
   {
    "duration": 28,
    "start_time": "2021-07-07T17:25:49.328Z"
   },
   {
    "duration": 44,
    "start_time": "2021-07-07T17:25:49.357Z"
   },
   {
    "duration": 22,
    "start_time": "2021-07-07T17:25:49.403Z"
   },
   {
    "duration": 7,
    "start_time": "2021-07-07T17:25:49.427Z"
   },
   {
    "duration": 3,
    "start_time": "2021-07-07T17:25:49.436Z"
   },
   {
    "duration": 44,
    "start_time": "2021-07-07T17:25:49.441Z"
   },
   {
    "duration": 12,
    "start_time": "2021-07-07T17:25:49.488Z"
   },
   {
    "duration": 13,
    "start_time": "2021-07-07T17:25:49.502Z"
   },
   {
    "duration": 10,
    "start_time": "2021-07-07T17:25:49.516Z"
   },
   {
    "duration": 62,
    "start_time": "2021-07-07T17:25:49.527Z"
   },
   {
    "duration": 26,
    "start_time": "2021-07-07T17:26:51.809Z"
   },
   {
    "duration": 26,
    "start_time": "2021-07-07T17:26:55.759Z"
   },
   {
    "duration": 26,
    "start_time": "2021-07-07T17:27:04.501Z"
   },
   {
    "duration": 25,
    "start_time": "2021-07-07T17:28:24.859Z"
   },
   {
    "duration": 21,
    "start_time": "2021-07-07T17:28:55.250Z"
   },
   {
    "duration": 21,
    "start_time": "2021-07-07T17:28:58.885Z"
   },
   {
    "duration": 7,
    "start_time": "2021-07-07T17:45:40.972Z"
   },
   {
    "duration": 13,
    "start_time": "2021-07-07T17:45:42.529Z"
   },
   {
    "duration": 27,
    "start_time": "2021-07-07T17:45:51.026Z"
   },
   {
    "duration": 518,
    "start_time": "2021-07-07T17:46:15.532Z"
   },
   {
    "duration": 235,
    "start_time": "2021-07-07T17:46:16.053Z"
   },
   {
    "duration": 80,
    "start_time": "2021-07-07T17:46:16.292Z"
   },
   {
    "duration": 5,
    "start_time": "2021-07-07T17:46:16.373Z"
   },
   {
    "duration": 26,
    "start_time": "2021-07-07T17:46:16.380Z"
   },
   {
    "duration": 7,
    "start_time": "2021-07-07T17:46:16.408Z"
   },
   {
    "duration": 16,
    "start_time": "2021-07-07T17:46:16.418Z"
   },
   {
    "duration": 5,
    "start_time": "2021-07-07T17:46:16.436Z"
   },
   {
    "duration": 13,
    "start_time": "2021-07-07T17:46:16.442Z"
   },
   {
    "duration": 35,
    "start_time": "2021-07-07T17:46:16.456Z"
   },
   {
    "duration": 8,
    "start_time": "2021-07-07T17:46:16.493Z"
   },
   {
    "duration": 28,
    "start_time": "2021-07-07T17:46:16.502Z"
   },
   {
    "duration": 17,
    "start_time": "2021-07-07T17:46:16.532Z"
   },
   {
    "duration": 44,
    "start_time": "2021-07-07T17:46:16.551Z"
   },
   {
    "duration": 6,
    "start_time": "2021-07-07T17:46:16.597Z"
   },
   {
    "duration": 4,
    "start_time": "2021-07-07T17:46:16.605Z"
   },
   {
    "duration": 9,
    "start_time": "2021-07-07T17:46:16.610Z"
   },
   {
    "duration": 9,
    "start_time": "2021-07-07T17:46:16.621Z"
   },
   {
    "duration": 10,
    "start_time": "2021-07-07T17:46:16.632Z"
   },
   {
    "duration": 43,
    "start_time": "2021-07-07T17:46:16.644Z"
   },
   {
    "duration": 26,
    "start_time": "2021-07-07T17:46:16.689Z"
   },
   {
    "duration": 19,
    "start_time": "2021-07-07T17:46:16.718Z"
   },
   {
    "duration": 8,
    "start_time": "2021-07-07T17:46:16.738Z"
   },
   {
    "duration": 43,
    "start_time": "2021-07-07T17:46:16.747Z"
   },
   {
    "duration": 19,
    "start_time": "2021-07-07T17:46:16.791Z"
   },
   {
    "duration": 9,
    "start_time": "2021-07-07T17:46:16.812Z"
   },
   {
    "duration": 60,
    "start_time": "2021-07-07T17:46:16.822Z"
   },
   {
    "duration": -8,
    "start_time": "2021-07-07T17:46:16.892Z"
   },
   {
    "duration": 12,
    "start_time": "2021-07-07T17:48:47.707Z"
   },
   {
    "duration": 553,
    "start_time": "2021-07-07T18:10:09.350Z"
   },
   {
    "duration": 230,
    "start_time": "2021-07-07T18:10:09.905Z"
   },
   {
    "duration": 97,
    "start_time": "2021-07-07T18:10:10.137Z"
   },
   {
    "duration": 5,
    "start_time": "2021-07-07T18:10:10.236Z"
   },
   {
    "duration": 29,
    "start_time": "2021-07-07T18:10:10.242Z"
   },
   {
    "duration": 7,
    "start_time": "2021-07-07T18:10:10.272Z"
   },
   {
    "duration": 15,
    "start_time": "2021-07-07T18:10:10.281Z"
   },
   {
    "duration": 4,
    "start_time": "2021-07-07T18:10:10.299Z"
   },
   {
    "duration": 14,
    "start_time": "2021-07-07T18:10:10.305Z"
   },
   {
    "duration": 8,
    "start_time": "2021-07-07T18:10:10.321Z"
   },
   {
    "duration": 8,
    "start_time": "2021-07-07T18:10:10.331Z"
   },
   {
    "duration": 56,
    "start_time": "2021-07-07T18:10:10.341Z"
   },
   {
    "duration": 19,
    "start_time": "2021-07-07T18:10:10.399Z"
   },
   {
    "duration": 23,
    "start_time": "2021-07-07T18:10:10.419Z"
   },
   {
    "duration": 6,
    "start_time": "2021-07-07T18:10:10.444Z"
   },
   {
    "duration": 9,
    "start_time": "2021-07-07T18:10:10.451Z"
   },
   {
    "duration": 30,
    "start_time": "2021-07-07T18:10:10.462Z"
   },
   {
    "duration": 9,
    "start_time": "2021-07-07T18:10:10.494Z"
   },
   {
    "duration": 14,
    "start_time": "2021-07-07T18:10:10.505Z"
   },
   {
    "duration": 7,
    "start_time": "2021-07-07T18:10:10.521Z"
   },
   {
    "duration": 26,
    "start_time": "2021-07-07T18:10:10.530Z"
   },
   {
    "duration": 44,
    "start_time": "2021-07-07T18:10:10.558Z"
   },
   {
    "duration": 7,
    "start_time": "2021-07-07T18:10:10.605Z"
   },
   {
    "duration": 11,
    "start_time": "2021-07-07T18:10:10.614Z"
   },
   {
    "duration": 19,
    "start_time": "2021-07-07T18:10:10.626Z"
   },
   {
    "duration": 44,
    "start_time": "2021-07-07T18:10:10.646Z"
   },
   {
    "duration": 516,
    "start_time": "2021-07-07T18:14:00.826Z"
   },
   {
    "duration": 230,
    "start_time": "2021-07-07T18:14:01.344Z"
   },
   {
    "duration": 105,
    "start_time": "2021-07-07T18:14:01.576Z"
   },
   {
    "duration": 5,
    "start_time": "2021-07-07T18:14:01.683Z"
   },
   {
    "duration": 46,
    "start_time": "2021-07-07T18:14:01.690Z"
   },
   {
    "duration": 7,
    "start_time": "2021-07-07T18:14:01.738Z"
   },
   {
    "duration": 20,
    "start_time": "2021-07-07T18:14:01.747Z"
   },
   {
    "duration": 16,
    "start_time": "2021-07-07T18:14:01.769Z"
   },
   {
    "duration": 14,
    "start_time": "2021-07-07T18:14:01.787Z"
   },
   {
    "duration": 15,
    "start_time": "2021-07-07T18:14:01.803Z"
   },
   {
    "duration": 12,
    "start_time": "2021-07-07T18:14:01.820Z"
   },
   {
    "duration": 35,
    "start_time": "2021-07-07T18:14:01.833Z"
   },
   {
    "duration": 31,
    "start_time": "2021-07-07T18:14:01.869Z"
   },
   {
    "duration": 37,
    "start_time": "2021-07-07T18:14:01.902Z"
   },
   {
    "duration": 8,
    "start_time": "2021-07-07T18:14:01.942Z"
   },
   {
    "duration": 16,
    "start_time": "2021-07-07T18:14:01.952Z"
   },
   {
    "duration": 13,
    "start_time": "2021-07-07T18:14:01.970Z"
   },
   {
    "duration": 32,
    "start_time": "2021-07-07T18:14:01.985Z"
   },
   {
    "duration": 11,
    "start_time": "2021-07-07T18:14:02.019Z"
   },
   {
    "duration": 22,
    "start_time": "2021-07-07T18:14:02.031Z"
   },
   {
    "duration": 27,
    "start_time": "2021-07-07T18:14:02.055Z"
   },
   {
    "duration": 18,
    "start_time": "2021-07-07T18:14:02.084Z"
   },
   {
    "duration": 18,
    "start_time": "2021-07-07T18:14:02.106Z"
   },
   {
    "duration": 11,
    "start_time": "2021-07-07T18:14:02.126Z"
   },
   {
    "duration": 21,
    "start_time": "2021-07-07T18:14:02.138Z"
   },
   {
    "duration": 32,
    "start_time": "2021-07-07T18:14:02.161Z"
   },
   {
    "duration": 28,
    "start_time": "2021-07-07T18:14:44.295Z"
   },
   {
    "duration": 6,
    "start_time": "2021-07-07T18:15:05.834Z"
   },
   {
    "duration": 511,
    "start_time": "2021-07-07T18:15:41.541Z"
   },
   {
    "duration": 183,
    "start_time": "2021-07-07T18:15:42.054Z"
   },
   {
    "duration": 50,
    "start_time": "2021-07-07T18:15:42.239Z"
   },
   {
    "duration": 5,
    "start_time": "2021-07-07T18:15:42.291Z"
   },
   {
    "duration": 48,
    "start_time": "2021-07-07T18:15:42.297Z"
   },
   {
    "duration": 8,
    "start_time": "2021-07-07T18:15:42.346Z"
   },
   {
    "duration": 17,
    "start_time": "2021-07-07T18:15:42.356Z"
   },
   {
    "duration": 15,
    "start_time": "2021-07-07T18:15:42.375Z"
   },
   {
    "duration": 12,
    "start_time": "2021-07-07T18:15:42.392Z"
   },
   {
    "duration": 7,
    "start_time": "2021-07-07T18:15:42.406Z"
   },
   {
    "duration": 7,
    "start_time": "2021-07-07T18:15:42.415Z"
   },
   {
    "duration": 29,
    "start_time": "2021-07-07T18:15:42.423Z"
   },
   {
    "duration": 43,
    "start_time": "2021-07-07T18:15:42.453Z"
   },
   {
    "duration": 18,
    "start_time": "2021-07-07T18:15:42.497Z"
   },
   {
    "duration": 6,
    "start_time": "2021-07-07T18:15:42.516Z"
   },
   {
    "duration": 3,
    "start_time": "2021-07-07T18:15:42.523Z"
   },
   {
    "duration": 18,
    "start_time": "2021-07-07T18:15:42.528Z"
   },
   {
    "duration": 10,
    "start_time": "2021-07-07T18:15:42.547Z"
   },
   {
    "duration": 36,
    "start_time": "2021-07-07T18:15:42.559Z"
   },
   {
    "duration": 8,
    "start_time": "2021-07-07T18:15:42.597Z"
   },
   {
    "duration": 28,
    "start_time": "2021-07-07T18:15:42.606Z"
   },
   {
    "duration": 52,
    "start_time": "2021-07-07T18:15:42.635Z"
   },
   {
    "duration": 7,
    "start_time": "2021-07-07T18:15:42.690Z"
   },
   {
    "duration": 10,
    "start_time": "2021-07-07T18:15:42.699Z"
   },
   {
    "duration": 19,
    "start_time": "2021-07-07T18:15:42.711Z"
   },
   {
    "duration": 9,
    "start_time": "2021-07-07T18:15:42.732Z"
   },
   {
    "duration": 5,
    "start_time": "2021-07-07T18:15:42.743Z"
   },
   {
    "duration": 1450,
    "start_time": "2021-07-07T18:15:51.984Z"
   },
   {
    "duration": 161,
    "start_time": "2021-07-07T18:15:53.435Z"
   },
   {
    "duration": 124,
    "start_time": "2021-07-07T18:15:53.598Z"
   },
   {
    "duration": 5,
    "start_time": "2021-07-07T18:15:53.724Z"
   },
   {
    "duration": 34,
    "start_time": "2021-07-07T18:15:53.730Z"
   },
   {
    "duration": 7,
    "start_time": "2021-07-07T18:15:53.765Z"
   },
   {
    "duration": 15,
    "start_time": "2021-07-07T18:15:53.773Z"
   },
   {
    "duration": 5,
    "start_time": "2021-07-07T18:15:53.791Z"
   },
   {
    "duration": 19,
    "start_time": "2021-07-07T18:15:53.798Z"
   },
   {
    "duration": 9,
    "start_time": "2021-07-07T18:15:53.818Z"
   },
   {
    "duration": 19,
    "start_time": "2021-07-07T18:15:53.828Z"
   },
   {
    "duration": 27,
    "start_time": "2021-07-07T18:15:53.848Z"
   },
   {
    "duration": 16,
    "start_time": "2021-07-07T18:15:53.884Z"
   },
   {
    "duration": 29,
    "start_time": "2021-07-07T18:15:53.901Z"
   },
   {
    "duration": 5,
    "start_time": "2021-07-07T18:15:53.932Z"
   },
   {
    "duration": 15,
    "start_time": "2021-07-07T18:15:53.939Z"
   },
   {
    "duration": 13,
    "start_time": "2021-07-07T18:15:53.956Z"
   },
   {
    "duration": 20,
    "start_time": "2021-07-07T18:15:53.971Z"
   },
   {
    "duration": 14,
    "start_time": "2021-07-07T18:15:53.992Z"
   },
   {
    "duration": 9,
    "start_time": "2021-07-07T18:15:54.009Z"
   },
   {
    "duration": 28,
    "start_time": "2021-07-07T18:15:54.020Z"
   },
   {
    "duration": 50,
    "start_time": "2021-07-07T18:15:54.051Z"
   },
   {
    "duration": 8,
    "start_time": "2021-07-07T18:15:54.105Z"
   },
   {
    "duration": 11,
    "start_time": "2021-07-07T18:15:54.115Z"
   },
   {
    "duration": 20,
    "start_time": "2021-07-07T18:15:54.128Z"
   },
   {
    "duration": 13,
    "start_time": "2021-07-07T18:15:54.184Z"
   },
   {
    "duration": 7,
    "start_time": "2021-07-07T18:15:54.199Z"
   },
   {
    "duration": 7,
    "start_time": "2021-07-07T18:17:08.042Z"
   },
   {
    "duration": 8,
    "start_time": "2021-07-07T18:17:21.008Z"
   },
   {
    "duration": 7,
    "start_time": "2021-07-07T18:17:29.003Z"
   },
   {
    "duration": 8,
    "start_time": "2021-07-07T18:17:32.492Z"
   },
   {
    "duration": 9,
    "start_time": "2021-07-07T18:17:41.758Z"
   },
   {
    "duration": 255,
    "start_time": "2021-07-07T18:20:20.897Z"
   },
   {
    "duration": 173,
    "start_time": "2021-07-07T18:20:26.636Z"
   },
   {
    "duration": 7,
    "start_time": "2021-07-07T18:21:47.164Z"
   },
   {
    "duration": 254,
    "start_time": "2021-07-07T18:23:08.703Z"
   },
   {
    "duration": 21,
    "start_time": "2021-07-07T18:23:22.506Z"
   },
   {
    "duration": 315,
    "start_time": "2021-07-07T18:25:54.801Z"
   },
   {
    "duration": 34,
    "start_time": "2021-07-07T18:26:51.817Z"
   },
   {
    "duration": 327,
    "start_time": "2021-07-07T18:26:56.147Z"
   },
   {
    "duration": 342,
    "start_time": "2021-07-07T18:27:15.887Z"
   },
   {
    "duration": 302,
    "start_time": "2021-07-07T18:28:18.569Z"
   },
   {
    "duration": 226,
    "start_time": "2021-07-07T18:29:20.879Z"
   },
   {
    "duration": 207,
    "start_time": "2021-07-07T18:29:58.114Z"
   },
   {
    "duration": 140,
    "start_time": "2021-07-07T18:32:04.372Z"
   },
   {
    "duration": 158,
    "start_time": "2021-07-07T18:32:32.508Z"
   },
   {
    "duration": 145,
    "start_time": "2021-07-07T18:32:41.365Z"
   },
   {
    "duration": 132,
    "start_time": "2021-07-07T18:32:45.199Z"
   },
   {
    "duration": 11,
    "start_time": "2021-07-07T18:35:24.679Z"
   },
   {
    "duration": 268,
    "start_time": "2021-07-07T18:36:16.145Z"
   },
   {
    "duration": 227,
    "start_time": "2021-07-07T18:37:04.918Z"
   },
   {
    "duration": 3,
    "start_time": "2021-07-07T18:37:33.012Z"
   },
   {
    "duration": 671,
    "start_time": "2021-07-07T18:37:38.295Z"
   },
   {
    "duration": 54,
    "start_time": "2021-07-07T18:37:53.406Z"
   },
   {
    "duration": 631,
    "start_time": "2021-07-07T18:37:56.463Z"
   },
   {
    "duration": 19,
    "start_time": "2021-07-07T18:39:40.535Z"
   },
   {
    "duration": 20,
    "start_time": "2021-07-07T18:40:12.236Z"
   },
   {
    "duration": 633,
    "start_time": "2021-07-07T18:42:00.398Z"
   },
   {
    "duration": 218,
    "start_time": "2021-07-07T18:42:01.033Z"
   },
   {
    "duration": 49,
    "start_time": "2021-07-07T18:42:01.253Z"
   },
   {
    "duration": 5,
    "start_time": "2021-07-07T18:42:01.303Z"
   },
   {
    "duration": 27,
    "start_time": "2021-07-07T18:42:01.310Z"
   },
   {
    "duration": 8,
    "start_time": "2021-07-07T18:42:01.339Z"
   },
   {
    "duration": 20,
    "start_time": "2021-07-07T18:42:01.348Z"
   },
   {
    "duration": 6,
    "start_time": "2021-07-07T18:42:01.386Z"
   },
   {
    "duration": 16,
    "start_time": "2021-07-07T18:42:01.394Z"
   },
   {
    "duration": 9,
    "start_time": "2021-07-07T18:42:01.411Z"
   },
   {
    "duration": 11,
    "start_time": "2021-07-07T18:42:01.421Z"
   },
   {
    "duration": 31,
    "start_time": "2021-07-07T18:42:01.434Z"
   },
   {
    "duration": 18,
    "start_time": "2021-07-07T18:42:01.485Z"
   },
   {
    "duration": 23,
    "start_time": "2021-07-07T18:42:01.505Z"
   },
   {
    "duration": 6,
    "start_time": "2021-07-07T18:42:01.530Z"
   },
   {
    "duration": 10,
    "start_time": "2021-07-07T18:42:01.538Z"
   },
   {
    "duration": 13,
    "start_time": "2021-07-07T18:42:01.550Z"
   },
   {
    "duration": 24,
    "start_time": "2021-07-07T18:42:01.564Z"
   },
   {
    "duration": 20,
    "start_time": "2021-07-07T18:42:01.590Z"
   },
   {
    "duration": 8,
    "start_time": "2021-07-07T18:42:01.611Z"
   },
   {
    "duration": 31,
    "start_time": "2021-07-07T18:42:01.620Z"
   },
   {
    "duration": 39,
    "start_time": "2021-07-07T18:42:01.653Z"
   },
   {
    "duration": 8,
    "start_time": "2021-07-07T18:42:01.696Z"
   },
   {
    "duration": 13,
    "start_time": "2021-07-07T18:42:01.705Z"
   },
   {
    "duration": 20,
    "start_time": "2021-07-07T18:42:01.720Z"
   },
   {
    "duration": 12,
    "start_time": "2021-07-07T18:42:01.741Z"
   },
   {
    "duration": 35,
    "start_time": "2021-07-07T18:42:01.755Z"
   },
   {
    "duration": 14,
    "start_time": "2021-07-07T18:42:01.792Z"
   },
   {
    "duration": 188,
    "start_time": "2021-07-07T18:42:01.808Z"
   },
   {
    "duration": 19,
    "start_time": "2021-07-07T18:42:01.998Z"
   },
   {
    "duration": 175,
    "start_time": "2021-07-07T18:42:02.019Z"
   },
   {
    "duration": 134,
    "start_time": "2021-07-07T18:42:02.196Z"
   },
   {
    "duration": 10,
    "start_time": "2021-07-07T18:42:02.331Z"
   },
   {
    "duration": 19,
    "start_time": "2021-07-07T18:42:02.343Z"
   },
   {
    "duration": 628,
    "start_time": "2021-07-07T18:46:30.701Z"
   },
   {
    "duration": 183,
    "start_time": "2021-07-07T18:46:31.331Z"
   },
   {
    "duration": 48,
    "start_time": "2021-07-07T18:46:31.516Z"
   },
   {
    "duration": 5,
    "start_time": "2021-07-07T18:46:31.566Z"
   },
   {
    "duration": 28,
    "start_time": "2021-07-07T18:46:31.572Z"
   },
   {
    "duration": 8,
    "start_time": "2021-07-07T18:46:31.602Z"
   },
   {
    "duration": 19,
    "start_time": "2021-07-07T18:46:31.611Z"
   },
   {
    "duration": 6,
    "start_time": "2021-07-07T18:46:31.633Z"
   },
   {
    "duration": 17,
    "start_time": "2021-07-07T18:46:31.642Z"
   },
   {
    "duration": 10,
    "start_time": "2021-07-07T18:46:31.684Z"
   },
   {
    "duration": 9,
    "start_time": "2021-07-07T18:46:31.695Z"
   },
   {
    "duration": 28,
    "start_time": "2021-07-07T18:46:31.705Z"
   },
   {
    "duration": 18,
    "start_time": "2021-07-07T18:46:31.735Z"
   },
   {
    "duration": 48,
    "start_time": "2021-07-07T18:46:31.755Z"
   },
   {
    "duration": 6,
    "start_time": "2021-07-07T18:46:31.804Z"
   },
   {
    "duration": 4,
    "start_time": "2021-07-07T18:46:31.812Z"
   },
   {
    "duration": 9,
    "start_time": "2021-07-07T18:46:31.817Z"
   },
   {
    "duration": 10,
    "start_time": "2021-07-07T18:46:31.827Z"
   },
   {
    "duration": 12,
    "start_time": "2021-07-07T18:46:31.838Z"
   },
   {
    "duration": 39,
    "start_time": "2021-07-07T18:46:31.851Z"
   },
   {
    "duration": 24,
    "start_time": "2021-07-07T18:46:31.892Z"
   },
   {
    "duration": 15,
    "start_time": "2021-07-07T18:46:31.918Z"
   },
   {
    "duration": 7,
    "start_time": "2021-07-07T18:46:31.936Z"
   },
   {
    "duration": 8,
    "start_time": "2021-07-07T18:46:31.944Z"
   },
   {
    "duration": 19,
    "start_time": "2021-07-07T18:46:31.984Z"
   },
   {
    "duration": 10,
    "start_time": "2021-07-07T18:46:32.004Z"
   },
   {
    "duration": 5,
    "start_time": "2021-07-07T18:46:32.016Z"
   },
   {
    "duration": 9,
    "start_time": "2021-07-07T18:46:32.023Z"
   },
   {
    "duration": 199,
    "start_time": "2021-07-07T18:46:32.033Z"
   },
   {
    "duration": 19,
    "start_time": "2021-07-07T18:46:32.234Z"
   },
   {
    "duration": 159,
    "start_time": "2021-07-07T18:46:32.255Z"
   },
   {
    "duration": 134,
    "start_time": "2021-07-07T18:46:32.416Z"
   },
   {
    "duration": 10,
    "start_time": "2021-07-07T18:46:32.552Z"
   },
   {
    "duration": 34,
    "start_time": "2021-07-07T18:46:32.563Z"
   },
   {
    "duration": 1039,
    "start_time": "2021-07-08T08:41:09.419Z"
   },
   {
    "duration": 333,
    "start_time": "2021-07-08T08:41:10.459Z"
   },
   {
    "duration": 173,
    "start_time": "2021-07-08T08:41:10.794Z"
   },
   {
    "duration": 5,
    "start_time": "2021-07-08T08:41:10.968Z"
   },
   {
    "duration": 25,
    "start_time": "2021-07-08T08:41:10.975Z"
   },
   {
    "duration": 9,
    "start_time": "2021-07-08T08:41:11.002Z"
   },
   {
    "duration": 18,
    "start_time": "2021-07-08T08:41:11.013Z"
   },
   {
    "duration": 6,
    "start_time": "2021-07-08T08:41:11.033Z"
   },
   {
    "duration": 44,
    "start_time": "2021-07-08T08:41:11.042Z"
   },
   {
    "duration": 10,
    "start_time": "2021-07-08T08:41:11.088Z"
   },
   {
    "duration": 9,
    "start_time": "2021-07-08T08:41:11.100Z"
   },
   {
    "duration": 27,
    "start_time": "2021-07-08T08:41:11.111Z"
   },
   {
    "duration": 46,
    "start_time": "2021-07-08T08:41:11.140Z"
   },
   {
    "duration": 17,
    "start_time": "2021-07-08T08:41:11.187Z"
   },
   {
    "duration": 6,
    "start_time": "2021-07-08T08:41:11.206Z"
   },
   {
    "duration": 5,
    "start_time": "2021-07-08T08:41:11.213Z"
   },
   {
    "duration": 10,
    "start_time": "2021-07-08T08:41:11.219Z"
   },
   {
    "duration": 9,
    "start_time": "2021-07-08T08:41:11.230Z"
   },
   {
    "duration": 45,
    "start_time": "2021-07-08T08:41:11.241Z"
   },
   {
    "duration": 7,
    "start_time": "2021-07-08T08:41:11.287Z"
   },
   {
    "duration": 24,
    "start_time": "2021-07-08T08:41:11.296Z"
   },
   {
    "duration": 16,
    "start_time": "2021-07-08T08:41:11.322Z"
   },
   {
    "duration": 7,
    "start_time": "2021-07-08T08:41:11.341Z"
   },
   {
    "duration": 41,
    "start_time": "2021-07-08T08:41:11.349Z"
   },
   {
    "duration": 17,
    "start_time": "2021-07-08T08:41:11.391Z"
   },
   {
    "duration": 9,
    "start_time": "2021-07-08T08:41:11.410Z"
   },
   {
    "duration": 5,
    "start_time": "2021-07-08T08:41:11.421Z"
   },
   {
    "duration": 6,
    "start_time": "2021-07-08T08:41:11.428Z"
   },
   {
    "duration": 198,
    "start_time": "2021-07-08T08:41:11.435Z"
   },
   {
    "duration": 18,
    "start_time": "2021-07-08T08:41:11.635Z"
   },
   {
    "duration": 155,
    "start_time": "2021-07-08T08:41:11.655Z"
   },
   {
    "duration": 138,
    "start_time": "2021-07-08T08:41:11.811Z"
   },
   {
    "duration": 10,
    "start_time": "2021-07-08T08:41:11.950Z"
   },
   {
    "duration": 29,
    "start_time": "2021-07-08T08:41:11.961Z"
   },
   {
    "duration": 171,
    "start_time": "2021-07-08T08:47:44.522Z"
   },
   {
    "duration": 124,
    "start_time": "2021-07-08T08:47:46.872Z"
   },
   {
    "duration": 191,
    "start_time": "2021-07-08T08:47:58.148Z"
   },
   {
    "duration": 191,
    "start_time": "2021-07-08T08:48:07.412Z"
   },
   {
    "duration": 261,
    "start_time": "2021-07-08T08:48:10.385Z"
   },
   {
    "duration": 255,
    "start_time": "2021-07-08T08:48:14.494Z"
   },
   {
    "duration": 219,
    "start_time": "2021-07-08T08:48:22.752Z"
   },
   {
    "duration": 173,
    "start_time": "2021-07-08T08:49:06.395Z"
   },
   {
    "duration": 180,
    "start_time": "2021-07-08T08:49:21.011Z"
   },
   {
    "duration": 6,
    "start_time": "2021-07-08T08:50:31.697Z"
   },
   {
    "duration": 10,
    "start_time": "2021-07-08T08:50:47.394Z"
   },
   {
    "duration": 11,
    "start_time": "2021-07-08T08:53:49.332Z"
   },
   {
    "duration": 171,
    "start_time": "2021-07-08T08:54:28.408Z"
   },
   {
    "duration": 636,
    "start_time": "2021-07-08T09:02:48.385Z"
   },
   {
    "duration": 227,
    "start_time": "2021-07-08T09:02:49.023Z"
   },
   {
    "duration": 104,
    "start_time": "2021-07-08T09:02:49.252Z"
   },
   {
    "duration": 5,
    "start_time": "2021-07-08T09:02:49.358Z"
   },
   {
    "duration": 27,
    "start_time": "2021-07-08T09:02:49.365Z"
   },
   {
    "duration": 8,
    "start_time": "2021-07-08T09:02:49.394Z"
   },
   {
    "duration": 18,
    "start_time": "2021-07-08T09:02:49.404Z"
   },
   {
    "duration": 6,
    "start_time": "2021-07-08T09:02:49.424Z"
   },
   {
    "duration": 11,
    "start_time": "2021-07-08T09:02:49.433Z"
   },
   {
    "duration": 13,
    "start_time": "2021-07-08T09:02:49.485Z"
   },
   {
    "duration": 9,
    "start_time": "2021-07-08T09:02:49.500Z"
   },
   {
    "duration": 38,
    "start_time": "2021-07-08T09:02:49.511Z"
   },
   {
    "duration": 42,
    "start_time": "2021-07-08T09:02:49.551Z"
   },
   {
    "duration": 21,
    "start_time": "2021-07-08T09:02:49.594Z"
   },
   {
    "duration": 6,
    "start_time": "2021-07-08T09:02:49.616Z"
   },
   {
    "duration": 3,
    "start_time": "2021-07-08T09:02:49.623Z"
   },
   {
    "duration": 9,
    "start_time": "2021-07-08T09:02:49.628Z"
   },
   {
    "duration": 52,
    "start_time": "2021-07-08T09:02:49.638Z"
   },
   {
    "duration": 11,
    "start_time": "2021-07-08T09:02:49.692Z"
   },
   {
    "duration": 8,
    "start_time": "2021-07-08T09:02:49.704Z"
   },
   {
    "duration": 27,
    "start_time": "2021-07-08T09:02:49.713Z"
   },
   {
    "duration": 59,
    "start_time": "2021-07-08T09:02:49.741Z"
   },
   {
    "duration": 8,
    "start_time": "2021-07-08T09:02:49.803Z"
   },
   {
    "duration": 14,
    "start_time": "2021-07-08T09:02:49.813Z"
   },
   {
    "duration": 20,
    "start_time": "2021-07-08T09:02:49.829Z"
   },
   {
    "duration": 44,
    "start_time": "2021-07-08T09:02:49.851Z"
   },
   {
    "duration": 14,
    "start_time": "2021-07-08T09:02:49.896Z"
   },
   {
    "duration": 221,
    "start_time": "2021-07-08T09:02:49.912Z"
   },
   {
    "duration": 6,
    "start_time": "2021-07-08T09:02:50.134Z"
   },
   {
    "duration": 206,
    "start_time": "2021-07-08T09:02:50.142Z"
   },
   {
    "duration": 19,
    "start_time": "2021-07-08T09:02:50.350Z"
   },
   {
    "duration": 21,
    "start_time": "2021-07-08T09:02:50.370Z"
   },
   {
    "duration": 20,
    "start_time": "2021-07-08T09:02:50.393Z"
   },
   {
    "duration": 5,
    "start_time": "2021-07-08T09:02:50.414Z"
   },
   {
    "duration": 5,
    "start_time": "2021-07-08T09:03:34.173Z"
   },
   {
    "duration": 6,
    "start_time": "2021-07-08T09:04:49.062Z"
   },
   {
    "duration": 9,
    "start_time": "2021-07-08T09:04:50.118Z"
   },
   {
    "duration": 14,
    "start_time": "2021-07-08T09:04:58.512Z"
   },
   {
    "duration": 9,
    "start_time": "2021-07-08T09:05:10.988Z"
   },
   {
    "duration": 11,
    "start_time": "2021-07-08T09:05:11.743Z"
   },
   {
    "duration": 7,
    "start_time": "2021-07-08T09:05:25.677Z"
   },
   {
    "duration": 13,
    "start_time": "2021-07-08T09:05:47.189Z"
   },
   {
    "duration": 13,
    "start_time": "2021-07-08T09:05:54.755Z"
   },
   {
    "duration": 4,
    "start_time": "2021-07-08T09:06:29.189Z"
   },
   {
    "duration": 244,
    "start_time": "2021-07-08T09:06:29.195Z"
   },
   {
    "duration": 91,
    "start_time": "2021-07-08T09:06:29.441Z"
   },
   {
    "duration": 4,
    "start_time": "2021-07-08T09:06:29.534Z"
   },
   {
    "duration": 28,
    "start_time": "2021-07-08T09:06:29.540Z"
   },
   {
    "duration": 6,
    "start_time": "2021-07-08T09:06:29.570Z"
   },
   {
    "duration": 18,
    "start_time": "2021-07-08T09:06:29.578Z"
   },
   {
    "duration": 5,
    "start_time": "2021-07-08T09:06:29.597Z"
   },
   {
    "duration": 13,
    "start_time": "2021-07-08T09:06:29.605Z"
   },
   {
    "duration": 8,
    "start_time": "2021-07-08T09:06:29.620Z"
   },
   {
    "duration": 7,
    "start_time": "2021-07-08T09:06:29.630Z"
   },
   {
    "duration": 63,
    "start_time": "2021-07-08T09:06:29.639Z"
   },
   {
    "duration": 17,
    "start_time": "2021-07-08T09:06:29.704Z"
   },
   {
    "duration": 20,
    "start_time": "2021-07-08T09:06:29.723Z"
   },
   {
    "duration": 6,
    "start_time": "2021-07-08T09:06:29.745Z"
   },
   {
    "duration": 3,
    "start_time": "2021-07-08T09:06:29.752Z"
   },
   {
    "duration": 7,
    "start_time": "2021-07-08T09:06:29.785Z"
   },
   {
    "duration": 11,
    "start_time": "2021-07-08T09:06:29.794Z"
   },
   {
    "duration": 15,
    "start_time": "2021-07-08T09:06:29.807Z"
   },
   {
    "duration": 8,
    "start_time": "2021-07-08T09:06:29.823Z"
   },
   {
    "duration": 70,
    "start_time": "2021-07-08T09:06:29.832Z"
   },
   {
    "duration": 17,
    "start_time": "2021-07-08T09:06:29.903Z"
   },
   {
    "duration": 9,
    "start_time": "2021-07-08T09:06:29.921Z"
   },
   {
    "duration": 9,
    "start_time": "2021-07-08T09:06:29.932Z"
   },
   {
    "duration": 57,
    "start_time": "2021-07-08T09:06:29.942Z"
   },
   {
    "duration": 11,
    "start_time": "2021-07-08T09:06:30.001Z"
   },
   {
    "duration": 19,
    "start_time": "2021-07-08T09:06:30.016Z"
   },
   {
    "duration": 217,
    "start_time": "2021-07-08T09:06:30.037Z"
   },
   {
    "duration": 6,
    "start_time": "2021-07-08T09:06:30.255Z"
   },
   {
    "duration": 205,
    "start_time": "2021-07-08T09:06:30.263Z"
   },
   {
    "duration": 27,
    "start_time": "2021-07-08T09:06:30.470Z"
   },
   {
    "duration": 11,
    "start_time": "2021-07-08T09:06:30.500Z"
   },
   {
    "duration": 31,
    "start_time": "2021-07-08T09:06:30.513Z"
   },
   {
    "duration": 18,
    "start_time": "2021-07-08T09:06:30.546Z"
   },
   {
    "duration": 11,
    "start_time": "2021-07-08T09:06:30.566Z"
   },
   {
    "duration": 19,
    "start_time": "2021-07-08T09:06:30.579Z"
   },
   {
    "duration": 20,
    "start_time": "2021-07-08T09:06:49.466Z"
   },
   {
    "duration": 9,
    "start_time": "2021-07-08T09:06:51.994Z"
   },
   {
    "duration": 20,
    "start_time": "2021-07-08T09:06:52.273Z"
   },
   {
    "duration": 246,
    "start_time": "2021-07-08T09:10:21.272Z"
   },
   {
    "duration": 84,
    "start_time": "2021-07-08T09:10:21.436Z"
   },
   {
    "duration": 7,
    "start_time": "2021-07-08T09:10:37.608Z"
   },
   {
    "duration": 189,
    "start_time": "2021-07-08T09:10:38.573Z"
   },
   {
    "duration": 185,
    "start_time": "2021-07-08T09:10:53.181Z"
   },
   {
    "duration": 11,
    "start_time": "2021-07-08T09:10:59.549Z"
   },
   {
    "duration": 42,
    "start_time": "2021-07-08T09:10:59.709Z"
   },
   {
    "duration": 12,
    "start_time": "2021-07-08T09:11:02.857Z"
   },
   {
    "duration": 28,
    "start_time": "2021-07-08T09:11:10.062Z"
   },
   {
    "duration": 249,
    "start_time": "2021-07-08T09:11:37.388Z"
   },
   {
    "duration": 232,
    "start_time": "2021-07-08T09:11:49.485Z"
   },
   {
    "duration": 453,
    "start_time": "2021-07-08T09:12:01.546Z"
   },
   {
    "duration": 440,
    "start_time": "2021-07-08T09:12:12.347Z"
   },
   {
    "duration": 213,
    "start_time": "2021-07-08T09:13:32.196Z"
   },
   {
    "duration": 172,
    "start_time": "2021-07-08T09:14:07.400Z"
   },
   {
    "duration": 185,
    "start_time": "2021-07-08T09:14:14.905Z"
   },
   {
    "duration": 209,
    "start_time": "2021-07-08T09:14:40.109Z"
   },
   {
    "duration": 201,
    "start_time": "2021-07-08T09:14:54.506Z"
   },
   {
    "duration": 622,
    "start_time": "2021-07-08T09:18:14.497Z"
   },
   {
    "duration": 220,
    "start_time": "2021-07-08T09:18:15.121Z"
   },
   {
    "duration": 79,
    "start_time": "2021-07-08T09:18:15.343Z"
   },
   {
    "duration": 4,
    "start_time": "2021-07-08T09:18:15.425Z"
   },
   {
    "duration": 24,
    "start_time": "2021-07-08T09:18:15.431Z"
   },
   {
    "duration": 8,
    "start_time": "2021-07-08T09:18:15.457Z"
   },
   {
    "duration": 16,
    "start_time": "2021-07-08T09:18:15.466Z"
   },
   {
    "duration": 5,
    "start_time": "2021-07-08T09:18:15.484Z"
   },
   {
    "duration": 10,
    "start_time": "2021-07-08T09:18:15.493Z"
   },
   {
    "duration": 8,
    "start_time": "2021-07-08T09:18:15.504Z"
   },
   {
    "duration": 7,
    "start_time": "2021-07-08T09:18:15.513Z"
   },
   {
    "duration": 26,
    "start_time": "2021-07-08T09:18:15.522Z"
   },
   {
    "duration": 49,
    "start_time": "2021-07-08T09:18:15.550Z"
   },
   {
    "duration": 21,
    "start_time": "2021-07-08T09:18:15.601Z"
   },
   {
    "duration": 8,
    "start_time": "2021-07-08T09:18:15.624Z"
   },
   {
    "duration": 3,
    "start_time": "2021-07-08T09:18:15.634Z"
   },
   {
    "duration": 8,
    "start_time": "2021-07-08T09:18:15.639Z"
   },
   {
    "duration": 45,
    "start_time": "2021-07-08T09:18:15.649Z"
   },
   {
    "duration": 13,
    "start_time": "2021-07-08T09:18:15.696Z"
   },
   {
    "duration": 10,
    "start_time": "2021-07-08T09:18:15.711Z"
   },
   {
    "duration": 64,
    "start_time": "2021-07-08T09:18:15.722Z"
   },
   {
    "duration": 19,
    "start_time": "2021-07-08T09:18:15.788Z"
   },
   {
    "duration": 9,
    "start_time": "2021-07-08T09:18:15.809Z"
   },
   {
    "duration": 9,
    "start_time": "2021-07-08T09:18:15.820Z"
   },
   {
    "duration": 18,
    "start_time": "2021-07-08T09:18:15.831Z"
   },
   {
    "duration": 43,
    "start_time": "2021-07-08T09:18:15.851Z"
   },
   {
    "duration": 12,
    "start_time": "2021-07-08T09:18:15.897Z"
   },
   {
    "duration": 219,
    "start_time": "2021-07-08T09:18:15.911Z"
   },
   {
    "duration": 8,
    "start_time": "2021-07-08T09:18:16.132Z"
   },
   {
    "duration": 199,
    "start_time": "2021-07-08T09:18:16.141Z"
   },
   {
    "duration": 18,
    "start_time": "2021-07-08T09:18:16.341Z"
   },
   {
    "duration": 24,
    "start_time": "2021-07-08T09:18:16.361Z"
   },
   {
    "duration": 24,
    "start_time": "2021-07-08T09:18:16.387Z"
   },
   {
    "duration": 211,
    "start_time": "2021-07-08T09:18:16.413Z"
   },
   {
    "duration": 18,
    "start_time": "2021-07-08T09:18:16.626Z"
   },
   {
    "duration": 596,
    "start_time": "2021-07-08T10:06:33.623Z"
   },
   {
    "duration": 181,
    "start_time": "2021-07-08T10:06:34.221Z"
   },
   {
    "duration": 176,
    "start_time": "2021-07-08T10:06:34.635Z"
   },
   {
    "duration": 239,
    "start_time": "2021-07-08T10:06:55.572Z"
   },
   {
    "duration": 6,
    "start_time": "2021-07-08T10:06:57.687Z"
   },
   {
    "duration": 4,
    "start_time": "2021-07-08T10:07:03.956Z"
   },
   {
    "duration": 4,
    "start_time": "2021-07-08T10:07:10.376Z"
   },
   {
    "duration": 4,
    "start_time": "2021-07-08T10:17:19.889Z"
   },
   {
    "duration": 3,
    "start_time": "2021-07-08T10:19:19.407Z"
   },
   {
    "duration": 197,
    "start_time": "2021-07-08T10:19:19.412Z"
   },
   {
    "duration": 127,
    "start_time": "2021-07-08T10:19:19.611Z"
   },
   {
    "duration": 4,
    "start_time": "2021-07-08T10:19:19.740Z"
   },
   {
    "duration": 27,
    "start_time": "2021-07-08T10:19:19.746Z"
   },
   {
    "duration": 7,
    "start_time": "2021-07-08T10:19:19.775Z"
   },
   {
    "duration": 30,
    "start_time": "2021-07-08T10:19:19.784Z"
   },
   {
    "duration": 7,
    "start_time": "2021-07-08T10:19:19.817Z"
   },
   {
    "duration": 26,
    "start_time": "2021-07-08T10:19:19.826Z"
   },
   {
    "duration": 18,
    "start_time": "2021-07-08T10:19:19.854Z"
   },
   {
    "duration": 14,
    "start_time": "2021-07-08T10:19:19.874Z"
   },
   {
    "duration": 48,
    "start_time": "2021-07-08T10:19:19.890Z"
   },
   {
    "duration": 17,
    "start_time": "2021-07-08T10:19:19.940Z"
   },
   {
    "duration": 38,
    "start_time": "2021-07-08T10:19:19.959Z"
   },
   {
    "duration": 8,
    "start_time": "2021-07-08T10:19:19.999Z"
   },
   {
    "duration": 15,
    "start_time": "2021-07-08T10:19:20.009Z"
   },
   {
    "duration": 22,
    "start_time": "2021-07-08T10:19:20.026Z"
   },
   {
    "duration": 10,
    "start_time": "2021-07-08T10:19:20.050Z"
   },
   {
    "duration": 10,
    "start_time": "2021-07-08T10:19:20.062Z"
   },
   {
    "duration": 20,
    "start_time": "2021-07-08T10:19:20.073Z"
   },
   {
    "duration": 29,
    "start_time": "2021-07-08T10:19:20.095Z"
   },
   {
    "duration": 17,
    "start_time": "2021-07-08T10:19:20.126Z"
   },
   {
    "duration": 40,
    "start_time": "2021-07-08T10:19:20.146Z"
   },
   {
    "duration": 15,
    "start_time": "2021-07-08T10:19:20.189Z"
   },
   {
    "duration": 19,
    "start_time": "2021-07-08T10:19:20.206Z"
   },
   {
    "duration": 10,
    "start_time": "2021-07-08T10:19:20.226Z"
   },
   {
    "duration": 11,
    "start_time": "2021-07-08T10:19:20.238Z"
   },
   {
    "duration": 297,
    "start_time": "2021-07-08T10:19:20.250Z"
   },
   {
    "duration": 6,
    "start_time": "2021-07-08T10:19:20.549Z"
   },
   {
    "duration": 191,
    "start_time": "2021-07-08T10:19:20.557Z"
   },
   {
    "duration": 19,
    "start_time": "2021-07-08T10:19:20.750Z"
   },
   {
    "duration": 20,
    "start_time": "2021-07-08T10:19:20.771Z"
   },
   {
    "duration": 15,
    "start_time": "2021-07-08T10:19:20.793Z"
   },
   {
    "duration": 222,
    "start_time": "2021-07-08T10:19:20.809Z"
   },
   {
    "duration": 20,
    "start_time": "2021-07-08T10:19:21.033Z"
   },
   {
    "duration": 27,
    "start_time": "2021-07-08T10:45:04.055Z"
   },
   {
    "duration": 8,
    "start_time": "2021-07-08T10:45:08.478Z"
   },
   {
    "duration": 8,
    "start_time": "2021-07-08T10:45:31.982Z"
   },
   {
    "duration": 10,
    "start_time": "2021-07-08T10:46:01.221Z"
   },
   {
    "duration": 17,
    "start_time": "2021-07-08T10:46:40.011Z"
   },
   {
    "duration": 193,
    "start_time": "2021-07-08T10:48:19.471Z"
   },
   {
    "duration": 225,
    "start_time": "2021-07-08T10:49:26.480Z"
   },
   {
    "duration": 204,
    "start_time": "2021-07-08T10:49:59.992Z"
   },
   {
    "duration": 435,
    "start_time": "2021-07-08T10:50:06.779Z"
   },
   {
    "duration": 199,
    "start_time": "2021-07-08T10:50:14.891Z"
   },
   {
    "duration": 204,
    "start_time": "2021-07-08T10:50:18.501Z"
   },
   {
    "duration": 244,
    "start_time": "2021-07-08T10:50:23.359Z"
   },
   {
    "duration": 192,
    "start_time": "2021-07-08T10:50:29.135Z"
   },
   {
    "duration": 218,
    "start_time": "2021-07-08T10:50:33.092Z"
   },
   {
    "duration": 207,
    "start_time": "2021-07-08T10:52:45.381Z"
   },
   {
    "duration": 5,
    "start_time": "2021-07-08T10:53:34.641Z"
   },
   {
    "duration": 196,
    "start_time": "2021-07-08T10:53:41.478Z"
   },
   {
    "duration": 43,
    "start_time": "2021-07-08T10:53:50.335Z"
   },
   {
    "duration": 32,
    "start_time": "2021-07-08T10:53:55.294Z"
   },
   {
    "duration": 55,
    "start_time": "2021-07-08T10:54:09.675Z"
   },
   {
    "duration": 16,
    "start_time": "2021-07-08T10:54:12.260Z"
   },
   {
    "duration": 15,
    "start_time": "2021-07-08T10:54:49.150Z"
   },
   {
    "duration": 20,
    "start_time": "2021-07-08T10:56:07.596Z"
   },
   {
    "duration": 16,
    "start_time": "2021-07-08T10:58:26.276Z"
   },
   {
    "duration": 22,
    "start_time": "2021-07-08T10:59:00.486Z"
   },
   {
    "duration": 18,
    "start_time": "2021-07-08T11:02:09.653Z"
   },
   {
    "duration": 10,
    "start_time": "2021-07-08T11:03:44.331Z"
   },
   {
    "duration": 10,
    "start_time": "2021-07-08T11:03:54.055Z"
   },
   {
    "duration": 12,
    "start_time": "2021-07-08T11:04:41.967Z"
   },
   {
    "duration": 24,
    "start_time": "2021-07-08T11:07:30.732Z"
   },
   {
    "duration": 6,
    "start_time": "2021-07-08T11:07:37.364Z"
   },
   {
    "duration": 16,
    "start_time": "2021-07-08T11:08:01.819Z"
   },
   {
    "duration": 17,
    "start_time": "2021-07-08T11:09:47.488Z"
   },
   {
    "duration": 246,
    "start_time": "2021-07-08T11:10:00.830Z"
   },
   {
    "duration": 18,
    "start_time": "2021-07-08T11:13:55.195Z"
   },
   {
    "duration": 204,
    "start_time": "2021-07-08T11:14:04.951Z"
   },
   {
    "duration": 19,
    "start_time": "2021-07-08T11:15:10.613Z"
   },
   {
    "duration": 680,
    "start_time": "2021-07-08T11:16:25.793Z"
   },
   {
    "duration": 451,
    "start_time": "2021-07-08T11:16:40.313Z"
   },
   {
    "duration": 469,
    "start_time": "2021-07-08T11:17:21.286Z"
   },
   {
    "duration": 20,
    "start_time": "2021-07-08T11:19:12.554Z"
   },
   {
    "duration": 35,
    "start_time": "2021-07-08T11:20:05.484Z"
   },
   {
    "duration": 53,
    "start_time": "2021-07-08T11:21:40.050Z"
   },
   {
    "duration": 13,
    "start_time": "2021-07-08T11:22:26.059Z"
   },
   {
    "duration": 19,
    "start_time": "2021-07-08T11:22:47.419Z"
   },
   {
    "duration": 25,
    "start_time": "2021-07-08T11:23:19.958Z"
   },
   {
    "duration": 29,
    "start_time": "2021-07-08T11:23:25.415Z"
   },
   {
    "duration": 10,
    "start_time": "2021-07-08T11:24:45.138Z"
   },
   {
    "duration": 19,
    "start_time": "2021-07-08T11:24:54.498Z"
   },
   {
    "duration": 12,
    "start_time": "2021-07-08T11:25:32.225Z"
   },
   {
    "duration": 19,
    "start_time": "2021-07-08T11:25:37.092Z"
   },
   {
    "duration": 17,
    "start_time": "2021-07-08T11:25:58.116Z"
   },
   {
    "duration": 15,
    "start_time": "2021-07-08T11:26:02.258Z"
   },
   {
    "duration": 8,
    "start_time": "2021-07-08T11:26:59.682Z"
   },
   {
    "duration": 184,
    "start_time": "2021-07-08T11:27:21.894Z"
   },
   {
    "duration": 8,
    "start_time": "2021-07-08T11:27:23.824Z"
   },
   {
    "duration": 202,
    "start_time": "2021-07-08T11:27:23.962Z"
   },
   {
    "duration": 360,
    "start_time": "2021-07-08T11:28:33.215Z"
   },
   {
    "duration": 231,
    "start_time": "2021-07-08T11:32:05.542Z"
   },
   {
    "duration": 607,
    "start_time": "2021-07-08T11:36:27.854Z"
   },
   {
    "duration": 241,
    "start_time": "2021-07-08T11:36:28.463Z"
   },
   {
    "duration": 67,
    "start_time": "2021-07-08T11:36:28.709Z"
   },
   {
    "duration": 5,
    "start_time": "2021-07-08T11:36:28.778Z"
   },
   {
    "duration": 32,
    "start_time": "2021-07-08T11:36:28.784Z"
   },
   {
    "duration": 11,
    "start_time": "2021-07-08T11:36:28.819Z"
   },
   {
    "duration": 20,
    "start_time": "2021-07-08T11:36:28.834Z"
   },
   {
    "duration": 36,
    "start_time": "2021-07-08T11:36:28.857Z"
   },
   {
    "duration": 16,
    "start_time": "2021-07-08T11:36:28.895Z"
   },
   {
    "duration": 14,
    "start_time": "2021-07-08T11:36:28.913Z"
   },
   {
    "duration": 9,
    "start_time": "2021-07-08T11:36:28.930Z"
   },
   {
    "duration": 55,
    "start_time": "2021-07-08T11:36:28.941Z"
   },
   {
    "duration": 27,
    "start_time": "2021-07-08T11:36:28.999Z"
   },
   {
    "duration": 30,
    "start_time": "2021-07-08T11:36:29.028Z"
   },
   {
    "duration": 31,
    "start_time": "2021-07-08T11:36:29.060Z"
   },
   {
    "duration": 3,
    "start_time": "2021-07-08T11:36:29.093Z"
   },
   {
    "duration": 12,
    "start_time": "2021-07-08T11:36:29.099Z"
   },
   {
    "duration": 11,
    "start_time": "2021-07-08T11:36:29.112Z"
   },
   {
    "duration": 12,
    "start_time": "2021-07-08T11:36:29.125Z"
   },
   {
    "duration": 9,
    "start_time": "2021-07-08T11:36:29.139Z"
   },
   {
    "duration": 31,
    "start_time": "2021-07-08T11:36:29.191Z"
   },
   {
    "duration": 17,
    "start_time": "2021-07-08T11:36:29.226Z"
   },
   {
    "duration": 7,
    "start_time": "2021-07-08T11:36:29.245Z"
   },
   {
    "duration": 10,
    "start_time": "2021-07-08T11:36:29.254Z"
   },
   {
    "duration": 30,
    "start_time": "2021-07-08T11:36:29.292Z"
   },
   {
    "duration": 11,
    "start_time": "2021-07-08T11:36:29.324Z"
   },
   {
    "duration": 11,
    "start_time": "2021-07-08T11:36:29.337Z"
   },
   {
    "duration": 230,
    "start_time": "2021-07-08T11:36:29.349Z"
   },
   {
    "duration": 13,
    "start_time": "2021-07-08T11:36:29.588Z"
   },
   {
    "duration": 205,
    "start_time": "2021-07-08T11:36:29.603Z"
   },
   {
    "duration": 20,
    "start_time": "2021-07-08T11:36:29.810Z"
   },
   {
    "duration": 9,
    "start_time": "2021-07-08T11:36:29.832Z"
   },
   {
    "duration": 16,
    "start_time": "2021-07-08T11:36:29.843Z"
   },
   {
    "duration": 283,
    "start_time": "2021-07-08T11:36:29.861Z"
   },
   {
    "duration": 50,
    "start_time": "2021-07-08T11:36:30.146Z"
   },
   {
    "duration": 14,
    "start_time": "2021-07-08T11:36:30.198Z"
   },
   {
    "duration": 11,
    "start_time": "2021-07-08T11:36:30.214Z"
   },
   {
    "duration": 245,
    "start_time": "2021-07-08T11:36:30.227Z"
   },
   {
    "duration": 439,
    "start_time": "2021-07-08T11:36:30.474Z"
   },
   {
    "duration": 210,
    "start_time": "2021-07-08T11:36:30.915Z"
   },
   {
    "duration": 15,
    "start_time": "2021-07-08T11:36:31.127Z"
   },
   {
    "duration": 17,
    "start_time": "2021-07-08T11:38:20.451Z"
   },
   {
    "duration": 642,
    "start_time": "2021-07-08T11:46:17.881Z"
   },
   {
    "duration": 210,
    "start_time": "2021-07-08T11:46:18.525Z"
   },
   {
    "duration": 104,
    "start_time": "2021-07-08T11:46:18.741Z"
   },
   {
    "duration": 8,
    "start_time": "2021-07-08T11:46:18.847Z"
   },
   {
    "duration": 25,
    "start_time": "2021-07-08T11:46:18.857Z"
   },
   {
    "duration": 14,
    "start_time": "2021-07-08T11:46:18.884Z"
   },
   {
    "duration": 22,
    "start_time": "2021-07-08T11:46:18.900Z"
   },
   {
    "duration": 5,
    "start_time": "2021-07-08T11:46:18.924Z"
   },
   {
    "duration": 13,
    "start_time": "2021-07-08T11:46:18.931Z"
   },
   {
    "duration": 45,
    "start_time": "2021-07-08T11:46:18.946Z"
   },
   {
    "duration": 12,
    "start_time": "2021-07-08T11:46:18.993Z"
   },
   {
    "duration": 38,
    "start_time": "2021-07-08T11:46:19.006Z"
   },
   {
    "duration": 50,
    "start_time": "2021-07-08T11:46:19.046Z"
   },
   {
    "duration": 29,
    "start_time": "2021-07-08T11:46:19.099Z"
   },
   {
    "duration": 7,
    "start_time": "2021-07-08T11:46:19.130Z"
   },
   {
    "duration": 3,
    "start_time": "2021-07-08T11:46:19.139Z"
   },
   {
    "duration": 11,
    "start_time": "2021-07-08T11:46:19.144Z"
   },
   {
    "duration": 40,
    "start_time": "2021-07-08T11:46:19.157Z"
   },
   {
    "duration": 15,
    "start_time": "2021-07-08T11:46:19.199Z"
   },
   {
    "duration": 10,
    "start_time": "2021-07-08T11:46:19.217Z"
   },
   {
    "duration": 68,
    "start_time": "2021-07-08T11:46:19.230Z"
   },
   {
    "duration": 17,
    "start_time": "2021-07-08T11:46:19.301Z"
   },
   {
    "duration": 7,
    "start_time": "2021-07-08T11:46:19.321Z"
   },
   {
    "duration": 11,
    "start_time": "2021-07-08T11:46:19.330Z"
   },
   {
    "duration": 59,
    "start_time": "2021-07-08T11:46:19.343Z"
   },
   {
    "duration": 17,
    "start_time": "2021-07-08T11:46:19.405Z"
   },
   {
    "duration": 16,
    "start_time": "2021-07-08T11:46:19.424Z"
   },
   {
    "duration": 252,
    "start_time": "2021-07-08T11:46:19.443Z"
   },
   {
    "duration": 9,
    "start_time": "2021-07-08T11:46:19.697Z"
   },
   {
    "duration": 224,
    "start_time": "2021-07-08T11:46:19.708Z"
   },
   {
    "duration": 21,
    "start_time": "2021-07-08T11:46:19.934Z"
   },
   {
    "duration": 9,
    "start_time": "2021-07-08T11:46:19.956Z"
   },
   {
    "duration": 32,
    "start_time": "2021-07-08T11:46:19.967Z"
   },
   {
    "duration": 288,
    "start_time": "2021-07-08T11:46:20.004Z"
   },
   {
    "duration": 23,
    "start_time": "2021-07-08T11:46:20.300Z"
   },
   {
    "duration": 11,
    "start_time": "2021-07-08T11:46:20.325Z"
   },
   {
    "duration": 11,
    "start_time": "2021-07-08T11:46:20.339Z"
   },
   {
    "duration": 259,
    "start_time": "2021-07-08T11:46:20.352Z"
   },
   {
    "duration": 438,
    "start_time": "2021-07-08T11:46:20.613Z"
   },
   {
    "duration": 207,
    "start_time": "2021-07-08T11:46:21.054Z"
   },
   {
    "duration": 27,
    "start_time": "2021-07-08T11:46:21.262Z"
   },
   {
    "duration": 19,
    "start_time": "2021-07-08T11:46:21.291Z"
   },
   {
    "duration": 820,
    "start_time": "2021-07-08T11:49:01.655Z"
   },
   {
    "duration": 372,
    "start_time": "2021-07-08T11:49:02.478Z"
   },
   {
    "duration": 98,
    "start_time": "2021-07-08T11:49:02.853Z"
   },
   {
    "duration": 6,
    "start_time": "2021-07-08T11:49:02.953Z"
   },
   {
    "duration": 39,
    "start_time": "2021-07-08T11:49:02.960Z"
   },
   {
    "duration": 9,
    "start_time": "2021-07-08T11:49:03.003Z"
   },
   {
    "duration": 23,
    "start_time": "2021-07-08T11:49:03.014Z"
   },
   {
    "duration": 6,
    "start_time": "2021-07-08T11:49:03.041Z"
   },
   {
    "duration": 20,
    "start_time": "2021-07-08T11:49:03.049Z"
   },
   {
    "duration": 18,
    "start_time": "2021-07-08T11:49:03.084Z"
   },
   {
    "duration": 14,
    "start_time": "2021-07-08T11:49:03.104Z"
   },
   {
    "duration": 39,
    "start_time": "2021-07-08T11:49:03.119Z"
   },
   {
    "duration": 38,
    "start_time": "2021-07-08T11:49:03.160Z"
   },
   {
    "duration": 26,
    "start_time": "2021-07-08T11:49:03.200Z"
   },
   {
    "duration": 7,
    "start_time": "2021-07-08T11:49:03.227Z"
   },
   {
    "duration": 4,
    "start_time": "2021-07-08T11:49:03.236Z"
   },
   {
    "duration": 15,
    "start_time": "2021-07-08T11:49:03.243Z"
   },
   {
    "duration": 21,
    "start_time": "2021-07-08T11:49:03.285Z"
   },
   {
    "duration": 17,
    "start_time": "2021-07-08T11:49:03.309Z"
   },
   {
    "duration": 10,
    "start_time": "2021-07-08T11:49:03.328Z"
   },
   {
    "duration": 65,
    "start_time": "2021-07-08T11:49:03.340Z"
   },
   {
    "duration": 18,
    "start_time": "2021-07-08T11:49:03.407Z"
   },
   {
    "duration": 8,
    "start_time": "2021-07-08T11:49:03.428Z"
   },
   {
    "duration": 15,
    "start_time": "2021-07-08T11:49:03.438Z"
   },
   {
    "duration": 40,
    "start_time": "2021-07-08T11:49:03.455Z"
   },
   {
    "duration": 12,
    "start_time": "2021-07-08T11:49:03.497Z"
   },
   {
    "duration": 29,
    "start_time": "2021-07-08T11:49:03.511Z"
   },
   {
    "duration": 285,
    "start_time": "2021-07-08T11:49:03.542Z"
   },
   {
    "duration": 8,
    "start_time": "2021-07-08T11:49:03.829Z"
   },
   {
    "duration": 227,
    "start_time": "2021-07-08T11:49:03.838Z"
   },
   {
    "duration": 40,
    "start_time": "2021-07-08T11:49:04.066Z"
   },
   {
    "duration": 10,
    "start_time": "2021-07-08T11:49:04.108Z"
   },
   {
    "duration": 26,
    "start_time": "2021-07-08T11:49:04.121Z"
   },
   {
    "duration": 290,
    "start_time": "2021-07-08T11:49:04.149Z"
   },
   {
    "duration": 26,
    "start_time": "2021-07-08T11:49:04.441Z"
   },
   {
    "duration": 31,
    "start_time": "2021-07-08T11:49:04.470Z"
   },
   {
    "duration": 14,
    "start_time": "2021-07-08T11:49:04.503Z"
   },
   {
    "duration": 259,
    "start_time": "2021-07-08T11:49:04.521Z"
   },
   {
    "duration": 480,
    "start_time": "2021-07-08T11:49:04.782Z"
   },
   {
    "duration": 225,
    "start_time": "2021-07-08T11:49:05.264Z"
   },
   {
    "duration": 22,
    "start_time": "2021-07-08T11:49:05.491Z"
   },
   {
    "duration": 24,
    "start_time": "2021-07-08T11:49:05.515Z"
   },
   {
    "duration": 634,
    "start_time": "2021-07-08T11:52:24.960Z"
   },
   {
    "duration": 199,
    "start_time": "2021-07-08T11:52:25.599Z"
   },
   {
    "duration": 106,
    "start_time": "2021-07-08T11:52:25.803Z"
   },
   {
    "duration": 7,
    "start_time": "2021-07-08T11:52:25.911Z"
   },
   {
    "duration": 29,
    "start_time": "2021-07-08T11:52:25.920Z"
   },
   {
    "duration": 7,
    "start_time": "2021-07-08T11:52:25.951Z"
   },
   {
    "duration": 26,
    "start_time": "2021-07-08T11:52:25.961Z"
   },
   {
    "duration": 11,
    "start_time": "2021-07-08T11:52:25.990Z"
   },
   {
    "duration": 29,
    "start_time": "2021-07-08T11:52:26.005Z"
   },
   {
    "duration": 9,
    "start_time": "2021-07-08T11:52:26.036Z"
   },
   {
    "duration": 8,
    "start_time": "2021-07-08T11:52:26.047Z"
   },
   {
    "duration": 63,
    "start_time": "2021-07-08T11:52:26.057Z"
   },
   {
    "duration": 17,
    "start_time": "2021-07-08T11:52:26.122Z"
   },
   {
    "duration": 43,
    "start_time": "2021-07-08T11:52:26.142Z"
   },
   {
    "duration": 17,
    "start_time": "2021-07-08T11:52:26.187Z"
   },
   {
    "duration": 5,
    "start_time": "2021-07-08T11:52:26.206Z"
   },
   {
    "duration": 12,
    "start_time": "2021-07-08T11:52:26.212Z"
   },
   {
    "duration": 11,
    "start_time": "2021-07-08T11:52:26.226Z"
   },
   {
    "duration": 12,
    "start_time": "2021-07-08T11:52:26.238Z"
   },
   {
    "duration": 38,
    "start_time": "2021-07-08T11:52:26.252Z"
   },
   {
    "duration": 40,
    "start_time": "2021-07-08T11:52:26.292Z"
   },
   {
    "duration": 17,
    "start_time": "2021-07-08T11:52:26.336Z"
   },
   {
    "duration": 39,
    "start_time": "2021-07-08T11:52:26.355Z"
   },
   {
    "duration": 11,
    "start_time": "2021-07-08T11:52:26.395Z"
   },
   {
    "duration": 23,
    "start_time": "2021-07-08T11:52:26.408Z"
   },
   {
    "duration": 12,
    "start_time": "2021-07-08T11:52:26.432Z"
   },
   {
    "duration": 41,
    "start_time": "2021-07-08T11:52:26.446Z"
   },
   {
    "duration": 215,
    "start_time": "2021-07-08T11:52:26.493Z"
   },
   {
    "duration": 8,
    "start_time": "2021-07-08T11:52:26.710Z"
   },
   {
    "duration": 228,
    "start_time": "2021-07-08T11:52:26.720Z"
   },
   {
    "duration": 18,
    "start_time": "2021-07-08T11:52:26.950Z"
   },
   {
    "duration": 35,
    "start_time": "2021-07-08T11:52:26.969Z"
   },
   {
    "duration": 23,
    "start_time": "2021-07-08T11:52:27.006Z"
   },
   {
    "duration": 258,
    "start_time": "2021-07-08T11:52:27.030Z"
   },
   {
    "duration": 24,
    "start_time": "2021-07-08T11:52:27.290Z"
   },
   {
    "duration": 12,
    "start_time": "2021-07-08T11:52:27.316Z"
   },
   {
    "duration": 10,
    "start_time": "2021-07-08T11:52:27.329Z"
   },
   {
    "duration": 298,
    "start_time": "2021-07-08T11:52:27.341Z"
   },
   {
    "duration": 436,
    "start_time": "2021-07-08T11:52:27.641Z"
   },
   {
    "duration": 216,
    "start_time": "2021-07-08T11:52:28.079Z"
   },
   {
    "duration": 20,
    "start_time": "2021-07-08T11:52:28.297Z"
   },
   {
    "duration": 17,
    "start_time": "2021-07-08T11:52:28.319Z"
   },
   {
    "duration": 830,
    "start_time": "2024-09-07T17:15:09.128Z"
   },
   {
    "duration": 314,
    "start_time": "2024-09-07T17:15:09.961Z"
   },
   {
    "duration": 18,
    "start_time": "2024-09-07T17:15:10.277Z"
   },
   {
    "duration": 16,
    "start_time": "2024-09-07T17:15:10.298Z"
   },
   {
    "duration": 17,
    "start_time": "2024-09-07T17:15:10.315Z"
   },
   {
    "duration": 15,
    "start_time": "2024-09-07T17:15:10.333Z"
   },
   {
    "duration": 19,
    "start_time": "2024-09-07T17:15:10.350Z"
   },
   {
    "duration": 23,
    "start_time": "2024-09-07T17:15:10.371Z"
   },
   {
    "duration": 10,
    "start_time": "2024-09-07T17:15:10.396Z"
   },
   {
    "duration": 18,
    "start_time": "2024-09-07T17:15:10.409Z"
   },
   {
    "duration": 20,
    "start_time": "2024-09-07T17:15:10.429Z"
   },
   {
    "duration": 29,
    "start_time": "2024-09-07T17:15:10.451Z"
   },
   {
    "duration": 6,
    "start_time": "2024-09-07T17:15:10.482Z"
   },
   {
    "duration": 10,
    "start_time": "2024-09-07T17:15:10.490Z"
   },
   {
    "duration": 48,
    "start_time": "2024-09-07T17:15:10.502Z"
   },
   {
    "duration": 18,
    "start_time": "2024-09-07T17:15:10.552Z"
   },
   {
    "duration": 12,
    "start_time": "2024-09-07T17:15:10.572Z"
   },
   {
    "duration": 12,
    "start_time": "2024-09-07T17:15:10.586Z"
   },
   {
    "duration": 14,
    "start_time": "2024-09-07T17:15:10.600Z"
   },
   {
    "duration": 10,
    "start_time": "2024-09-07T17:15:10.616Z"
   },
   {
    "duration": 15,
    "start_time": "2024-09-07T17:15:10.628Z"
   },
   {
    "duration": 9,
    "start_time": "2024-09-07T17:15:10.659Z"
   },
   {
    "duration": 16,
    "start_time": "2024-09-07T17:15:10.669Z"
   },
   {
    "duration": 112,
    "start_time": "2024-09-07T17:15:10.686Z"
   },
   {
    "duration": 14,
    "start_time": "2024-09-07T17:15:10.800Z"
   },
   {
    "duration": 23,
    "start_time": "2024-09-07T17:15:10.816Z"
   },
   {
    "duration": 47,
    "start_time": "2024-09-07T17:15:10.840Z"
   },
   {
    "duration": 11,
    "start_time": "2024-09-07T17:15:10.891Z"
   },
   {
    "duration": 25,
    "start_time": "2024-09-07T17:15:10.903Z"
   },
   {
    "duration": 21,
    "start_time": "2024-09-07T17:15:10.929Z"
   },
   {
    "duration": 38,
    "start_time": "2024-09-07T17:15:10.952Z"
   },
   {
    "duration": 15,
    "start_time": "2024-09-07T17:15:10.992Z"
   },
   {
    "duration": 2,
    "start_time": "2024-09-07T17:15:11.009Z"
   },
   {
    "duration": 25,
    "start_time": "2024-09-07T17:15:11.013Z"
   },
   {
    "duration": 22,
    "start_time": "2024-09-07T17:15:11.039Z"
   },
   {
    "duration": 26,
    "start_time": "2024-09-07T17:15:11.064Z"
   },
   {
    "duration": 10,
    "start_time": "2024-09-07T17:15:11.092Z"
   },
   {
    "duration": 23,
    "start_time": "2024-09-07T17:15:11.103Z"
   },
   {
    "duration": 36,
    "start_time": "2024-09-07T17:15:11.127Z"
   },
   {
    "duration": 16,
    "start_time": "2024-09-07T17:15:11.165Z"
   },
   {
    "duration": 23,
    "start_time": "2024-09-07T17:15:11.182Z"
   },
   {
    "duration": 23,
    "start_time": "2024-09-07T17:15:11.207Z"
   },
   {
    "duration": 40,
    "start_time": "2024-09-07T17:15:11.232Z"
   },
   {
    "duration": 15,
    "start_time": "2024-09-07T17:15:11.274Z"
   },
   {
    "duration": 6,
    "start_time": "2024-09-07T17:15:11.291Z"
   },
   {
    "duration": 10,
    "start_time": "2024-09-07T17:15:11.298Z"
   },
   {
    "duration": 4,
    "start_time": "2024-09-07T17:15:11.309Z"
   },
   {
    "duration": 10,
    "start_time": "2024-09-07T17:15:11.314Z"
   },
   {
    "duration": 36,
    "start_time": "2024-09-07T17:15:11.325Z"
   },
   {
    "duration": 11,
    "start_time": "2024-09-07T17:15:11.363Z"
   },
   {
    "duration": 41,
    "start_time": "2024-09-07T17:15:11.375Z"
   },
   {
    "duration": 13,
    "start_time": "2024-09-07T17:15:11.418Z"
   },
   {
    "duration": 19,
    "start_time": "2024-09-07T17:15:11.432Z"
   },
   {
    "duration": 8,
    "start_time": "2024-09-07T17:15:11.453Z"
   },
   {
    "duration": 10,
    "start_time": "2024-09-07T17:15:11.463Z"
   },
   {
    "duration": 6,
    "start_time": "2024-09-07T17:15:11.474Z"
   },
   {
    "duration": 15,
    "start_time": "2024-09-07T17:15:11.482Z"
   },
   {
    "duration": 18,
    "start_time": "2024-09-07T17:15:11.498Z"
   },
   {
    "duration": 11,
    "start_time": "2024-09-07T17:15:11.518Z"
   },
   {
    "duration": 40,
    "start_time": "2024-09-07T17:15:11.531Z"
   },
   {
    "duration": 6,
    "start_time": "2024-09-07T17:15:11.572Z"
   },
   {
    "duration": 30,
    "start_time": "2024-09-07T17:15:11.580Z"
   },
   {
    "duration": 8,
    "start_time": "2024-09-07T17:15:11.612Z"
   },
   {
    "duration": 26,
    "start_time": "2024-09-07T17:15:11.622Z"
   },
   {
    "duration": 175,
    "start_time": "2024-09-07T17:15:11.649Z"
   },
   {
    "duration": 29,
    "start_time": "2024-09-07T17:15:11.825Z"
   },
   {
    "duration": 24,
    "start_time": "2024-09-07T17:15:11.857Z"
   },
   {
    "duration": 6,
    "start_time": "2024-09-07T17:15:11.883Z"
   },
   {
    "duration": 8,
    "start_time": "2024-09-07T17:15:11.891Z"
   },
   {
    "duration": 7,
    "start_time": "2024-09-07T17:15:11.900Z"
   },
   {
    "duration": 11,
    "start_time": "2024-09-07T17:15:11.909Z"
   },
   {
    "duration": 287,
    "start_time": "2024-09-07T17:15:11.922Z"
   },
   {
    "duration": 1350,
    "start_time": "2024-09-07T17:15:12.211Z"
   },
   {
    "duration": 6,
    "start_time": "2024-09-07T17:15:13.567Z"
   },
   {
    "duration": 41,
    "start_time": "2024-09-07T17:15:13.574Z"
   },
   {
    "duration": 11,
    "start_time": "2024-09-07T17:15:13.617Z"
   },
   {
    "duration": 12,
    "start_time": "2024-09-07T17:15:13.630Z"
   },
   {
    "duration": 27,
    "start_time": "2024-09-07T17:15:13.643Z"
   },
   {
    "duration": 4,
    "start_time": "2024-09-07T17:15:13.671Z"
   },
   {
    "duration": 18,
    "start_time": "2024-09-07T17:15:13.677Z"
   },
   {
    "duration": 151,
    "start_time": "2024-09-07T17:15:13.696Z"
   },
   {
    "duration": 0,
    "start_time": "2024-09-07T17:15:13.855Z"
   },
   {
    "duration": 0,
    "start_time": "2024-09-07T17:15:13.856Z"
   },
   {
    "duration": 0,
    "start_time": "2024-09-07T17:15:13.863Z"
   },
   {
    "duration": 0,
    "start_time": "2024-09-07T17:15:13.867Z"
   },
   {
    "duration": 0,
    "start_time": "2024-09-07T17:15:13.869Z"
   },
   {
    "duration": 0,
    "start_time": "2024-09-07T17:15:13.870Z"
   },
   {
    "duration": 0,
    "start_time": "2024-09-07T17:15:13.871Z"
   },
   {
    "duration": 0,
    "start_time": "2024-09-07T17:15:13.872Z"
   },
   {
    "duration": 0,
    "start_time": "2024-09-07T17:15:13.873Z"
   },
   {
    "duration": 0,
    "start_time": "2024-09-07T17:15:13.874Z"
   },
   {
    "duration": 0,
    "start_time": "2024-09-07T17:15:13.874Z"
   },
   {
    "duration": 0,
    "start_time": "2024-09-07T17:15:13.875Z"
   },
   {
    "duration": 0,
    "start_time": "2024-09-07T17:15:13.876Z"
   },
   {
    "duration": 0,
    "start_time": "2024-09-07T17:15:13.877Z"
   },
   {
    "duration": 0,
    "start_time": "2024-09-07T17:15:13.878Z"
   },
   {
    "duration": 0,
    "start_time": "2024-09-07T17:15:13.879Z"
   },
   {
    "duration": 0,
    "start_time": "2024-09-07T17:15:13.879Z"
   },
   {
    "duration": 0,
    "start_time": "2024-09-07T17:15:13.880Z"
   },
   {
    "duration": 0,
    "start_time": "2024-09-07T17:15:13.881Z"
   },
   {
    "duration": 0,
    "start_time": "2024-09-07T17:15:13.882Z"
   },
   {
    "duration": 0,
    "start_time": "2024-09-07T17:15:13.883Z"
   },
   {
    "duration": 0,
    "start_time": "2024-09-07T17:15:13.884Z"
   },
   {
    "duration": 0,
    "start_time": "2024-09-07T17:15:13.885Z"
   },
   {
    "duration": 0,
    "start_time": "2024-09-07T17:15:13.885Z"
   },
   {
    "duration": 0,
    "start_time": "2024-09-07T17:15:13.886Z"
   },
   {
    "duration": 0,
    "start_time": "2024-09-07T17:15:13.887Z"
   },
   {
    "duration": 0,
    "start_time": "2024-09-07T17:15:13.888Z"
   },
   {
    "duration": 0,
    "start_time": "2024-09-07T17:15:13.889Z"
   },
   {
    "duration": 0,
    "start_time": "2024-09-07T17:15:13.890Z"
   },
   {
    "duration": 0,
    "start_time": "2024-09-07T17:15:13.891Z"
   },
   {
    "duration": 0,
    "start_time": "2024-09-07T17:15:13.892Z"
   },
   {
    "duration": 0,
    "start_time": "2024-09-07T17:15:13.893Z"
   },
   {
    "duration": 0,
    "start_time": "2024-09-07T17:15:13.894Z"
   },
   {
    "duration": 0,
    "start_time": "2024-09-07T17:15:13.895Z"
   },
   {
    "duration": 3,
    "start_time": "2024-09-07T17:15:41.865Z"
   },
   {
    "duration": 341,
    "start_time": "2024-09-07T17:15:41.870Z"
   },
   {
    "duration": 16,
    "start_time": "2024-09-07T17:15:42.213Z"
   },
   {
    "duration": 10,
    "start_time": "2024-09-07T17:15:42.231Z"
   },
   {
    "duration": 34,
    "start_time": "2024-09-07T17:15:42.243Z"
   },
   {
    "duration": 19,
    "start_time": "2024-09-07T17:15:42.279Z"
   },
   {
    "duration": 4,
    "start_time": "2024-09-07T17:15:42.300Z"
   },
   {
    "duration": 13,
    "start_time": "2024-09-07T17:15:42.306Z"
   },
   {
    "duration": 11,
    "start_time": "2024-09-07T17:15:42.321Z"
   },
   {
    "duration": 28,
    "start_time": "2024-09-07T17:15:42.333Z"
   },
   {
    "duration": 6,
    "start_time": "2024-09-07T17:15:42.364Z"
   },
   {
    "duration": 25,
    "start_time": "2024-09-07T17:15:42.371Z"
   },
   {
    "duration": 10,
    "start_time": "2024-09-07T17:15:42.399Z"
   },
   {
    "duration": 6,
    "start_time": "2024-09-07T17:15:42.410Z"
   },
   {
    "duration": 12,
    "start_time": "2024-09-07T17:15:42.417Z"
   },
   {
    "duration": 12,
    "start_time": "2024-09-07T17:15:42.430Z"
   },
   {
    "duration": 67,
    "start_time": "2024-09-07T17:15:42.443Z"
   },
   {
    "duration": 12,
    "start_time": "2024-09-07T17:15:42.511Z"
   },
   {
    "duration": 19,
    "start_time": "2024-09-07T17:15:42.524Z"
   },
   {
    "duration": 18,
    "start_time": "2024-09-07T17:15:42.544Z"
   },
   {
    "duration": 10,
    "start_time": "2024-09-07T17:15:42.565Z"
   },
   {
    "duration": 4,
    "start_time": "2024-09-07T17:15:42.576Z"
   },
   {
    "duration": 26,
    "start_time": "2024-09-07T17:15:42.581Z"
   },
   {
    "duration": 10,
    "start_time": "2024-09-07T17:15:42.609Z"
   },
   {
    "duration": 20,
    "start_time": "2024-09-07T17:15:42.620Z"
   },
   {
    "duration": 29,
    "start_time": "2024-09-07T17:15:42.642Z"
   },
   {
    "duration": 6,
    "start_time": "2024-09-07T17:15:42.673Z"
   },
   {
    "duration": 20,
    "start_time": "2024-09-07T17:15:42.680Z"
   },
   {
    "duration": 124,
    "start_time": "2024-09-07T17:15:42.701Z"
   },
   {
    "duration": 22,
    "start_time": "2024-09-07T17:15:42.827Z"
   },
   {
    "duration": 55,
    "start_time": "2024-09-07T17:15:42.850Z"
   },
   {
    "duration": 17,
    "start_time": "2024-09-07T17:15:42.906Z"
   },
   {
    "duration": 3,
    "start_time": "2024-09-07T17:15:42.924Z"
   },
   {
    "duration": 22,
    "start_time": "2024-09-07T17:15:42.928Z"
   },
   {
    "duration": 17,
    "start_time": "2024-09-07T17:15:42.951Z"
   },
   {
    "duration": 46,
    "start_time": "2024-09-07T17:15:42.969Z"
   },
   {
    "duration": 12,
    "start_time": "2024-09-07T17:15:43.022Z"
   },
   {
    "duration": 33,
    "start_time": "2024-09-07T17:15:43.036Z"
   },
   {
    "duration": 12,
    "start_time": "2024-09-07T17:15:43.071Z"
   },
   {
    "duration": 16,
    "start_time": "2024-09-07T17:15:43.085Z"
   },
   {
    "duration": 23,
    "start_time": "2024-09-07T17:15:43.102Z"
   },
   {
    "duration": 48,
    "start_time": "2024-09-07T17:15:43.126Z"
   },
   {
    "duration": 18,
    "start_time": "2024-09-07T17:15:43.175Z"
   },
   {
    "duration": 15,
    "start_time": "2024-09-07T17:15:43.194Z"
   },
   {
    "duration": 32,
    "start_time": "2024-09-07T17:15:43.211Z"
   },
   {
    "duration": 24,
    "start_time": "2024-09-07T17:15:43.245Z"
   },
   {
    "duration": 3,
    "start_time": "2024-09-07T17:15:43.271Z"
   },
   {
    "duration": 8,
    "start_time": "2024-09-07T17:15:43.276Z"
   },
   {
    "duration": 11,
    "start_time": "2024-09-07T17:15:43.286Z"
   },
   {
    "duration": 9,
    "start_time": "2024-09-07T17:15:43.299Z"
   },
   {
    "duration": 11,
    "start_time": "2024-09-07T17:15:43.310Z"
   },
   {
    "duration": 16,
    "start_time": "2024-09-07T17:15:43.322Z"
   },
   {
    "duration": 30,
    "start_time": "2024-09-07T17:15:43.339Z"
   },
   {
    "duration": 9,
    "start_time": "2024-09-07T17:15:43.371Z"
   },
   {
    "duration": 20,
    "start_time": "2024-09-07T17:15:43.381Z"
   },
   {
    "duration": 21,
    "start_time": "2024-09-07T17:15:43.402Z"
   },
   {
    "duration": 13,
    "start_time": "2024-09-07T17:15:43.425Z"
   },
   {
    "duration": 13,
    "start_time": "2024-09-07T17:15:43.439Z"
   },
   {
    "duration": 12,
    "start_time": "2024-09-07T17:15:43.464Z"
   },
   {
    "duration": 20,
    "start_time": "2024-09-07T17:15:43.478Z"
   },
   {
    "duration": 6,
    "start_time": "2024-09-07T17:15:43.500Z"
   },
   {
    "duration": 37,
    "start_time": "2024-09-07T17:15:43.507Z"
   },
   {
    "duration": 22,
    "start_time": "2024-09-07T17:15:43.546Z"
   },
   {
    "duration": 31,
    "start_time": "2024-09-07T17:15:43.569Z"
   },
   {
    "duration": 139,
    "start_time": "2024-09-07T17:15:43.602Z"
   },
   {
    "duration": 32,
    "start_time": "2024-09-07T17:15:43.742Z"
   },
   {
    "duration": 22,
    "start_time": "2024-09-07T17:15:43.776Z"
   },
   {
    "duration": 14,
    "start_time": "2024-09-07T17:15:43.800Z"
   },
   {
    "duration": 15,
    "start_time": "2024-09-07T17:15:43.816Z"
   },
   {
    "duration": 9,
    "start_time": "2024-09-07T17:15:43.832Z"
   },
   {
    "duration": 26,
    "start_time": "2024-09-07T17:15:43.842Z"
   },
   {
    "duration": 253,
    "start_time": "2024-09-07T17:15:43.870Z"
   },
   {
    "duration": 1453,
    "start_time": "2024-09-07T17:15:44.125Z"
   },
   {
    "duration": 7,
    "start_time": "2024-09-07T17:15:45.580Z"
   },
   {
    "duration": 38,
    "start_time": "2024-09-07T17:15:45.589Z"
   },
   {
    "duration": 11,
    "start_time": "2024-09-07T17:15:45.629Z"
   },
   {
    "duration": 17,
    "start_time": "2024-09-07T17:15:45.660Z"
   },
   {
    "duration": 14,
    "start_time": "2024-09-07T17:15:45.679Z"
   },
   {
    "duration": 9,
    "start_time": "2024-09-07T17:15:45.695Z"
   },
   {
    "duration": 18,
    "start_time": "2024-09-07T17:15:45.705Z"
   },
   {
    "duration": 28,
    "start_time": "2024-09-07T17:15:45.724Z"
   },
   {
    "duration": 0,
    "start_time": "2024-09-07T17:15:45.755Z"
   },
   {
    "duration": 0,
    "start_time": "2024-09-07T17:15:45.762Z"
   },
   {
    "duration": 0,
    "start_time": "2024-09-07T17:15:45.763Z"
   },
   {
    "duration": 0,
    "start_time": "2024-09-07T17:15:45.764Z"
   },
   {
    "duration": 0,
    "start_time": "2024-09-07T17:15:45.766Z"
   },
   {
    "duration": 0,
    "start_time": "2024-09-07T17:15:45.767Z"
   },
   {
    "duration": 0,
    "start_time": "2024-09-07T17:15:45.769Z"
   },
   {
    "duration": 0,
    "start_time": "2024-09-07T17:15:45.770Z"
   },
   {
    "duration": 0,
    "start_time": "2024-09-07T17:15:45.771Z"
   },
   {
    "duration": 0,
    "start_time": "2024-09-07T17:15:45.772Z"
   },
   {
    "duration": 0,
    "start_time": "2024-09-07T17:15:45.773Z"
   },
   {
    "duration": 0,
    "start_time": "2024-09-07T17:15:45.774Z"
   },
   {
    "duration": 0,
    "start_time": "2024-09-07T17:15:45.775Z"
   },
   {
    "duration": 0,
    "start_time": "2024-09-07T17:15:45.776Z"
   },
   {
    "duration": 0,
    "start_time": "2024-09-07T17:15:45.778Z"
   },
   {
    "duration": 0,
    "start_time": "2024-09-07T17:15:45.778Z"
   },
   {
    "duration": 0,
    "start_time": "2024-09-07T17:15:45.780Z"
   },
   {
    "duration": 0,
    "start_time": "2024-09-07T17:15:45.781Z"
   },
   {
    "duration": 0,
    "start_time": "2024-09-07T17:15:45.782Z"
   },
   {
    "duration": 0,
    "start_time": "2024-09-07T17:15:45.783Z"
   },
   {
    "duration": 0,
    "start_time": "2024-09-07T17:15:45.784Z"
   },
   {
    "duration": 0,
    "start_time": "2024-09-07T17:15:45.785Z"
   },
   {
    "duration": 0,
    "start_time": "2024-09-07T17:15:45.786Z"
   },
   {
    "duration": 0,
    "start_time": "2024-09-07T17:15:45.787Z"
   },
   {
    "duration": 0,
    "start_time": "2024-09-07T17:15:45.788Z"
   },
   {
    "duration": 0,
    "start_time": "2024-09-07T17:15:45.789Z"
   },
   {
    "duration": 0,
    "start_time": "2024-09-07T17:15:45.790Z"
   },
   {
    "duration": 0,
    "start_time": "2024-09-07T17:15:45.791Z"
   },
   {
    "duration": 0,
    "start_time": "2024-09-07T17:15:45.792Z"
   },
   {
    "duration": 0,
    "start_time": "2024-09-07T17:15:45.793Z"
   },
   {
    "duration": 0,
    "start_time": "2024-09-07T17:15:45.794Z"
   },
   {
    "duration": 0,
    "start_time": "2024-09-07T17:15:45.795Z"
   },
   {
    "duration": 0,
    "start_time": "2024-09-07T17:15:45.796Z"
   },
   {
    "duration": 0,
    "start_time": "2024-09-07T17:15:45.797Z"
   },
   {
    "duration": 11,
    "start_time": "2024-09-07T17:15:55.647Z"
   },
   {
    "duration": 676,
    "start_time": "2024-09-07T17:16:10.227Z"
   },
   {
    "duration": 294,
    "start_time": "2024-09-07T17:16:10.905Z"
   },
   {
    "duration": 15,
    "start_time": "2024-09-07T17:16:11.200Z"
   },
   {
    "duration": 14,
    "start_time": "2024-09-07T17:16:11.217Z"
   },
   {
    "duration": 32,
    "start_time": "2024-09-07T17:16:11.232Z"
   },
   {
    "duration": 15,
    "start_time": "2024-09-07T17:16:11.266Z"
   },
   {
    "duration": 12,
    "start_time": "2024-09-07T17:16:11.283Z"
   },
   {
    "duration": 6,
    "start_time": "2024-09-07T17:16:11.296Z"
   },
   {
    "duration": 25,
    "start_time": "2024-09-07T17:16:11.303Z"
   },
   {
    "duration": 15,
    "start_time": "2024-09-07T17:16:11.330Z"
   },
   {
    "duration": 12,
    "start_time": "2024-09-07T17:16:11.346Z"
   },
   {
    "duration": 18,
    "start_time": "2024-09-07T17:16:11.366Z"
   },
   {
    "duration": 5,
    "start_time": "2024-09-07T17:16:11.386Z"
   },
   {
    "duration": 4,
    "start_time": "2024-09-07T17:16:11.392Z"
   },
   {
    "duration": 10,
    "start_time": "2024-09-07T17:16:11.397Z"
   },
   {
    "duration": 16,
    "start_time": "2024-09-07T17:16:11.408Z"
   },
   {
    "duration": 6,
    "start_time": "2024-09-07T17:16:11.426Z"
   },
   {
    "duration": 28,
    "start_time": "2024-09-07T17:16:11.434Z"
   },
   {
    "duration": 32,
    "start_time": "2024-09-07T17:16:11.467Z"
   },
   {
    "duration": 10,
    "start_time": "2024-09-07T17:16:11.501Z"
   },
   {
    "duration": 22,
    "start_time": "2024-09-07T17:16:11.513Z"
   },
   {
    "duration": 4,
    "start_time": "2024-09-07T17:16:11.537Z"
   },
   {
    "duration": 27,
    "start_time": "2024-09-07T17:16:11.543Z"
   },
   {
    "duration": 7,
    "start_time": "2024-09-07T17:16:11.572Z"
   },
   {
    "duration": 15,
    "start_time": "2024-09-07T17:16:11.580Z"
   },
   {
    "duration": 14,
    "start_time": "2024-09-07T17:16:11.596Z"
   },
   {
    "duration": 10,
    "start_time": "2024-09-07T17:16:11.612Z"
   },
   {
    "duration": 10,
    "start_time": "2024-09-07T17:16:11.626Z"
   },
   {
    "duration": 29,
    "start_time": "2024-09-07T17:16:11.638Z"
   },
   {
    "duration": 21,
    "start_time": "2024-09-07T17:16:11.669Z"
   },
   {
    "duration": 34,
    "start_time": "2024-09-07T17:16:11.691Z"
   },
   {
    "duration": 15,
    "start_time": "2024-09-07T17:16:11.726Z"
   },
   {
    "duration": 20,
    "start_time": "2024-09-07T17:16:11.743Z"
   },
   {
    "duration": 42,
    "start_time": "2024-09-07T17:16:11.764Z"
   },
   {
    "duration": 5,
    "start_time": "2024-09-07T17:16:11.808Z"
   },
   {
    "duration": 69,
    "start_time": "2024-09-07T17:16:11.814Z"
   },
   {
    "duration": 11,
    "start_time": "2024-09-07T17:16:11.885Z"
   },
   {
    "duration": 23,
    "start_time": "2024-09-07T17:16:11.897Z"
   },
   {
    "duration": 25,
    "start_time": "2024-09-07T17:16:11.922Z"
   },
   {
    "duration": 19,
    "start_time": "2024-09-07T17:16:11.949Z"
   },
   {
    "duration": 23,
    "start_time": "2024-09-07T17:16:11.970Z"
   },
   {
    "duration": 23,
    "start_time": "2024-09-07T17:16:11.995Z"
   },
   {
    "duration": 48,
    "start_time": "2024-09-07T17:16:12.020Z"
   },
   {
    "duration": 17,
    "start_time": "2024-09-07T17:16:12.070Z"
   },
   {
    "duration": 25,
    "start_time": "2024-09-07T17:16:12.089Z"
   },
   {
    "duration": 12,
    "start_time": "2024-09-07T17:16:12.116Z"
   },
   {
    "duration": 39,
    "start_time": "2024-09-07T17:16:12.129Z"
   },
   {
    "duration": 90,
    "start_time": "2024-09-07T17:16:12.170Z"
   },
   {
    "duration": 10,
    "start_time": "2024-09-07T17:16:12.265Z"
   },
   {
    "duration": 7,
    "start_time": "2024-09-07T17:16:12.276Z"
   },
   {
    "duration": 8,
    "start_time": "2024-09-07T17:16:12.285Z"
   },
   {
    "duration": 10,
    "start_time": "2024-09-07T17:16:12.295Z"
   },
   {
    "duration": 18,
    "start_time": "2024-09-07T17:16:12.306Z"
   },
   {
    "duration": 20,
    "start_time": "2024-09-07T17:16:12.325Z"
   },
   {
    "duration": 24,
    "start_time": "2024-09-07T17:16:12.347Z"
   },
   {
    "duration": 5,
    "start_time": "2024-09-07T17:16:12.373Z"
   },
   {
    "duration": 11,
    "start_time": "2024-09-07T17:16:12.379Z"
   },
   {
    "duration": 14,
    "start_time": "2024-09-07T17:16:12.391Z"
   },
   {
    "duration": 11,
    "start_time": "2024-09-07T17:16:12.406Z"
   },
   {
    "duration": 26,
    "start_time": "2024-09-07T17:16:12.419Z"
   },
   {
    "duration": 6,
    "start_time": "2024-09-07T17:16:12.447Z"
   },
   {
    "duration": 72,
    "start_time": "2024-09-07T17:16:12.454Z"
   },
   {
    "duration": 11,
    "start_time": "2024-09-07T17:16:12.528Z"
   },
   {
    "duration": 30,
    "start_time": "2024-09-07T17:16:12.540Z"
   },
   {
    "duration": 167,
    "start_time": "2024-09-07T17:16:12.572Z"
   },
   {
    "duration": 39,
    "start_time": "2024-09-07T17:16:12.741Z"
   },
   {
    "duration": 45,
    "start_time": "2024-09-07T17:16:12.781Z"
   },
   {
    "duration": 7,
    "start_time": "2024-09-07T17:16:12.828Z"
   },
   {
    "duration": 8,
    "start_time": "2024-09-07T17:16:12.836Z"
   },
   {
    "duration": 13,
    "start_time": "2024-09-07T17:16:12.845Z"
   },
   {
    "duration": 15,
    "start_time": "2024-09-07T17:16:12.859Z"
   },
   {
    "duration": 251,
    "start_time": "2024-09-07T17:16:12.876Z"
   },
   {
    "duration": 1364,
    "start_time": "2024-09-07T17:16:13.128Z"
   },
   {
    "duration": 6,
    "start_time": "2024-09-07T17:16:14.493Z"
   },
   {
    "duration": 45,
    "start_time": "2024-09-07T17:16:14.501Z"
   },
   {
    "duration": 20,
    "start_time": "2024-09-07T17:16:14.547Z"
   },
   {
    "duration": 12,
    "start_time": "2024-09-07T17:16:14.569Z"
   },
   {
    "duration": 15,
    "start_time": "2024-09-07T17:16:14.582Z"
   },
   {
    "duration": 3,
    "start_time": "2024-09-07T17:16:14.598Z"
   },
   {
    "duration": 11,
    "start_time": "2024-09-07T17:16:14.603Z"
   },
   {
    "duration": 186,
    "start_time": "2024-09-07T17:16:14.615Z"
   },
   {
    "duration": 0,
    "start_time": "2024-09-07T17:16:14.803Z"
   },
   {
    "duration": 0,
    "start_time": "2024-09-07T17:16:14.804Z"
   },
   {
    "duration": 0,
    "start_time": "2024-09-07T17:16:14.806Z"
   },
   {
    "duration": 0,
    "start_time": "2024-09-07T17:16:14.807Z"
   },
   {
    "duration": 0,
    "start_time": "2024-09-07T17:16:14.808Z"
   },
   {
    "duration": 0,
    "start_time": "2024-09-07T17:16:14.809Z"
   },
   {
    "duration": 0,
    "start_time": "2024-09-07T17:16:14.810Z"
   },
   {
    "duration": 0,
    "start_time": "2024-09-07T17:16:14.811Z"
   },
   {
    "duration": 0,
    "start_time": "2024-09-07T17:16:14.812Z"
   },
   {
    "duration": 0,
    "start_time": "2024-09-07T17:16:14.813Z"
   },
   {
    "duration": 0,
    "start_time": "2024-09-07T17:16:14.814Z"
   },
   {
    "duration": 0,
    "start_time": "2024-09-07T17:16:14.815Z"
   },
   {
    "duration": 0,
    "start_time": "2024-09-07T17:16:14.816Z"
   },
   {
    "duration": 0,
    "start_time": "2024-09-07T17:16:14.817Z"
   },
   {
    "duration": 0,
    "start_time": "2024-09-07T17:16:14.818Z"
   },
   {
    "duration": 0,
    "start_time": "2024-09-07T17:16:14.819Z"
   },
   {
    "duration": 0,
    "start_time": "2024-09-07T17:16:14.820Z"
   },
   {
    "duration": 0,
    "start_time": "2024-09-07T17:16:14.821Z"
   },
   {
    "duration": 0,
    "start_time": "2024-09-07T17:16:14.852Z"
   },
   {
    "duration": 0,
    "start_time": "2024-09-07T17:16:14.854Z"
   },
   {
    "duration": 0,
    "start_time": "2024-09-07T17:16:14.860Z"
   },
   {
    "duration": 0,
    "start_time": "2024-09-07T17:16:14.861Z"
   },
   {
    "duration": 0,
    "start_time": "2024-09-07T17:16:14.867Z"
   },
   {
    "duration": 0,
    "start_time": "2024-09-07T17:16:14.868Z"
   },
   {
    "duration": 0,
    "start_time": "2024-09-07T17:16:14.869Z"
   },
   {
    "duration": 0,
    "start_time": "2024-09-07T17:16:14.870Z"
   },
   {
    "duration": 0,
    "start_time": "2024-09-07T17:16:14.871Z"
   },
   {
    "duration": 0,
    "start_time": "2024-09-07T17:16:14.872Z"
   },
   {
    "duration": 0,
    "start_time": "2024-09-07T17:16:14.873Z"
   },
   {
    "duration": 0,
    "start_time": "2024-09-07T17:16:14.874Z"
   },
   {
    "duration": 0,
    "start_time": "2024-09-07T17:16:14.875Z"
   },
   {
    "duration": 0,
    "start_time": "2024-09-07T17:16:14.876Z"
   },
   {
    "duration": 0,
    "start_time": "2024-09-07T17:16:14.877Z"
   },
   {
    "duration": 0,
    "start_time": "2024-09-07T17:16:14.878Z"
   },
   {
    "duration": 671,
    "start_time": "2024-09-07T17:54:50.519Z"
   },
   {
    "duration": 353,
    "start_time": "2024-09-07T17:54:51.192Z"
   },
   {
    "duration": 25,
    "start_time": "2024-09-07T17:54:51.547Z"
   },
   {
    "duration": 20,
    "start_time": "2024-09-07T17:54:51.574Z"
   },
   {
    "duration": 26,
    "start_time": "2024-09-07T17:54:51.595Z"
   },
   {
    "duration": 18,
    "start_time": "2024-09-07T17:54:51.623Z"
   },
   {
    "duration": 43,
    "start_time": "2024-09-07T17:54:51.642Z"
   },
   {
    "duration": 18,
    "start_time": "2024-09-07T17:54:51.686Z"
   },
   {
    "duration": 24,
    "start_time": "2024-09-07T17:54:51.705Z"
   },
   {
    "duration": 30,
    "start_time": "2024-09-07T17:54:51.731Z"
   },
   {
    "duration": 19,
    "start_time": "2024-09-07T17:54:51.767Z"
   },
   {
    "duration": 22,
    "start_time": "2024-09-07T17:54:51.787Z"
   },
   {
    "duration": 5,
    "start_time": "2024-09-07T17:54:51.811Z"
   },
   {
    "duration": 25,
    "start_time": "2024-09-07T17:54:51.817Z"
   },
   {
    "duration": 13,
    "start_time": "2024-09-07T17:54:51.843Z"
   },
   {
    "duration": 13,
    "start_time": "2024-09-07T17:54:51.862Z"
   },
   {
    "duration": 36,
    "start_time": "2024-09-07T17:54:51.877Z"
   },
   {
    "duration": 27,
    "start_time": "2024-09-07T17:54:51.914Z"
   },
   {
    "duration": 24,
    "start_time": "2024-09-07T17:54:51.943Z"
   },
   {
    "duration": 10,
    "start_time": "2024-09-07T17:54:51.969Z"
   },
   {
    "duration": 14,
    "start_time": "2024-09-07T17:54:51.981Z"
   },
   {
    "duration": 33,
    "start_time": "2024-09-07T17:54:51.997Z"
   },
   {
    "duration": 21,
    "start_time": "2024-09-07T17:54:52.032Z"
   },
   {
    "duration": 19,
    "start_time": "2024-09-07T17:54:52.055Z"
   },
   {
    "duration": 20,
    "start_time": "2024-09-07T17:54:52.076Z"
   },
   {
    "duration": 18,
    "start_time": "2024-09-07T17:54:52.097Z"
   },
   {
    "duration": 17,
    "start_time": "2024-09-07T17:54:52.116Z"
   },
   {
    "duration": 10,
    "start_time": "2024-09-07T17:54:52.137Z"
   },
   {
    "duration": 40,
    "start_time": "2024-09-07T17:54:52.148Z"
   },
   {
    "duration": 20,
    "start_time": "2024-09-07T17:54:52.189Z"
   },
   {
    "duration": 60,
    "start_time": "2024-09-07T17:54:52.211Z"
   },
   {
    "duration": 19,
    "start_time": "2024-09-07T17:54:52.273Z"
   },
   {
    "duration": 48,
    "start_time": "2024-09-07T17:54:52.294Z"
   },
   {
    "duration": 52,
    "start_time": "2024-09-07T17:54:52.343Z"
   },
   {
    "duration": 6,
    "start_time": "2024-09-07T17:54:52.396Z"
   },
   {
    "duration": 28,
    "start_time": "2024-09-07T17:54:52.403Z"
   },
   {
    "duration": 11,
    "start_time": "2024-09-07T17:54:52.433Z"
   },
   {
    "duration": 49,
    "start_time": "2024-09-07T17:54:52.446Z"
   },
   {
    "duration": 13,
    "start_time": "2024-09-07T17:54:52.497Z"
   },
   {
    "duration": 22,
    "start_time": "2024-09-07T17:54:52.511Z"
   },
   {
    "duration": 27,
    "start_time": "2024-09-07T17:54:52.534Z"
   },
   {
    "duration": 40,
    "start_time": "2024-09-07T17:54:52.563Z"
   },
   {
    "duration": 19,
    "start_time": "2024-09-07T17:54:52.605Z"
   },
   {
    "duration": 66,
    "start_time": "2024-09-07T17:54:52.626Z"
   },
   {
    "duration": 17,
    "start_time": "2024-09-07T17:54:52.693Z"
   },
   {
    "duration": 25,
    "start_time": "2024-09-07T17:54:52.712Z"
   },
   {
    "duration": 5,
    "start_time": "2024-09-07T17:54:52.738Z"
   },
   {
    "duration": 22,
    "start_time": "2024-09-07T17:54:52.745Z"
   },
   {
    "duration": 6,
    "start_time": "2024-09-07T17:54:52.770Z"
   },
   {
    "duration": 20,
    "start_time": "2024-09-07T17:54:52.778Z"
   },
   {
    "duration": 29,
    "start_time": "2024-09-07T17:54:52.800Z"
   },
   {
    "duration": 29,
    "start_time": "2024-09-07T17:54:52.831Z"
   },
   {
    "duration": 124,
    "start_time": "2024-09-07T17:54:52.865Z"
   },
   {
    "duration": 17,
    "start_time": "2024-09-07T17:54:52.991Z"
   },
   {
    "duration": 19,
    "start_time": "2024-09-07T17:54:53.009Z"
   },
   {
    "duration": 22,
    "start_time": "2024-09-07T17:54:53.030Z"
   },
   {
    "duration": 17,
    "start_time": "2024-09-07T17:54:53.053Z"
   },
   {
    "duration": 19,
    "start_time": "2024-09-07T17:54:53.071Z"
   },
   {
    "duration": 22,
    "start_time": "2024-09-07T17:54:53.091Z"
   },
   {
    "duration": 47,
    "start_time": "2024-09-07T17:54:53.114Z"
   },
   {
    "duration": 17,
    "start_time": "2024-09-07T17:54:53.162Z"
   },
   {
    "duration": 17,
    "start_time": "2024-09-07T17:54:53.180Z"
   },
   {
    "duration": 9,
    "start_time": "2024-09-07T17:54:53.198Z"
   },
   {
    "duration": 30,
    "start_time": "2024-09-07T17:54:53.209Z"
   },
   {
    "duration": 175,
    "start_time": "2024-09-07T17:54:53.240Z"
   },
   {
    "duration": 19,
    "start_time": "2024-09-07T17:54:53.416Z"
   },
   {
    "duration": 41,
    "start_time": "2024-09-07T17:54:53.437Z"
   },
   {
    "duration": 7,
    "start_time": "2024-09-07T17:54:53.479Z"
   },
   {
    "duration": 9,
    "start_time": "2024-09-07T17:54:53.488Z"
   },
   {
    "duration": 14,
    "start_time": "2024-09-07T17:54:53.498Z"
   },
   {
    "duration": 33,
    "start_time": "2024-09-07T17:54:53.514Z"
   },
   {
    "duration": 250,
    "start_time": "2024-09-07T17:54:53.562Z"
   },
   {
    "duration": 1376,
    "start_time": "2024-09-07T17:54:53.813Z"
   },
   {
    "duration": 6,
    "start_time": "2024-09-07T17:54:55.190Z"
   },
   {
    "duration": 29,
    "start_time": "2024-09-07T17:54:55.197Z"
   },
   {
    "duration": 41,
    "start_time": "2024-09-07T17:54:55.228Z"
   },
   {
    "duration": 21,
    "start_time": "2024-09-07T17:54:55.270Z"
   },
   {
    "duration": 10,
    "start_time": "2024-09-07T17:54:55.293Z"
   },
   {
    "duration": 4,
    "start_time": "2024-09-07T17:54:55.304Z"
   },
   {
    "duration": 14,
    "start_time": "2024-09-07T17:54:55.309Z"
   },
   {
    "duration": 439,
    "start_time": "2024-09-07T17:54:55.325Z"
   },
   {
    "duration": 1,
    "start_time": "2024-09-07T17:54:55.767Z"
   },
   {
    "duration": 0,
    "start_time": "2024-09-07T17:54:55.769Z"
   },
   {
    "duration": 0,
    "start_time": "2024-09-07T17:54:55.770Z"
   },
   {
    "duration": 0,
    "start_time": "2024-09-07T17:54:55.771Z"
   },
   {
    "duration": 0,
    "start_time": "2024-09-07T17:54:55.772Z"
   },
   {
    "duration": 0,
    "start_time": "2024-09-07T17:54:55.773Z"
   },
   {
    "duration": 0,
    "start_time": "2024-09-07T17:54:55.774Z"
   },
   {
    "duration": 0,
    "start_time": "2024-09-07T17:54:55.775Z"
   },
   {
    "duration": 0,
    "start_time": "2024-09-07T17:54:55.776Z"
   },
   {
    "duration": 0,
    "start_time": "2024-09-07T17:54:55.777Z"
   },
   {
    "duration": 0,
    "start_time": "2024-09-07T17:54:55.778Z"
   },
   {
    "duration": 0,
    "start_time": "2024-09-07T17:54:55.779Z"
   },
   {
    "duration": 0,
    "start_time": "2024-09-07T17:54:55.780Z"
   },
   {
    "duration": 0,
    "start_time": "2024-09-07T17:54:55.781Z"
   },
   {
    "duration": 0,
    "start_time": "2024-09-07T17:54:55.782Z"
   },
   {
    "duration": 0,
    "start_time": "2024-09-07T17:54:55.784Z"
   },
   {
    "duration": 0,
    "start_time": "2024-09-07T17:54:55.785Z"
   },
   {
    "duration": 0,
    "start_time": "2024-09-07T17:54:55.786Z"
   },
   {
    "duration": 0,
    "start_time": "2024-09-07T17:54:55.787Z"
   },
   {
    "duration": 0,
    "start_time": "2024-09-07T17:54:55.788Z"
   },
   {
    "duration": 0,
    "start_time": "2024-09-07T17:54:55.789Z"
   },
   {
    "duration": 0,
    "start_time": "2024-09-07T17:54:55.790Z"
   },
   {
    "duration": 0,
    "start_time": "2024-09-07T17:54:55.791Z"
   },
   {
    "duration": 0,
    "start_time": "2024-09-07T17:54:55.793Z"
   },
   {
    "duration": 0,
    "start_time": "2024-09-07T17:54:55.793Z"
   },
   {
    "duration": 0,
    "start_time": "2024-09-07T17:54:55.794Z"
   },
   {
    "duration": 0,
    "start_time": "2024-09-07T17:54:55.795Z"
   },
   {
    "duration": 0,
    "start_time": "2024-09-07T17:54:55.796Z"
   },
   {
    "duration": 0,
    "start_time": "2024-09-07T17:54:55.798Z"
   },
   {
    "duration": 0,
    "start_time": "2024-09-07T17:54:55.798Z"
   },
   {
    "duration": 0,
    "start_time": "2024-09-07T17:54:55.799Z"
   },
   {
    "duration": 0,
    "start_time": "2024-09-07T17:54:55.801Z"
   },
   {
    "duration": 0,
    "start_time": "2024-09-07T17:54:55.802Z"
   },
   {
    "duration": 0,
    "start_time": "2024-09-07T17:54:55.858Z"
   },
   {
    "duration": 315,
    "start_time": "2024-09-07T17:55:43.571Z"
   },
   {
    "duration": 8,
    "start_time": "2024-09-07T17:55:57.394Z"
   },
   {
    "duration": 7,
    "start_time": "2024-09-07T17:56:16.338Z"
   },
   {
    "duration": 33,
    "start_time": "2024-09-07T17:56:32.897Z"
   },
   {
    "duration": 5,
    "start_time": "2024-09-07T17:57:09.834Z"
   },
   {
    "duration": 31,
    "start_time": "2024-09-07T17:57:12.365Z"
   },
   {
    "duration": 16,
    "start_time": "2024-09-07T17:57:39.834Z"
   },
   {
    "duration": 289,
    "start_time": "2024-09-07T17:57:53.698Z"
   },
   {
    "duration": 270,
    "start_time": "2024-09-07T17:57:58.306Z"
   },
   {
    "duration": 652,
    "start_time": "2024-09-07T17:58:34.590Z"
   },
   {
    "duration": 326,
    "start_time": "2024-09-07T17:58:35.244Z"
   },
   {
    "duration": 16,
    "start_time": "2024-09-07T17:58:35.572Z"
   },
   {
    "duration": 20,
    "start_time": "2024-09-07T17:58:35.590Z"
   },
   {
    "duration": 26,
    "start_time": "2024-09-07T17:58:35.612Z"
   },
   {
    "duration": 32,
    "start_time": "2024-09-07T17:58:35.639Z"
   },
   {
    "duration": 17,
    "start_time": "2024-09-07T17:58:35.672Z"
   },
   {
    "duration": 30,
    "start_time": "2024-09-07T17:58:35.690Z"
   },
   {
    "duration": 23,
    "start_time": "2024-09-07T17:58:35.722Z"
   },
   {
    "duration": 24,
    "start_time": "2024-09-07T17:58:35.748Z"
   },
   {
    "duration": 5,
    "start_time": "2024-09-07T17:58:35.774Z"
   },
   {
    "duration": 49,
    "start_time": "2024-09-07T17:58:35.780Z"
   },
   {
    "duration": 11,
    "start_time": "2024-09-07T17:58:35.831Z"
   },
   {
    "duration": 53,
    "start_time": "2024-09-07T17:58:35.843Z"
   },
   {
    "duration": 78,
    "start_time": "2024-09-07T17:58:35.897Z"
   },
   {
    "duration": 30,
    "start_time": "2024-09-07T17:58:35.976Z"
   },
   {
    "duration": 22,
    "start_time": "2024-09-07T17:58:36.008Z"
   },
   {
    "duration": 11,
    "start_time": "2024-09-07T17:58:36.031Z"
   },
   {
    "duration": 25,
    "start_time": "2024-09-07T17:58:36.044Z"
   },
   {
    "duration": 47,
    "start_time": "2024-09-07T17:58:36.071Z"
   },
   {
    "duration": 22,
    "start_time": "2024-09-07T17:58:36.119Z"
   },
   {
    "duration": 3,
    "start_time": "2024-09-07T17:58:36.143Z"
   },
   {
    "duration": 42,
    "start_time": "2024-09-07T17:58:36.147Z"
   },
   {
    "duration": 24,
    "start_time": "2024-09-07T17:58:36.191Z"
   },
   {
    "duration": 21,
    "start_time": "2024-09-07T17:58:36.216Z"
   },
   {
    "duration": 5,
    "start_time": "2024-09-07T17:58:36.239Z"
   },
   {
    "duration": 6,
    "start_time": "2024-09-07T17:58:36.245Z"
   },
   {
    "duration": 63,
    "start_time": "2024-09-07T17:58:36.257Z"
   },
   {
    "duration": 49,
    "start_time": "2024-09-07T17:58:36.322Z"
   },
   {
    "duration": 22,
    "start_time": "2024-09-07T17:58:36.373Z"
   },
   {
    "duration": 46,
    "start_time": "2024-09-07T17:58:36.397Z"
   },
   {
    "duration": 27,
    "start_time": "2024-09-07T17:58:36.445Z"
   },
   {
    "duration": 15,
    "start_time": "2024-09-07T17:58:36.474Z"
   },
   {
    "duration": 22,
    "start_time": "2024-09-07T17:58:36.491Z"
   },
   {
    "duration": 6,
    "start_time": "2024-09-07T17:58:36.514Z"
   },
   {
    "duration": 35,
    "start_time": "2024-09-07T17:58:36.522Z"
   },
   {
    "duration": 16,
    "start_time": "2024-09-07T17:58:36.559Z"
   },
   {
    "duration": 44,
    "start_time": "2024-09-07T17:58:36.576Z"
   },
   {
    "duration": 42,
    "start_time": "2024-09-07T17:58:36.622Z"
   },
   {
    "duration": 64,
    "start_time": "2024-09-07T17:58:36.670Z"
   },
   {
    "duration": 37,
    "start_time": "2024-09-07T17:58:36.736Z"
   },
   {
    "duration": 28,
    "start_time": "2024-09-07T17:58:36.775Z"
   },
   {
    "duration": 19,
    "start_time": "2024-09-07T17:58:36.804Z"
   },
   {
    "duration": 43,
    "start_time": "2024-09-07T17:58:36.824Z"
   },
   {
    "duration": 6,
    "start_time": "2024-09-07T17:58:36.869Z"
   },
   {
    "duration": 131,
    "start_time": "2024-09-07T17:58:36.876Z"
   },
   {
    "duration": 4,
    "start_time": "2024-09-07T17:58:37.009Z"
   },
   {
    "duration": 18,
    "start_time": "2024-09-07T17:58:37.015Z"
   },
   {
    "duration": 6,
    "start_time": "2024-09-07T17:58:37.034Z"
   },
   {
    "duration": 8,
    "start_time": "2024-09-07T17:58:37.042Z"
   },
   {
    "duration": 41,
    "start_time": "2024-09-07T17:58:37.051Z"
   },
   {
    "duration": 18,
    "start_time": "2024-09-07T17:58:37.093Z"
   },
   {
    "duration": 25,
    "start_time": "2024-09-07T17:58:37.113Z"
   },
   {
    "duration": 10,
    "start_time": "2024-09-07T17:58:37.139Z"
   },
   {
    "duration": 22,
    "start_time": "2024-09-07T17:58:37.151Z"
   },
   {
    "duration": 10,
    "start_time": "2024-09-07T17:58:37.175Z"
   },
   {
    "duration": 14,
    "start_time": "2024-09-07T17:58:37.187Z"
   },
   {
    "duration": 31,
    "start_time": "2024-09-07T17:58:37.203Z"
   },
   {
    "duration": 54,
    "start_time": "2024-09-07T17:58:37.236Z"
   },
   {
    "duration": 28,
    "start_time": "2024-09-07T17:58:37.291Z"
   },
   {
    "duration": 6,
    "start_time": "2024-09-07T17:58:37.320Z"
   },
   {
    "duration": 40,
    "start_time": "2024-09-07T17:58:37.328Z"
   },
   {
    "duration": 8,
    "start_time": "2024-09-07T17:58:37.370Z"
   },
   {
    "duration": 57,
    "start_time": "2024-09-07T17:58:37.380Z"
   },
   {
    "duration": 175,
    "start_time": "2024-09-07T17:58:37.439Z"
   },
   {
    "duration": 23,
    "start_time": "2024-09-07T17:58:37.616Z"
   },
   {
    "duration": 34,
    "start_time": "2024-09-07T17:58:37.655Z"
   },
   {
    "duration": 6,
    "start_time": "2024-09-07T17:58:37.690Z"
   },
   {
    "duration": 14,
    "start_time": "2024-09-07T17:58:37.698Z"
   },
   {
    "duration": 8,
    "start_time": "2024-09-07T17:58:37.714Z"
   },
   {
    "duration": 16,
    "start_time": "2024-09-07T17:58:37.724Z"
   },
   {
    "duration": 270,
    "start_time": "2024-09-07T17:58:37.741Z"
   },
   {
    "duration": 1555,
    "start_time": "2024-09-07T17:58:38.012Z"
   },
   {
    "duration": 6,
    "start_time": "2024-09-07T17:58:39.568Z"
   },
   {
    "duration": 41,
    "start_time": "2024-09-07T17:58:39.575Z"
   },
   {
    "duration": 10,
    "start_time": "2024-09-07T17:58:39.617Z"
   },
   {
    "duration": 29,
    "start_time": "2024-09-07T17:58:39.629Z"
   },
   {
    "duration": 11,
    "start_time": "2024-09-07T17:58:39.667Z"
   },
   {
    "duration": 12,
    "start_time": "2024-09-07T17:58:39.680Z"
   },
   {
    "duration": 28,
    "start_time": "2024-09-07T17:58:39.694Z"
   },
   {
    "duration": 475,
    "start_time": "2024-09-07T17:58:39.723Z"
   },
   {
    "duration": 0,
    "start_time": "2024-09-07T17:58:40.201Z"
   },
   {
    "duration": 0,
    "start_time": "2024-09-07T17:58:40.202Z"
   },
   {
    "duration": 0,
    "start_time": "2024-09-07T17:58:40.203Z"
   },
   {
    "duration": 0,
    "start_time": "2024-09-07T17:58:40.205Z"
   },
   {
    "duration": 0,
    "start_time": "2024-09-07T17:58:40.205Z"
   },
   {
    "duration": 0,
    "start_time": "2024-09-07T17:58:40.206Z"
   },
   {
    "duration": 0,
    "start_time": "2024-09-07T17:58:40.207Z"
   },
   {
    "duration": 0,
    "start_time": "2024-09-07T17:58:40.209Z"
   },
   {
    "duration": 0,
    "start_time": "2024-09-07T17:58:40.210Z"
   },
   {
    "duration": 0,
    "start_time": "2024-09-07T17:58:40.211Z"
   },
   {
    "duration": 0,
    "start_time": "2024-09-07T17:58:40.212Z"
   },
   {
    "duration": 0,
    "start_time": "2024-09-07T17:58:40.213Z"
   },
   {
    "duration": 0,
    "start_time": "2024-09-07T17:58:40.214Z"
   },
   {
    "duration": 0,
    "start_time": "2024-09-07T17:58:40.215Z"
   },
   {
    "duration": 0,
    "start_time": "2024-09-07T17:58:40.216Z"
   },
   {
    "duration": 0,
    "start_time": "2024-09-07T17:58:40.217Z"
   },
   {
    "duration": 0,
    "start_time": "2024-09-07T17:58:40.218Z"
   },
   {
    "duration": 0,
    "start_time": "2024-09-07T17:58:40.219Z"
   },
   {
    "duration": 0,
    "start_time": "2024-09-07T17:58:40.219Z"
   },
   {
    "duration": 0,
    "start_time": "2024-09-07T17:58:40.221Z"
   },
   {
    "duration": 0,
    "start_time": "2024-09-07T17:58:40.222Z"
   },
   {
    "duration": 0,
    "start_time": "2024-09-07T17:58:40.223Z"
   },
   {
    "duration": 0,
    "start_time": "2024-09-07T17:58:40.224Z"
   },
   {
    "duration": 0,
    "start_time": "2024-09-07T17:58:40.225Z"
   },
   {
    "duration": 0,
    "start_time": "2024-09-07T17:58:40.226Z"
   },
   {
    "duration": 0,
    "start_time": "2024-09-07T17:58:40.227Z"
   },
   {
    "duration": 0,
    "start_time": "2024-09-07T17:58:40.228Z"
   },
   {
    "duration": 0,
    "start_time": "2024-09-07T17:58:40.229Z"
   },
   {
    "duration": 0,
    "start_time": "2024-09-07T17:58:40.230Z"
   },
   {
    "duration": 0,
    "start_time": "2024-09-07T17:58:40.231Z"
   },
   {
    "duration": 0,
    "start_time": "2024-09-07T17:58:40.232Z"
   },
   {
    "duration": 0,
    "start_time": "2024-09-07T17:58:40.233Z"
   },
   {
    "duration": 0,
    "start_time": "2024-09-07T17:58:40.234Z"
   },
   {
    "duration": 0,
    "start_time": "2024-09-07T17:58:40.235Z"
   },
   {
    "duration": 0,
    "start_time": "2024-09-07T17:58:40.235Z"
   },
   {
    "duration": 0,
    "start_time": "2024-09-07T17:58:40.237Z"
   },
   {
    "duration": 0,
    "start_time": "2024-09-07T17:58:40.238Z"
   },
   {
    "duration": 283,
    "start_time": "2024-09-07T17:58:57.190Z"
   },
   {
    "duration": 300,
    "start_time": "2024-09-07T17:59:01.044Z"
   },
   {
    "duration": 77,
    "start_time": "2024-09-07T17:59:33.235Z"
   },
   {
    "duration": 70,
    "start_time": "2024-09-07T17:59:42.263Z"
   },
   {
    "duration": 73,
    "start_time": "2024-09-07T18:00:02.837Z"
   },
   {
    "duration": 96,
    "start_time": "2024-09-07T18:00:12.268Z"
   },
   {
    "duration": 99,
    "start_time": "2024-09-07T18:00:15.266Z"
   },
   {
    "duration": 96,
    "start_time": "2024-09-07T18:00:25.163Z"
   },
   {
    "duration": 76,
    "start_time": "2024-09-07T18:01:56.419Z"
   },
   {
    "duration": 68,
    "start_time": "2024-09-07T18:02:04.619Z"
   },
   {
    "duration": 265,
    "start_time": "2024-09-07T18:02:56.363Z"
   },
   {
    "duration": 272,
    "start_time": "2024-09-07T18:03:27.395Z"
   },
   {
    "duration": 13,
    "start_time": "2024-09-07T18:03:58.466Z"
   },
   {
    "duration": 15,
    "start_time": "2024-09-07T18:04:21.054Z"
   },
   {
    "duration": 26,
    "start_time": "2024-09-07T18:04:34.220Z"
   },
   {
    "duration": 23,
    "start_time": "2024-09-07T18:04:39.675Z"
   },
   {
    "duration": 24,
    "start_time": "2024-09-07T18:04:44.637Z"
   },
   {
    "duration": 22,
    "start_time": "2024-09-07T18:04:54.405Z"
   },
   {
    "duration": 22,
    "start_time": "2024-09-07T18:05:01.798Z"
   },
   {
    "duration": 670,
    "start_time": "2024-09-07T18:05:13.929Z"
   },
   {
    "duration": 341,
    "start_time": "2024-09-07T18:05:14.601Z"
   },
   {
    "duration": 25,
    "start_time": "2024-09-07T18:05:14.943Z"
   },
   {
    "duration": 53,
    "start_time": "2024-09-07T18:05:14.970Z"
   },
   {
    "duration": 63,
    "start_time": "2024-09-07T18:05:15.025Z"
   },
   {
    "duration": 54,
    "start_time": "2024-09-07T18:05:15.089Z"
   },
   {
    "duration": 54,
    "start_time": "2024-09-07T18:05:15.144Z"
   },
   {
    "duration": 22,
    "start_time": "2024-09-07T18:05:15.199Z"
   },
   {
    "duration": 63,
    "start_time": "2024-09-07T18:05:15.223Z"
   },
   {
    "duration": 26,
    "start_time": "2024-09-07T18:05:15.289Z"
   },
   {
    "duration": 30,
    "start_time": "2024-09-07T18:05:15.317Z"
   },
   {
    "duration": 46,
    "start_time": "2024-09-07T18:05:15.348Z"
   },
   {
    "duration": 11,
    "start_time": "2024-09-07T18:05:15.395Z"
   },
   {
    "duration": 9,
    "start_time": "2024-09-07T18:05:15.408Z"
   },
   {
    "duration": 23,
    "start_time": "2024-09-07T18:05:15.418Z"
   },
   {
    "duration": 16,
    "start_time": "2024-09-07T18:05:15.443Z"
   },
   {
    "duration": 17,
    "start_time": "2024-09-07T18:05:15.463Z"
   },
   {
    "duration": 20,
    "start_time": "2024-09-07T18:05:15.482Z"
   },
   {
    "duration": 35,
    "start_time": "2024-09-07T18:05:15.503Z"
   },
   {
    "duration": 28,
    "start_time": "2024-09-07T18:05:15.540Z"
   },
   {
    "duration": 11,
    "start_time": "2024-09-07T18:05:15.570Z"
   },
   {
    "duration": 4,
    "start_time": "2024-09-07T18:05:15.582Z"
   },
   {
    "duration": 33,
    "start_time": "2024-09-07T18:05:15.588Z"
   },
   {
    "duration": 11,
    "start_time": "2024-09-07T18:05:15.623Z"
   },
   {
    "duration": 22,
    "start_time": "2024-09-07T18:05:15.636Z"
   },
   {
    "duration": 12,
    "start_time": "2024-09-07T18:05:15.661Z"
   },
   {
    "duration": 7,
    "start_time": "2024-09-07T18:05:15.675Z"
   },
   {
    "duration": 11,
    "start_time": "2024-09-07T18:05:15.689Z"
   },
   {
    "duration": 27,
    "start_time": "2024-09-07T18:05:15.701Z"
   },
   {
    "duration": 51,
    "start_time": "2024-09-07T18:05:15.730Z"
   },
   {
    "duration": 31,
    "start_time": "2024-09-07T18:05:15.783Z"
   },
   {
    "duration": 15,
    "start_time": "2024-09-07T18:05:15.816Z"
   },
   {
    "duration": 4,
    "start_time": "2024-09-07T18:05:15.854Z"
   },
   {
    "duration": 35,
    "start_time": "2024-09-07T18:05:15.860Z"
   },
   {
    "duration": 6,
    "start_time": "2024-09-07T18:05:15.897Z"
   },
   {
    "duration": 32,
    "start_time": "2024-09-07T18:05:15.905Z"
   },
   {
    "duration": 27,
    "start_time": "2024-09-07T18:05:15.939Z"
   },
   {
    "duration": 24,
    "start_time": "2024-09-07T18:05:15.968Z"
   },
   {
    "duration": 12,
    "start_time": "2024-09-07T18:05:15.994Z"
   },
   {
    "duration": 21,
    "start_time": "2024-09-07T18:05:16.007Z"
   },
   {
    "duration": 51,
    "start_time": "2024-09-07T18:05:16.029Z"
   },
   {
    "duration": 26,
    "start_time": "2024-09-07T18:05:16.082Z"
   },
   {
    "duration": 54,
    "start_time": "2024-09-07T18:05:16.110Z"
   },
   {
    "duration": 20,
    "start_time": "2024-09-07T18:05:16.165Z"
   },
   {
    "duration": 9,
    "start_time": "2024-09-07T18:05:16.188Z"
   },
   {
    "duration": 11,
    "start_time": "2024-09-07T18:05:16.198Z"
   },
   {
    "duration": 3,
    "start_time": "2024-09-07T18:05:16.211Z"
   },
   {
    "duration": 10,
    "start_time": "2024-09-07T18:05:16.216Z"
   },
   {
    "duration": 30,
    "start_time": "2024-09-07T18:05:16.228Z"
   },
   {
    "duration": 7,
    "start_time": "2024-09-07T18:05:16.259Z"
   },
   {
    "duration": 19,
    "start_time": "2024-09-07T18:05:16.268Z"
   },
   {
    "duration": 91,
    "start_time": "2024-09-07T18:05:16.289Z"
   },
   {
    "duration": 34,
    "start_time": "2024-09-07T18:05:16.382Z"
   },
   {
    "duration": 15,
    "start_time": "2024-09-07T18:05:16.418Z"
   },
   {
    "duration": 63,
    "start_time": "2024-09-07T18:05:16.435Z"
   },
   {
    "duration": 23,
    "start_time": "2024-09-07T18:05:16.500Z"
   },
   {
    "duration": 22,
    "start_time": "2024-09-07T18:05:16.524Z"
   },
   {
    "duration": 41,
    "start_time": "2024-09-07T18:05:16.547Z"
   },
   {
    "duration": 11,
    "start_time": "2024-09-07T18:05:16.590Z"
   },
   {
    "duration": 32,
    "start_time": "2024-09-07T18:05:16.603Z"
   },
   {
    "duration": 6,
    "start_time": "2024-09-07T18:05:16.637Z"
   },
   {
    "duration": 97,
    "start_time": "2024-09-07T18:05:16.644Z"
   },
   {
    "duration": 19,
    "start_time": "2024-09-07T18:05:16.743Z"
   },
   {
    "duration": 106,
    "start_time": "2024-09-07T18:05:16.764Z"
   },
   {
    "duration": 165,
    "start_time": "2024-09-07T18:05:16.873Z"
   },
   {
    "duration": 32,
    "start_time": "2024-09-07T18:05:17.040Z"
   },
   {
    "duration": 59,
    "start_time": "2024-09-07T18:05:17.073Z"
   },
   {
    "duration": 7,
    "start_time": "2024-09-07T18:05:17.133Z"
   },
   {
    "duration": 19,
    "start_time": "2024-09-07T18:05:17.141Z"
   },
   {
    "duration": 9,
    "start_time": "2024-09-07T18:05:17.168Z"
   },
   {
    "duration": 9,
    "start_time": "2024-09-07T18:05:17.179Z"
   },
   {
    "duration": 310,
    "start_time": "2024-09-07T18:05:17.189Z"
   },
   {
    "duration": 1393,
    "start_time": "2024-09-07T18:05:17.501Z"
   },
   {
    "duration": 7,
    "start_time": "2024-09-07T18:05:18.896Z"
   },
   {
    "duration": 137,
    "start_time": "2024-09-07T18:05:18.904Z"
   },
   {
    "duration": 22,
    "start_time": "2024-09-07T18:05:19.043Z"
   },
   {
    "duration": 17,
    "start_time": "2024-09-07T18:05:19.069Z"
   },
   {
    "duration": 11,
    "start_time": "2024-09-07T18:05:19.088Z"
   },
   {
    "duration": 3,
    "start_time": "2024-09-07T18:05:19.101Z"
   },
   {
    "duration": 18,
    "start_time": "2024-09-07T18:05:19.106Z"
   },
   {
    "duration": 106,
    "start_time": "2024-09-07T18:05:19.125Z"
   },
   {
    "duration": 27,
    "start_time": "2024-09-07T18:05:19.237Z"
   },
   {
    "duration": 22,
    "start_time": "2024-09-07T18:05:19.266Z"
   },
   {
    "duration": 13,
    "start_time": "2024-09-07T18:05:19.290Z"
   },
   {
    "duration": 232,
    "start_time": "2024-09-07T18:05:19.305Z"
   },
   {
    "duration": 29,
    "start_time": "2024-09-07T18:05:19.539Z"
   },
   {
    "duration": 169,
    "start_time": "2024-09-07T18:05:19.570Z"
   },
   {
    "duration": 37,
    "start_time": "2024-09-07T18:05:19.741Z"
   },
   {
    "duration": 17,
    "start_time": "2024-09-07T18:05:19.780Z"
   },
   {
    "duration": 195,
    "start_time": "2024-09-07T18:05:19.799Z"
   },
   {
    "duration": 67,
    "start_time": "2024-09-07T18:05:19.995Z"
   },
   {
    "duration": 14,
    "start_time": "2024-09-07T18:05:20.064Z"
   },
   {
    "duration": 256,
    "start_time": "2024-09-07T18:05:20.079Z"
   },
   {
    "duration": 41,
    "start_time": "2024-09-07T18:05:20.336Z"
   },
   {
    "duration": 234,
    "start_time": "2024-09-07T18:05:20.378Z"
   },
   {
    "duration": 56,
    "start_time": "2024-09-07T18:05:20.614Z"
   },
   {
    "duration": 113,
    "start_time": "2024-09-07T18:05:20.672Z"
   },
   {
    "duration": 12,
    "start_time": "2024-09-07T18:05:20.787Z"
   },
   {
    "duration": 56,
    "start_time": "2024-09-07T18:05:20.801Z"
   },
   {
    "duration": 15,
    "start_time": "2024-09-07T18:05:20.859Z"
   },
   {
    "duration": 26,
    "start_time": "2024-09-07T18:05:20.876Z"
   },
   {
    "duration": 70,
    "start_time": "2024-09-07T18:05:20.903Z"
   },
   {
    "duration": 44,
    "start_time": "2024-09-07T18:05:20.974Z"
   },
   {
    "duration": 53,
    "start_time": "2024-09-07T18:05:21.019Z"
   },
   {
    "duration": 13,
    "start_time": "2024-09-07T18:05:21.073Z"
   },
   {
    "duration": 10,
    "start_time": "2024-09-07T18:05:21.087Z"
   },
   {
    "duration": 11,
    "start_time": "2024-09-07T18:05:21.098Z"
   },
   {
    "duration": 29,
    "start_time": "2024-09-07T18:05:21.111Z"
   },
   {
    "duration": 26,
    "start_time": "2024-09-07T18:05:21.142Z"
   },
   {
    "duration": 155,
    "start_time": "2024-09-07T18:05:21.170Z"
   },
   {
    "duration": 555,
    "start_time": "2024-09-07T18:05:21.327Z"
   },
   {
    "duration": 6,
    "start_time": "2024-09-07T18:05:21.884Z"
   },
   {
    "duration": 39,
    "start_time": "2024-09-07T18:05:21.892Z"
   },
   {
    "duration": 9,
    "start_time": "2024-09-07T18:05:21.933Z"
   },
   {
    "duration": 6,
    "start_time": "2024-09-07T18:05:21.943Z"
   },
   {
    "duration": 73,
    "start_time": "2024-09-07T18:08:18.806Z"
   },
   {
    "duration": 202,
    "start_time": "2024-09-07T18:08:26.444Z"
   },
   {
    "duration": 216,
    "start_time": "2024-09-07T18:08:32.021Z"
   },
   {
    "duration": 693,
    "start_time": "2024-09-08T10:53:00.047Z"
   },
   {
    "duration": 394,
    "start_time": "2024-09-08T10:53:00.742Z"
   },
   {
    "duration": 16,
    "start_time": "2024-09-08T10:53:01.138Z"
   },
   {
    "duration": 20,
    "start_time": "2024-09-08T10:53:01.156Z"
   },
   {
    "duration": 26,
    "start_time": "2024-09-08T10:53:01.178Z"
   },
   {
    "duration": 16,
    "start_time": "2024-09-08T10:53:01.206Z"
   },
   {
    "duration": 37,
    "start_time": "2024-09-08T10:53:01.224Z"
   },
   {
    "duration": 46,
    "start_time": "2024-09-08T10:53:01.262Z"
   },
   {
    "duration": 40,
    "start_time": "2024-09-08T10:53:01.310Z"
   },
   {
    "duration": 42,
    "start_time": "2024-09-08T10:53:01.353Z"
   },
   {
    "duration": 4,
    "start_time": "2024-09-08T10:53:01.397Z"
   },
   {
    "duration": 30,
    "start_time": "2024-09-08T10:53:01.403Z"
   },
   {
    "duration": 6,
    "start_time": "2024-09-08T10:53:01.434Z"
   },
   {
    "duration": 11,
    "start_time": "2024-09-08T10:53:01.441Z"
   },
   {
    "duration": 39,
    "start_time": "2024-09-08T10:53:01.454Z"
   },
   {
    "duration": 28,
    "start_time": "2024-09-08T10:53:01.495Z"
   },
   {
    "duration": 119,
    "start_time": "2024-09-08T10:53:01.524Z"
   },
   {
    "duration": 18,
    "start_time": "2024-09-08T10:53:01.645Z"
   },
   {
    "duration": 18,
    "start_time": "2024-09-08T10:53:01.665Z"
   },
   {
    "duration": 15,
    "start_time": "2024-09-08T10:53:01.684Z"
   },
   {
    "duration": 12,
    "start_time": "2024-09-08T10:53:01.700Z"
   },
   {
    "duration": 6,
    "start_time": "2024-09-08T10:53:01.714Z"
   },
   {
    "duration": 32,
    "start_time": "2024-09-08T10:53:01.722Z"
   },
   {
    "duration": 26,
    "start_time": "2024-09-08T10:53:01.756Z"
   },
   {
    "duration": 26,
    "start_time": "2024-09-08T10:53:01.783Z"
   },
   {
    "duration": 18,
    "start_time": "2024-09-08T10:53:01.811Z"
   },
   {
    "duration": 5,
    "start_time": "2024-09-08T10:53:01.831Z"
   },
   {
    "duration": 9,
    "start_time": "2024-09-08T10:53:01.840Z"
   },
   {
    "duration": 29,
    "start_time": "2024-09-08T10:53:01.851Z"
   },
   {
    "duration": 21,
    "start_time": "2024-09-08T10:53:01.881Z"
   },
   {
    "duration": 63,
    "start_time": "2024-09-08T10:53:01.904Z"
   },
   {
    "duration": 15,
    "start_time": "2024-09-08T10:53:01.969Z"
   },
   {
    "duration": 22,
    "start_time": "2024-09-08T10:53:01.986Z"
   },
   {
    "duration": 65,
    "start_time": "2024-09-08T10:53:02.009Z"
   },
   {
    "duration": 16,
    "start_time": "2024-09-08T10:53:02.075Z"
   },
   {
    "duration": 25,
    "start_time": "2024-09-08T10:53:02.092Z"
   },
   {
    "duration": 12,
    "start_time": "2024-09-08T10:53:02.118Z"
   },
   {
    "duration": 33,
    "start_time": "2024-09-08T10:53:02.132Z"
   },
   {
    "duration": 12,
    "start_time": "2024-09-08T10:53:02.167Z"
   },
   {
    "duration": 23,
    "start_time": "2024-09-08T10:53:02.181Z"
   },
   {
    "duration": 24,
    "start_time": "2024-09-08T10:53:02.206Z"
   },
   {
    "duration": 40,
    "start_time": "2024-09-08T10:53:02.232Z"
   },
   {
    "duration": 19,
    "start_time": "2024-09-08T10:53:02.273Z"
   },
   {
    "duration": 22,
    "start_time": "2024-09-08T10:53:02.294Z"
   },
   {
    "duration": 6,
    "start_time": "2024-09-08T10:53:02.317Z"
   },
   {
    "duration": 29,
    "start_time": "2024-09-08T10:53:02.324Z"
   },
   {
    "duration": 4,
    "start_time": "2024-09-08T10:53:02.355Z"
   },
   {
    "duration": 22,
    "start_time": "2024-09-08T10:53:02.360Z"
   },
   {
    "duration": 30,
    "start_time": "2024-09-08T10:53:02.383Z"
   },
   {
    "duration": 18,
    "start_time": "2024-09-08T10:53:02.415Z"
   },
   {
    "duration": 30,
    "start_time": "2024-09-08T10:53:02.435Z"
   },
   {
    "duration": 62,
    "start_time": "2024-09-08T10:53:02.467Z"
   },
   {
    "duration": 20,
    "start_time": "2024-09-08T10:53:02.531Z"
   },
   {
    "duration": 49,
    "start_time": "2024-09-08T10:53:02.552Z"
   },
   {
    "duration": 21,
    "start_time": "2024-09-08T10:53:02.603Z"
   },
   {
    "duration": 45,
    "start_time": "2024-09-08T10:53:02.626Z"
   },
   {
    "duration": 32,
    "start_time": "2024-09-08T10:53:02.672Z"
   },
   {
    "duration": 40,
    "start_time": "2024-09-08T10:53:02.706Z"
   },
   {
    "duration": 44,
    "start_time": "2024-09-08T10:53:02.748Z"
   },
   {
    "duration": 26,
    "start_time": "2024-09-08T10:53:02.794Z"
   },
   {
    "duration": 15,
    "start_time": "2024-09-08T10:53:02.822Z"
   },
   {
    "duration": 21,
    "start_time": "2024-09-08T10:53:02.839Z"
   },
   {
    "duration": 102,
    "start_time": "2024-09-08T10:53:02.862Z"
   },
   {
    "duration": 46,
    "start_time": "2024-09-08T10:53:02.966Z"
   },
   {
    "duration": 144,
    "start_time": "2024-09-08T10:53:03.014Z"
   },
   {
    "duration": 20,
    "start_time": "2024-09-08T10:53:03.159Z"
   },
   {
    "duration": 47,
    "start_time": "2024-09-08T10:53:03.181Z"
   },
   {
    "duration": 65,
    "start_time": "2024-09-08T10:53:03.230Z"
   },
   {
    "duration": 38,
    "start_time": "2024-09-08T10:53:03.297Z"
   },
   {
    "duration": 28,
    "start_time": "2024-09-08T10:53:03.336Z"
   },
   {
    "duration": 45,
    "start_time": "2024-09-08T10:53:03.366Z"
   },
   {
    "duration": 279,
    "start_time": "2024-09-08T10:53:03.413Z"
   },
   {
    "duration": 1326,
    "start_time": "2024-09-08T10:53:03.693Z"
   },
   {
    "duration": 6,
    "start_time": "2024-09-08T10:53:05.021Z"
   },
   {
    "duration": 38,
    "start_time": "2024-09-08T10:53:05.029Z"
   },
   {
    "duration": 12,
    "start_time": "2024-09-08T10:53:05.069Z"
   },
   {
    "duration": 13,
    "start_time": "2024-09-08T10:53:05.083Z"
   },
   {
    "duration": 12,
    "start_time": "2024-09-08T10:53:05.098Z"
   },
   {
    "duration": 10,
    "start_time": "2024-09-08T10:53:05.112Z"
   },
   {
    "duration": 39,
    "start_time": "2024-09-08T10:53:05.124Z"
   },
   {
    "duration": 117,
    "start_time": "2024-09-08T10:53:05.165Z"
   },
   {
    "duration": 48,
    "start_time": "2024-09-08T10:53:05.289Z"
   },
   {
    "duration": 17,
    "start_time": "2024-09-08T10:53:05.339Z"
   },
   {
    "duration": 14,
    "start_time": "2024-09-08T10:53:05.358Z"
   },
   {
    "duration": 229,
    "start_time": "2024-09-08T10:53:05.375Z"
   },
   {
    "duration": 18,
    "start_time": "2024-09-08T10:53:05.606Z"
   },
   {
    "duration": 174,
    "start_time": "2024-09-08T10:53:05.626Z"
   },
   {
    "duration": 25,
    "start_time": "2024-09-08T10:53:05.803Z"
   },
   {
    "duration": 50,
    "start_time": "2024-09-08T10:53:05.830Z"
   },
   {
    "duration": 161,
    "start_time": "2024-09-08T10:53:05.882Z"
   },
   {
    "duration": 50,
    "start_time": "2024-09-08T10:53:06.045Z"
   },
   {
    "duration": 12,
    "start_time": "2024-09-08T10:53:06.097Z"
   },
   {
    "duration": 259,
    "start_time": "2024-09-08T10:53:06.111Z"
   },
   {
    "duration": 26,
    "start_time": "2024-09-08T10:53:06.372Z"
   },
   {
    "duration": 234,
    "start_time": "2024-09-08T10:53:06.400Z"
   },
   {
    "duration": 46,
    "start_time": "2024-09-08T10:53:06.636Z"
   },
   {
    "duration": 50,
    "start_time": "2024-09-08T10:53:06.684Z"
   },
   {
    "duration": 27,
    "start_time": "2024-09-08T10:53:06.735Z"
   },
   {
    "duration": 31,
    "start_time": "2024-09-08T10:53:06.764Z"
   },
   {
    "duration": 9,
    "start_time": "2024-09-08T10:53:06.797Z"
   },
   {
    "duration": 39,
    "start_time": "2024-09-08T10:53:06.807Z"
   },
   {
    "duration": 8,
    "start_time": "2024-09-08T10:53:06.848Z"
   },
   {
    "duration": 17,
    "start_time": "2024-09-08T10:53:06.858Z"
   },
   {
    "duration": 83,
    "start_time": "2024-09-08T10:53:06.876Z"
   },
   {
    "duration": 32,
    "start_time": "2024-09-08T10:53:06.961Z"
   },
   {
    "duration": 6,
    "start_time": "2024-09-08T10:53:06.994Z"
   },
   {
    "duration": 12,
    "start_time": "2024-09-08T10:53:07.002Z"
   },
   {
    "duration": 20,
    "start_time": "2024-09-08T10:53:07.016Z"
   },
   {
    "duration": 17,
    "start_time": "2024-09-08T10:53:07.038Z"
   },
   {
    "duration": 175,
    "start_time": "2024-09-08T10:53:07.057Z"
   },
   {
    "duration": 558,
    "start_time": "2024-09-08T10:53:07.234Z"
   },
   {
    "duration": 7,
    "start_time": "2024-09-08T10:53:07.794Z"
   },
   {
    "duration": 12,
    "start_time": "2024-09-08T10:53:07.802Z"
   },
   {
    "duration": 9,
    "start_time": "2024-09-08T10:53:07.816Z"
   },
   {
    "duration": 32,
    "start_time": "2024-09-08T10:53:07.827Z"
   }
  ],
  "colab": {
   "name": "DA+. Сборный проект 1. Шаблон (1).ipynb",
   "provenance": []
  },
  "kernelspec": {
   "display_name": "Python 3 (ipykernel)",
   "language": "python",
   "name": "python3"
  },
  "language_info": {
   "codemirror_mode": {
    "name": "ipython",
    "version": 3
   },
   "file_extension": ".py",
   "mimetype": "text/x-python",
   "name": "python",
   "nbconvert_exporter": "python",
   "pygments_lexer": "ipython3",
   "version": "3.9.5"
  },
  "toc": {
   "base_numbering": 1,
   "nav_menu": {},
   "number_sections": true,
   "sideBar": true,
   "skip_h1_title": true,
   "title_cell": "Table of Contents",
   "title_sidebar": "Contents",
   "toc_cell": false,
   "toc_position": {
    "height": "calc(100% - 180px)",
    "left": "10px",
    "top": "150px",
    "width": "375.383px"
   },
   "toc_section_display": true,
   "toc_window_display": false
  }
 },
 "nbformat": 4,
 "nbformat_minor": 1
}
